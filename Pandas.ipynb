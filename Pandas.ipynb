{
 "cells": [
  {
   "cell_type": "code",
   "execution_count": 1,
   "metadata": {
    "init_cell": true
   },
   "outputs": [],
   "source": [
    "%logstop\n",
    "%logstart -rtq ~/.logs/DS_Pandas.py append\n",
    "import seaborn as sns\n",
    "sns.set()"
   ]
  },
  {
   "cell_type": "code",
   "execution_count": 5,
   "metadata": {},
   "outputs": [],
   "source": [
    "import expectexception"
   ]
  },
  {
   "cell_type": "markdown",
   "metadata": {},
   "source": [
    "# Pandas\n",
    "\n",
    "<!-- requirement: data/yelp.json.gz -->\n",
    "<!-- requirement: data/PEP_2016_PEPANNRES.csv -->"
   ]
  },
  {
   "cell_type": "code",
   "execution_count": 6,
   "metadata": {},
   "outputs": [],
   "source": [
    "import pandas as pd"
   ]
  },
  {
   "cell_type": "markdown",
   "metadata": {},
   "source": [
    "We introduced the Pandas module and the DataFrame object in the lesson on [basic data science modules](DS_Basic_DS_Modules.ipynb). We learned how to construct a DataFrame, add data, retrieve data, and [basic reading and writing to disk](DS_IO.ipynb). Now we'll explore the DataFrame object and its powerful analysis methods in more depth.\n",
    "\n",
    "We'll work with a data set from the online review site, Yelp. The file is stored as a compressed JSON file."
   ]
  },
  {
   "cell_type": "code",
   "execution_count": 5,
   "metadata": {},
   "outputs": [
    {
     "name": "stdout",
     "output_type": "stream",
     "text": [
      "-rw-rw-r-- 1 jovyan users 32M Jun 29 22:51 ./data/yelp.json\r\n"
     ]
    }
   ],
   "source": [
    "!ls -lh ./data/yelp.json"
   ]
  },
  {
   "cell_type": "code",
   "execution_count": 3,
   "metadata": {},
   "outputs": [
    {
     "data": {
      "text/html": [
       "<div>\n",
       "<style scoped>\n",
       "    .dataframe tbody tr th:only-of-type {\n",
       "        vertical-align: middle;\n",
       "    }\n",
       "\n",
       "    .dataframe tbody tr th {\n",
       "        vertical-align: top;\n",
       "    }\n",
       "\n",
       "    .dataframe thead th {\n",
       "        text-align: right;\n",
       "    }\n",
       "</style>\n",
       "<table border=\"1\" class=\"dataframe\">\n",
       "  <thead>\n",
       "    <tr style=\"text-align: right;\">\n",
       "      <th></th>\n",
       "      <th>business_id</th>\n",
       "      <th>full_address</th>\n",
       "      <th>hours</th>\n",
       "      <th>open</th>\n",
       "      <th>categories</th>\n",
       "      <th>city</th>\n",
       "      <th>review_count</th>\n",
       "      <th>name</th>\n",
       "      <th>neighborhoods</th>\n",
       "      <th>longitude</th>\n",
       "      <th>state</th>\n",
       "      <th>stars</th>\n",
       "      <th>latitude</th>\n",
       "      <th>attributes</th>\n",
       "      <th>type</th>\n",
       "    </tr>\n",
       "  </thead>\n",
       "  <tbody>\n",
       "    <tr>\n",
       "      <th>0</th>\n",
       "      <td>vcNAWiLM4dR7D2nwwJ7nCA</td>\n",
       "      <td>4840 E Indian School Rd\\nSte 101\\nPhoenix, AZ ...</td>\n",
       "      <td>{'Tuesday': {'close': '17:00', 'open': '08:00'...</td>\n",
       "      <td>True</td>\n",
       "      <td>[Doctors, Health &amp; Medical]</td>\n",
       "      <td>Phoenix</td>\n",
       "      <td>7</td>\n",
       "      <td>Eric Goldberg, MD</td>\n",
       "      <td>[]</td>\n",
       "      <td>-111.983758</td>\n",
       "      <td>AZ</td>\n",
       "      <td>3.5</td>\n",
       "      <td>33.499313</td>\n",
       "      <td>{'By Appointment Only': True}</td>\n",
       "      <td>business</td>\n",
       "    </tr>\n",
       "    <tr>\n",
       "      <th>1</th>\n",
       "      <td>JwUE5GmEO-sH1FuwJgKBlQ</td>\n",
       "      <td>6162 US Highway 51\\nDe Forest, WI 53532</td>\n",
       "      <td>{}</td>\n",
       "      <td>True</td>\n",
       "      <td>[Restaurants]</td>\n",
       "      <td>De Forest</td>\n",
       "      <td>26</td>\n",
       "      <td>Pine Cone Restaurant</td>\n",
       "      <td>[]</td>\n",
       "      <td>-89.335844</td>\n",
       "      <td>WI</td>\n",
       "      <td>4.0</td>\n",
       "      <td>43.238893</td>\n",
       "      <td>{'Take-out': True, 'Good For': {'dessert': Fal...</td>\n",
       "      <td>business</td>\n",
       "    </tr>\n",
       "    <tr>\n",
       "      <th>2</th>\n",
       "      <td>uGykseHzyS5xAMWoN6YUqA</td>\n",
       "      <td>505 W North St\\nDe Forest, WI 53532</td>\n",
       "      <td>{'Monday': {'close': '22:00', 'open': '06:00'}...</td>\n",
       "      <td>True</td>\n",
       "      <td>[American (Traditional), Restaurants]</td>\n",
       "      <td>De Forest</td>\n",
       "      <td>16</td>\n",
       "      <td>Deforest Family Restaurant</td>\n",
       "      <td>[]</td>\n",
       "      <td>-89.353437</td>\n",
       "      <td>WI</td>\n",
       "      <td>4.0</td>\n",
       "      <td>43.252267</td>\n",
       "      <td>{'Take-out': True, 'Good For': {'dessert': Fal...</td>\n",
       "      <td>business</td>\n",
       "    </tr>\n",
       "    <tr>\n",
       "      <th>3</th>\n",
       "      <td>LRKJF43s9-3jG9Lgx4zODg</td>\n",
       "      <td>4910 County Rd V\\nDe Forest, WI 53532</td>\n",
       "      <td>{'Monday': {'close': '22:00', 'open': '10:30'}...</td>\n",
       "      <td>True</td>\n",
       "      <td>[Food, Ice Cream &amp; Frozen Yogurt, Fast Food, R...</td>\n",
       "      <td>De Forest</td>\n",
       "      <td>7</td>\n",
       "      <td>Culver's</td>\n",
       "      <td>[]</td>\n",
       "      <td>-89.374983</td>\n",
       "      <td>WI</td>\n",
       "      <td>4.5</td>\n",
       "      <td>43.251045</td>\n",
       "      <td>{'Take-out': True, 'Wi-Fi': 'free', 'Takes Res...</td>\n",
       "      <td>business</td>\n",
       "    </tr>\n",
       "    <tr>\n",
       "      <th>4</th>\n",
       "      <td>RgDg-k9S5YD_BaxMckifkg</td>\n",
       "      <td>631 S Main St\\nDe Forest, WI 53532</td>\n",
       "      <td>{'Monday': {'close': '22:00', 'open': '11:00'}...</td>\n",
       "      <td>True</td>\n",
       "      <td>[Chinese, Restaurants]</td>\n",
       "      <td>De Forest</td>\n",
       "      <td>3</td>\n",
       "      <td>Chang Jiang Chinese Kitchen</td>\n",
       "      <td>[]</td>\n",
       "      <td>-89.343722</td>\n",
       "      <td>WI</td>\n",
       "      <td>4.0</td>\n",
       "      <td>43.240875</td>\n",
       "      <td>{'Take-out': True, 'Has TV': False, 'Outdoor S...</td>\n",
       "      <td>business</td>\n",
       "    </tr>\n",
       "  </tbody>\n",
       "</table>\n",
       "</div>"
      ],
      "text/plain": [
       "              business_id                                       full_address  \\\n",
       "0  vcNAWiLM4dR7D2nwwJ7nCA  4840 E Indian School Rd\\nSte 101\\nPhoenix, AZ ...   \n",
       "1  JwUE5GmEO-sH1FuwJgKBlQ            6162 US Highway 51\\nDe Forest, WI 53532   \n",
       "2  uGykseHzyS5xAMWoN6YUqA                505 W North St\\nDe Forest, WI 53532   \n",
       "3  LRKJF43s9-3jG9Lgx4zODg              4910 County Rd V\\nDe Forest, WI 53532   \n",
       "4  RgDg-k9S5YD_BaxMckifkg                 631 S Main St\\nDe Forest, WI 53532   \n",
       "\n",
       "                                               hours  open  \\\n",
       "0  {'Tuesday': {'close': '17:00', 'open': '08:00'...  True   \n",
       "1                                                 {}  True   \n",
       "2  {'Monday': {'close': '22:00', 'open': '06:00'}...  True   \n",
       "3  {'Monday': {'close': '22:00', 'open': '10:30'}...  True   \n",
       "4  {'Monday': {'close': '22:00', 'open': '11:00'}...  True   \n",
       "\n",
       "                                          categories       city  review_count  \\\n",
       "0                        [Doctors, Health & Medical]    Phoenix             7   \n",
       "1                                      [Restaurants]  De Forest            26   \n",
       "2              [American (Traditional), Restaurants]  De Forest            16   \n",
       "3  [Food, Ice Cream & Frozen Yogurt, Fast Food, R...  De Forest             7   \n",
       "4                             [Chinese, Restaurants]  De Forest             3   \n",
       "\n",
       "                          name neighborhoods   longitude state  stars  \\\n",
       "0            Eric Goldberg, MD            [] -111.983758    AZ    3.5   \n",
       "1         Pine Cone Restaurant            []  -89.335844    WI    4.0   \n",
       "2   Deforest Family Restaurant            []  -89.353437    WI    4.0   \n",
       "3                     Culver's            []  -89.374983    WI    4.5   \n",
       "4  Chang Jiang Chinese Kitchen            []  -89.343722    WI    4.0   \n",
       "\n",
       "    latitude                                         attributes      type  \n",
       "0  33.499313                      {'By Appointment Only': True}  business  \n",
       "1  43.238893  {'Take-out': True, 'Good For': {'dessert': Fal...  business  \n",
       "2  43.252267  {'Take-out': True, 'Good For': {'dessert': Fal...  business  \n",
       "3  43.251045  {'Take-out': True, 'Wi-Fi': 'free', 'Takes Res...  business  \n",
       "4  43.240875  {'Take-out': True, 'Has TV': False, 'Outdoor S...  business  "
      ]
     },
     "execution_count": 3,
     "metadata": {},
     "output_type": "execute_result"
    }
   ],
   "source": [
    "import gzip\n",
    "import simplejson as json\n",
    "import pandas as pd\n",
    "\n",
    "with open('./data/yelp.json', 'r') as f:\n",
    "    yelp_data = [json.loads(line) for line in f]\n",
    "    \n",
    "yelp_df = pd.DataFrame(yelp_data)\n",
    "yelp_df.head()    "
   ]
  },
  {
   "cell_type": "markdown",
   "metadata": {},
   "source": [
    "## Pandas DataFrame and Series\n",
    "\n",
    "The Pandas DataFrame is a highly structured object. Each row corresponds with some physical entity or event. We think of all of the information in a given row as referring to one object (e.g. a business). Each column contains one type of data, both semantically (e.g. names, counts of reviews, star ratings) and syntactically."
   ]
  },
  {
   "cell_type": "code",
   "execution_count": 7,
   "metadata": {},
   "outputs": [
    {
     "data": {
      "text/plain": [
       "business_id       object\n",
       "full_address      object\n",
       "hours             object\n",
       "open                bool\n",
       "categories        object\n",
       "city              object\n",
       "review_count       int64\n",
       "name              object\n",
       "neighborhoods     object\n",
       "longitude        float64\n",
       "state             object\n",
       "stars            float64\n",
       "latitude         float64\n",
       "attributes        object\n",
       "type              object\n",
       "dtype: object"
      ]
     },
     "execution_count": 7,
     "metadata": {},
     "output_type": "execute_result"
    }
   ],
   "source": [
    "yelp_df.dtypes"
   ]
  },
  {
   "cell_type": "markdown",
   "metadata": {},
   "source": [
    "We can reference the columns by name, like we would with a `dict`."
   ]
  },
  {
   "cell_type": "code",
   "execution_count": 8,
   "metadata": {},
   "outputs": [
    {
     "data": {
      "text/plain": [
       "0      Phoenix\n",
       "1    De Forest\n",
       "2    De Forest\n",
       "3    De Forest\n",
       "4    De Forest\n",
       "Name: city, dtype: object"
      ]
     },
     "execution_count": 8,
     "metadata": {},
     "output_type": "execute_result"
    }
   ],
   "source": [
    "yelp_df['city'].head()"
   ]
  },
  {
   "cell_type": "code",
   "execution_count": 9,
   "metadata": {},
   "outputs": [
    {
     "data": {
      "text/plain": [
       "pandas.core.series.Series"
      ]
     },
     "execution_count": 9,
     "metadata": {},
     "output_type": "execute_result"
    }
   ],
   "source": [
    "type(yelp_df['city'])"
   ]
  },
  {
   "cell_type": "code",
   "execution_count": 10,
   "metadata": {},
   "outputs": [
    {
     "data": {
      "text/plain": [
       "0   2021-08-05 09:48:19.434302\n",
       "1   2021-08-05 09:48:19.434305\n",
       "dtype: datetime64[ns]"
      ]
     },
     "execution_count": 10,
     "metadata": {},
     "output_type": "execute_result"
    }
   ],
   "source": [
    "from datetime import datetime\n",
    "\n",
    "pd.Series([datetime.now(), datetime.now()])"
   ]
  },
  {
   "cell_type": "markdown",
   "metadata": {},
   "source": [
    "An individual column is a Pandas `Series`. A `Series` has a `name` and a `dtype` (similar to a NumPy array). A `DataFrame` is essentially a `dict` of `Series` objects. The `Series` has an `index` attribute, which label the rows. The index is essentially a set of keys for referencing the rows. We can have an index composed of numbers, strings, timestamps, or any hashable Python object. The index will also have homogeneous type."
   ]
  },
  {
   "cell_type": "code",
   "execution_count": 11,
   "metadata": {},
   "outputs": [
    {
     "data": {
      "text/plain": [
       "RangeIndex(start=0, stop=37938, step=1)"
      ]
     },
     "execution_count": 11,
     "metadata": {},
     "output_type": "execute_result"
    }
   ],
   "source": [
    "yelp_df['city'].index"
   ]
  },
  {
   "cell_type": "markdown",
   "metadata": {},
   "source": [
    "The `DataFrame` has an `index` given by the union of indices of its constituent `Series` (we'll explore this later in more detail). Since a `DataFrame` is a `dict` of `Series`, we can select a column and then a row using square bracket notation, but not the reverse (however, the `loc` method works around this)."
   ]
  },
  {
   "cell_type": "code",
   "execution_count": 12,
   "metadata": {},
   "outputs": [
    {
     "data": {
      "text/plain": [
       "'Madison'"
      ]
     },
     "execution_count": 12,
     "metadata": {},
     "output_type": "execute_result"
    }
   ],
   "source": [
    "# this works\n",
    "yelp_df['city'][100]"
   ]
  },
  {
   "cell_type": "code",
   "execution_count": 13,
   "metadata": {},
   "outputs": [
    {
     "name": "stdout",
     "output_type": "stream",
     "text": [
      "\u001b[0;31m---------------------------------------------------------------------------\u001b[0m\n",
      "\u001b[0;31mKeyError\u001b[0m                                  Traceback (most recent call last)\n",
      "\u001b[0;32m/opt/conda/lib/python3.8/site-packages/pandas/core/indexes/base.py\u001b[0m in \u001b[0;36mget_loc\u001b[0;34m(self, key, method, tolerance)\u001b[0m\n",
      "\u001b[1;32m   2894\u001b[0m             \u001b[0;32mtry\u001b[0m\u001b[0;34m:\u001b[0m\u001b[0;34m\u001b[0m\u001b[0;34m\u001b[0m\u001b[0m\n",
      "\u001b[0;32m-> 2895\u001b[0;31m                 \u001b[0;32mreturn\u001b[0m \u001b[0mself\u001b[0m\u001b[0;34m.\u001b[0m\u001b[0m_engine\u001b[0m\u001b[0;34m.\u001b[0m\u001b[0mget_loc\u001b[0m\u001b[0;34m(\u001b[0m\u001b[0mcasted_key\u001b[0m\u001b[0;34m)\u001b[0m\u001b[0;34m\u001b[0m\u001b[0;34m\u001b[0m\u001b[0m\n",
      "\u001b[0m\u001b[1;32m   2896\u001b[0m             \u001b[0;32mexcept\u001b[0m \u001b[0mKeyError\u001b[0m \u001b[0;32mas\u001b[0m \u001b[0merr\u001b[0m\u001b[0;34m:\u001b[0m\u001b[0;34m\u001b[0m\u001b[0;34m\u001b[0m\u001b[0m\n",
      "\n",
      "\u001b[0;32mpandas/_libs/index.pyx\u001b[0m in \u001b[0;36mpandas._libs.index.IndexEngine.get_loc\u001b[0;34m()\u001b[0m\n",
      "\n",
      "\u001b[0;32mpandas/_libs/index.pyx\u001b[0m in \u001b[0;36mpandas._libs.index.IndexEngine.get_loc\u001b[0;34m()\u001b[0m\n",
      "\n",
      "\u001b[0;32mpandas/_libs/hashtable_class_helper.pxi\u001b[0m in \u001b[0;36mpandas._libs.hashtable.PyObjectHashTable.get_item\u001b[0;34m()\u001b[0m\n",
      "\n",
      "\u001b[0;32mpandas/_libs/hashtable_class_helper.pxi\u001b[0m in \u001b[0;36mpandas._libs.hashtable.PyObjectHashTable.get_item\u001b[0;34m()\u001b[0m\n",
      "\n",
      "\u001b[0;31mKeyError\u001b[0m: 100\n",
      "\n",
      "The above exception was the direct cause of the following exception:\n",
      "\n",
      "\u001b[0;31mKeyError\u001b[0m                                  Traceback (most recent call last)\n",
      "\u001b[0;32m<ipython-input-13-54b0a0a83710>\u001b[0m in \u001b[0;36m<module>\u001b[0;34m\u001b[0m\n",
      "\u001b[1;32m      1\u001b[0m \u001b[0;31m# this doesn't\u001b[0m\u001b[0;34m\u001b[0m\u001b[0;34m\u001b[0m\u001b[0;34m\u001b[0m\u001b[0m\n",
      "\u001b[0;32m----> 2\u001b[0;31m \u001b[0myelp_df\u001b[0m\u001b[0;34m[\u001b[0m\u001b[0;36m100\u001b[0m\u001b[0;34m]\u001b[0m\u001b[0;34m[\u001b[0m\u001b[0;34m'city'\u001b[0m\u001b[0;34m]\u001b[0m\u001b[0;34m\u001b[0m\u001b[0;34m\u001b[0m\u001b[0m\n",
      "\u001b[0m\n",
      "\u001b[0;32m/opt/conda/lib/python3.8/site-packages/pandas/core/frame.py\u001b[0m in \u001b[0;36m__getitem__\u001b[0;34m(self, key)\u001b[0m\n",
      "\u001b[1;32m   2900\u001b[0m             \u001b[0;32mif\u001b[0m \u001b[0mself\u001b[0m\u001b[0;34m.\u001b[0m\u001b[0mcolumns\u001b[0m\u001b[0;34m.\u001b[0m\u001b[0mnlevels\u001b[0m \u001b[0;34m>\u001b[0m \u001b[0;36m1\u001b[0m\u001b[0;34m:\u001b[0m\u001b[0;34m\u001b[0m\u001b[0;34m\u001b[0m\u001b[0m\n",
      "\u001b[1;32m   2901\u001b[0m                 \u001b[0;32mreturn\u001b[0m \u001b[0mself\u001b[0m\u001b[0;34m.\u001b[0m\u001b[0m_getitem_multilevel\u001b[0m\u001b[0;34m(\u001b[0m\u001b[0mkey\u001b[0m\u001b[0;34m)\u001b[0m\u001b[0;34m\u001b[0m\u001b[0;34m\u001b[0m\u001b[0m\n",
      "\u001b[0;32m-> 2902\u001b[0;31m             \u001b[0mindexer\u001b[0m \u001b[0;34m=\u001b[0m \u001b[0mself\u001b[0m\u001b[0;34m.\u001b[0m\u001b[0mcolumns\u001b[0m\u001b[0;34m.\u001b[0m\u001b[0mget_loc\u001b[0m\u001b[0;34m(\u001b[0m\u001b[0mkey\u001b[0m\u001b[0;34m)\u001b[0m\u001b[0;34m\u001b[0m\u001b[0;34m\u001b[0m\u001b[0m\n",
      "\u001b[0m\u001b[1;32m   2903\u001b[0m             \u001b[0;32mif\u001b[0m \u001b[0mis_integer\u001b[0m\u001b[0;34m(\u001b[0m\u001b[0mindexer\u001b[0m\u001b[0;34m)\u001b[0m\u001b[0;34m:\u001b[0m\u001b[0;34m\u001b[0m\u001b[0;34m\u001b[0m\u001b[0m\n",
      "\u001b[1;32m   2904\u001b[0m                 \u001b[0mindexer\u001b[0m \u001b[0;34m=\u001b[0m \u001b[0;34m[\u001b[0m\u001b[0mindexer\u001b[0m\u001b[0;34m]\u001b[0m\u001b[0;34m\u001b[0m\u001b[0;34m\u001b[0m\u001b[0m\n",
      "\n",
      "\u001b[0;32m/opt/conda/lib/python3.8/site-packages/pandas/core/indexes/base.py\u001b[0m in \u001b[0;36mget_loc\u001b[0;34m(self, key, method, tolerance)\u001b[0m\n",
      "\u001b[1;32m   2895\u001b[0m                 \u001b[0;32mreturn\u001b[0m \u001b[0mself\u001b[0m\u001b[0;34m.\u001b[0m\u001b[0m_engine\u001b[0m\u001b[0;34m.\u001b[0m\u001b[0mget_loc\u001b[0m\u001b[0;34m(\u001b[0m\u001b[0mcasted_key\u001b[0m\u001b[0;34m)\u001b[0m\u001b[0;34m\u001b[0m\u001b[0;34m\u001b[0m\u001b[0m\n",
      "\u001b[1;32m   2896\u001b[0m             \u001b[0;32mexcept\u001b[0m \u001b[0mKeyError\u001b[0m \u001b[0;32mas\u001b[0m \u001b[0merr\u001b[0m\u001b[0;34m:\u001b[0m\u001b[0;34m\u001b[0m\u001b[0;34m\u001b[0m\u001b[0m\n",
      "\u001b[0;32m-> 2897\u001b[0;31m                 \u001b[0;32mraise\u001b[0m \u001b[0mKeyError\u001b[0m\u001b[0;34m(\u001b[0m\u001b[0mkey\u001b[0m\u001b[0;34m)\u001b[0m \u001b[0;32mfrom\u001b[0m \u001b[0merr\u001b[0m\u001b[0;34m\u001b[0m\u001b[0;34m\u001b[0m\u001b[0m\n",
      "\u001b[0m\u001b[1;32m   2898\u001b[0m \u001b[0;34m\u001b[0m\u001b[0m\n",
      "\u001b[1;32m   2899\u001b[0m         \u001b[0;32mif\u001b[0m \u001b[0mtolerance\u001b[0m \u001b[0;32mis\u001b[0m \u001b[0;32mnot\u001b[0m \u001b[0;32mNone\u001b[0m\u001b[0;34m:\u001b[0m\u001b[0;34m\u001b[0m\u001b[0;34m\u001b[0m\u001b[0m\n",
      "\n",
      "\u001b[0;31mKeyError\u001b[0m: 100\n"
     ]
    }
   ],
   "source": [
    "%%expect_exception KeyError\n",
    "\n",
    "# this doesn't\n",
    "yelp_df[100]['city']"
   ]
  },
  {
   "cell_type": "code",
   "execution_count": 14,
   "metadata": {},
   "outputs": [
    {
     "data": {
      "text/plain": [
       "'Madison'"
      ]
     },
     "execution_count": 14,
     "metadata": {},
     "output_type": "execute_result"
    }
   ],
   "source": [
    "yelp_df.loc[100, 'city']"
   ]
  },
  {
   "cell_type": "code",
   "execution_count": 15,
   "metadata": {},
   "outputs": [
    {
     "data": {
      "text/plain": [
       "business_id                                 oX6KamASYXnMIe5kpVhezw\n",
       "full_address     4237 Lien Rd\\nSte H\\nMayfair Park\\nMadison, WI...\n",
       "hours            {'Monday': {'close': '21:30', 'open': '09:00'}...\n",
       "open                                                          True\n",
       "categories                                  [Chinese, Restaurants]\n",
       "city                                                       Madison\n",
       "review_count                                                    20\n",
       "name                                                   Flaming Wok\n",
       "neighborhoods                                       [Mayfair Park]\n",
       "longitude                                                 -89.3084\n",
       "state                                                           WI\n",
       "stars                                                          3.5\n",
       "latitude                                                   43.1206\n",
       "attributes       {'Take-out': True, 'Good For': {'dessert': Fal...\n",
       "type                                                      business\n",
       "Name: 100, dtype: object"
      ]
     },
     "execution_count": 15,
     "metadata": {},
     "output_type": "execute_result"
    }
   ],
   "source": [
    "yelp_df.iloc[100]"
   ]
  },
  {
   "cell_type": "code",
   "execution_count": 16,
   "metadata": {},
   "outputs": [
    {
     "data": {
      "text/plain": [
       "business_id                                 oX6KamASYXnMIe5kpVhezw\n",
       "full_address     4237 Lien Rd\\nSte H\\nMayfair Park\\nMadison, WI...\n",
       "hours            {'Monday': {'close': '21:30', 'open': '09:00'}...\n",
       "open                                                          True\n",
       "categories                                  [Chinese, Restaurants]\n",
       "city                                                       Madison\n",
       "review_count                                                    20\n",
       "name                                                   Flaming Wok\n",
       "neighborhoods                                       [Mayfair Park]\n",
       "longitude                                                 -89.3084\n",
       "state                                                           WI\n",
       "stars                                                          3.5\n",
       "latitude                                                   43.1206\n",
       "attributes       {'Take-out': True, 'Good For': {'dessert': Fal...\n",
       "type                                                      business\n",
       "Name: 100, dtype: object"
      ]
     },
     "execution_count": 16,
     "metadata": {},
     "output_type": "execute_result"
    }
   ],
   "source": [
    "yelp_df.loc[100, :]"
   ]
  },
  {
   "cell_type": "code",
   "execution_count": 17,
   "metadata": {},
   "outputs": [
    {
     "data": {
      "text/plain": [
       "0          Phoenix\n",
       "1        De Forest\n",
       "2        De Forest\n",
       "3        De Forest\n",
       "4        De Forest\n",
       "           ...    \n",
       "37933     Glendale\n",
       "37934      Madison\n",
       "37935      Phoenix\n",
       "37936      Phoenix\n",
       "37937    Edinburgh\n",
       "Name: city, Length: 37938, dtype: object"
      ]
     },
     "execution_count": 17,
     "metadata": {},
     "output_type": "execute_result"
    }
   ],
   "source": [
    "yelp_df.loc[:, 'city']"
   ]
  },
  {
   "cell_type": "code",
   "execution_count": 18,
   "metadata": {},
   "outputs": [
    {
     "data": {
      "text/plain": [
       "'Middleton'"
      ]
     },
     "execution_count": 18,
     "metadata": {},
     "output_type": "execute_result"
    }
   ],
   "source": [
    "yelp_df.loc[73,'city']"
   ]
  },
  {
   "cell_type": "code",
   "execution_count": 19,
   "metadata": {},
   "outputs": [
    {
     "data": {
      "text/plain": [
       "array(['Middleton', 'Sun Prairie', 'Windsor', 'Madison'], dtype=object)"
      ]
     },
     "execution_count": 19,
     "metadata": {},
     "output_type": "execute_result"
    }
   ],
   "source": [
    "yelp_df.loc[73:99,'city'].unique()"
   ]
  },
  {
   "cell_type": "code",
   "execution_count": 20,
   "metadata": {},
   "outputs": [
    {
     "data": {
      "text/plain": [
       "167"
      ]
     },
     "execution_count": 20,
     "metadata": {},
     "output_type": "execute_result"
    }
   ],
   "source": [
    "yelp_df.loc[:,'city'].nunique()"
   ]
  },
  {
   "cell_type": "markdown",
   "metadata": {},
   "source": [
    "Understanding the underlying structure of the `DataFrame` object as a `dict` of `Series` will help you avoid errors and help you think about how the `DataFrame` should behave when we begin doing more complicated analysis.\n",
    "\n",
    "We can _aggregate_ data in a `DataFrame` using methods like `mean`, `sum`, `count`, and `std`. To view a collection of summary statistics for each column we can use the `describe` method."
   ]
  },
  {
   "cell_type": "code",
   "execution_count": 21,
   "metadata": {},
   "outputs": [
    {
     "data": {
      "text/html": [
       "<div>\n",
       "<style scoped>\n",
       "    .dataframe tbody tr th:only-of-type {\n",
       "        vertical-align: middle;\n",
       "    }\n",
       "\n",
       "    .dataframe tbody tr th {\n",
       "        vertical-align: top;\n",
       "    }\n",
       "\n",
       "    .dataframe thead th {\n",
       "        text-align: right;\n",
       "    }\n",
       "</style>\n",
       "<table border=\"1\" class=\"dataframe\">\n",
       "  <thead>\n",
       "    <tr style=\"text-align: right;\">\n",
       "      <th></th>\n",
       "      <th>review_count</th>\n",
       "      <th>longitude</th>\n",
       "      <th>stars</th>\n",
       "      <th>latitude</th>\n",
       "    </tr>\n",
       "  </thead>\n",
       "  <tbody>\n",
       "    <tr>\n",
       "      <th>count</th>\n",
       "      <td>37938.000000</td>\n",
       "      <td>37938.000000</td>\n",
       "      <td>37938.000000</td>\n",
       "      <td>37938.000000</td>\n",
       "    </tr>\n",
       "    <tr>\n",
       "      <th>mean</th>\n",
       "      <td>29.300648</td>\n",
       "      <td>-104.097172</td>\n",
       "      <td>3.672914</td>\n",
       "      <td>36.530288</td>\n",
       "    </tr>\n",
       "    <tr>\n",
       "      <th>std</th>\n",
       "      <td>92.893064</td>\n",
       "      <td>28.365375</td>\n",
       "      <td>0.888730</td>\n",
       "      <td>5.822588</td>\n",
       "    </tr>\n",
       "    <tr>\n",
       "      <th>min</th>\n",
       "      <td>3.000000</td>\n",
       "      <td>-115.369725</td>\n",
       "      <td>1.000000</td>\n",
       "      <td>32.876638</td>\n",
       "    </tr>\n",
       "    <tr>\n",
       "      <th>25%</th>\n",
       "      <td>4.000000</td>\n",
       "      <td>-115.136389</td>\n",
       "      <td>3.000000</td>\n",
       "      <td>33.476739</td>\n",
       "    </tr>\n",
       "    <tr>\n",
       "      <th>50%</th>\n",
       "      <td>8.000000</td>\n",
       "      <td>-112.068820</td>\n",
       "      <td>3.500000</td>\n",
       "      <td>33.680247</td>\n",
       "    </tr>\n",
       "    <tr>\n",
       "      <th>75%</th>\n",
       "      <td>21.000000</td>\n",
       "      <td>-111.883274</td>\n",
       "      <td>4.500000</td>\n",
       "      <td>36.141875</td>\n",
       "    </tr>\n",
       "    <tr>\n",
       "      <th>max</th>\n",
       "      <td>4084.000000</td>\n",
       "      <td>-3.050088</td>\n",
       "      <td>5.000000</td>\n",
       "      <td>56.033777</td>\n",
       "    </tr>\n",
       "  </tbody>\n",
       "</table>\n",
       "</div>"
      ],
      "text/plain": [
       "       review_count     longitude         stars      latitude\n",
       "count  37938.000000  37938.000000  37938.000000  37938.000000\n",
       "mean      29.300648   -104.097172      3.672914     36.530288\n",
       "std       92.893064     28.365375      0.888730      5.822588\n",
       "min        3.000000   -115.369725      1.000000     32.876638\n",
       "25%        4.000000   -115.136389      3.000000     33.476739\n",
       "50%        8.000000   -112.068820      3.500000     33.680247\n",
       "75%       21.000000   -111.883274      4.500000     36.141875\n",
       "max     4084.000000     -3.050088      5.000000     56.033777"
      ]
     },
     "execution_count": 21,
     "metadata": {},
     "output_type": "execute_result"
    }
   ],
   "source": [
    "yelp_df.describe()"
   ]
  },
  {
   "cell_type": "markdown",
   "metadata": {},
   "source": [
    "The utility of a DataFrame comes from its ability to split data into groups, using the `groupby` method, and then perform custom aggregations using the `apply` or `aggregate` method. This process of splitting the data into groups, applying an aggregation, and then collecting the results is [discussed in detail in the Pandas documentation](https://pandas.pydata.org/pandas-docs/stable/groupby.html), and is one of the main focuses of this notebook."
   ]
  },
  {
   "cell_type": "markdown",
   "metadata": {},
   "source": [
    "## DataFrame construction\n",
    "\n",
    "Since a `DataFrame` is a `dict` of `Series`, the natural way to construct a `DataFrame` is to use a `dict` of `Series`-like objects."
   ]
  },
  {
   "cell_type": "code",
   "execution_count": 22,
   "metadata": {},
   "outputs": [],
   "source": [
    "from string import ascii_letters, digits\n",
    "import numpy as np\n",
    "import datetime"
   ]
  },
  {
   "cell_type": "code",
   "execution_count": 23,
   "metadata": {},
   "outputs": [],
   "source": [
    "usernames = ['alice36', 'bob_smith', 'eve']"
   ]
  },
  {
   "cell_type": "code",
   "execution_count": 24,
   "metadata": {},
   "outputs": [
    {
     "data": {
      "text/plain": [
       "['L28yamuPbd2wTdko', 'B6DW6bLl5f5wJDm1', 'Y6ShbOnmb3W8gwjj']"
      ]
     },
     "execution_count": 24,
     "metadata": {},
     "output_type": "execute_result"
    }
   ],
   "source": [
    "passwords = [''.join(np.random.choice(list(ascii_letters + digits), 16)) for x in range(3)]\n",
    "passwords"
   ]
  },
  {
   "cell_type": "code",
   "execution_count": 25,
   "metadata": {},
   "outputs": [
    {
     "data": {
      "text/plain": [
       "[datetime.date(2021, 6, 7),\n",
       " datetime.date(2020, 12, 4),\n",
       " datetime.date(2021, 7, 13)]"
      ]
     },
     "execution_count": 25,
     "metadata": {},
     "output_type": "execute_result"
    }
   ],
   "source": [
    "creation_dates = [datetime.datetime.now().date() - datetime.timedelta(int(x)) for x in np.random.randint(0,1500,3)]\n",
    "creation_dates"
   ]
  },
  {
   "cell_type": "code",
   "execution_count": 26,
   "metadata": {},
   "outputs": [
    {
     "data": {
      "text/html": [
       "<div>\n",
       "<style scoped>\n",
       "    .dataframe tbody tr th:only-of-type {\n",
       "        vertical-align: middle;\n",
       "    }\n",
       "\n",
       "    .dataframe tbody tr th {\n",
       "        vertical-align: top;\n",
       "    }\n",
       "\n",
       "    .dataframe thead th {\n",
       "        text-align: right;\n",
       "    }\n",
       "</style>\n",
       "<table border=\"1\" class=\"dataframe\">\n",
       "  <thead>\n",
       "    <tr style=\"text-align: right;\">\n",
       "      <th></th>\n",
       "      <th>username</th>\n",
       "      <th>password</th>\n",
       "      <th>date-created</th>\n",
       "    </tr>\n",
       "  </thead>\n",
       "  <tbody>\n",
       "    <tr>\n",
       "      <th>0</th>\n",
       "      <td>alice36</td>\n",
       "      <td>L28yamuPbd2wTdko</td>\n",
       "      <td>2021-06-07</td>\n",
       "    </tr>\n",
       "    <tr>\n",
       "      <th>1</th>\n",
       "      <td>bob_smith</td>\n",
       "      <td>B6DW6bLl5f5wJDm1</td>\n",
       "      <td>2020-12-04</td>\n",
       "    </tr>\n",
       "    <tr>\n",
       "      <th>2</th>\n",
       "      <td>eve</td>\n",
       "      <td>Y6ShbOnmb3W8gwjj</td>\n",
       "      <td>2021-07-13</td>\n",
       "    </tr>\n",
       "  </tbody>\n",
       "</table>\n",
       "</div>"
      ],
      "text/plain": [
       "    username          password date-created\n",
       "0    alice36  L28yamuPbd2wTdko   2021-06-07\n",
       "1  bob_smith  B6DW6bLl5f5wJDm1   2020-12-04\n",
       "2        eve  Y6ShbOnmb3W8gwjj   2021-07-13"
      ]
     },
     "execution_count": 26,
     "metadata": {},
     "output_type": "execute_result"
    }
   ],
   "source": [
    "df = pd.DataFrame({'username': usernames, 'password': passwords, 'date-created': pd.to_datetime(creation_dates)})\n",
    "df"
   ]
  },
  {
   "cell_type": "code",
   "execution_count": 27,
   "metadata": {},
   "outputs": [
    {
     "data": {
      "text/plain": [
       "username                object\n",
       "password                object\n",
       "date-created    datetime64[ns]\n",
       "dtype: object"
      ]
     },
     "execution_count": 27,
     "metadata": {},
     "output_type": "execute_result"
    }
   ],
   "source": [
    "df.dtypes"
   ]
  },
  {
   "cell_type": "markdown",
   "metadata": {},
   "source": [
    "The `DataFrame` is also closely related to the NumPy `ndarray`."
   ]
  },
  {
   "cell_type": "code",
   "execution_count": 28,
   "metadata": {},
   "outputs": [
    {
     "data": {
      "text/plain": [
       "array([[0.20238641, 0.16512122, 0.69096952],\n",
       "       [0.37775623, 0.74814642, 0.95728351],\n",
       "       [0.81162421, 0.57050186, 0.98380884],\n",
       "       [0.37091886, 0.92243488, 0.18198683]])"
      ]
     },
     "execution_count": 28,
     "metadata": {},
     "output_type": "execute_result"
    }
   ],
   "source": [
    "random_data = np.random.random((4,3))\n",
    "random_data"
   ]
  },
  {
   "cell_type": "code",
   "execution_count": 29,
   "metadata": {},
   "outputs": [
    {
     "data": {
      "text/html": [
       "<div>\n",
       "<style scoped>\n",
       "    .dataframe tbody tr th:only-of-type {\n",
       "        vertical-align: middle;\n",
       "    }\n",
       "\n",
       "    .dataframe tbody tr th {\n",
       "        vertical-align: top;\n",
       "    }\n",
       "\n",
       "    .dataframe thead th {\n",
       "        text-align: right;\n",
       "    }\n",
       "</style>\n",
       "<table border=\"1\" class=\"dataframe\">\n",
       "  <thead>\n",
       "    <tr style=\"text-align: right;\">\n",
       "      <th></th>\n",
       "      <th>a</th>\n",
       "      <th>b</th>\n",
       "      <th>c</th>\n",
       "    </tr>\n",
       "  </thead>\n",
       "  <tbody>\n",
       "    <tr>\n",
       "      <th>0</th>\n",
       "      <td>0.202386</td>\n",
       "      <td>0.165121</td>\n",
       "      <td>0.690970</td>\n",
       "    </tr>\n",
       "    <tr>\n",
       "      <th>1</th>\n",
       "      <td>0.377756</td>\n",
       "      <td>0.748146</td>\n",
       "      <td>0.957284</td>\n",
       "    </tr>\n",
       "    <tr>\n",
       "      <th>2</th>\n",
       "      <td>0.811624</td>\n",
       "      <td>0.570502</td>\n",
       "      <td>0.983809</td>\n",
       "    </tr>\n",
       "    <tr>\n",
       "      <th>3</th>\n",
       "      <td>0.370919</td>\n",
       "      <td>0.922435</td>\n",
       "      <td>0.181987</td>\n",
       "    </tr>\n",
       "  </tbody>\n",
       "</table>\n",
       "</div>"
      ],
      "text/plain": [
       "          a         b         c\n",
       "0  0.202386  0.165121  0.690970\n",
       "1  0.377756  0.748146  0.957284\n",
       "2  0.811624  0.570502  0.983809\n",
       "3  0.370919  0.922435  0.181987"
      ]
     },
     "execution_count": 29,
     "metadata": {},
     "output_type": "execute_result"
    }
   ],
   "source": [
    "df_random = pd.DataFrame(random_data, columns=['a', 'b', 'c'])\n",
    "df_random"
   ]
  },
  {
   "cell_type": "markdown",
   "metadata": {},
   "source": [
    "To add a new column or row, we simply use `dict`-like assignment."
   ]
  },
  {
   "cell_type": "code",
   "execution_count": 30,
   "metadata": {},
   "outputs": [
    {
     "data": {
      "text/html": [
       "<div>\n",
       "<style scoped>\n",
       "    .dataframe tbody tr th:only-of-type {\n",
       "        vertical-align: middle;\n",
       "    }\n",
       "\n",
       "    .dataframe tbody tr th {\n",
       "        vertical-align: top;\n",
       "    }\n",
       "\n",
       "    .dataframe thead th {\n",
       "        text-align: right;\n",
       "    }\n",
       "</style>\n",
       "<table border=\"1\" class=\"dataframe\">\n",
       "  <thead>\n",
       "    <tr style=\"text-align: right;\">\n",
       "      <th></th>\n",
       "      <th>username</th>\n",
       "      <th>password</th>\n",
       "      <th>date-created</th>\n",
       "      <th>email</th>\n",
       "    </tr>\n",
       "  </thead>\n",
       "  <tbody>\n",
       "    <tr>\n",
       "      <th>0</th>\n",
       "      <td>alice36</td>\n",
       "      <td>L28yamuPbd2wTdko</td>\n",
       "      <td>2021-06-07</td>\n",
       "      <td>alice.chan@gmail.com</td>\n",
       "    </tr>\n",
       "    <tr>\n",
       "      <th>1</th>\n",
       "      <td>bob_smith</td>\n",
       "      <td>B6DW6bLl5f5wJDm1</td>\n",
       "      <td>2020-12-04</td>\n",
       "      <td>bwsmith1983@gmail.com</td>\n",
       "    </tr>\n",
       "    <tr>\n",
       "      <th>2</th>\n",
       "      <td>eve</td>\n",
       "      <td>Y6ShbOnmb3W8gwjj</td>\n",
       "      <td>2021-07-13</td>\n",
       "      <td>fakemail123@yahoo.com</td>\n",
       "    </tr>\n",
       "  </tbody>\n",
       "</table>\n",
       "</div>"
      ],
      "text/plain": [
       "    username          password date-created                  email\n",
       "0    alice36  L28yamuPbd2wTdko   2021-06-07   alice.chan@gmail.com\n",
       "1  bob_smith  B6DW6bLl5f5wJDm1   2020-12-04  bwsmith1983@gmail.com\n",
       "2        eve  Y6ShbOnmb3W8gwjj   2021-07-13  fakemail123@yahoo.com"
      ]
     },
     "execution_count": 30,
     "metadata": {},
     "output_type": "execute_result"
    }
   ],
   "source": [
    "emails = ['alice.chan@gmail.com', 'bwsmith1983@gmail.com', 'fakemail123@yahoo.com']\n",
    "df['email'] = emails\n",
    "df"
   ]
  },
  {
   "cell_type": "code",
   "execution_count": 31,
   "metadata": {},
   "outputs": [
    {
     "data": {
      "text/html": [
       "<div>\n",
       "<style scoped>\n",
       "    .dataframe tbody tr th:only-of-type {\n",
       "        vertical-align: middle;\n",
       "    }\n",
       "\n",
       "    .dataframe tbody tr th {\n",
       "        vertical-align: top;\n",
       "    }\n",
       "\n",
       "    .dataframe thead th {\n",
       "        text-align: right;\n",
       "    }\n",
       "</style>\n",
       "<table border=\"1\" class=\"dataframe\">\n",
       "  <thead>\n",
       "    <tr style=\"text-align: right;\">\n",
       "      <th></th>\n",
       "      <th>username</th>\n",
       "      <th>password</th>\n",
       "      <th>date-created</th>\n",
       "      <th>email</th>\n",
       "    </tr>\n",
       "  </thead>\n",
       "  <tbody>\n",
       "    <tr>\n",
       "      <th>0</th>\n",
       "      <td>alice36</td>\n",
       "      <td>L28yamuPbd2wTdko</td>\n",
       "      <td>2021-06-07 00:00:00</td>\n",
       "      <td>alice.chan@gmail.com</td>\n",
       "    </tr>\n",
       "    <tr>\n",
       "      <th>1</th>\n",
       "      <td>bob_smith</td>\n",
       "      <td>B6DW6bLl5f5wJDm1</td>\n",
       "      <td>2020-12-04 00:00:00</td>\n",
       "      <td>bwsmith1983@gmail.com</td>\n",
       "    </tr>\n",
       "    <tr>\n",
       "      <th>2</th>\n",
       "      <td>eve</td>\n",
       "      <td>Y6ShbOnmb3W8gwjj</td>\n",
       "      <td>2021-07-13 00:00:00</td>\n",
       "      <td>fakemail123@yahoo.com</td>\n",
       "    </tr>\n",
       "    <tr>\n",
       "      <th>4</th>\n",
       "      <td>melvintherobot</td>\n",
       "      <td>38uzFJ1nsdadskgh</td>\n",
       "      <td>2015-01-29</td>\n",
       "      <td>moviesrgood@moviesrgood.com</td>\n",
       "    </tr>\n",
       "  </tbody>\n",
       "</table>\n",
       "</div>"
      ],
      "text/plain": [
       "         username          password         date-created  \\\n",
       "0         alice36  L28yamuPbd2wTdko  2021-06-07 00:00:00   \n",
       "1       bob_smith  B6DW6bLl5f5wJDm1  2020-12-04 00:00:00   \n",
       "2             eve  Y6ShbOnmb3W8gwjj  2021-07-13 00:00:00   \n",
       "4  melvintherobot  38uzFJ1nsdadskgh           2015-01-29   \n",
       "\n",
       "                         email  \n",
       "0         alice.chan@gmail.com  \n",
       "1        bwsmith1983@gmail.com  \n",
       "2        fakemail123@yahoo.com  \n",
       "4  moviesrgood@moviesrgood.com  "
      ]
     },
     "execution_count": 31,
     "metadata": {},
     "output_type": "execute_result"
    }
   ],
   "source": [
    "# loc references index value, NOT position\n",
    "# for position use iloc\n",
    "df.loc[4] = ['melvintherobot', '38uzFJ1nsdadskgh', '2015-01-29', 'moviesrgood@moviesrgood.com']\n",
    "df"
   ]
  },
  {
   "cell_type": "markdown",
   "metadata": {},
   "source": [
    "We can also drop columns and rows."
   ]
  },
  {
   "cell_type": "code",
   "execution_count": 32,
   "metadata": {},
   "outputs": [
    {
     "data": {
      "text/html": [
       "<div>\n",
       "<style scoped>\n",
       "    .dataframe tbody tr th:only-of-type {\n",
       "        vertical-align: middle;\n",
       "    }\n",
       "\n",
       "    .dataframe tbody tr th {\n",
       "        vertical-align: top;\n",
       "    }\n",
       "\n",
       "    .dataframe thead th {\n",
       "        text-align: right;\n",
       "    }\n",
       "</style>\n",
       "<table border=\"1\" class=\"dataframe\">\n",
       "  <thead>\n",
       "    <tr style=\"text-align: right;\">\n",
       "      <th></th>\n",
       "      <th>username</th>\n",
       "      <th>password</th>\n",
       "      <th>date-created</th>\n",
       "      <th>email</th>\n",
       "    </tr>\n",
       "  </thead>\n",
       "  <tbody>\n",
       "    <tr>\n",
       "      <th>0</th>\n",
       "      <td>alice36</td>\n",
       "      <td>L28yamuPbd2wTdko</td>\n",
       "      <td>2021-06-07 00:00:00</td>\n",
       "      <td>alice.chan@gmail.com</td>\n",
       "    </tr>\n",
       "    <tr>\n",
       "      <th>1</th>\n",
       "      <td>bob_smith</td>\n",
       "      <td>B6DW6bLl5f5wJDm1</td>\n",
       "      <td>2020-12-04 00:00:00</td>\n",
       "      <td>bwsmith1983@gmail.com</td>\n",
       "    </tr>\n",
       "    <tr>\n",
       "      <th>2</th>\n",
       "      <td>eve</td>\n",
       "      <td>Y6ShbOnmb3W8gwjj</td>\n",
       "      <td>2021-07-13 00:00:00</td>\n",
       "      <td>fakemail123@yahoo.com</td>\n",
       "    </tr>\n",
       "  </tbody>\n",
       "</table>\n",
       "</div>"
      ],
      "text/plain": [
       "    username          password         date-created                  email\n",
       "0    alice36  L28yamuPbd2wTdko  2021-06-07 00:00:00   alice.chan@gmail.com\n",
       "1  bob_smith  B6DW6bLl5f5wJDm1  2020-12-04 00:00:00  bwsmith1983@gmail.com\n",
       "2        eve  Y6ShbOnmb3W8gwjj  2021-07-13 00:00:00  fakemail123@yahoo.com"
      ]
     },
     "execution_count": 32,
     "metadata": {},
     "output_type": "execute_result"
    }
   ],
   "source": [
    "df.drop(4)"
   ]
  },
  {
   "cell_type": "code",
   "execution_count": 33,
   "metadata": {},
   "outputs": [
    {
     "data": {
      "text/html": [
       "<div>\n",
       "<style scoped>\n",
       "    .dataframe tbody tr th:only-of-type {\n",
       "        vertical-align: middle;\n",
       "    }\n",
       "\n",
       "    .dataframe tbody tr th {\n",
       "        vertical-align: top;\n",
       "    }\n",
       "\n",
       "    .dataframe thead th {\n",
       "        text-align: right;\n",
       "    }\n",
       "</style>\n",
       "<table border=\"1\" class=\"dataframe\">\n",
       "  <thead>\n",
       "    <tr style=\"text-align: right;\">\n",
       "      <th></th>\n",
       "      <th>username</th>\n",
       "      <th>password</th>\n",
       "      <th>date-created</th>\n",
       "    </tr>\n",
       "  </thead>\n",
       "  <tbody>\n",
       "    <tr>\n",
       "      <th>0</th>\n",
       "      <td>alice36</td>\n",
       "      <td>L28yamuPbd2wTdko</td>\n",
       "      <td>2021-06-07 00:00:00</td>\n",
       "    </tr>\n",
       "    <tr>\n",
       "      <th>1</th>\n",
       "      <td>bob_smith</td>\n",
       "      <td>B6DW6bLl5f5wJDm1</td>\n",
       "      <td>2020-12-04 00:00:00</td>\n",
       "    </tr>\n",
       "    <tr>\n",
       "      <th>2</th>\n",
       "      <td>eve</td>\n",
       "      <td>Y6ShbOnmb3W8gwjj</td>\n",
       "      <td>2021-07-13 00:00:00</td>\n",
       "    </tr>\n",
       "    <tr>\n",
       "      <th>4</th>\n",
       "      <td>melvintherobot</td>\n",
       "      <td>38uzFJ1nsdadskgh</td>\n",
       "      <td>2015-01-29</td>\n",
       "    </tr>\n",
       "  </tbody>\n",
       "</table>\n",
       "</div>"
      ],
      "text/plain": [
       "         username          password         date-created\n",
       "0         alice36  L28yamuPbd2wTdko  2021-06-07 00:00:00\n",
       "1       bob_smith  B6DW6bLl5f5wJDm1  2020-12-04 00:00:00\n",
       "2             eve  Y6ShbOnmb3W8gwjj  2021-07-13 00:00:00\n",
       "4  melvintherobot  38uzFJ1nsdadskgh           2015-01-29"
      ]
     },
     "execution_count": 33,
     "metadata": {},
     "output_type": "execute_result"
    }
   ],
   "source": [
    "# to drop a column, need axis=1\n",
    "df.drop('email', axis=1)"
   ]
  },
  {
   "cell_type": "markdown",
   "metadata": {},
   "source": [
    "Notice when we dropped the `'email'` column, the row at index 3 was in the `DataFrame`, even though we just dropped it! Most operations in Pandas return a _copy_ of the `DataFrame`, rather than modifying the `DataFrame` object itself. Therefore, in order to permanently alter the `DataFrame`, we either need to reassign the `df` variable, or use the `inplace` keyword."
   ]
  },
  {
   "cell_type": "code",
   "execution_count": 34,
   "metadata": {},
   "outputs": [
    {
     "data": {
      "text/html": [
       "<div>\n",
       "<style scoped>\n",
       "    .dataframe tbody tr th:only-of-type {\n",
       "        vertical-align: middle;\n",
       "    }\n",
       "\n",
       "    .dataframe tbody tr th {\n",
       "        vertical-align: top;\n",
       "    }\n",
       "\n",
       "    .dataframe thead th {\n",
       "        text-align: right;\n",
       "    }\n",
       "</style>\n",
       "<table border=\"1\" class=\"dataframe\">\n",
       "  <thead>\n",
       "    <tr style=\"text-align: right;\">\n",
       "      <th></th>\n",
       "      <th>username</th>\n",
       "      <th>password</th>\n",
       "      <th>date-created</th>\n",
       "      <th>email</th>\n",
       "    </tr>\n",
       "  </thead>\n",
       "  <tbody>\n",
       "    <tr>\n",
       "      <th>0</th>\n",
       "      <td>alice36</td>\n",
       "      <td>L28yamuPbd2wTdko</td>\n",
       "      <td>2021-06-07 00:00:00</td>\n",
       "      <td>alice.chan@gmail.com</td>\n",
       "    </tr>\n",
       "    <tr>\n",
       "      <th>1</th>\n",
       "      <td>bob_smith</td>\n",
       "      <td>B6DW6bLl5f5wJDm1</td>\n",
       "      <td>2020-12-04 00:00:00</td>\n",
       "      <td>bwsmith1983@gmail.com</td>\n",
       "    </tr>\n",
       "    <tr>\n",
       "      <th>2</th>\n",
       "      <td>eve</td>\n",
       "      <td>Y6ShbOnmb3W8gwjj</td>\n",
       "      <td>2021-07-13 00:00:00</td>\n",
       "      <td>fakemail123@yahoo.com</td>\n",
       "    </tr>\n",
       "  </tbody>\n",
       "</table>\n",
       "</div>"
      ],
      "text/plain": [
       "    username          password         date-created                  email\n",
       "0    alice36  L28yamuPbd2wTdko  2021-06-07 00:00:00   alice.chan@gmail.com\n",
       "1  bob_smith  B6DW6bLl5f5wJDm1  2020-12-04 00:00:00  bwsmith1983@gmail.com\n",
       "2        eve  Y6ShbOnmb3W8gwjj  2021-07-13 00:00:00  fakemail123@yahoo.com"
      ]
     },
     "execution_count": 34,
     "metadata": {},
     "output_type": "execute_result"
    }
   ],
   "source": [
    "df.drop(4, inplace=True)\n",
    "df"
   ]
  },
  {
   "cell_type": "markdown",
   "metadata": {},
   "source": [
    "Since the `index` and column names are important for interacting with data in the DataFrame, we should make sure to set them to useful values. We can do this during construction or after."
   ]
  },
  {
   "cell_type": "code",
   "execution_count": 35,
   "metadata": {},
   "outputs": [
    {
     "data": {
      "text/html": [
       "<div>\n",
       "<style scoped>\n",
       "    .dataframe tbody tr th:only-of-type {\n",
       "        vertical-align: middle;\n",
       "    }\n",
       "\n",
       "    .dataframe tbody tr th {\n",
       "        vertical-align: top;\n",
       "    }\n",
       "\n",
       "    .dataframe thead th {\n",
       "        text-align: right;\n",
       "    }\n",
       "</style>\n",
       "<table border=\"1\" class=\"dataframe\">\n",
       "  <thead>\n",
       "    <tr style=\"text-align: right;\">\n",
       "      <th></th>\n",
       "      <th>email</th>\n",
       "      <th>password</th>\n",
       "      <th>date-created</th>\n",
       "    </tr>\n",
       "    <tr>\n",
       "      <th>users</th>\n",
       "      <th></th>\n",
       "      <th></th>\n",
       "      <th></th>\n",
       "    </tr>\n",
       "  </thead>\n",
       "  <tbody>\n",
       "    <tr>\n",
       "      <th>alice36</th>\n",
       "      <td>alice.chan@gmail.com</td>\n",
       "      <td>L28yamuPbd2wTdko</td>\n",
       "      <td>2021-06-07</td>\n",
       "    </tr>\n",
       "    <tr>\n",
       "      <th>bob_smith</th>\n",
       "      <td>bwsmith1983@gmail.com</td>\n",
       "      <td>B6DW6bLl5f5wJDm1</td>\n",
       "      <td>2020-12-04</td>\n",
       "    </tr>\n",
       "    <tr>\n",
       "      <th>eve</th>\n",
       "      <td>fakemail123@yahoo.com</td>\n",
       "      <td>Y6ShbOnmb3W8gwjj</td>\n",
       "      <td>2021-07-13</td>\n",
       "    </tr>\n",
       "  </tbody>\n",
       "</table>\n",
       "</div>"
      ],
      "text/plain": [
       "                           email          password date-created\n",
       "users                                                          \n",
       "alice36     alice.chan@gmail.com  L28yamuPbd2wTdko   2021-06-07\n",
       "bob_smith  bwsmith1983@gmail.com  B6DW6bLl5f5wJDm1   2020-12-04\n",
       "eve        fakemail123@yahoo.com  Y6ShbOnmb3W8gwjj   2021-07-13"
      ]
     },
     "execution_count": 35,
     "metadata": {},
     "output_type": "execute_result"
    }
   ],
   "source": [
    "df = pd.DataFrame({'email': emails, 'password': passwords, 'date-created': creation_dates}, index=usernames)\n",
    "df.index.name = 'users' # it can be helpful to give the index a name\n",
    "df"
   ]
  },
  {
   "cell_type": "code",
   "execution_count": 36,
   "metadata": {},
   "outputs": [
    {
     "data": {
      "text/html": [
       "<div>\n",
       "<style scoped>\n",
       "    .dataframe tbody tr th:only-of-type {\n",
       "        vertical-align: middle;\n",
       "    }\n",
       "\n",
       "    .dataframe tbody tr th {\n",
       "        vertical-align: top;\n",
       "    }\n",
       "\n",
       "    .dataframe thead th {\n",
       "        text-align: right;\n",
       "    }\n",
       "</style>\n",
       "<table border=\"1\" class=\"dataframe\">\n",
       "  <thead>\n",
       "    <tr style=\"text-align: right;\">\n",
       "      <th></th>\n",
       "      <th>0</th>\n",
       "      <th>1</th>\n",
       "      <th>2</th>\n",
       "      <th>3</th>\n",
       "    </tr>\n",
       "  </thead>\n",
       "  <tbody>\n",
       "    <tr>\n",
       "      <th>0</th>\n",
       "      <td>alice36</td>\n",
       "      <td>alice.chan@gmail.com</td>\n",
       "      <td>L28yamuPbd2wTdko</td>\n",
       "      <td>2021-06-07</td>\n",
       "    </tr>\n",
       "    <tr>\n",
       "      <th>1</th>\n",
       "      <td>bob_smith</td>\n",
       "      <td>bwsmith1983@gmail.com</td>\n",
       "      <td>B6DW6bLl5f5wJDm1</td>\n",
       "      <td>2020-12-04</td>\n",
       "    </tr>\n",
       "    <tr>\n",
       "      <th>2</th>\n",
       "      <td>eve</td>\n",
       "      <td>fakemail123@yahoo.com</td>\n",
       "      <td>Y6ShbOnmb3W8gwjj</td>\n",
       "      <td>2021-07-13</td>\n",
       "    </tr>\n",
       "  </tbody>\n",
       "</table>\n",
       "</div>"
      ],
      "text/plain": [
       "           0                      1                 2           3\n",
       "0    alice36   alice.chan@gmail.com  L28yamuPbd2wTdko  2021-06-07\n",
       "1  bob_smith  bwsmith1983@gmail.com  B6DW6bLl5f5wJDm1  2020-12-04\n",
       "2        eve  fakemail123@yahoo.com  Y6ShbOnmb3W8gwjj  2021-07-13"
      ]
     },
     "execution_count": 36,
     "metadata": {},
     "output_type": "execute_result"
    }
   ],
   "source": [
    "# alternatively\n",
    "df = pd.DataFrame(list(zip(usernames, emails, passwords, creation_dates)))\n",
    "df"
   ]
  },
  {
   "cell_type": "code",
   "execution_count": 37,
   "metadata": {},
   "outputs": [
    {
     "data": {
      "text/html": [
       "<div>\n",
       "<style scoped>\n",
       "    .dataframe tbody tr th:only-of-type {\n",
       "        vertical-align: middle;\n",
       "    }\n",
       "\n",
       "    .dataframe tbody tr th {\n",
       "        vertical-align: top;\n",
       "    }\n",
       "\n",
       "    .dataframe thead th {\n",
       "        text-align: right;\n",
       "    }\n",
       "</style>\n",
       "<table border=\"1\" class=\"dataframe\">\n",
       "  <thead>\n",
       "    <tr style=\"text-align: right;\">\n",
       "      <th></th>\n",
       "      <th>email</th>\n",
       "      <th>password</th>\n",
       "      <th>date-created</th>\n",
       "    </tr>\n",
       "    <tr>\n",
       "      <th>username</th>\n",
       "      <th></th>\n",
       "      <th></th>\n",
       "      <th></th>\n",
       "    </tr>\n",
       "  </thead>\n",
       "  <tbody>\n",
       "    <tr>\n",
       "      <th>alice36</th>\n",
       "      <td>alice.chan@gmail.com</td>\n",
       "      <td>L28yamuPbd2wTdko</td>\n",
       "      <td>2021-06-07</td>\n",
       "    </tr>\n",
       "    <tr>\n",
       "      <th>bob_smith</th>\n",
       "      <td>bwsmith1983@gmail.com</td>\n",
       "      <td>B6DW6bLl5f5wJDm1</td>\n",
       "      <td>2020-12-04</td>\n",
       "    </tr>\n",
       "    <tr>\n",
       "      <th>eve</th>\n",
       "      <td>fakemail123@yahoo.com</td>\n",
       "      <td>Y6ShbOnmb3W8gwjj</td>\n",
       "      <td>2021-07-13</td>\n",
       "    </tr>\n",
       "  </tbody>\n",
       "</table>\n",
       "</div>"
      ],
      "text/plain": [
       "                           email          password date-created\n",
       "username                                                       \n",
       "alice36     alice.chan@gmail.com  L28yamuPbd2wTdko   2021-06-07\n",
       "bob_smith  bwsmith1983@gmail.com  B6DW6bLl5f5wJDm1   2020-12-04\n",
       "eve        fakemail123@yahoo.com  Y6ShbOnmb3W8gwjj   2021-07-13"
      ]
     },
     "execution_count": 37,
     "metadata": {},
     "output_type": "execute_result"
    }
   ],
   "source": [
    "df.columns = ['username', 'email', 'password', 'date-created']\n",
    "df.set_index('username', inplace=True)\n",
    "df"
   ]
  },
  {
   "cell_type": "code",
   "execution_count": 38,
   "metadata": {},
   "outputs": [
    {
     "name": "stdout",
     "output_type": "stream",
     "text": [
      "\u001b[0;31m---------------------------------------------------------------------------\u001b[0m\n",
      "\u001b[0;31mKeyError\u001b[0m                                  Traceback (most recent call last)\n",
      "\u001b[0;32m/opt/conda/lib/python3.8/site-packages/pandas/core/indexes/base.py\u001b[0m in \u001b[0;36mget_loc\u001b[0;34m(self, key, method, tolerance)\u001b[0m\n",
      "\u001b[1;32m   2894\u001b[0m             \u001b[0;32mtry\u001b[0m\u001b[0;34m:\u001b[0m\u001b[0;34m\u001b[0m\u001b[0;34m\u001b[0m\u001b[0m\n",
      "\u001b[0;32m-> 2895\u001b[0;31m                 \u001b[0;32mreturn\u001b[0m \u001b[0mself\u001b[0m\u001b[0;34m.\u001b[0m\u001b[0m_engine\u001b[0m\u001b[0;34m.\u001b[0m\u001b[0mget_loc\u001b[0m\u001b[0;34m(\u001b[0m\u001b[0mcasted_key\u001b[0m\u001b[0;34m)\u001b[0m\u001b[0;34m\u001b[0m\u001b[0;34m\u001b[0m\u001b[0m\n",
      "\u001b[0m\u001b[1;32m   2896\u001b[0m             \u001b[0;32mexcept\u001b[0m \u001b[0mKeyError\u001b[0m \u001b[0;32mas\u001b[0m \u001b[0merr\u001b[0m\u001b[0;34m:\u001b[0m\u001b[0;34m\u001b[0m\u001b[0;34m\u001b[0m\u001b[0m\n",
      "\n",
      "\u001b[0;32mpandas/_libs/index.pyx\u001b[0m in \u001b[0;36mpandas._libs.index.IndexEngine.get_loc\u001b[0;34m()\u001b[0m\n",
      "\n",
      "\u001b[0;32mpandas/_libs/index.pyx\u001b[0m in \u001b[0;36mpandas._libs.index.IndexEngine.get_loc\u001b[0;34m()\u001b[0m\n",
      "\n",
      "\u001b[0;32mpandas/_libs/hashtable_class_helper.pxi\u001b[0m in \u001b[0;36mpandas._libs.hashtable.PyObjectHashTable.get_item\u001b[0;34m()\u001b[0m\n",
      "\n",
      "\u001b[0;32mpandas/_libs/hashtable_class_helper.pxi\u001b[0m in \u001b[0;36mpandas._libs.hashtable.PyObjectHashTable.get_item\u001b[0;34m()\u001b[0m\n",
      "\n",
      "\u001b[0;31mKeyError\u001b[0m: 'username'\n",
      "\n",
      "The above exception was the direct cause of the following exception:\n",
      "\n",
      "\u001b[0;31mKeyError\u001b[0m                                  Traceback (most recent call last)\n",
      "\u001b[0;32m<ipython-input-38-9ec4116a48e3>\u001b[0m in \u001b[0;36m<module>\u001b[0;34m\u001b[0m\n",
      "\u001b[1;32m      1\u001b[0m \u001b[0;31m#but since index is not a series, it cannot be called out\u001b[0m\u001b[0;34m\u001b[0m\u001b[0;34m\u001b[0m\u001b[0;34m\u001b[0m\u001b[0m\n",
      "\u001b[0;32m----> 2\u001b[0;31m \u001b[0mdf\u001b[0m\u001b[0;34m[\u001b[0m\u001b[0;34m'username'\u001b[0m\u001b[0;34m]\u001b[0m\u001b[0;34m\u001b[0m\u001b[0;34m\u001b[0m\u001b[0m\n",
      "\u001b[0m\n",
      "\u001b[0;32m/opt/conda/lib/python3.8/site-packages/pandas/core/frame.py\u001b[0m in \u001b[0;36m__getitem__\u001b[0;34m(self, key)\u001b[0m\n",
      "\u001b[1;32m   2900\u001b[0m             \u001b[0;32mif\u001b[0m \u001b[0mself\u001b[0m\u001b[0;34m.\u001b[0m\u001b[0mcolumns\u001b[0m\u001b[0;34m.\u001b[0m\u001b[0mnlevels\u001b[0m \u001b[0;34m>\u001b[0m \u001b[0;36m1\u001b[0m\u001b[0;34m:\u001b[0m\u001b[0;34m\u001b[0m\u001b[0;34m\u001b[0m\u001b[0m\n",
      "\u001b[1;32m   2901\u001b[0m                 \u001b[0;32mreturn\u001b[0m \u001b[0mself\u001b[0m\u001b[0;34m.\u001b[0m\u001b[0m_getitem_multilevel\u001b[0m\u001b[0;34m(\u001b[0m\u001b[0mkey\u001b[0m\u001b[0;34m)\u001b[0m\u001b[0;34m\u001b[0m\u001b[0;34m\u001b[0m\u001b[0m\n",
      "\u001b[0;32m-> 2902\u001b[0;31m             \u001b[0mindexer\u001b[0m \u001b[0;34m=\u001b[0m \u001b[0mself\u001b[0m\u001b[0;34m.\u001b[0m\u001b[0mcolumns\u001b[0m\u001b[0;34m.\u001b[0m\u001b[0mget_loc\u001b[0m\u001b[0;34m(\u001b[0m\u001b[0mkey\u001b[0m\u001b[0;34m)\u001b[0m\u001b[0;34m\u001b[0m\u001b[0;34m\u001b[0m\u001b[0m\n",
      "\u001b[0m\u001b[1;32m   2903\u001b[0m             \u001b[0;32mif\u001b[0m \u001b[0mis_integer\u001b[0m\u001b[0;34m(\u001b[0m\u001b[0mindexer\u001b[0m\u001b[0;34m)\u001b[0m\u001b[0;34m:\u001b[0m\u001b[0;34m\u001b[0m\u001b[0;34m\u001b[0m\u001b[0m\n",
      "\u001b[1;32m   2904\u001b[0m                 \u001b[0mindexer\u001b[0m \u001b[0;34m=\u001b[0m \u001b[0;34m[\u001b[0m\u001b[0mindexer\u001b[0m\u001b[0;34m]\u001b[0m\u001b[0;34m\u001b[0m\u001b[0;34m\u001b[0m\u001b[0m\n",
      "\n",
      "\u001b[0;32m/opt/conda/lib/python3.8/site-packages/pandas/core/indexes/base.py\u001b[0m in \u001b[0;36mget_loc\u001b[0;34m(self, key, method, tolerance)\u001b[0m\n",
      "\u001b[1;32m   2895\u001b[0m                 \u001b[0;32mreturn\u001b[0m \u001b[0mself\u001b[0m\u001b[0;34m.\u001b[0m\u001b[0m_engine\u001b[0m\u001b[0;34m.\u001b[0m\u001b[0mget_loc\u001b[0m\u001b[0;34m(\u001b[0m\u001b[0mcasted_key\u001b[0m\u001b[0;34m)\u001b[0m\u001b[0;34m\u001b[0m\u001b[0;34m\u001b[0m\u001b[0m\n",
      "\u001b[1;32m   2896\u001b[0m             \u001b[0;32mexcept\u001b[0m \u001b[0mKeyError\u001b[0m \u001b[0;32mas\u001b[0m \u001b[0merr\u001b[0m\u001b[0;34m:\u001b[0m\u001b[0;34m\u001b[0m\u001b[0;34m\u001b[0m\u001b[0m\n",
      "\u001b[0;32m-> 2897\u001b[0;31m                 \u001b[0;32mraise\u001b[0m \u001b[0mKeyError\u001b[0m\u001b[0;34m(\u001b[0m\u001b[0mkey\u001b[0m\u001b[0;34m)\u001b[0m \u001b[0;32mfrom\u001b[0m \u001b[0merr\u001b[0m\u001b[0;34m\u001b[0m\u001b[0;34m\u001b[0m\u001b[0m\n",
      "\u001b[0m\u001b[1;32m   2898\u001b[0m \u001b[0;34m\u001b[0m\u001b[0m\n",
      "\u001b[1;32m   2899\u001b[0m         \u001b[0;32mif\u001b[0m \u001b[0mtolerance\u001b[0m \u001b[0;32mis\u001b[0m \u001b[0;32mnot\u001b[0m \u001b[0;32mNone\u001b[0m\u001b[0;34m:\u001b[0m\u001b[0;34m\u001b[0m\u001b[0;34m\u001b[0m\u001b[0m\n",
      "\n",
      "\u001b[0;31mKeyError\u001b[0m: 'username'\n"
     ]
    }
   ],
   "source": [
    "%%expect_exception KeyError\n",
    "\n",
    "#but since index is not a series, it cannot be called out\n",
    "df['username']"
   ]
  },
  {
   "cell_type": "code",
   "execution_count": 39,
   "metadata": {},
   "outputs": [
    {
     "data": {
      "text/plain": [
       "username\n",
       "alice36       alice.chan@gmail.com\n",
       "bob_smith    bwsmith1983@gmail.com\n",
       "eve          fakemail123@yahoo.com\n",
       "Name: email, dtype: object"
      ]
     },
     "execution_count": 39,
     "metadata": {},
     "output_type": "execute_result"
    }
   ],
   "source": [
    "df['email']"
   ]
  },
  {
   "cell_type": "code",
   "execution_count": 40,
   "metadata": {},
   "outputs": [
    {
     "data": {
      "text/html": [
       "<div>\n",
       "<style scoped>\n",
       "    .dataframe tbody tr th:only-of-type {\n",
       "        vertical-align: middle;\n",
       "    }\n",
       "\n",
       "    .dataframe tbody tr th {\n",
       "        vertical-align: top;\n",
       "    }\n",
       "\n",
       "    .dataframe thead th {\n",
       "        text-align: right;\n",
       "    }\n",
       "</style>\n",
       "<table border=\"1\" class=\"dataframe\">\n",
       "  <thead>\n",
       "    <tr style=\"text-align: right;\">\n",
       "      <th></th>\n",
       "      <th>username</th>\n",
       "      <th>email</th>\n",
       "      <th>password</th>\n",
       "      <th>date-created</th>\n",
       "    </tr>\n",
       "  </thead>\n",
       "  <tbody>\n",
       "    <tr>\n",
       "      <th>0</th>\n",
       "      <td>alice36</td>\n",
       "      <td>alice.chan@gmail.com</td>\n",
       "      <td>L28yamuPbd2wTdko</td>\n",
       "      <td>2021-06-07</td>\n",
       "    </tr>\n",
       "    <tr>\n",
       "      <th>1</th>\n",
       "      <td>bob_smith</td>\n",
       "      <td>bwsmith1983@gmail.com</td>\n",
       "      <td>B6DW6bLl5f5wJDm1</td>\n",
       "      <td>2020-12-04</td>\n",
       "    </tr>\n",
       "    <tr>\n",
       "      <th>2</th>\n",
       "      <td>eve</td>\n",
       "      <td>fakemail123@yahoo.com</td>\n",
       "      <td>Y6ShbOnmb3W8gwjj</td>\n",
       "      <td>2021-07-13</td>\n",
       "    </tr>\n",
       "  </tbody>\n",
       "</table>\n",
       "</div>"
      ],
      "text/plain": [
       "    username                  email          password date-created\n",
       "0    alice36   alice.chan@gmail.com  L28yamuPbd2wTdko   2021-06-07\n",
       "1  bob_smith  bwsmith1983@gmail.com  B6DW6bLl5f5wJDm1   2020-12-04\n",
       "2        eve  fakemail123@yahoo.com  Y6ShbOnmb3W8gwjj   2021-07-13"
      ]
     },
     "execution_count": 40,
     "metadata": {},
     "output_type": "execute_result"
    }
   ],
   "source": [
    "# to reset index to a column\n",
    "df.reset_index(inplace=True)\n",
    "df"
   ]
  },
  {
   "cell_type": "markdown",
   "metadata": {},
   "source": [
    "We can have multiple levels to an index. We'll discover that for some data sets it is necessary to have multiple levels to the index in order to uniquely identify a row."
   ]
  },
  {
   "cell_type": "code",
   "execution_count": 41,
   "metadata": {},
   "outputs": [
    {
     "data": {
      "text/html": [
       "<div>\n",
       "<style scoped>\n",
       "    .dataframe tbody tr th:only-of-type {\n",
       "        vertical-align: middle;\n",
       "    }\n",
       "\n",
       "    .dataframe tbody tr th {\n",
       "        vertical-align: top;\n",
       "    }\n",
       "\n",
       "    .dataframe thead th {\n",
       "        text-align: right;\n",
       "    }\n",
       "</style>\n",
       "<table border=\"1\" class=\"dataframe\">\n",
       "  <thead>\n",
       "    <tr style=\"text-align: right;\">\n",
       "      <th></th>\n",
       "      <th></th>\n",
       "      <th>password</th>\n",
       "      <th>date-created</th>\n",
       "    </tr>\n",
       "    <tr>\n",
       "      <th>username</th>\n",
       "      <th>email</th>\n",
       "      <th></th>\n",
       "      <th></th>\n",
       "    </tr>\n",
       "  </thead>\n",
       "  <tbody>\n",
       "    <tr>\n",
       "      <th>alice36</th>\n",
       "      <th>alice.chan@gmail.com</th>\n",
       "      <td>L28yamuPbd2wTdko</td>\n",
       "      <td>2021-06-07</td>\n",
       "    </tr>\n",
       "    <tr>\n",
       "      <th>bob_smith</th>\n",
       "      <th>bwsmith1983@gmail.com</th>\n",
       "      <td>B6DW6bLl5f5wJDm1</td>\n",
       "      <td>2020-12-04</td>\n",
       "    </tr>\n",
       "    <tr>\n",
       "      <th>eve</th>\n",
       "      <th>fakemail123@yahoo.com</th>\n",
       "      <td>Y6ShbOnmb3W8gwjj</td>\n",
       "      <td>2021-07-13</td>\n",
       "    </tr>\n",
       "  </tbody>\n",
       "</table>\n",
       "</div>"
      ],
      "text/plain": [
       "                                         password date-created\n",
       "username  email                                               \n",
       "alice36   alice.chan@gmail.com   L28yamuPbd2wTdko   2021-06-07\n",
       "bob_smith bwsmith1983@gmail.com  B6DW6bLl5f5wJDm1   2020-12-04\n",
       "eve       fakemail123@yahoo.com  Y6ShbOnmb3W8gwjj   2021-07-13"
      ]
     },
     "execution_count": 41,
     "metadata": {},
     "output_type": "execute_result"
    }
   ],
   "source": [
    "df.set_index(['username', 'email'])"
   ]
  },
  {
   "cell_type": "markdown",
   "metadata": {},
   "source": [
    "### Reading data from file\n",
    "\n",
    "We can also construct a DataFrame using data stored in a file or received from a website. The data source might be [JSON](https://pandas.pydata.org/pandas-docs/stable/generated/pandas.read_json.html), [HTML](https://pandas.pydata.org/pandas-docs/stable/generated/pandas.read_html.html), [CSV](http://pandas.pydata.org/pandas-docs/stable/generated/pandas.read_csv.html#pandas.read_csv), [Excel](https://pandas.pydata.org/pandas-docs/stable/generated/pandas.read_excel.html), [Python pickle](https://pandas.pydata.org/pandas-docs/stable/generated/pandas.read_pickle.html), or even a [database connection](https://pandas.pydata.org/pandas-docs/stable/generated/pandas.read_sql.html). Each format will have its own methods for reading and writing data that take different arguments. The arguments of these methods usually depend on the particular formatting of the file. For example, the values in a CSV might be separate by commas or semi-colons, it might have a header or it might not.\n",
    "\n",
    "The `read_csv` method has to deal with the most formatting possibilities, so we will explore that method with a few examples. Try to apply these ideas when working with other file formats, but keep in mind that each format and read method is different. Always check [the Pandas documentation](http://pandas.pydata.org/pandas-docs/stable/io.html) when having trouble with reading or writing data."
   ]
  },
  {
   "cell_type": "code",
   "execution_count": 42,
   "metadata": {},
   "outputs": [
    {
     "name": "stdout",
     "output_type": "stream",
     "text": [
      "username,email,password,date-created\r\n",
      "alice36,alice.chan@gmail.com,L28yamuPbd2wTdko,2021-06-07\r\n",
      "bob_smith,bwsmith1983@gmail.com,B6DW6bLl5f5wJDm1,2020-12-04\r\n",
      "eve,fakemail123@yahoo.com,Y6ShbOnmb3W8gwjj,2021-07-13\r\n"
     ]
    }
   ],
   "source": [
    "csv = [','.join(map(lambda x: str(x), row)) for row in np.vstack([df.columns, df])]\n",
    "with open('./data/read_csv_example.csv','w') as f:\n",
    "    [f.write(line + '\\n') for line in csv]\n",
    "    \n",
    "!cat ./data/read_csv_example.csv"
   ]
  },
  {
   "cell_type": "code",
   "execution_count": 43,
   "metadata": {},
   "outputs": [
    {
     "data": {
      "text/html": [
       "<div>\n",
       "<style scoped>\n",
       "    .dataframe tbody tr th:only-of-type {\n",
       "        vertical-align: middle;\n",
       "    }\n",
       "\n",
       "    .dataframe tbody tr th {\n",
       "        vertical-align: top;\n",
       "    }\n",
       "\n",
       "    .dataframe thead th {\n",
       "        text-align: right;\n",
       "    }\n",
       "</style>\n",
       "<table border=\"1\" class=\"dataframe\">\n",
       "  <thead>\n",
       "    <tr style=\"text-align: right;\">\n",
       "      <th></th>\n",
       "      <th>username</th>\n",
       "      <th>email</th>\n",
       "      <th>password</th>\n",
       "      <th>date-created</th>\n",
       "    </tr>\n",
       "  </thead>\n",
       "  <tbody>\n",
       "    <tr>\n",
       "      <th>0</th>\n",
       "      <td>alice36</td>\n",
       "      <td>alice.chan@gmail.com</td>\n",
       "      <td>L28yamuPbd2wTdko</td>\n",
       "      <td>2021-06-07</td>\n",
       "    </tr>\n",
       "    <tr>\n",
       "      <th>1</th>\n",
       "      <td>bob_smith</td>\n",
       "      <td>bwsmith1983@gmail.com</td>\n",
       "      <td>B6DW6bLl5f5wJDm1</td>\n",
       "      <td>2020-12-04</td>\n",
       "    </tr>\n",
       "    <tr>\n",
       "      <th>2</th>\n",
       "      <td>eve</td>\n",
       "      <td>fakemail123@yahoo.com</td>\n",
       "      <td>Y6ShbOnmb3W8gwjj</td>\n",
       "      <td>2021-07-13</td>\n",
       "    </tr>\n",
       "  </tbody>\n",
       "</table>\n",
       "</div>"
      ],
      "text/plain": [
       "    username                  email          password date-created\n",
       "0    alice36   alice.chan@gmail.com  L28yamuPbd2wTdko   2021-06-07\n",
       "1  bob_smith  bwsmith1983@gmail.com  B6DW6bLl5f5wJDm1   2020-12-04\n",
       "2        eve  fakemail123@yahoo.com  Y6ShbOnmb3W8gwjj   2021-07-13"
      ]
     },
     "execution_count": 43,
     "metadata": {},
     "output_type": "execute_result"
    }
   ],
   "source": [
    "pd.read_csv('./data/read_csv_example.csv')"
   ]
  },
  {
   "cell_type": "code",
   "execution_count": 44,
   "metadata": {},
   "outputs": [
    {
     "data": {
      "text/html": [
       "<div>\n",
       "<style scoped>\n",
       "    .dataframe tbody tr th:only-of-type {\n",
       "        vertical-align: middle;\n",
       "    }\n",
       "\n",
       "    .dataframe tbody tr th {\n",
       "        vertical-align: top;\n",
       "    }\n",
       "\n",
       "    .dataframe thead th {\n",
       "        text-align: right;\n",
       "    }\n",
       "</style>\n",
       "<table border=\"1\" class=\"dataframe\">\n",
       "  <thead>\n",
       "    <tr style=\"text-align: right;\">\n",
       "      <th></th>\n",
       "      <th>email</th>\n",
       "      <th>password</th>\n",
       "      <th>date-created</th>\n",
       "    </tr>\n",
       "    <tr>\n",
       "      <th>username</th>\n",
       "      <th></th>\n",
       "      <th></th>\n",
       "      <th></th>\n",
       "    </tr>\n",
       "  </thead>\n",
       "  <tbody>\n",
       "    <tr>\n",
       "      <th>alice36</th>\n",
       "      <td>alice.chan@gmail.com</td>\n",
       "      <td>L28yamuPbd2wTdko</td>\n",
       "      <td>2021-06-07</td>\n",
       "    </tr>\n",
       "    <tr>\n",
       "      <th>bob_smith</th>\n",
       "      <td>bwsmith1983@gmail.com</td>\n",
       "      <td>B6DW6bLl5f5wJDm1</td>\n",
       "      <td>2020-12-04</td>\n",
       "    </tr>\n",
       "    <tr>\n",
       "      <th>eve</th>\n",
       "      <td>fakemail123@yahoo.com</td>\n",
       "      <td>Y6ShbOnmb3W8gwjj</td>\n",
       "      <td>2021-07-13</td>\n",
       "    </tr>\n",
       "  </tbody>\n",
       "</table>\n",
       "</div>"
      ],
      "text/plain": [
       "                           email          password date-created\n",
       "username                                                       \n",
       "alice36     alice.chan@gmail.com  L28yamuPbd2wTdko   2021-06-07\n",
       "bob_smith  bwsmith1983@gmail.com  B6DW6bLl5f5wJDm1   2020-12-04\n",
       "eve        fakemail123@yahoo.com  Y6ShbOnmb3W8gwjj   2021-07-13"
      ]
     },
     "execution_count": 44,
     "metadata": {},
     "output_type": "execute_result"
    }
   ],
   "source": [
    "# we can also set an index from the data\n",
    "pd.read_csv('./data/read_csv_example.csv', index_col=0)"
   ]
  },
  {
   "cell_type": "code",
   "execution_count": 45,
   "metadata": {},
   "outputs": [
    {
     "name": "stdout",
     "output_type": "stream",
     "text": [
      "alice36,alice.chan@gmail.com,L28yamuPbd2wTdko,2021-06-07\r\n",
      "bob_smith,bwsmith1983@gmail.com,B6DW6bLl5f5wJDm1,2020-12-04\r\n",
      "eve,fakemail123@yahoo.com,Y6ShbOnmb3W8gwjj,2021-07-13\r\n"
     ]
    }
   ],
   "source": [
    "# what if our data had no header?\n",
    "with open('./data/read_csv_noheader_example.csv','w') as f:\n",
    "    [f.write(line + '\\n') for i, line in enumerate(csv) if i != 0]\n",
    "    \n",
    "!cat ./data/read_csv_noheader_example.csv"
   ]
  },
  {
   "cell_type": "code",
   "execution_count": 46,
   "metadata": {},
   "outputs": [
    {
     "data": {
      "text/html": [
       "<div>\n",
       "<style scoped>\n",
       "    .dataframe tbody tr th:only-of-type {\n",
       "        vertical-align: middle;\n",
       "    }\n",
       "\n",
       "    .dataframe tbody tr th {\n",
       "        vertical-align: top;\n",
       "    }\n",
       "\n",
       "    .dataframe thead th {\n",
       "        text-align: right;\n",
       "    }\n",
       "</style>\n",
       "<table border=\"1\" class=\"dataframe\">\n",
       "  <thead>\n",
       "    <tr style=\"text-align: right;\">\n",
       "      <th></th>\n",
       "      <th>username</th>\n",
       "      <th>email</th>\n",
       "      <th>password</th>\n",
       "      <th>date-created</th>\n",
       "    </tr>\n",
       "  </thead>\n",
       "  <tbody>\n",
       "    <tr>\n",
       "      <th>0</th>\n",
       "      <td>alice36</td>\n",
       "      <td>alice.chan@gmail.com</td>\n",
       "      <td>L28yamuPbd2wTdko</td>\n",
       "      <td>2021-06-07</td>\n",
       "    </tr>\n",
       "    <tr>\n",
       "      <th>1</th>\n",
       "      <td>bob_smith</td>\n",
       "      <td>bwsmith1983@gmail.com</td>\n",
       "      <td>B6DW6bLl5f5wJDm1</td>\n",
       "      <td>2020-12-04</td>\n",
       "    </tr>\n",
       "    <tr>\n",
       "      <th>2</th>\n",
       "      <td>eve</td>\n",
       "      <td>fakemail123@yahoo.com</td>\n",
       "      <td>Y6ShbOnmb3W8gwjj</td>\n",
       "      <td>2021-07-13</td>\n",
       "    </tr>\n",
       "  </tbody>\n",
       "</table>\n",
       "</div>"
      ],
      "text/plain": [
       "    username                  email          password date-created\n",
       "0    alice36   alice.chan@gmail.com  L28yamuPbd2wTdko   2021-06-07\n",
       "1  bob_smith  bwsmith1983@gmail.com  B6DW6bLl5f5wJDm1   2020-12-04\n",
       "2        eve  fakemail123@yahoo.com  Y6ShbOnmb3W8gwjj   2021-07-13"
      ]
     },
     "execution_count": 46,
     "metadata": {},
     "output_type": "execute_result"
    }
   ],
   "source": [
    "pd.read_csv('./data/read_csv_noheader_example.csv', names=['username', 'email', 'password', 'date-created'], header=None)"
   ]
  },
  {
   "cell_type": "code",
   "execution_count": 47,
   "metadata": {},
   "outputs": [
    {
     "name": "stdout",
     "output_type": "stream",
     "text": [
      "username\temail\tpassword\tdate-created\r\n",
      "alice36\talice.chan@gmail.com\tL28yamuPbd2wTdko\t2021-06-07\r\n",
      "bob_smith\tbwsmith1983@gmail.com\tB6DW6bLl5f5wJDm1\t2020-12-04\r\n",
      "eve\tfakemail123@yahoo.com\tY6ShbOnmb3W8gwjj\t2021-07-13\r\n"
     ]
    }
   ],
   "source": [
    "# what if our data was tab-delimited?\n",
    "tsv = ['\\t'.join(map(lambda x: str(x), row)) for row in np.vstack([df.columns, df])]\n",
    "with open('./data/read_csv_example.tsv', 'w') as f:\n",
    "    [f.write(line + '\\n') for line in tsv]\n",
    "\n",
    "!cat ./data/read_csv_example.tsv"
   ]
  },
  {
   "cell_type": "code",
   "execution_count": 48,
   "metadata": {
    "scrolled": true
   },
   "outputs": [
    {
     "data": {
      "text/html": [
       "<div>\n",
       "<style scoped>\n",
       "    .dataframe tbody tr th:only-of-type {\n",
       "        vertical-align: middle;\n",
       "    }\n",
       "\n",
       "    .dataframe tbody tr th {\n",
       "        vertical-align: top;\n",
       "    }\n",
       "\n",
       "    .dataframe thead th {\n",
       "        text-align: right;\n",
       "    }\n",
       "</style>\n",
       "<table border=\"1\" class=\"dataframe\">\n",
       "  <thead>\n",
       "    <tr style=\"text-align: right;\">\n",
       "      <th></th>\n",
       "      <th>username</th>\n",
       "      <th>email</th>\n",
       "      <th>password</th>\n",
       "      <th>date-created</th>\n",
       "    </tr>\n",
       "  </thead>\n",
       "  <tbody>\n",
       "    <tr>\n",
       "      <th>0</th>\n",
       "      <td>alice36</td>\n",
       "      <td>alice.chan@gmail.com</td>\n",
       "      <td>L28yamuPbd2wTdko</td>\n",
       "      <td>2021-06-07</td>\n",
       "    </tr>\n",
       "    <tr>\n",
       "      <th>1</th>\n",
       "      <td>bob_smith</td>\n",
       "      <td>bwsmith1983@gmail.com</td>\n",
       "      <td>B6DW6bLl5f5wJDm1</td>\n",
       "      <td>2020-12-04</td>\n",
       "    </tr>\n",
       "    <tr>\n",
       "      <th>2</th>\n",
       "      <td>eve</td>\n",
       "      <td>fakemail123@yahoo.com</td>\n",
       "      <td>Y6ShbOnmb3W8gwjj</td>\n",
       "      <td>2021-07-13</td>\n",
       "    </tr>\n",
       "  </tbody>\n",
       "</table>\n",
       "</div>"
      ],
      "text/plain": [
       "    username                  email          password date-created\n",
       "0    alice36   alice.chan@gmail.com  L28yamuPbd2wTdko   2021-06-07\n",
       "1  bob_smith  bwsmith1983@gmail.com  B6DW6bLl5f5wJDm1   2020-12-04\n",
       "2        eve  fakemail123@yahoo.com  Y6ShbOnmb3W8gwjj   2021-07-13"
      ]
     },
     "execution_count": 48,
     "metadata": {},
     "output_type": "execute_result"
    }
   ],
   "source": [
    "pd.read_csv('./data/read_csv_example.tsv', delimiter='\\t')"
   ]
  },
  {
   "cell_type": "code",
   "execution_count": 49,
   "metadata": {},
   "outputs": [
    {
     "data": {
      "text/plain": [
       "'2020-12-04'"
      ]
     },
     "execution_count": 49,
     "metadata": {},
     "output_type": "execute_result"
    }
   ],
   "source": [
    "pd.read_csv('./data/read_csv_example.tsv', delimiter='\\t')['date-created'][1]"
   ]
  },
  {
   "cell_type": "code",
   "execution_count": 50,
   "metadata": {},
   "outputs": [
    {
     "data": {
      "text/plain": [
       "Timestamp('2020-12-04 00:00:00')"
      ]
     },
     "execution_count": 50,
     "metadata": {},
     "output_type": "execute_result"
    }
   ],
   "source": [
    "pd.read_csv('./data/read_csv_example.tsv', delimiter='\\t', parse_dates=['date-created'])['date-created'][1]"
   ]
  },
  {
   "cell_type": "code",
   "execution_count": 51,
   "metadata": {},
   "outputs": [
    {
     "data": {
      "text/plain": [
       "'1.1.3'"
      ]
     },
     "execution_count": 51,
     "metadata": {},
     "output_type": "execute_result"
    }
   ],
   "source": [
    "pd.__version__"
   ]
  },
  {
   "cell_type": "code",
   "execution_count": 7,
   "metadata": {},
   "outputs": [],
   "source": [
    "with open('data/yelp.json', 'r') as f:\n",
    "    foo = pd.read_json(f, orient='records', lines=True)"
   ]
  },
  {
   "cell_type": "code",
   "execution_count": 53,
   "metadata": {},
   "outputs": [
    {
     "name": "stdout",
     "output_type": "stream",
     "text": [
      "gzip: data/yelp.json.gz: No such file or directory\r\n"
     ]
    }
   ],
   "source": [
    "!gunzip data/yelp.json.gz"
   ]
  },
  {
   "cell_type": "code",
   "execution_count": 54,
   "metadata": {
    "scrolled": false
   },
   "outputs": [
    {
     "name": "stdout",
     "output_type": "stream",
     "text": [
      "data/yelp.json\r\n"
     ]
    }
   ],
   "source": [
    "!ls data/yelp.json"
   ]
  },
  {
   "cell_type": "code",
   "execution_count": 55,
   "metadata": {},
   "outputs": [
    {
     "name": "stdout",
     "output_type": "stream",
     "text": [
      "bad_csv.csv\t\t   PEP_2016_PEPANNRES.csv\r\n",
      "cia_factbook.csv\t   pickle_example.json\r\n",
      "cia_factbook.csv.1\t   pickle_example.pkl\r\n",
      "csv_sample.txt\t\t   pickle_example.txt\r\n",
      "customers.csv\t\t   products.csv\r\n",
      "eog_djvu_scrambled.txt.gz  read_csv_example.csv\r\n",
      "eog_djvu.txt\t\t   read_csv_example.tsv\r\n",
      "eog_djvu.txt.1\t\t   read_csv_noheader_example.csv\r\n",
      "eog_djvu.txt.gz\t\t   sample_array.npy\r\n",
      "example_df.json\t\t   sample_array.txt\r\n",
      "fail.txt\t\t   sample.txt\r\n",
      "library.json\t\t   short_text.txt\r\n",
      "my_data.txt\t\t   short_text.txt.gz\r\n",
      "orders.csv\t\t   yelp.json\r\n",
      "pd_write.csv\r\n"
     ]
    }
   ],
   "source": [
    "!ls data"
   ]
  },
  {
   "cell_type": "code",
   "execution_count": 56,
   "metadata": {},
   "outputs": [],
   "source": [
    "import pandas as pd"
   ]
  },
  {
   "cell_type": "code",
   "execution_count": 9,
   "metadata": {},
   "outputs": [
    {
     "data": {
      "text/html": [
       "<div>\n",
       "<style scoped>\n",
       "    .dataframe tbody tr th:only-of-type {\n",
       "        vertical-align: middle;\n",
       "    }\n",
       "\n",
       "    .dataframe tbody tr th {\n",
       "        vertical-align: top;\n",
       "    }\n",
       "\n",
       "    .dataframe thead th {\n",
       "        text-align: right;\n",
       "    }\n",
       "</style>\n",
       "<table border=\"1\" class=\"dataframe\">\n",
       "  <thead>\n",
       "    <tr style=\"text-align: right;\">\n",
       "      <th></th>\n",
       "      <th>business_id</th>\n",
       "      <th>full_address</th>\n",
       "      <th>hours</th>\n",
       "      <th>open</th>\n",
       "      <th>categories</th>\n",
       "      <th>city</th>\n",
       "      <th>review_count</th>\n",
       "      <th>name</th>\n",
       "      <th>neighborhoods</th>\n",
       "      <th>longitude</th>\n",
       "      <th>state</th>\n",
       "      <th>stars</th>\n",
       "      <th>latitude</th>\n",
       "      <th>attributes</th>\n",
       "      <th>type</th>\n",
       "    </tr>\n",
       "  </thead>\n",
       "  <tbody>\n",
       "    <tr>\n",
       "      <th>0</th>\n",
       "      <td>vcNAWiLM4dR7D2nwwJ7nCA</td>\n",
       "      <td>4840 E Indian School Rd\\nSte 101\\nPhoenix, AZ ...</td>\n",
       "      <td>{'Tuesday': {'close': '17:00', 'open': '08:00'...</td>\n",
       "      <td>True</td>\n",
       "      <td>[Doctors, Health &amp; Medical]</td>\n",
       "      <td>Phoenix</td>\n",
       "      <td>7</td>\n",
       "      <td>Eric Goldberg, MD</td>\n",
       "      <td>[]</td>\n",
       "      <td>-111.983758</td>\n",
       "      <td>AZ</td>\n",
       "      <td>3.5</td>\n",
       "      <td>33.499313</td>\n",
       "      <td>{'By Appointment Only': True}</td>\n",
       "      <td>business</td>\n",
       "    </tr>\n",
       "    <tr>\n",
       "      <th>1</th>\n",
       "      <td>JwUE5GmEO-sH1FuwJgKBlQ</td>\n",
       "      <td>6162 US Highway 51\\nDe Forest, WI 53532</td>\n",
       "      <td>{}</td>\n",
       "      <td>True</td>\n",
       "      <td>[Restaurants]</td>\n",
       "      <td>De Forest</td>\n",
       "      <td>26</td>\n",
       "      <td>Pine Cone Restaurant</td>\n",
       "      <td>[]</td>\n",
       "      <td>-89.335844</td>\n",
       "      <td>WI</td>\n",
       "      <td>4.0</td>\n",
       "      <td>43.238893</td>\n",
       "      <td>{'Take-out': True, 'Good For': {'dessert': Fal...</td>\n",
       "      <td>business</td>\n",
       "    </tr>\n",
       "    <tr>\n",
       "      <th>2</th>\n",
       "      <td>uGykseHzyS5xAMWoN6YUqA</td>\n",
       "      <td>505 W North St\\nDe Forest, WI 53532</td>\n",
       "      <td>{'Monday': {'close': '22:00', 'open': '06:00'}...</td>\n",
       "      <td>True</td>\n",
       "      <td>[American (Traditional), Restaurants]</td>\n",
       "      <td>De Forest</td>\n",
       "      <td>16</td>\n",
       "      <td>Deforest Family Restaurant</td>\n",
       "      <td>[]</td>\n",
       "      <td>-89.353437</td>\n",
       "      <td>WI</td>\n",
       "      <td>4.0</td>\n",
       "      <td>43.252267</td>\n",
       "      <td>{'Take-out': True, 'Good For': {'dessert': Fal...</td>\n",
       "      <td>business</td>\n",
       "    </tr>\n",
       "    <tr>\n",
       "      <th>3</th>\n",
       "      <td>LRKJF43s9-3jG9Lgx4zODg</td>\n",
       "      <td>4910 County Rd V\\nDe Forest, WI 53532</td>\n",
       "      <td>{'Monday': {'close': '22:00', 'open': '10:30'}...</td>\n",
       "      <td>True</td>\n",
       "      <td>[Food, Ice Cream &amp; Frozen Yogurt, Fast Food, R...</td>\n",
       "      <td>De Forest</td>\n",
       "      <td>7</td>\n",
       "      <td>Culver's</td>\n",
       "      <td>[]</td>\n",
       "      <td>-89.374983</td>\n",
       "      <td>WI</td>\n",
       "      <td>4.5</td>\n",
       "      <td>43.251045</td>\n",
       "      <td>{'Take-out': True, 'Wi-Fi': 'free', 'Takes Res...</td>\n",
       "      <td>business</td>\n",
       "    </tr>\n",
       "    <tr>\n",
       "      <th>4</th>\n",
       "      <td>RgDg-k9S5YD_BaxMckifkg</td>\n",
       "      <td>631 S Main St\\nDe Forest, WI 53532</td>\n",
       "      <td>{'Monday': {'close': '22:00', 'open': '11:00'}...</td>\n",
       "      <td>True</td>\n",
       "      <td>[Chinese, Restaurants]</td>\n",
       "      <td>De Forest</td>\n",
       "      <td>3</td>\n",
       "      <td>Chang Jiang Chinese Kitchen</td>\n",
       "      <td>[]</td>\n",
       "      <td>-89.343722</td>\n",
       "      <td>WI</td>\n",
       "      <td>4.0</td>\n",
       "      <td>43.240875</td>\n",
       "      <td>{'Take-out': True, 'Has TV': False, 'Outdoor S...</td>\n",
       "      <td>business</td>\n",
       "    </tr>\n",
       "    <tr>\n",
       "      <th>...</th>\n",
       "      <td>...</td>\n",
       "      <td>...</td>\n",
       "      <td>...</td>\n",
       "      <td>...</td>\n",
       "      <td>...</td>\n",
       "      <td>...</td>\n",
       "      <td>...</td>\n",
       "      <td>...</td>\n",
       "      <td>...</td>\n",
       "      <td>...</td>\n",
       "      <td>...</td>\n",
       "      <td>...</td>\n",
       "      <td>...</td>\n",
       "      <td>...</td>\n",
       "      <td>...</td>\n",
       "    </tr>\n",
       "    <tr>\n",
       "      <th>37933</th>\n",
       "      <td>iyKyJoDcbkGrMCgvyfMHxw</td>\n",
       "      <td>4340 W Thunderbird Rd\\nGlendale, AZ 85306</td>\n",
       "      <td>{'Monday': {'close': '02:00', 'open': '18:00'}...</td>\n",
       "      <td>True</td>\n",
       "      <td>[Bars, Hookah Bars, Nightlife, Lounges]</td>\n",
       "      <td>Glendale</td>\n",
       "      <td>4</td>\n",
       "      <td>The V Lounge</td>\n",
       "      <td>[]</td>\n",
       "      <td>-112.152529</td>\n",
       "      <td>AZ</td>\n",
       "      <td>5.0</td>\n",
       "      <td>33.610822</td>\n",
       "      <td>{'Alcohol': 'none', 'Good For Dancing': True, ...</td>\n",
       "      <td>business</td>\n",
       "    </tr>\n",
       "    <tr>\n",
       "      <th>37934</th>\n",
       "      <td>tsvWY4o64xiv7K0VA89R8A</td>\n",
       "      <td>1 E Main St\\nLower Level Suite 5\\nCapitol\\nMad...</td>\n",
       "      <td>{}</td>\n",
       "      <td>True</td>\n",
       "      <td>[Active Life, Barre Classes, Pilates, Fitness ...</td>\n",
       "      <td>Madison</td>\n",
       "      <td>3</td>\n",
       "      <td>Pilates Central</td>\n",
       "      <td>[Capitol]</td>\n",
       "      <td>-89.382842</td>\n",
       "      <td>WI</td>\n",
       "      <td>5.0</td>\n",
       "      <td>43.073871</td>\n",
       "      <td>{}</td>\n",
       "      <td>business</td>\n",
       "    </tr>\n",
       "    <tr>\n",
       "      <th>37935</th>\n",
       "      <td>nYer89hXYAoddMEKTxw7kA</td>\n",
       "      <td>FilmBar\\n815 N 2nd St\\nPhoenix, AZ 85004</td>\n",
       "      <td>{}</td>\n",
       "      <td>True</td>\n",
       "      <td>[Yelp Events, Local Flavor]</td>\n",
       "      <td>Phoenix</td>\n",
       "      <td>17</td>\n",
       "      <td>Yelp's Secret Cinema: Made In Arizona</td>\n",
       "      <td>[]</td>\n",
       "      <td>-112.071074</td>\n",
       "      <td>AZ</td>\n",
       "      <td>5.0</td>\n",
       "      <td>33.457106</td>\n",
       "      <td>{'Good for Kids': False}</td>\n",
       "      <td>business</td>\n",
       "    </tr>\n",
       "    <tr>\n",
       "      <th>37936</th>\n",
       "      <td>BMjggIgOghBMEXPo8q7q3w</td>\n",
       "      <td>6505 N 7th St\\nPhoenix, AZ 85014</td>\n",
       "      <td>{'Monday': {'close': '21:00', 'open': '11:00'}...</td>\n",
       "      <td>True</td>\n",
       "      <td>[Kosher, Italian, Pizza, Restaurants]</td>\n",
       "      <td>Phoenix</td>\n",
       "      <td>5</td>\n",
       "      <td>LaBella Pizzeria and Restaurant</td>\n",
       "      <td>[]</td>\n",
       "      <td>-112.064508</td>\n",
       "      <td>AZ</td>\n",
       "      <td>5.0</td>\n",
       "      <td>33.531310</td>\n",
       "      <td>{'Take-out': True, 'Wi-Fi': 'no', 'Good For': ...</td>\n",
       "      <td>business</td>\n",
       "    </tr>\n",
       "    <tr>\n",
       "      <th>37937</th>\n",
       "      <td>BVxlrYWgmi-8TPGMe6CTpg</td>\n",
       "      <td>125 Lauriston Pl\\nTollcross\\nEdinburgh EH3 9JN</td>\n",
       "      <td>{}</td>\n",
       "      <td>True</td>\n",
       "      <td>[Food, Ethnic Food, Grocery, Specialty Food]</td>\n",
       "      <td>Edinburgh</td>\n",
       "      <td>7</td>\n",
       "      <td>Oriental Supermarket</td>\n",
       "      <td>[Tollcross, Old Town]</td>\n",
       "      <td>-3.202529</td>\n",
       "      <td>EDH</td>\n",
       "      <td>3.5</td>\n",
       "      <td>55.944170</td>\n",
       "      <td>{'Parking': {'garage': False, 'street': False,...</td>\n",
       "      <td>business</td>\n",
       "    </tr>\n",
       "  </tbody>\n",
       "</table>\n",
       "<p>37938 rows × 15 columns</p>\n",
       "</div>"
      ],
      "text/plain": [
       "                  business_id  \\\n",
       "0      vcNAWiLM4dR7D2nwwJ7nCA   \n",
       "1      JwUE5GmEO-sH1FuwJgKBlQ   \n",
       "2      uGykseHzyS5xAMWoN6YUqA   \n",
       "3      LRKJF43s9-3jG9Lgx4zODg   \n",
       "4      RgDg-k9S5YD_BaxMckifkg   \n",
       "...                       ...   \n",
       "37933  iyKyJoDcbkGrMCgvyfMHxw   \n",
       "37934  tsvWY4o64xiv7K0VA89R8A   \n",
       "37935  nYer89hXYAoddMEKTxw7kA   \n",
       "37936  BMjggIgOghBMEXPo8q7q3w   \n",
       "37937  BVxlrYWgmi-8TPGMe6CTpg   \n",
       "\n",
       "                                            full_address  \\\n",
       "0      4840 E Indian School Rd\\nSte 101\\nPhoenix, AZ ...   \n",
       "1                6162 US Highway 51\\nDe Forest, WI 53532   \n",
       "2                    505 W North St\\nDe Forest, WI 53532   \n",
       "3                  4910 County Rd V\\nDe Forest, WI 53532   \n",
       "4                     631 S Main St\\nDe Forest, WI 53532   \n",
       "...                                                  ...   \n",
       "37933          4340 W Thunderbird Rd\\nGlendale, AZ 85306   \n",
       "37934  1 E Main St\\nLower Level Suite 5\\nCapitol\\nMad...   \n",
       "37935           FilmBar\\n815 N 2nd St\\nPhoenix, AZ 85004   \n",
       "37936                   6505 N 7th St\\nPhoenix, AZ 85014   \n",
       "37937     125 Lauriston Pl\\nTollcross\\nEdinburgh EH3 9JN   \n",
       "\n",
       "                                                   hours  open  \\\n",
       "0      {'Tuesday': {'close': '17:00', 'open': '08:00'...  True   \n",
       "1                                                     {}  True   \n",
       "2      {'Monday': {'close': '22:00', 'open': '06:00'}...  True   \n",
       "3      {'Monday': {'close': '22:00', 'open': '10:30'}...  True   \n",
       "4      {'Monday': {'close': '22:00', 'open': '11:00'}...  True   \n",
       "...                                                  ...   ...   \n",
       "37933  {'Monday': {'close': '02:00', 'open': '18:00'}...  True   \n",
       "37934                                                 {}  True   \n",
       "37935                                                 {}  True   \n",
       "37936  {'Monday': {'close': '21:00', 'open': '11:00'}...  True   \n",
       "37937                                                 {}  True   \n",
       "\n",
       "                                              categories       city  \\\n",
       "0                            [Doctors, Health & Medical]    Phoenix   \n",
       "1                                          [Restaurants]  De Forest   \n",
       "2                  [American (Traditional), Restaurants]  De Forest   \n",
       "3      [Food, Ice Cream & Frozen Yogurt, Fast Food, R...  De Forest   \n",
       "4                                 [Chinese, Restaurants]  De Forest   \n",
       "...                                                  ...        ...   \n",
       "37933            [Bars, Hookah Bars, Nightlife, Lounges]   Glendale   \n",
       "37934  [Active Life, Barre Classes, Pilates, Fitness ...    Madison   \n",
       "37935                        [Yelp Events, Local Flavor]    Phoenix   \n",
       "37936              [Kosher, Italian, Pizza, Restaurants]    Phoenix   \n",
       "37937       [Food, Ethnic Food, Grocery, Specialty Food]  Edinburgh   \n",
       "\n",
       "       review_count                                   name  \\\n",
       "0                 7                      Eric Goldberg, MD   \n",
       "1                26                   Pine Cone Restaurant   \n",
       "2                16             Deforest Family Restaurant   \n",
       "3                 7                               Culver's   \n",
       "4                 3            Chang Jiang Chinese Kitchen   \n",
       "...             ...                                    ...   \n",
       "37933             4                           The V Lounge   \n",
       "37934             3                        Pilates Central   \n",
       "37935            17  Yelp's Secret Cinema: Made In Arizona   \n",
       "37936             5        LaBella Pizzeria and Restaurant   \n",
       "37937             7                   Oriental Supermarket   \n",
       "\n",
       "               neighborhoods   longitude state  stars   latitude  \\\n",
       "0                         [] -111.983758    AZ    3.5  33.499313   \n",
       "1                         []  -89.335844    WI    4.0  43.238893   \n",
       "2                         []  -89.353437    WI    4.0  43.252267   \n",
       "3                         []  -89.374983    WI    4.5  43.251045   \n",
       "4                         []  -89.343722    WI    4.0  43.240875   \n",
       "...                      ...         ...   ...    ...        ...   \n",
       "37933                     [] -112.152529    AZ    5.0  33.610822   \n",
       "37934              [Capitol]  -89.382842    WI    5.0  43.073871   \n",
       "37935                     [] -112.071074    AZ    5.0  33.457106   \n",
       "37936                     [] -112.064508    AZ    5.0  33.531310   \n",
       "37937  [Tollcross, Old Town]   -3.202529   EDH    3.5  55.944170   \n",
       "\n",
       "                                              attributes      type  \n",
       "0                          {'By Appointment Only': True}  business  \n",
       "1      {'Take-out': True, 'Good For': {'dessert': Fal...  business  \n",
       "2      {'Take-out': True, 'Good For': {'dessert': Fal...  business  \n",
       "3      {'Take-out': True, 'Wi-Fi': 'free', 'Takes Res...  business  \n",
       "4      {'Take-out': True, 'Has TV': False, 'Outdoor S...  business  \n",
       "...                                                  ...       ...  \n",
       "37933  {'Alcohol': 'none', 'Good For Dancing': True, ...  business  \n",
       "37934                                                 {}  business  \n",
       "37935                           {'Good for Kids': False}  business  \n",
       "37936  {'Take-out': True, 'Wi-Fi': 'no', 'Good For': ...  business  \n",
       "37937  {'Parking': {'garage': False, 'street': False,...  business  \n",
       "\n",
       "[37938 rows x 15 columns]"
      ]
     },
     "execution_count": 9,
     "metadata": {},
     "output_type": "execute_result"
    }
   ],
   "source": [
    "pd.read_json('data/yelp.json', orient='records', lines=True)"
   ]
  },
  {
   "cell_type": "code",
   "execution_count": null,
   "metadata": {},
   "outputs": [],
   "source": [
    "print('dumb\\tass')"
   ]
  },
  {
   "cell_type": "code",
   "execution_count": null,
   "metadata": {},
   "outputs": [],
   "source": [
    "print('not\\ndumbass')"
   ]
  },
  {
   "cell_type": "markdown",
   "metadata": {},
   "source": [
    "Even within a single file format, data can be arranged and formatted in many ways. These have been just a few examples of the kinds of arguments you might need to use with `read_csv` in order to read data into a DataFrame in an organized way."
   ]
  },
  {
   "cell_type": "markdown",
   "metadata": {},
   "source": [
    "## Filtering DataFrames\n",
    "\n",
    "One of the powerful analytical tools of the Pandas DataFrame is its syntax for filtering data. Often we'll only want to work with a certain subset of our data based on some criteria. Let's look at our Yelp data for an example."
   ]
  },
  {
   "cell_type": "code",
   "execution_count": 12,
   "metadata": {},
   "outputs": [
    {
     "data": {
      "text/html": [
       "<div>\n",
       "<style scoped>\n",
       "    .dataframe tbody tr th:only-of-type {\n",
       "        vertical-align: middle;\n",
       "    }\n",
       "\n",
       "    .dataframe tbody tr th {\n",
       "        vertical-align: top;\n",
       "    }\n",
       "\n",
       "    .dataframe thead th {\n",
       "        text-align: right;\n",
       "    }\n",
       "</style>\n",
       "<table border=\"1\" class=\"dataframe\">\n",
       "  <thead>\n",
       "    <tr style=\"text-align: right;\">\n",
       "      <th></th>\n",
       "      <th>business_id</th>\n",
       "      <th>full_address</th>\n",
       "      <th>hours</th>\n",
       "      <th>open</th>\n",
       "      <th>categories</th>\n",
       "      <th>city</th>\n",
       "      <th>review_count</th>\n",
       "      <th>name</th>\n",
       "      <th>neighborhoods</th>\n",
       "      <th>longitude</th>\n",
       "      <th>state</th>\n",
       "      <th>stars</th>\n",
       "      <th>latitude</th>\n",
       "      <th>attributes</th>\n",
       "      <th>type</th>\n",
       "    </tr>\n",
       "  </thead>\n",
       "  <tbody>\n",
       "    <tr>\n",
       "      <th>0</th>\n",
       "      <td>vcNAWiLM4dR7D2nwwJ7nCA</td>\n",
       "      <td>4840 E Indian School Rd\\nSte 101\\nPhoenix, AZ ...</td>\n",
       "      <td>{'Tuesday': {'close': '17:00', 'open': '08:00'...</td>\n",
       "      <td>True</td>\n",
       "      <td>[Doctors, Health &amp; Medical]</td>\n",
       "      <td>Phoenix</td>\n",
       "      <td>7</td>\n",
       "      <td>Eric Goldberg, MD</td>\n",
       "      <td>[]</td>\n",
       "      <td>-111.983758</td>\n",
       "      <td>AZ</td>\n",
       "      <td>3.5</td>\n",
       "      <td>33.499313</td>\n",
       "      <td>{'By Appointment Only': True}</td>\n",
       "      <td>business</td>\n",
       "    </tr>\n",
       "    <tr>\n",
       "      <th>1</th>\n",
       "      <td>JwUE5GmEO-sH1FuwJgKBlQ</td>\n",
       "      <td>6162 US Highway 51\\nDe Forest, WI 53532</td>\n",
       "      <td>{}</td>\n",
       "      <td>True</td>\n",
       "      <td>[Restaurants]</td>\n",
       "      <td>De Forest</td>\n",
       "      <td>26</td>\n",
       "      <td>Pine Cone Restaurant</td>\n",
       "      <td>[]</td>\n",
       "      <td>-89.335844</td>\n",
       "      <td>WI</td>\n",
       "      <td>4.0</td>\n",
       "      <td>43.238893</td>\n",
       "      <td>{'Take-out': True, 'Good For': {'dessert': Fal...</td>\n",
       "      <td>business</td>\n",
       "    </tr>\n",
       "    <tr>\n",
       "      <th>2</th>\n",
       "      <td>uGykseHzyS5xAMWoN6YUqA</td>\n",
       "      <td>505 W North St\\nDe Forest, WI 53532</td>\n",
       "      <td>{'Monday': {'close': '22:00', 'open': '06:00'}...</td>\n",
       "      <td>True</td>\n",
       "      <td>[American (Traditional), Restaurants]</td>\n",
       "      <td>De Forest</td>\n",
       "      <td>16</td>\n",
       "      <td>Deforest Family Restaurant</td>\n",
       "      <td>[]</td>\n",
       "      <td>-89.353437</td>\n",
       "      <td>WI</td>\n",
       "      <td>4.0</td>\n",
       "      <td>43.252267</td>\n",
       "      <td>{'Take-out': True, 'Good For': {'dessert': Fal...</td>\n",
       "      <td>business</td>\n",
       "    </tr>\n",
       "    <tr>\n",
       "      <th>3</th>\n",
       "      <td>LRKJF43s9-3jG9Lgx4zODg</td>\n",
       "      <td>4910 County Rd V\\nDe Forest, WI 53532</td>\n",
       "      <td>{'Monday': {'close': '22:00', 'open': '10:30'}...</td>\n",
       "      <td>True</td>\n",
       "      <td>[Food, Ice Cream &amp; Frozen Yogurt, Fast Food, R...</td>\n",
       "      <td>De Forest</td>\n",
       "      <td>7</td>\n",
       "      <td>Culver's</td>\n",
       "      <td>[]</td>\n",
       "      <td>-89.374983</td>\n",
       "      <td>WI</td>\n",
       "      <td>4.5</td>\n",
       "      <td>43.251045</td>\n",
       "      <td>{'Take-out': True, 'Wi-Fi': 'free', 'Takes Res...</td>\n",
       "      <td>business</td>\n",
       "    </tr>\n",
       "    <tr>\n",
       "      <th>4</th>\n",
       "      <td>RgDg-k9S5YD_BaxMckifkg</td>\n",
       "      <td>631 S Main St\\nDe Forest, WI 53532</td>\n",
       "      <td>{'Monday': {'close': '22:00', 'open': '11:00'}...</td>\n",
       "      <td>True</td>\n",
       "      <td>[Chinese, Restaurants]</td>\n",
       "      <td>De Forest</td>\n",
       "      <td>3</td>\n",
       "      <td>Chang Jiang Chinese Kitchen</td>\n",
       "      <td>[]</td>\n",
       "      <td>-89.343722</td>\n",
       "      <td>WI</td>\n",
       "      <td>4.0</td>\n",
       "      <td>43.240875</td>\n",
       "      <td>{'Take-out': True, 'Has TV': False, 'Outdoor S...</td>\n",
       "      <td>business</td>\n",
       "    </tr>\n",
       "  </tbody>\n",
       "</table>\n",
       "</div>"
      ],
      "text/plain": [
       "              business_id                                       full_address  \\\n",
       "0  vcNAWiLM4dR7D2nwwJ7nCA  4840 E Indian School Rd\\nSte 101\\nPhoenix, AZ ...   \n",
       "1  JwUE5GmEO-sH1FuwJgKBlQ            6162 US Highway 51\\nDe Forest, WI 53532   \n",
       "2  uGykseHzyS5xAMWoN6YUqA                505 W North St\\nDe Forest, WI 53532   \n",
       "3  LRKJF43s9-3jG9Lgx4zODg              4910 County Rd V\\nDe Forest, WI 53532   \n",
       "4  RgDg-k9S5YD_BaxMckifkg                 631 S Main St\\nDe Forest, WI 53532   \n",
       "\n",
       "                                               hours  open  \\\n",
       "0  {'Tuesday': {'close': '17:00', 'open': '08:00'...  True   \n",
       "1                                                 {}  True   \n",
       "2  {'Monday': {'close': '22:00', 'open': '06:00'}...  True   \n",
       "3  {'Monday': {'close': '22:00', 'open': '10:30'}...  True   \n",
       "4  {'Monday': {'close': '22:00', 'open': '11:00'}...  True   \n",
       "\n",
       "                                          categories       city  review_count  \\\n",
       "0                        [Doctors, Health & Medical]    Phoenix             7   \n",
       "1                                      [Restaurants]  De Forest            26   \n",
       "2              [American (Traditional), Restaurants]  De Forest            16   \n",
       "3  [Food, Ice Cream & Frozen Yogurt, Fast Food, R...  De Forest             7   \n",
       "4                             [Chinese, Restaurants]  De Forest             3   \n",
       "\n",
       "                          name neighborhoods   longitude state  stars  \\\n",
       "0            Eric Goldberg, MD            [] -111.983758    AZ    3.5   \n",
       "1         Pine Cone Restaurant            []  -89.335844    WI    4.0   \n",
       "2   Deforest Family Restaurant            []  -89.353437    WI    4.0   \n",
       "3                     Culver's            []  -89.374983    WI    4.5   \n",
       "4  Chang Jiang Chinese Kitchen            []  -89.343722    WI    4.0   \n",
       "\n",
       "    latitude                                         attributes      type  \n",
       "0  33.499313                      {'By Appointment Only': True}  business  \n",
       "1  43.238893  {'Take-out': True, 'Good For': {'dessert': Fal...  business  \n",
       "2  43.252267  {'Take-out': True, 'Good For': {'dessert': Fal...  business  \n",
       "3  43.251045  {'Take-out': True, 'Wi-Fi': 'free', 'Takes Res...  business  \n",
       "4  43.240875  {'Take-out': True, 'Has TV': False, 'Outdoor S...  business  "
      ]
     },
     "execution_count": 12,
     "metadata": {},
     "output_type": "execute_result"
    }
   ],
   "source": [
    "yelp_df.head()"
   ]
  },
  {
   "cell_type": "markdown",
   "metadata": {},
   "source": [
    "We see the Yelp data set has a `'state'` column. If we are only interested in businesses in Arizona (AZ), we can filter the DataFrame and select only that data."
   ]
  },
  {
   "cell_type": "code",
   "execution_count": null,
   "metadata": {},
   "outputs": [],
   "source": [
    "az_yelp_df = yelp_df[yelp_df['state'] == 'AZ']\n",
    "az_yelp_df.head()"
   ]
  },
  {
   "cell_type": "code",
   "execution_count": null,
   "metadata": {},
   "outputs": [],
   "source": [
    "az_yelp_df['state'].unique()"
   ]
  },
  {
   "cell_type": "code",
   "execution_count": null,
   "metadata": {},
   "outputs": [],
   "source": [
    "rc = yelp_df[yelp_df['review_count'] > 10]\n",
    "rc.head()"
   ]
  },
  {
   "cell_type": "markdown",
   "metadata": {},
   "source": [
    "We can combine criteria using logic. What if we're only interested in businesses with more than 10 reviews in Arizona?"
   ]
  },
  {
   "cell_type": "code",
   "execution_count": null,
   "metadata": {
    "scrolled": true
   },
   "outputs": [],
   "source": [
    "yelp_df[(yelp_df['state'] == 'AZ') & (yelp_df['review_count'] > 10)].head()"
   ]
  },
  {
   "cell_type": "markdown",
   "metadata": {},
   "source": [
    "How does this filtering work?\n",
    "\n",
    "When we write `yelp_df['state'] == 'AZ'`, Pandas selects the `'state'` column and checks whether each row is `'AZ'`. If so, that row is marked `True`, and if not, it is marked `False`. This is how we would normally expect a conditional to work, only now applied to an entire Pandas `Series`. We end up with a Pandas `Series` of Boolean variables."
   ]
  },
  {
   "cell_type": "code",
   "execution_count": null,
   "metadata": {},
   "outputs": [],
   "source": [
    "(yelp_df['state'] == 'AZ').head()"
   ]
  },
  {
   "cell_type": "markdown",
   "metadata": {},
   "source": [
    "We can use a `Series` (or any similar object) of Boolean variables to index the DataFrame."
   ]
  },
  {
   "cell_type": "code",
   "execution_count": null,
   "metadata": {},
   "outputs": [],
   "source": [
    "df"
   ]
  },
  {
   "cell_type": "code",
   "execution_count": null,
   "metadata": {},
   "outputs": [],
   "source": [
    "df[[True, False, True]]"
   ]
  },
  {
   "cell_type": "markdown",
   "metadata": {},
   "source": [
    "This let's us filter a DataFrame using idiomatic logical expressions like `yelp_df['review_count'] > 10`.\n",
    "\n",
    "As another example, let's consider the `'open'` column, which is a `True`/`False` flag for whether a business is open. This is also a Boolean Pandas `Series`, so we can just use it directly."
   ]
  },
  {
   "cell_type": "code",
   "execution_count": null,
   "metadata": {},
   "outputs": [],
   "source": [
    "# the open businesses\n",
    "yelp_df[yelp_df['open']].head()"
   ]
  },
  {
   "cell_type": "code",
   "execution_count": null,
   "metadata": {},
   "outputs": [],
   "source": [
    "# the closed businesses\n",
    "yelp_df[~yelp_df['open']].head()"
   ]
  },
  {
   "cell_type": "markdown",
   "metadata": {},
   "source": [
    "Notice in an earlier expression we wrote `(yelp_df['state'] == 'AZ') & (yelp_df['review_count'] > 10)`. Normally in Python we use the word `and` when we are working with logic. In Pandas we have to use _bit-wise_ logical operators; all that's important to know is the following equivalencies:\n",
    "\n",
    "`~` = `not`  \n",
    "`&` = `and`  \n",
    "`|` = `or`  \n",
    "\n",
    "We can also use Panda's built-in [string operations](https://pandas.pydata.org/pandas-docs/stable/text.html) for doing pattern matching. For example, there are a lot of businesses in Las Vegas in our data set. However, there are also businesses in 'Las Vegas East' and 'South Las Vegas'. To get all of the Las Vegas businesses I might do the following."
   ]
  },
  {
   "cell_type": "code",
   "execution_count": null,
   "metadata": {},
   "outputs": [],
   "source": [
    "vegas_yelp_df = yelp_df[yelp_df['city'].str.contains('Vegas')]\n",
    "vegas_yelp_df.head()"
   ]
  },
  {
   "cell_type": "code",
   "execution_count": null,
   "metadata": {},
   "outputs": [],
   "source": [
    "vegas_yelp_df['city'].unique()"
   ]
  },
  {
   "cell_type": "code",
   "execution_count": null,
   "metadata": {},
   "outputs": [],
   "source": [
    "yelp_df['city'] = yelp_df['city'].replace(['Las Vegas', 'North Las Vegas', 'N Las Vegas', 'N. Las Vegas', 'C Las Vegas', 'Las Vegas ', 'Las Vegas, NV 89147', 'Las Vegas East', 'North Las Vegas ', 'N E Las Vegas', 'N W Las Vegas', 'Lake Las Vegas', 'South Las Vegas'], 'Las Vegas')"
   ]
  },
  {
   "cell_type": "code",
   "execution_count": null,
   "metadata": {},
   "outputs": [],
   "source": [
    "vegas = yelp_df[yelp_df['city'].str.contains('Vegas')]\n",
    "vegas['city'].unique()"
   ]
  },
  {
   "cell_type": "markdown",
   "metadata": {},
   "source": [
    "## Applying functions and data aggregation\n",
    "\n",
    "To analyze the data in the dataframe, we'll need to be able to apply functions to it. Pandas has many mathematical functions built in already, and DataFrames and Series can be passed to NumPy functions (since they behave like NumPy arrays)."
   ]
  },
  {
   "cell_type": "code",
   "execution_count": null,
   "metadata": {},
   "outputs": [],
   "source": [
    "log_review_count = np.log(yelp_df['review_count'])\n",
    "print(log_review_count.head())\n",
    "print(log_review_count.shape)"
   ]
  },
  {
   "cell_type": "code",
   "execution_count": null,
   "metadata": {},
   "outputs": [],
   "source": [
    "mean_review_count = yelp_df['review_count'].mean()\n",
    "print(mean_review_count)"
   ]
  },
  {
   "cell_type": "code",
   "execution_count": null,
   "metadata": {},
   "outputs": [],
   "source": [
    "yelp_df.columns"
   ]
  },
  {
   "cell_type": "code",
   "execution_count": null,
   "metadata": {},
   "outputs": [],
   "source": [
    "yelp_df.describe()"
   ]
  },
  {
   "cell_type": "markdown",
   "metadata": {},
   "source": [
    "In the first example we took the _logarithm_ of the review count for each business. In the second case, we calculated the mean review count of all businesses. In the first case, we ended up with a number for each business. We _transformed_ the review counts using the logarithm. In the second case, we _summarized_ the review counts of all the businesses in one number. This summary is a form of _data aggregation_, in which we take many data points and combine them into some smaller representation. The functions we apply to our data sets will either be in the category of **transformations** or **aggregations**.\n",
    "\n",
    "Sometimes we will need to transform our data in order for it to be usable. For instance, in the `'attributes'` column of our DataFrame, we have a `dict` for each business listing all of its properties. If I wanted to find a restaurant that offers delivery service, it would be difficult for me to filter the DataFrame, even though that information is in the `'attributes'` column. First, I need to transform the `dict` into something more useful."
   ]
  },
  {
   "cell_type": "code",
   "execution_count": null,
   "metadata": {},
   "outputs": [],
   "source": [
    "def get_delivery_attr(attr_dict):\n",
    "    return attr_dict.get('Delivery')"
   ]
  },
  {
   "cell_type": "code",
   "execution_count": null,
   "metadata": {},
   "outputs": [],
   "source": [
    "def is_restaurant(categories_list):\n",
    "    return 'Restaurants' in categories_list"
   ]
  },
  {
   "cell_type": "code",
   "execution_count": null,
   "metadata": {},
   "outputs": [],
   "source": [
    "print(is_restaurant(yelp_df.loc[1, 'categories']))"
   ]
  },
  {
   "cell_type": "markdown",
   "metadata": {},
   "source": [
    "If we give this function a `dict` from the `'attributes'` column, it will look for the `'Delivery'` key. If it finds that key, it returns the value. If it doesn't find the key, it will return none."
   ]
  },
  {
   "cell_type": "code",
   "execution_count": null,
   "metadata": {},
   "outputs": [],
   "source": [
    "print(get_delivery_attr(yelp_df.loc[0, 'attributes']))\n",
    "print(get_delivery_attr(yelp_df.loc[1, 'attributes']))\n",
    "print(get_delivery_attr(yelp_df.loc[2, 'attributes']))"
   ]
  },
  {
   "cell_type": "markdown",
   "metadata": {},
   "source": [
    "We could iterate over the rows of `yelp_df['attributes']` to get all of the values, but there is a better way. DataFrames and Series have an `apply` method that allows us to apply our function to the entire data set at once, like we did earlier with `np.log`."
   ]
  },
  {
   "cell_type": "code",
   "execution_count": null,
   "metadata": {},
   "outputs": [],
   "source": [
    "delivery_attrs = [get_delivery_attr(row) for row in yelp_df['attributes']]\n",
    "delivery_attrs[:10]"
   ]
  },
  {
   "cell_type": "code",
   "execution_count": null,
   "metadata": {},
   "outputs": [],
   "source": [
    "restaurant_category = [is_restaurant(row) for row in yelp_df['categories']]\n",
    "restaurant_category[:10]"
   ]
  },
  {
   "cell_type": "code",
   "execution_count": null,
   "metadata": {},
   "outputs": [],
   "source": [
    "restaurant_category_pdseries = pd.Series([is_restaurant(row) for row in yelp_df['categories']])\n",
    "restaurant_category_pdseries[:5]"
   ]
  },
  {
   "cell_type": "code",
   "execution_count": null,
   "metadata": {},
   "outputs": [],
   "source": [
    "delivery_attrs_pdseries = pd.Series([get_delivery_attr(row) for row in yelp_df['attributes']],\n",
    "                                    index = yelp_df['attributes'].index)\n",
    "delivery_attrs_pdseries.head()"
   ]
  },
  {
   "cell_type": "code",
   "execution_count": null,
   "metadata": {},
   "outputs": [],
   "source": [
    "delivery_attr = yelp_df['attributes'].apply(get_delivery_attr)\n",
    "delivery_attr.head()"
   ]
  },
  {
   "cell_type": "code",
   "execution_count": null,
   "metadata": {},
   "outputs": [],
   "source": [
    "restaurant_categoryy = yelp_df['categories'].apply(is_restaurant)\n",
    "restaurant_categoryy.head()"
   ]
  },
  {
   "cell_type": "markdown",
   "metadata": {},
   "source": [
    "We can make a new column in our DataFrame with this transformed (and useful) information."
   ]
  },
  {
   "cell_type": "code",
   "execution_count": null,
   "metadata": {},
   "outputs": [],
   "source": [
    "yelp_df['delivery'] = delivery_attr"
   ]
  },
  {
   "cell_type": "code",
   "execution_count": null,
   "metadata": {},
   "outputs": [],
   "source": [
    "yelp_df.head()"
   ]
  },
  {
   "cell_type": "code",
   "execution_count": null,
   "metadata": {},
   "outputs": [],
   "source": [
    "# to find businesses that deliver\n",
    "yelp_df[yelp_df['delivery'].fillna(False)].head()"
   ]
  },
  {
   "cell_type": "code",
   "execution_count": null,
   "metadata": {},
   "outputs": [],
   "source": [
    "yelp_df[yelp_df['categories'].apply(is_restaurant)]['delivery'].fillna(False).mean()"
   ]
  },
  {
   "cell_type": "code",
   "execution_count": null,
   "metadata": {},
   "outputs": [],
   "source": [
    "#alternatively we can use lambda to replace anonimously(single use and then garbage-collected) the def function\n",
    "yelp_df[yelp_df['categories'].apply(lambda categories: 'Restaurants' in categories)]['delivery'].fillna(False).mean()"
   ]
  },
  {
   "cell_type": "markdown",
   "metadata": {},
   "source": [
    "It's less common (though possible) to use `apply` on an entire DataFrame rather than just one column. Since a DataFrame might contain many types of data, we won't usually want to apply the same transformation or aggregation across all of the columns."
   ]
  },
  {
   "cell_type": "code",
   "execution_count": null,
   "metadata": {},
   "outputs": [],
   "source": [
    "yelp_df[yelp_df['']]"
   ]
  },
  {
   "cell_type": "markdown",
   "metadata": {},
   "source": [
    "## Data aggregation with `groupby`\n",
    "\n",
    "Data aggregation is an [_overloaded_](https://en.wikipedia.org/wiki/Function_overloading) term. It refers to both data summarization (as above) but also to the combining of different data sets.\n",
    "\n",
    "With our Yelp data, we might be interested in comparing the star ratings of businesses in different cities. We could calculate the mean star rating for each city, and this would allow us to easily compare them. First we would have to split up our data by city, calculate the mean for each city, and then combine it back at the end. This procedure is known as [split-apply-combine](https://pandas.pydata.org/pandas-docs/stable/groupby.html) and is a classic example of data aggregation (in the sense of both summarizing data and also combining different data sets).\n",
    "\n",
    "We achieve the splitting and recombining using the `groupby` method."
   ]
  },
  {
   "cell_type": "code",
   "execution_count": 13,
   "metadata": {},
   "outputs": [
    {
     "data": {
      "text/plain": [
       "3.651368537461985"
      ]
     },
     "execution_count": 13,
     "metadata": {},
     "output_type": "execute_result"
    }
   ],
   "source": [
    "stars_by_city = yelp_df.groupby('city')['stars'].mean()\n",
    "stars_by_city['Las Vegas']"
   ]
  },
  {
   "cell_type": "markdown",
   "metadata": {},
   "source": [
    "We can also apply multiple functions at once. It might be helpful to know the standard deviation of star ratings, the total number of reviews, and the count of businesses as well."
   ]
  },
  {
   "cell_type": "code",
   "execution_count": 14,
   "metadata": {},
   "outputs": [
    {
     "data": {
      "text/html": [
       "<div>\n",
       "<style scoped>\n",
       "    .dataframe tbody tr th:only-of-type {\n",
       "        vertical-align: middle;\n",
       "    }\n",
       "\n",
       "    .dataframe tbody tr th {\n",
       "        vertical-align: top;\n",
       "    }\n",
       "\n",
       "    .dataframe thead tr th {\n",
       "        text-align: left;\n",
       "    }\n",
       "\n",
       "    .dataframe thead tr:last-of-type th {\n",
       "        text-align: right;\n",
       "    }\n",
       "</style>\n",
       "<table border=\"1\" class=\"dataframe\">\n",
       "  <thead>\n",
       "    <tr>\n",
       "      <th></th>\n",
       "      <th colspan=\"2\" halign=\"left\">stars</th>\n",
       "      <th>review_count</th>\n",
       "      <th>business_id</th>\n",
       "    </tr>\n",
       "    <tr>\n",
       "      <th></th>\n",
       "      <th>mean</th>\n",
       "      <th>std</th>\n",
       "      <th>sum</th>\n",
       "      <th>count</th>\n",
       "    </tr>\n",
       "    <tr>\n",
       "      <th>city</th>\n",
       "      <th></th>\n",
       "      <th></th>\n",
       "      <th></th>\n",
       "      <th></th>\n",
       "    </tr>\n",
       "  </thead>\n",
       "  <tbody>\n",
       "    <tr>\n",
       "      <th>Ahwatukee</th>\n",
       "      <td>3.687500</td>\n",
       "      <td>1.066955</td>\n",
       "      <td>258</td>\n",
       "      <td>8</td>\n",
       "    </tr>\n",
       "    <tr>\n",
       "      <th>Anthem</th>\n",
       "      <td>3.781818</td>\n",
       "      <td>0.756231</td>\n",
       "      <td>727</td>\n",
       "      <td>55</td>\n",
       "    </tr>\n",
       "    <tr>\n",
       "      <th>Apache Junction</th>\n",
       "      <td>3.637500</td>\n",
       "      <td>1.028010</td>\n",
       "      <td>853</td>\n",
       "      <td>80</td>\n",
       "    </tr>\n",
       "    <tr>\n",
       "      <th>Arcadia</th>\n",
       "      <td>5.000000</td>\n",
       "      <td>NaN</td>\n",
       "      <td>4</td>\n",
       "      <td>1</td>\n",
       "    </tr>\n",
       "    <tr>\n",
       "      <th>Atlanta</th>\n",
       "      <td>3.500000</td>\n",
       "      <td>NaN</td>\n",
       "      <td>16</td>\n",
       "      <td>1</td>\n",
       "    </tr>\n",
       "  </tbody>\n",
       "</table>\n",
       "</div>"
      ],
      "text/plain": [
       "                    stars           review_count business_id\n",
       "                     mean       std          sum       count\n",
       "city                                                        \n",
       "Ahwatukee        3.687500  1.066955          258           8\n",
       "Anthem           3.781818  0.756231          727          55\n",
       "Apache Junction  3.637500  1.028010          853          80\n",
       "Arcadia          5.000000       NaN            4           1\n",
       "Atlanta          3.500000       NaN           16           1"
      ]
     },
     "execution_count": 14,
     "metadata": {},
     "output_type": "execute_result"
    }
   ],
   "source": [
    "agg_by_city = yelp_df.groupby('city').agg({'stars': ['mean', 'std'], 'review_count': 'sum', 'business_id': 'count'})\n",
    "agg_by_city.head()"
   ]
  },
  {
   "cell_type": "code",
   "execution_count": 15,
   "metadata": {},
   "outputs": [
    {
     "data": {
      "text/html": [
       "<div>\n",
       "<style scoped>\n",
       "    .dataframe tbody tr th:only-of-type {\n",
       "        vertical-align: middle;\n",
       "    }\n",
       "\n",
       "    .dataframe tbody tr th {\n",
       "        vertical-align: top;\n",
       "    }\n",
       "\n",
       "    .dataframe thead th {\n",
       "        text-align: right;\n",
       "    }\n",
       "</style>\n",
       "<table border=\"1\" class=\"dataframe\">\n",
       "  <thead>\n",
       "    <tr style=\"text-align: right;\">\n",
       "      <th></th>\n",
       "      <th>stars_mean</th>\n",
       "      <th>stars_std</th>\n",
       "      <th>review_count_sum</th>\n",
       "      <th>business_id_count</th>\n",
       "    </tr>\n",
       "    <tr>\n",
       "      <th>city</th>\n",
       "      <th></th>\n",
       "      <th></th>\n",
       "      <th></th>\n",
       "      <th></th>\n",
       "    </tr>\n",
       "  </thead>\n",
       "  <tbody>\n",
       "    <tr>\n",
       "      <th>Ahwatukee</th>\n",
       "      <td>3.687500</td>\n",
       "      <td>1.066955</td>\n",
       "      <td>258</td>\n",
       "      <td>8</td>\n",
       "    </tr>\n",
       "    <tr>\n",
       "      <th>Anthem</th>\n",
       "      <td>3.781818</td>\n",
       "      <td>0.756231</td>\n",
       "      <td>727</td>\n",
       "      <td>55</td>\n",
       "    </tr>\n",
       "    <tr>\n",
       "      <th>Apache Junction</th>\n",
       "      <td>3.637500</td>\n",
       "      <td>1.028010</td>\n",
       "      <td>853</td>\n",
       "      <td>80</td>\n",
       "    </tr>\n",
       "    <tr>\n",
       "      <th>Arcadia</th>\n",
       "      <td>5.000000</td>\n",
       "      <td>NaN</td>\n",
       "      <td>4</td>\n",
       "      <td>1</td>\n",
       "    </tr>\n",
       "    <tr>\n",
       "      <th>Atlanta</th>\n",
       "      <td>3.500000</td>\n",
       "      <td>NaN</td>\n",
       "      <td>16</td>\n",
       "      <td>1</td>\n",
       "    </tr>\n",
       "  </tbody>\n",
       "</table>\n",
       "</div>"
      ],
      "text/plain": [
       "                 stars_mean  stars_std  review_count_sum  business_id_count\n",
       "city                                                                       \n",
       "Ahwatukee          3.687500   1.066955               258                  8\n",
       "Anthem             3.781818   0.756231               727                 55\n",
       "Apache Junction    3.637500   1.028010               853                 80\n",
       "Arcadia            5.000000        NaN                 4                  1\n",
       "Atlanta            3.500000        NaN                16                  1"
      ]
     },
     "execution_count": 15,
     "metadata": {},
     "output_type": "execute_result"
    }
   ],
   "source": [
    "# unstacking the columns\n",
    "new_columns = map(lambda x: '_'.join(x),\n",
    "                  zip(agg_by_city.columns.get_level_values(0),\n",
    "                      agg_by_city.columns.get_level_values(1)))\n",
    "agg_by_city.columns = new_columns\n",
    "agg_by_city.head()"
   ]
  },
  {
   "cell_type": "markdown",
   "metadata": {},
   "source": [
    "How does this work? What does `groupby` do? Let's start by inspecting the result of `groupby`."
   ]
  },
  {
   "cell_type": "code",
   "execution_count": 16,
   "metadata": {},
   "outputs": [
    {
     "data": {
      "text/plain": [
       "<pandas.core.groupby.generic.DataFrameGroupBy object at 0x7ff436a33460>"
      ]
     },
     "execution_count": 16,
     "metadata": {},
     "output_type": "execute_result"
    }
   ],
   "source": [
    "by_city = yelp_df.groupby('city')\n",
    "by_city"
   ]
  },
  {
   "cell_type": "code",
   "execution_count": null,
   "metadata": {},
   "outputs": [],
   "source": [
    "by_city[:4].mean()"
   ]
  },
  {
   "cell_type": "code",
   "execution_count": 17,
   "metadata": {},
   "outputs": [
    {
     "data": {
      "text/plain": [
       "['__annotations__',\n",
       " '__class__',\n",
       " '__class_getitem__',\n",
       " '__delattr__',\n",
       " '__dict__',\n",
       " '__dir__',\n",
       " '__doc__',\n",
       " '__eq__',\n",
       " '__format__',\n",
       " '__ge__',\n",
       " '__getattr__',\n",
       " '__getattribute__',\n",
       " '__getitem__',\n",
       " '__gt__',\n",
       " '__hash__',\n",
       " '__init__',\n",
       " '__init_subclass__',\n",
       " '__iter__',\n",
       " '__le__',\n",
       " '__len__',\n",
       " '__lt__',\n",
       " '__module__',\n",
       " '__ne__',\n",
       " '__new__',\n",
       " '__orig_bases__',\n",
       " '__parameters__',\n",
       " '__reduce__',\n",
       " '__reduce_ex__',\n",
       " '__repr__',\n",
       " '__setattr__',\n",
       " '__sizeof__',\n",
       " '__slots__',\n",
       " '__str__',\n",
       " '__subclasshook__',\n",
       " '__weakref__',\n",
       " '_accessors',\n",
       " '_agg_examples_doc',\n",
       " '_agg_general',\n",
       " '_aggregate',\n",
       " '_aggregate_frame',\n",
       " '_aggregate_item_by_item',\n",
       " '_aggregate_multiple_funcs',\n",
       " '_apply_allowlist',\n",
       " '_apply_filter',\n",
       " '_apply_to_column_groupbys',\n",
       " '_assure_grouper',\n",
       " '_bool_agg',\n",
       " '_builtin_table',\n",
       " '_choose_path',\n",
       " '_concat_objects',\n",
       " '_constructor',\n",
       " '_cumcount_array',\n",
       " '_cython_agg_blocks',\n",
       " '_cython_agg_general',\n",
       " '_cython_table',\n",
       " '_cython_transform',\n",
       " '_define_paths',\n",
       " '_deprecations',\n",
       " '_dir_additions',\n",
       " '_dir_deletions',\n",
       " '_fill',\n",
       " '_get_cython_func',\n",
       " '_get_cythonized_result',\n",
       " '_get_data_to_aggregate',\n",
       " '_get_index',\n",
       " '_get_indices',\n",
       " '_gotitem',\n",
       " '_group_selection',\n",
       " '_insert_inaxis_grouper_inplace',\n",
       " '_internal_names',\n",
       " '_internal_names_set',\n",
       " '_is_builtin_func',\n",
       " '_is_protocol',\n",
       " '_iterate_column_groupbys',\n",
       " '_iterate_slices',\n",
       " '_make_wrapper',\n",
       " '_obj_1d_constructor',\n",
       " '_obj_with_exclusions',\n",
       " '_python_agg_general',\n",
       " '_python_apply_general',\n",
       " '_reindex_output',\n",
       " '_reset_cache',\n",
       " '_reset_group_selection',\n",
       " '_selected_obj',\n",
       " '_selection',\n",
       " '_selection_list',\n",
       " '_selection_name',\n",
       " '_set_group_selection',\n",
       " '_set_result_index_ordered',\n",
       " '_transform_fast',\n",
       " '_transform_general',\n",
       " '_transform_item_by_item',\n",
       " '_transform_should_cast',\n",
       " '_try_aggregate_string_function',\n",
       " '_wrap_agged_blocks',\n",
       " '_wrap_aggregated_output',\n",
       " '_wrap_applied_output',\n",
       " '_wrap_frame_output',\n",
       " '_wrap_transformed_output',\n",
       " 'agg',\n",
       " 'aggregate',\n",
       " 'all',\n",
       " 'any',\n",
       " 'apply',\n",
       " 'attributes',\n",
       " 'backfill',\n",
       " 'bfill',\n",
       " 'boxplot',\n",
       " 'business_id',\n",
       " 'categories',\n",
       " 'city',\n",
       " 'corr',\n",
       " 'corrwith',\n",
       " 'count',\n",
       " 'cov',\n",
       " 'cumcount',\n",
       " 'cummax',\n",
       " 'cummin',\n",
       " 'cumprod',\n",
       " 'cumsum',\n",
       " 'describe',\n",
       " 'diff',\n",
       " 'dtypes',\n",
       " 'expanding',\n",
       " 'ffill',\n",
       " 'fillna',\n",
       " 'filter',\n",
       " 'first',\n",
       " 'full_address',\n",
       " 'get_group',\n",
       " 'groups',\n",
       " 'head',\n",
       " 'hist',\n",
       " 'hours',\n",
       " 'idxmax',\n",
       " 'idxmin',\n",
       " 'indices',\n",
       " 'last',\n",
       " 'latitude',\n",
       " 'longitude',\n",
       " 'mad',\n",
       " 'max',\n",
       " 'mean',\n",
       " 'median',\n",
       " 'min',\n",
       " 'name',\n",
       " 'ndim',\n",
       " 'neighborhoods',\n",
       " 'ngroup',\n",
       " 'ngroups',\n",
       " 'nth',\n",
       " 'nunique',\n",
       " 'ohlc',\n",
       " 'open',\n",
       " 'pad',\n",
       " 'pct_change',\n",
       " 'pipe',\n",
       " 'plot',\n",
       " 'prod',\n",
       " 'quantile',\n",
       " 'rank',\n",
       " 'resample',\n",
       " 'review_count',\n",
       " 'rolling',\n",
       " 'sample',\n",
       " 'sem',\n",
       " 'shift',\n",
       " 'size',\n",
       " 'skew',\n",
       " 'stars',\n",
       " 'state',\n",
       " 'std',\n",
       " 'sum',\n",
       " 'tail',\n",
       " 'take',\n",
       " 'transform',\n",
       " 'tshift',\n",
       " 'type',\n",
       " 'var']"
      ]
     },
     "execution_count": 17,
     "metadata": {},
     "output_type": "execute_result"
    }
   ],
   "source": [
    "dir(by_city)"
   ]
  },
  {
   "cell_type": "code",
   "execution_count": 18,
   "metadata": {},
   "outputs": [
    {
     "name": "stdout",
     "output_type": "stream",
     "text": [
      "<class 'pandas.io.formats.printing.PrettyDict'>\n"
     ]
    },
    {
     "data": {
      "text/plain": [
       "[('Ahwatukee',\n",
       "  Int64Index([1718, 1740, 13572, 17787, 20361, 22856, 28608, 30499], dtype='int64')),\n",
       " ('Anthem',\n",
       "  Int64Index([ 1946,  1948,  1949,  1950,  1951,  1952,  1953,  1954,  1955,\n",
       "               1956,  1957,  1958,  1961,  1962, 11455, 12008, 12572, 12870,\n",
       "              13007, 13069, 13286, 13500, 13636, 13703, 13744, 13827, 13935,\n",
       "              15483, 15581, 15756, 19358, 21295, 21303, 21327, 22354, 22428,\n",
       "              22654, 22782, 23215, 24937, 25026, 26116, 26300, 26331, 26841,\n",
       "              26937, 30039, 30170, 31565, 32525, 33027, 33492, 33983, 34663,\n",
       "              35433],\n",
       "             dtype='int64')),\n",
       " ('Apache Junction',\n",
       "  Int64Index([ 2392,  2393,  2394,  2395,  2396,  2397,  2398,  2399,  2400,\n",
       "               2401,  2402,  2403,  2404,  2406,  2407,  2408,  2409,  2410,\n",
       "               2412,  2413,  2414,  2415,  2417,  2418,  2419,  7305,  7524,\n",
       "               7525,  7528,  7529,  7530,  7531,  7532,  7533,  7534, 10813,\n",
       "              11315, 11660, 12662, 12858, 12893, 13021, 13107, 13367, 13534,\n",
       "              13871, 15645, 17769, 19447, 19682, 19695, 20030, 20977, 21940,\n",
       "              22571, 22750, 22884, 23175, 23226, 23429, 25839, 26064, 26169,\n",
       "              26582, 27131, 27594, 27901, 28112, 28124, 29329, 30062, 30753,\n",
       "              30810, 30850, 31841, 33347, 33378, 34415, 34558, 36436],\n",
       "             dtype='int64')),\n",
       " ('Arcadia', Int64Index([20625], dtype='int64')),\n",
       " ('Atlanta', Int64Index([16976], dtype='int64'))]"
      ]
     },
     "execution_count": 18,
     "metadata": {},
     "output_type": "execute_result"
    }
   ],
   "source": [
    "print(type(by_city.groups))\n",
    "list(by_city.groups.items())[:5]"
   ]
  },
  {
   "cell_type": "code",
   "execution_count": 19,
   "metadata": {},
   "outputs": [
    {
     "data": {
      "text/html": [
       "<div>\n",
       "<style scoped>\n",
       "    .dataframe tbody tr th:only-of-type {\n",
       "        vertical-align: middle;\n",
       "    }\n",
       "\n",
       "    .dataframe tbody tr th {\n",
       "        vertical-align: top;\n",
       "    }\n",
       "\n",
       "    .dataframe thead th {\n",
       "        text-align: right;\n",
       "    }\n",
       "</style>\n",
       "<table border=\"1\" class=\"dataframe\">\n",
       "  <thead>\n",
       "    <tr style=\"text-align: right;\">\n",
       "      <th></th>\n",
       "      <th>business_id</th>\n",
       "      <th>full_address</th>\n",
       "      <th>hours</th>\n",
       "      <th>open</th>\n",
       "      <th>categories</th>\n",
       "      <th>city</th>\n",
       "      <th>review_count</th>\n",
       "      <th>name</th>\n",
       "      <th>neighborhoods</th>\n",
       "      <th>longitude</th>\n",
       "      <th>state</th>\n",
       "      <th>stars</th>\n",
       "      <th>latitude</th>\n",
       "      <th>attributes</th>\n",
       "      <th>type</th>\n",
       "    </tr>\n",
       "  </thead>\n",
       "  <tbody>\n",
       "    <tr>\n",
       "      <th>1946</th>\n",
       "      <td>Y0Ife2OJPs5QSL-7dyMF5Q</td>\n",
       "      <td>4250 W Anthem Way\\nSte 375\\nAnthem, AZ 85086</td>\n",
       "      <td>{}</td>\n",
       "      <td>True</td>\n",
       "      <td>[Fashion, Shopping, Shoe Stores]</td>\n",
       "      <td>Anthem</td>\n",
       "      <td>8</td>\n",
       "      <td>Nike Factory Store</td>\n",
       "      <td>[]</td>\n",
       "      <td>-112.150162</td>\n",
       "      <td>AZ</td>\n",
       "      <td>4.0</td>\n",
       "      <td>33.874003</td>\n",
       "      <td>{'Parking': {'garage': False, 'street': False,...</td>\n",
       "      <td>business</td>\n",
       "    </tr>\n",
       "    <tr>\n",
       "      <th>1948</th>\n",
       "      <td>v1ocqAm5soWTNPttLQhSZw</td>\n",
       "      <td>3434 W Anthem Way\\nSte 118\\nAnthem, AZ 85086</td>\n",
       "      <td>{}</td>\n",
       "      <td>True</td>\n",
       "      <td>[Chinese, Restaurants]</td>\n",
       "      <td>Anthem</td>\n",
       "      <td>50</td>\n",
       "      <td>Shanghai Club</td>\n",
       "      <td>[]</td>\n",
       "      <td>-112.135305</td>\n",
       "      <td>AZ</td>\n",
       "      <td>3.5</td>\n",
       "      <td>33.864429</td>\n",
       "      <td>{'Take-out': True, 'Wi-Fi': 'no', 'Good For': ...</td>\n",
       "      <td>business</td>\n",
       "    </tr>\n",
       "    <tr>\n",
       "      <th>1949</th>\n",
       "      <td>HMDymN9TbFUln9AkqHMpVw</td>\n",
       "      <td>4250 W Anthem Way\\nAnthem, AZ 85086</td>\n",
       "      <td>{}</td>\n",
       "      <td>True</td>\n",
       "      <td>[Department Stores, Fashion, Shopping]</td>\n",
       "      <td>Anthem</td>\n",
       "      <td>3</td>\n",
       "      <td>Polo Ralph Lauren Factory Store</td>\n",
       "      <td>[]</td>\n",
       "      <td>-112.151046</td>\n",
       "      <td>AZ</td>\n",
       "      <td>3.0</td>\n",
       "      <td>33.875410</td>\n",
       "      <td>{'Parking': {'garage': False, 'street': False,...</td>\n",
       "      <td>business</td>\n",
       "    </tr>\n",
       "    <tr>\n",
       "      <th>1950</th>\n",
       "      <td>XJv7dUb5fMRaZAWVZjhtvw</td>\n",
       "      <td>4250 W Anthem Way\\nAnthem, AZ 85086</td>\n",
       "      <td>{}</td>\n",
       "      <td>True</td>\n",
       "      <td>[Shopping, Outlet Stores]</td>\n",
       "      <td>Anthem</td>\n",
       "      <td>64</td>\n",
       "      <td>Outlets At Anthem</td>\n",
       "      <td>[]</td>\n",
       "      <td>-112.149875</td>\n",
       "      <td>AZ</td>\n",
       "      <td>3.5</td>\n",
       "      <td>33.873311</td>\n",
       "      <td>{'Parking': {'garage': False, 'street': False,...</td>\n",
       "      <td>business</td>\n",
       "    </tr>\n",
       "    <tr>\n",
       "      <th>1951</th>\n",
       "      <td>xPDbCj9tfp5nnGzYzoCHwA</td>\n",
       "      <td>3655 W Anthem Way\\nSte C105\\nAnthem, AZ 85086</td>\n",
       "      <td>{}</td>\n",
       "      <td>True</td>\n",
       "      <td>[Sandwiches, Restaurants]</td>\n",
       "      <td>Anthem</td>\n",
       "      <td>6</td>\n",
       "      <td>Subway</td>\n",
       "      <td>[]</td>\n",
       "      <td>-112.138854</td>\n",
       "      <td>AZ</td>\n",
       "      <td>3.0</td>\n",
       "      <td>33.864913</td>\n",
       "      <td>{'Ambience': {'romantic': False, 'intimate': F...</td>\n",
       "      <td>business</td>\n",
       "    </tr>\n",
       "  </tbody>\n",
       "</table>\n",
       "</div>"
      ],
      "text/plain": [
       "                 business_id                                   full_address  \\\n",
       "1946  Y0Ife2OJPs5QSL-7dyMF5Q   4250 W Anthem Way\\nSte 375\\nAnthem, AZ 85086   \n",
       "1948  v1ocqAm5soWTNPttLQhSZw   3434 W Anthem Way\\nSte 118\\nAnthem, AZ 85086   \n",
       "1949  HMDymN9TbFUln9AkqHMpVw            4250 W Anthem Way\\nAnthem, AZ 85086   \n",
       "1950  XJv7dUb5fMRaZAWVZjhtvw            4250 W Anthem Way\\nAnthem, AZ 85086   \n",
       "1951  xPDbCj9tfp5nnGzYzoCHwA  3655 W Anthem Way\\nSte C105\\nAnthem, AZ 85086   \n",
       "\n",
       "     hours  open                              categories    city  \\\n",
       "1946    {}  True        [Fashion, Shopping, Shoe Stores]  Anthem   \n",
       "1948    {}  True                  [Chinese, Restaurants]  Anthem   \n",
       "1949    {}  True  [Department Stores, Fashion, Shopping]  Anthem   \n",
       "1950    {}  True               [Shopping, Outlet Stores]  Anthem   \n",
       "1951    {}  True               [Sandwiches, Restaurants]  Anthem   \n",
       "\n",
       "      review_count                             name neighborhoods   longitude  \\\n",
       "1946             8               Nike Factory Store            [] -112.150162   \n",
       "1948            50                    Shanghai Club            [] -112.135305   \n",
       "1949             3  Polo Ralph Lauren Factory Store            [] -112.151046   \n",
       "1950            64                Outlets At Anthem            [] -112.149875   \n",
       "1951             6                           Subway            [] -112.138854   \n",
       "\n",
       "     state  stars   latitude  \\\n",
       "1946    AZ    4.0  33.874003   \n",
       "1948    AZ    3.5  33.864429   \n",
       "1949    AZ    3.0  33.875410   \n",
       "1950    AZ    3.5  33.873311   \n",
       "1951    AZ    3.0  33.864913   \n",
       "\n",
       "                                             attributes      type  \n",
       "1946  {'Parking': {'garage': False, 'street': False,...  business  \n",
       "1948  {'Take-out': True, 'Wi-Fi': 'no', 'Good For': ...  business  \n",
       "1949  {'Parking': {'garage': False, 'street': False,...  business  \n",
       "1950  {'Parking': {'garage': False, 'street': False,...  business  \n",
       "1951  {'Ambience': {'romantic': False, 'intimate': F...  business  "
      ]
     },
     "execution_count": 19,
     "metadata": {},
     "output_type": "execute_result"
    }
   ],
   "source": [
    "by_city.get_group('Anthem').head()"
   ]
  },
  {
   "cell_type": "markdown",
   "metadata": {},
   "source": [
    "When we use `groupby` on a column, Pandas builds a `dict`, using the unique elements of the column as the keys and the index of the rows in each group as the values. This `dict` is stored in the `groups` attribute. Pandas can then use this `dict` to direct the application of aggregating functions over the different groups."
   ]
  },
  {
   "cell_type": "markdown",
   "metadata": {},
   "source": [
    "## Sorting\n",
    "\n",
    "Even though the DataFrame in many ways behaves similarly to a `dict`, it also is ordered. Therefore we can sort the data in it. Pandas provides two sorting methods, `sort_values` and `sort_index`."
   ]
  },
  {
   "cell_type": "code",
   "execution_count": 20,
   "metadata": {},
   "outputs": [
    {
     "data": {
      "text/html": [
       "<div>\n",
       "<style scoped>\n",
       "    .dataframe tbody tr th:only-of-type {\n",
       "        vertical-align: middle;\n",
       "    }\n",
       "\n",
       "    .dataframe tbody tr th {\n",
       "        vertical-align: top;\n",
       "    }\n",
       "\n",
       "    .dataframe thead th {\n",
       "        text-align: right;\n",
       "    }\n",
       "</style>\n",
       "<table border=\"1\" class=\"dataframe\">\n",
       "  <thead>\n",
       "    <tr style=\"text-align: right;\">\n",
       "      <th></th>\n",
       "      <th>business_id</th>\n",
       "      <th>full_address</th>\n",
       "      <th>hours</th>\n",
       "      <th>open</th>\n",
       "      <th>categories</th>\n",
       "      <th>city</th>\n",
       "      <th>review_count</th>\n",
       "      <th>name</th>\n",
       "      <th>neighborhoods</th>\n",
       "      <th>longitude</th>\n",
       "      <th>state</th>\n",
       "      <th>stars</th>\n",
       "      <th>latitude</th>\n",
       "      <th>attributes</th>\n",
       "      <th>type</th>\n",
       "    </tr>\n",
       "  </thead>\n",
       "  <tbody>\n",
       "    <tr>\n",
       "      <th>36220</th>\n",
       "      <td>2Q2tZ0yQo25cni0PT2j0Zw</td>\n",
       "      <td>6420 Spring Mountain Rd\\nChinatown\\nLas Vegas,...</td>\n",
       "      <td>{}</td>\n",
       "      <td>True</td>\n",
       "      <td>[Real Estate Services, Property Management, Ho...</td>\n",
       "      <td>Las Vegas</td>\n",
       "      <td>3</td>\n",
       "      <td>Total Real Eatate of Nevada</td>\n",
       "      <td>[Chinatown]</td>\n",
       "      <td>-115.232316</td>\n",
       "      <td>NV</td>\n",
       "      <td>1.0</td>\n",
       "      <td>36.125870</td>\n",
       "      <td>{}</td>\n",
       "      <td>business</td>\n",
       "    </tr>\n",
       "    <tr>\n",
       "      <th>27946</th>\n",
       "      <td>cHvL85QIV-L2-YlLOcwlCw</td>\n",
       "      <td>5235 S Kyrene Rd\\nSte 106\\nTempe, AZ 85283</td>\n",
       "      <td>{'Monday': {'close': '18:00', 'open': '10:00'}...</td>\n",
       "      <td>True</td>\n",
       "      <td>[Sporting Goods, Shopping, Golf Equipment, Out...</td>\n",
       "      <td>Tempe</td>\n",
       "      <td>3</td>\n",
       "      <td>Custom Golf Center</td>\n",
       "      <td>[]</td>\n",
       "      <td>-111.945955</td>\n",
       "      <td>AZ</td>\n",
       "      <td>1.0</td>\n",
       "      <td>33.376734</td>\n",
       "      <td>{}</td>\n",
       "      <td>business</td>\n",
       "    </tr>\n",
       "    <tr>\n",
       "      <th>36332</th>\n",
       "      <td>e23Sa3FCTaIOSZzJsT8sIQ</td>\n",
       "      <td>3949 N Drinkwater Blvd\\nScottsdale, AZ 85251</td>\n",
       "      <td>{}</td>\n",
       "      <td>True</td>\n",
       "      <td>[Professional Services, Internet Service Provi...</td>\n",
       "      <td>Scottsdale</td>\n",
       "      <td>3</td>\n",
       "      <td>Cox Cable</td>\n",
       "      <td>[]</td>\n",
       "      <td>-111.921620</td>\n",
       "      <td>AZ</td>\n",
       "      <td>1.0</td>\n",
       "      <td>33.493469</td>\n",
       "      <td>{}</td>\n",
       "      <td>business</td>\n",
       "    </tr>\n",
       "    <tr>\n",
       "      <th>7488</th>\n",
       "      <td>fZO5Fghc6Q07jU8EROzj6Q</td>\n",
       "      <td>2431 E Laurel St\\nMesa, AZ 85213</td>\n",
       "      <td>{}</td>\n",
       "      <td>True</td>\n",
       "      <td>[Home Services, Pool Cleaners]</td>\n",
       "      <td>Mesa</td>\n",
       "      <td>6</td>\n",
       "      <td>Foster's Pool Service &amp; Repair</td>\n",
       "      <td>[]</td>\n",
       "      <td>-111.778212</td>\n",
       "      <td>AZ</td>\n",
       "      <td>1.0</td>\n",
       "      <td>33.457833</td>\n",
       "      <td>{}</td>\n",
       "      <td>business</td>\n",
       "    </tr>\n",
       "    <tr>\n",
       "      <th>3370</th>\n",
       "      <td>JjdjS5n6ILh-d3GeTD6qkA</td>\n",
       "      <td>15820 N 84th St\\nSte 25\\nScottsdale, AZ 85260</td>\n",
       "      <td>{'Monday': {'close': '17:00', 'open': '09:00'}...</td>\n",
       "      <td>True</td>\n",
       "      <td>[Hotels &amp; Travel, Motorcycle Rental]</td>\n",
       "      <td>Scottsdale</td>\n",
       "      <td>3</td>\n",
       "      <td>Top Spoke Rentals</td>\n",
       "      <td>[]</td>\n",
       "      <td>-111.900187</td>\n",
       "      <td>AZ</td>\n",
       "      <td>1.0</td>\n",
       "      <td>33.629858</td>\n",
       "      <td>{}</td>\n",
       "      <td>business</td>\n",
       "    </tr>\n",
       "  </tbody>\n",
       "</table>\n",
       "</div>"
      ],
      "text/plain": [
       "                  business_id  \\\n",
       "36220  2Q2tZ0yQo25cni0PT2j0Zw   \n",
       "27946  cHvL85QIV-L2-YlLOcwlCw   \n",
       "36332  e23Sa3FCTaIOSZzJsT8sIQ   \n",
       "7488   fZO5Fghc6Q07jU8EROzj6Q   \n",
       "3370   JjdjS5n6ILh-d3GeTD6qkA   \n",
       "\n",
       "                                            full_address  \\\n",
       "36220  6420 Spring Mountain Rd\\nChinatown\\nLas Vegas,...   \n",
       "27946         5235 S Kyrene Rd\\nSte 106\\nTempe, AZ 85283   \n",
       "36332       3949 N Drinkwater Blvd\\nScottsdale, AZ 85251   \n",
       "7488                    2431 E Laurel St\\nMesa, AZ 85213   \n",
       "3370       15820 N 84th St\\nSte 25\\nScottsdale, AZ 85260   \n",
       "\n",
       "                                                   hours  open  \\\n",
       "36220                                                 {}  True   \n",
       "27946  {'Monday': {'close': '18:00', 'open': '10:00'}...  True   \n",
       "36332                                                 {}  True   \n",
       "7488                                                  {}  True   \n",
       "3370   {'Monday': {'close': '17:00', 'open': '09:00'}...  True   \n",
       "\n",
       "                                              categories        city  \\\n",
       "36220  [Real Estate Services, Property Management, Ho...   Las Vegas   \n",
       "27946  [Sporting Goods, Shopping, Golf Equipment, Out...       Tempe   \n",
       "36332  [Professional Services, Internet Service Provi...  Scottsdale   \n",
       "7488                      [Home Services, Pool Cleaners]        Mesa   \n",
       "3370                [Hotels & Travel, Motorcycle Rental]  Scottsdale   \n",
       "\n",
       "       review_count                            name neighborhoods   longitude  \\\n",
       "36220             3     Total Real Eatate of Nevada   [Chinatown] -115.232316   \n",
       "27946             3              Custom Golf Center            [] -111.945955   \n",
       "36332             3                       Cox Cable            [] -111.921620   \n",
       "7488              6  Foster's Pool Service & Repair            [] -111.778212   \n",
       "3370              3               Top Spoke Rentals            [] -111.900187   \n",
       "\n",
       "      state  stars   latitude attributes      type  \n",
       "36220    NV    1.0  36.125870         {}  business  \n",
       "27946    AZ    1.0  33.376734         {}  business  \n",
       "36332    AZ    1.0  33.493469         {}  business  \n",
       "7488     AZ    1.0  33.457833         {}  business  \n",
       "3370     AZ    1.0  33.629858         {}  business  "
      ]
     },
     "execution_count": 20,
     "metadata": {},
     "output_type": "execute_result"
    }
   ],
   "source": [
    "yelp_df.sort_values('stars').head()"
   ]
  },
  {
   "cell_type": "code",
   "execution_count": 21,
   "metadata": {},
   "outputs": [
    {
     "data": {
      "text/html": [
       "<div>\n",
       "<style scoped>\n",
       "    .dataframe tbody tr th:only-of-type {\n",
       "        vertical-align: middle;\n",
       "    }\n",
       "\n",
       "    .dataframe tbody tr th {\n",
       "        vertical-align: top;\n",
       "    }\n",
       "\n",
       "    .dataframe thead th {\n",
       "        text-align: right;\n",
       "    }\n",
       "</style>\n",
       "<table border=\"1\" class=\"dataframe\">\n",
       "  <thead>\n",
       "    <tr style=\"text-align: right;\">\n",
       "      <th></th>\n",
       "      <th>full_address</th>\n",
       "      <th>hours</th>\n",
       "      <th>open</th>\n",
       "      <th>categories</th>\n",
       "      <th>city</th>\n",
       "      <th>review_count</th>\n",
       "      <th>name</th>\n",
       "      <th>neighborhoods</th>\n",
       "      <th>longitude</th>\n",
       "      <th>state</th>\n",
       "      <th>stars</th>\n",
       "      <th>latitude</th>\n",
       "      <th>attributes</th>\n",
       "      <th>type</th>\n",
       "    </tr>\n",
       "    <tr>\n",
       "      <th>business_id</th>\n",
       "      <th></th>\n",
       "      <th></th>\n",
       "      <th></th>\n",
       "      <th></th>\n",
       "      <th></th>\n",
       "      <th></th>\n",
       "      <th></th>\n",
       "      <th></th>\n",
       "      <th></th>\n",
       "      <th></th>\n",
       "      <th></th>\n",
       "      <th></th>\n",
       "      <th></th>\n",
       "      <th></th>\n",
       "    </tr>\n",
       "  </thead>\n",
       "  <tbody>\n",
       "    <tr>\n",
       "      <th>--1emggGHgoG6ipd_RMb-g</th>\n",
       "      <td>3280 S Decatur Blvd\\nWestside\\nLas Vegas, NV 8...</td>\n",
       "      <td>{}</td>\n",
       "      <td>True</td>\n",
       "      <td>[Food, Convenience Stores]</td>\n",
       "      <td>Las Vegas</td>\n",
       "      <td>4</td>\n",
       "      <td>Sinclair</td>\n",
       "      <td>[Westside]</td>\n",
       "      <td>-115.207238</td>\n",
       "      <td>NV</td>\n",
       "      <td>4.0</td>\n",
       "      <td>36.130531</td>\n",
       "      <td>{'Parking': {'garage': False, 'street': False,...</td>\n",
       "      <td>business</td>\n",
       "    </tr>\n",
       "    <tr>\n",
       "      <th>--4Pe8BZ6gj57VFL5mUE8g</th>\n",
       "      <td>21001 North Tatum Blvd. #24\\nPhoenix, AZ 85050</td>\n",
       "      <td>{}</td>\n",
       "      <td>True</td>\n",
       "      <td>[Shopping, Office Equipment]</td>\n",
       "      <td>Phoenix</td>\n",
       "      <td>5</td>\n",
       "      <td>Office Max</td>\n",
       "      <td>[]</td>\n",
       "      <td>-111.974607</td>\n",
       "      <td>AZ</td>\n",
       "      <td>3.0</td>\n",
       "      <td>33.678615</td>\n",
       "      <td>{'Parking': {'garage': False, 'street': False,...</td>\n",
       "      <td>business</td>\n",
       "    </tr>\n",
       "    <tr>\n",
       "      <th>--5jkZ3-nUPZxUvtcbr8Uw</th>\n",
       "      <td>1336 N Scottsdale Rd\\nScottsdale, AZ 85257</td>\n",
       "      <td>{'Monday': {'close': '21:00', 'open': '11:00'}...</td>\n",
       "      <td>True</td>\n",
       "      <td>[Greek, Restaurants]</td>\n",
       "      <td>Scottsdale</td>\n",
       "      <td>42</td>\n",
       "      <td>Mika's Greek</td>\n",
       "      <td>[]</td>\n",
       "      <td>-111.926908</td>\n",
       "      <td>AZ</td>\n",
       "      <td>4.5</td>\n",
       "      <td>33.463373</td>\n",
       "      <td>{'Take-out': True, 'Wi-Fi': 'no', 'Good For': ...</td>\n",
       "      <td>business</td>\n",
       "    </tr>\n",
       "    <tr>\n",
       "      <th>--BlvDO_RG2yElKu9XA1_g</th>\n",
       "      <td>14870 N Northsight Blvd\\nSte 103\\nScottsdale, ...</td>\n",
       "      <td>{'Monday': {'close': '21:00', 'open': '10:30'}...</td>\n",
       "      <td>True</td>\n",
       "      <td>[Sushi Bars, Hawaiian, Chinese, Restaurants]</td>\n",
       "      <td>Scottsdale</td>\n",
       "      <td>65</td>\n",
       "      <td>Asian Island</td>\n",
       "      <td>[]</td>\n",
       "      <td>-111.897836</td>\n",
       "      <td>AZ</td>\n",
       "      <td>4.0</td>\n",
       "      <td>33.620568</td>\n",
       "      <td>{'Take-out': True, 'Wi-Fi': 'free', 'Good For'...</td>\n",
       "      <td>business</td>\n",
       "    </tr>\n",
       "    <tr>\n",
       "      <th>--Dl2rW_xO8GuYBomlg9zw</th>\n",
       "      <td>4505 S Maryland Pkwy\\nUniversity\\nLas Vegas, N...</td>\n",
       "      <td>{}</td>\n",
       "      <td>True</td>\n",
       "      <td>[Medical Centers, Health &amp; Medical]</td>\n",
       "      <td>Las Vegas</td>\n",
       "      <td>6</td>\n",
       "      <td>UNLV Student Health Center</td>\n",
       "      <td>[University]</td>\n",
       "      <td>-115.141514</td>\n",
       "      <td>NV</td>\n",
       "      <td>4.0</td>\n",
       "      <td>36.110940</td>\n",
       "      <td>{'By Appointment Only': True}</td>\n",
       "      <td>business</td>\n",
       "    </tr>\n",
       "  </tbody>\n",
       "</table>\n",
       "</div>"
      ],
      "text/plain": [
       "                                                             full_address  \\\n",
       "business_id                                                                 \n",
       "--1emggGHgoG6ipd_RMb-g  3280 S Decatur Blvd\\nWestside\\nLas Vegas, NV 8...   \n",
       "--4Pe8BZ6gj57VFL5mUE8g     21001 North Tatum Blvd. #24\\nPhoenix, AZ 85050   \n",
       "--5jkZ3-nUPZxUvtcbr8Uw         1336 N Scottsdale Rd\\nScottsdale, AZ 85257   \n",
       "--BlvDO_RG2yElKu9XA1_g  14870 N Northsight Blvd\\nSte 103\\nScottsdale, ...   \n",
       "--Dl2rW_xO8GuYBomlg9zw  4505 S Maryland Pkwy\\nUniversity\\nLas Vegas, N...   \n",
       "\n",
       "                                                                    hours  \\\n",
       "business_id                                                                 \n",
       "--1emggGHgoG6ipd_RMb-g                                                 {}   \n",
       "--4Pe8BZ6gj57VFL5mUE8g                                                 {}   \n",
       "--5jkZ3-nUPZxUvtcbr8Uw  {'Monday': {'close': '21:00', 'open': '11:00'}...   \n",
       "--BlvDO_RG2yElKu9XA1_g  {'Monday': {'close': '21:00', 'open': '10:30'}...   \n",
       "--Dl2rW_xO8GuYBomlg9zw                                                 {}   \n",
       "\n",
       "                        open                                    categories  \\\n",
       "business_id                                                                  \n",
       "--1emggGHgoG6ipd_RMb-g  True                    [Food, Convenience Stores]   \n",
       "--4Pe8BZ6gj57VFL5mUE8g  True                  [Shopping, Office Equipment]   \n",
       "--5jkZ3-nUPZxUvtcbr8Uw  True                          [Greek, Restaurants]   \n",
       "--BlvDO_RG2yElKu9XA1_g  True  [Sushi Bars, Hawaiian, Chinese, Restaurants]   \n",
       "--Dl2rW_xO8GuYBomlg9zw  True           [Medical Centers, Health & Medical]   \n",
       "\n",
       "                              city  review_count                        name  \\\n",
       "business_id                                                                    \n",
       "--1emggGHgoG6ipd_RMb-g   Las Vegas             4                    Sinclair   \n",
       "--4Pe8BZ6gj57VFL5mUE8g     Phoenix             5                  Office Max   \n",
       "--5jkZ3-nUPZxUvtcbr8Uw  Scottsdale            42                Mika's Greek   \n",
       "--BlvDO_RG2yElKu9XA1_g  Scottsdale            65                Asian Island   \n",
       "--Dl2rW_xO8GuYBomlg9zw   Las Vegas             6  UNLV Student Health Center   \n",
       "\n",
       "                       neighborhoods   longitude state  stars   latitude  \\\n",
       "business_id                                                                \n",
       "--1emggGHgoG6ipd_RMb-g    [Westside] -115.207238    NV    4.0  36.130531   \n",
       "--4Pe8BZ6gj57VFL5mUE8g            [] -111.974607    AZ    3.0  33.678615   \n",
       "--5jkZ3-nUPZxUvtcbr8Uw            [] -111.926908    AZ    4.5  33.463373   \n",
       "--BlvDO_RG2yElKu9XA1_g            [] -111.897836    AZ    4.0  33.620568   \n",
       "--Dl2rW_xO8GuYBomlg9zw  [University] -115.141514    NV    4.0  36.110940   \n",
       "\n",
       "                                                               attributes  \\\n",
       "business_id                                                                 \n",
       "--1emggGHgoG6ipd_RMb-g  {'Parking': {'garage': False, 'street': False,...   \n",
       "--4Pe8BZ6gj57VFL5mUE8g  {'Parking': {'garage': False, 'street': False,...   \n",
       "--5jkZ3-nUPZxUvtcbr8Uw  {'Take-out': True, 'Wi-Fi': 'no', 'Good For': ...   \n",
       "--BlvDO_RG2yElKu9XA1_g  {'Take-out': True, 'Wi-Fi': 'free', 'Good For'...   \n",
       "--Dl2rW_xO8GuYBomlg9zw                      {'By Appointment Only': True}   \n",
       "\n",
       "                            type  \n",
       "business_id                       \n",
       "--1emggGHgoG6ipd_RMb-g  business  \n",
       "--4Pe8BZ6gj57VFL5mUE8g  business  \n",
       "--5jkZ3-nUPZxUvtcbr8Uw  business  \n",
       "--BlvDO_RG2yElKu9XA1_g  business  \n",
       "--Dl2rW_xO8GuYBomlg9zw  business  "
      ]
     },
     "execution_count": 21,
     "metadata": {},
     "output_type": "execute_result"
    }
   ],
   "source": [
    "yelp_df.set_index('business_id').sort_index().head()"
   ]
  },
  {
   "cell_type": "code",
   "execution_count": 4,
   "metadata": {},
   "outputs": [
    {
     "data": {
      "text/plain": [
       "['T',\n",
       " '_AXIS_LEN',\n",
       " '_AXIS_NAMES',\n",
       " '_AXIS_NUMBERS',\n",
       " '_AXIS_ORDERS',\n",
       " '_AXIS_REVERSED',\n",
       " '_AXIS_TO_AXIS_NUMBER',\n",
       " '__abs__',\n",
       " '__add__',\n",
       " '__and__',\n",
       " '__annotations__',\n",
       " '__array__',\n",
       " '__array_priority__',\n",
       " '__array_wrap__',\n",
       " '__bool__',\n",
       " '__class__',\n",
       " '__contains__',\n",
       " '__copy__',\n",
       " '__deepcopy__',\n",
       " '__delattr__',\n",
       " '__delitem__',\n",
       " '__dict__',\n",
       " '__dir__',\n",
       " '__div__',\n",
       " '__doc__',\n",
       " '__eq__',\n",
       " '__finalize__',\n",
       " '__floordiv__',\n",
       " '__format__',\n",
       " '__ge__',\n",
       " '__getattr__',\n",
       " '__getattribute__',\n",
       " '__getitem__',\n",
       " '__getstate__',\n",
       " '__gt__',\n",
       " '__hash__',\n",
       " '__iadd__',\n",
       " '__iand__',\n",
       " '__ifloordiv__',\n",
       " '__imod__',\n",
       " '__imul__',\n",
       " '__init__',\n",
       " '__init_subclass__',\n",
       " '__invert__',\n",
       " '__ior__',\n",
       " '__ipow__',\n",
       " '__isub__',\n",
       " '__iter__',\n",
       " '__itruediv__',\n",
       " '__ixor__',\n",
       " '__le__',\n",
       " '__len__',\n",
       " '__lt__',\n",
       " '__matmul__',\n",
       " '__mod__',\n",
       " '__module__',\n",
       " '__mul__',\n",
       " '__ne__',\n",
       " '__neg__',\n",
       " '__new__',\n",
       " '__nonzero__',\n",
       " '__or__',\n",
       " '__pos__',\n",
       " '__pow__',\n",
       " '__radd__',\n",
       " '__rand__',\n",
       " '__rdiv__',\n",
       " '__reduce__',\n",
       " '__reduce_ex__',\n",
       " '__repr__',\n",
       " '__rfloordiv__',\n",
       " '__rmatmul__',\n",
       " '__rmod__',\n",
       " '__rmul__',\n",
       " '__ror__',\n",
       " '__round__',\n",
       " '__rpow__',\n",
       " '__rsub__',\n",
       " '__rtruediv__',\n",
       " '__rxor__',\n",
       " '__setattr__',\n",
       " '__setitem__',\n",
       " '__setstate__',\n",
       " '__sizeof__',\n",
       " '__str__',\n",
       " '__sub__',\n",
       " '__subclasshook__',\n",
       " '__truediv__',\n",
       " '__weakref__',\n",
       " '__xor__',\n",
       " '_accessors',\n",
       " '_add_numeric_operations',\n",
       " '_add_series_or_dataframe_operations',\n",
       " '_agg_by_level',\n",
       " '_agg_examples_doc',\n",
       " '_agg_summary_and_see_also_doc',\n",
       " '_aggregate',\n",
       " '_aggregate_multiple_funcs',\n",
       " '_align_frame',\n",
       " '_align_series',\n",
       " '_box_col_values',\n",
       " '_builtin_table',\n",
       " '_can_fast_transpose',\n",
       " '_check_inplace_setting',\n",
       " '_check_is_chained_assignment_possible',\n",
       " '_check_label_or_level_ambiguity',\n",
       " '_check_setitem_copy',\n",
       " '_clear_item_cache',\n",
       " '_clip_with_one_bound',\n",
       " '_clip_with_scalar',\n",
       " '_combine_frame',\n",
       " '_consolidate',\n",
       " '_consolidate_inplace',\n",
       " '_construct_axes_dict',\n",
       " '_construct_axes_from_arguments',\n",
       " '_construct_result',\n",
       " '_constructor',\n",
       " '_constructor_expanddim',\n",
       " '_constructor_sliced',\n",
       " '_convert',\n",
       " '_count_level',\n",
       " '_cython_table',\n",
       " '_data',\n",
       " '_deprecations',\n",
       " '_dir_additions',\n",
       " '_dir_deletions',\n",
       " '_drop_axis',\n",
       " '_drop_labels_or_levels',\n",
       " '_ensure_valid_index',\n",
       " '_find_valid_index',\n",
       " '_from_arrays',\n",
       " '_get_agg_axis',\n",
       " '_get_axis',\n",
       " '_get_axis_name',\n",
       " '_get_axis_number',\n",
       " '_get_axis_resolvers',\n",
       " '_get_block_manager_axis',\n",
       " '_get_bool_data',\n",
       " '_get_cacher',\n",
       " '_get_cleaned_column_resolvers',\n",
       " '_get_column_array',\n",
       " '_get_cython_func',\n",
       " '_get_index_resolvers',\n",
       " '_get_item_cache',\n",
       " '_get_label_or_level_values',\n",
       " '_get_numeric_data',\n",
       " '_get_value',\n",
       " '_getitem_bool_array',\n",
       " '_getitem_multilevel',\n",
       " '_gotitem',\n",
       " '_indexed_same',\n",
       " '_info_axis',\n",
       " '_info_axis_name',\n",
       " '_info_axis_number',\n",
       " '_info_repr',\n",
       " '_init_mgr',\n",
       " '_internal_names',\n",
       " '_internal_names_set',\n",
       " '_is_builtin_func',\n",
       " '_is_cached',\n",
       " '_is_copy',\n",
       " '_is_homogeneous_type',\n",
       " '_is_label_or_level_reference',\n",
       " '_is_label_reference',\n",
       " '_is_level_reference',\n",
       " '_is_mixed_type',\n",
       " '_is_view',\n",
       " '_iset_item',\n",
       " '_iter_column_arrays',\n",
       " '_ix',\n",
       " '_ixs',\n",
       " '_join_compat',\n",
       " '_maybe_cache_changed',\n",
       " '_maybe_update_cacher',\n",
       " '_metadata',\n",
       " '_needs_reindex_multi',\n",
       " '_obj_with_exclusions',\n",
       " '_protect_consolidate',\n",
       " '_reduce',\n",
       " '_reindex_axes',\n",
       " '_reindex_columns',\n",
       " '_reindex_index',\n",
       " '_reindex_multi',\n",
       " '_reindex_with_indexers',\n",
       " '_replace_columnwise',\n",
       " '_repr_data_resource_',\n",
       " '_repr_fits_horizontal_',\n",
       " '_repr_fits_vertical_',\n",
       " '_repr_html_',\n",
       " '_repr_latex_',\n",
       " '_reset_cache',\n",
       " '_reset_cacher',\n",
       " '_sanitize_column',\n",
       " '_selected_obj',\n",
       " '_selection',\n",
       " '_selection_list',\n",
       " '_selection_name',\n",
       " '_series',\n",
       " '_set_as_cached',\n",
       " '_set_axis',\n",
       " '_set_axis_name',\n",
       " '_set_is_copy',\n",
       " '_set_item',\n",
       " '_set_value',\n",
       " '_setitem_array',\n",
       " '_setitem_frame',\n",
       " '_setitem_slice',\n",
       " '_slice',\n",
       " '_stat_axis',\n",
       " '_stat_axis_name',\n",
       " '_stat_axis_number',\n",
       " '_take_with_is_copy',\n",
       " '_to_dict_of_blocks',\n",
       " '_try_aggregate_string_function',\n",
       " '_typ',\n",
       " '_update_inplace',\n",
       " '_validate_dtype',\n",
       " '_values',\n",
       " '_where',\n",
       " 'abs',\n",
       " 'add',\n",
       " 'add_prefix',\n",
       " 'add_suffix',\n",
       " 'agg',\n",
       " 'aggregate',\n",
       " 'align',\n",
       " 'all',\n",
       " 'any',\n",
       " 'append',\n",
       " 'apply',\n",
       " 'applymap',\n",
       " 'asfreq',\n",
       " 'asof',\n",
       " 'assign',\n",
       " 'astype',\n",
       " 'at',\n",
       " 'at_time',\n",
       " 'attributes',\n",
       " 'attrs',\n",
       " 'axes',\n",
       " 'backfill',\n",
       " 'between_time',\n",
       " 'bfill',\n",
       " 'bool',\n",
       " 'boxplot',\n",
       " 'business_id',\n",
       " 'categories',\n",
       " 'city',\n",
       " 'clip',\n",
       " 'columns',\n",
       " 'combine',\n",
       " 'combine_first',\n",
       " 'compare',\n",
       " 'convert_dtypes',\n",
       " 'copy',\n",
       " 'corr',\n",
       " 'corrwith',\n",
       " 'count',\n",
       " 'cov',\n",
       " 'cummax',\n",
       " 'cummin',\n",
       " 'cumprod',\n",
       " 'cumsum',\n",
       " 'describe',\n",
       " 'diff',\n",
       " 'div',\n",
       " 'divide',\n",
       " 'dot',\n",
       " 'drop',\n",
       " 'drop_duplicates',\n",
       " 'droplevel',\n",
       " 'dropna',\n",
       " 'dtypes',\n",
       " 'duplicated',\n",
       " 'empty',\n",
       " 'eq',\n",
       " 'equals',\n",
       " 'eval',\n",
       " 'ewm',\n",
       " 'expanding',\n",
       " 'explode',\n",
       " 'ffill',\n",
       " 'fillna',\n",
       " 'filter',\n",
       " 'first',\n",
       " 'first_valid_index',\n",
       " 'floordiv',\n",
       " 'from_dict',\n",
       " 'from_records',\n",
       " 'full_address',\n",
       " 'ge',\n",
       " 'get',\n",
       " 'groupby',\n",
       " 'gt',\n",
       " 'head',\n",
       " 'hist',\n",
       " 'hours',\n",
       " 'iat',\n",
       " 'idxmax',\n",
       " 'idxmin',\n",
       " 'iloc',\n",
       " 'index',\n",
       " 'infer_objects',\n",
       " 'info',\n",
       " 'insert',\n",
       " 'interpolate',\n",
       " 'isin',\n",
       " 'isna',\n",
       " 'isnull',\n",
       " 'items',\n",
       " 'iteritems',\n",
       " 'iterrows',\n",
       " 'itertuples',\n",
       " 'join',\n",
       " 'keys',\n",
       " 'kurt',\n",
       " 'kurtosis',\n",
       " 'last',\n",
       " 'last_valid_index',\n",
       " 'latitude',\n",
       " 'le',\n",
       " 'loc',\n",
       " 'longitude',\n",
       " 'lookup',\n",
       " 'lt',\n",
       " 'mad',\n",
       " 'mask',\n",
       " 'max',\n",
       " 'mean',\n",
       " 'median',\n",
       " 'melt',\n",
       " 'memory_usage',\n",
       " 'merge',\n",
       " 'min',\n",
       " 'mod',\n",
       " 'mode',\n",
       " 'mul',\n",
       " 'multiply',\n",
       " 'name',\n",
       " 'ndim',\n",
       " 'ne',\n",
       " 'neighborhoods',\n",
       " 'nlargest',\n",
       " 'notna',\n",
       " 'notnull',\n",
       " 'nsmallest',\n",
       " 'nunique',\n",
       " 'open',\n",
       " 'pad',\n",
       " 'pct_change',\n",
       " 'pipe',\n",
       " 'pivot',\n",
       " 'pivot_table',\n",
       " 'plot',\n",
       " 'pop',\n",
       " 'pow',\n",
       " 'prod',\n",
       " 'product',\n",
       " 'quantile',\n",
       " 'query',\n",
       " 'radd',\n",
       " 'rank',\n",
       " 'rdiv',\n",
       " 'reindex',\n",
       " 'reindex_like',\n",
       " 'rename',\n",
       " 'rename_axis',\n",
       " 'reorder_levels',\n",
       " 'replace',\n",
       " 'resample',\n",
       " 'reset_index',\n",
       " 'review_count',\n",
       " 'rfloordiv',\n",
       " 'rmod',\n",
       " 'rmul',\n",
       " 'rolling',\n",
       " 'round',\n",
       " 'rpow',\n",
       " 'rsub',\n",
       " 'rtruediv',\n",
       " 'sample',\n",
       " 'select_dtypes',\n",
       " 'sem',\n",
       " 'set_axis',\n",
       " 'set_index',\n",
       " 'shape',\n",
       " 'shift',\n",
       " 'size',\n",
       " 'skew',\n",
       " 'slice_shift',\n",
       " 'sort_index',\n",
       " 'sort_values',\n",
       " 'squeeze',\n",
       " 'stack',\n",
       " 'stars',\n",
       " 'state',\n",
       " 'std',\n",
       " 'style',\n",
       " 'sub',\n",
       " 'subtract',\n",
       " 'sum',\n",
       " 'swapaxes',\n",
       " 'swaplevel',\n",
       " 'tail',\n",
       " 'take',\n",
       " 'to_clipboard',\n",
       " 'to_csv',\n",
       " 'to_dict',\n",
       " 'to_excel',\n",
       " 'to_feather',\n",
       " 'to_gbq',\n",
       " 'to_hdf',\n",
       " 'to_html',\n",
       " 'to_json',\n",
       " 'to_latex',\n",
       " 'to_markdown',\n",
       " 'to_numpy',\n",
       " 'to_parquet',\n",
       " 'to_period',\n",
       " 'to_pickle',\n",
       " 'to_records',\n",
       " 'to_sql',\n",
       " 'to_stata',\n",
       " 'to_string',\n",
       " 'to_timestamp',\n",
       " 'to_xarray',\n",
       " 'transform',\n",
       " 'transpose',\n",
       " 'truediv',\n",
       " 'truncate',\n",
       " 'type',\n",
       " 'tz_convert',\n",
       " 'tz_localize',\n",
       " 'unstack',\n",
       " 'update',\n",
       " 'value_counts',\n",
       " 'values',\n",
       " 'var',\n",
       " 'where',\n",
       " 'xs']"
      ]
     },
     "execution_count": 4,
     "metadata": {},
     "output_type": "execute_result"
    }
   ],
   "source": [
    "dir(yelp_df)"
   ]
  },
  {
   "cell_type": "markdown",
   "metadata": {},
   "source": [
    "Don't forget that most Pandas operations return a copy of the DataFrame, and do not update the DataFrame in place (unless we tell it to)!"
   ]
  },
  {
   "cell_type": "markdown",
   "metadata": {},
   "source": [
    "## Joining data sets"
   ]
  },
  {
   "cell_type": "markdown",
   "metadata": {},
   "source": [
    "Often we will want to augment one data set with data from another. For instance, businesses in big cities probably get more reviews than those in small cities. It could be useful to scale the review counts by the city's population. To do that, we'll need to add population data to the Yelp data. We can get population data from the US census."
   ]
  },
  {
   "cell_type": "code",
   "execution_count": 22,
   "metadata": {},
   "outputs": [
    {
     "data": {
      "text/html": [
       "<div>\n",
       "<style scoped>\n",
       "    .dataframe tbody tr th:only-of-type {\n",
       "        vertical-align: middle;\n",
       "    }\n",
       "\n",
       "    .dataframe tbody tr th {\n",
       "        vertical-align: top;\n",
       "    }\n",
       "\n",
       "    .dataframe thead th {\n",
       "        text-align: right;\n",
       "    }\n",
       "</style>\n",
       "<table border=\"1\" class=\"dataframe\">\n",
       "  <thead>\n",
       "    <tr style=\"text-align: right;\">\n",
       "      <th></th>\n",
       "      <th>GEO.id</th>\n",
       "      <th>GEO.id2</th>\n",
       "      <th>GEO.display-label</th>\n",
       "      <th>rescen42010</th>\n",
       "      <th>resbase42010</th>\n",
       "      <th>respop72010</th>\n",
       "      <th>respop72011</th>\n",
       "      <th>respop72012</th>\n",
       "      <th>respop72013</th>\n",
       "      <th>respop72014</th>\n",
       "      <th>respop72015</th>\n",
       "      <th>respop72016</th>\n",
       "    </tr>\n",
       "  </thead>\n",
       "  <tbody>\n",
       "    <tr>\n",
       "      <th>0</th>\n",
       "      <td>0610000US0900104720</td>\n",
       "      <td>900104720</td>\n",
       "      <td>Bethel town, Fairfield County, Connecticut</td>\n",
       "      <td>18584.0</td>\n",
       "      <td>18584</td>\n",
       "      <td>18642</td>\n",
       "      <td>18942</td>\n",
       "      <td>19150</td>\n",
       "      <td>19267</td>\n",
       "      <td>19316</td>\n",
       "      <td>19463</td>\n",
       "      <td>19627</td>\n",
       "    </tr>\n",
       "    <tr>\n",
       "      <th>1</th>\n",
       "      <td>0610000US0900108070</td>\n",
       "      <td>900108070</td>\n",
       "      <td>Bridgeport town, Fairfield County, Connecticut</td>\n",
       "      <td>144229.0</td>\n",
       "      <td>144236</td>\n",
       "      <td>144912</td>\n",
       "      <td>146226</td>\n",
       "      <td>146962</td>\n",
       "      <td>147666</td>\n",
       "      <td>147560</td>\n",
       "      <td>147090</td>\n",
       "      <td>145936</td>\n",
       "    </tr>\n",
       "    <tr>\n",
       "      <th>2</th>\n",
       "      <td>0610000US0900108980</td>\n",
       "      <td>900108980</td>\n",
       "      <td>Brookfield town, Fairfield County, Connecticut</td>\n",
       "      <td>16452.0</td>\n",
       "      <td>16452</td>\n",
       "      <td>16483</td>\n",
       "      <td>16635</td>\n",
       "      <td>16785</td>\n",
       "      <td>16859</td>\n",
       "      <td>17016</td>\n",
       "      <td>17087</td>\n",
       "      <td>17098</td>\n",
       "    </tr>\n",
       "    <tr>\n",
       "      <th>3</th>\n",
       "      <td>0610000US0900118500</td>\n",
       "      <td>900118500</td>\n",
       "      <td>Danbury town, Fairfield County, Connecticut</td>\n",
       "      <td>80893.0</td>\n",
       "      <td>80903</td>\n",
       "      <td>81356</td>\n",
       "      <td>82182</td>\n",
       "      <td>82788</td>\n",
       "      <td>83678</td>\n",
       "      <td>83687</td>\n",
       "      <td>84236</td>\n",
       "      <td>84992</td>\n",
       "    </tr>\n",
       "    <tr>\n",
       "      <th>4</th>\n",
       "      <td>0610000US0900118850</td>\n",
       "      <td>900118850</td>\n",
       "      <td>Darien town, Fairfield County, Connecticut</td>\n",
       "      <td>20732.0</td>\n",
       "      <td>20732</td>\n",
       "      <td>20777</td>\n",
       "      <td>20975</td>\n",
       "      <td>21127</td>\n",
       "      <td>21342</td>\n",
       "      <td>21641</td>\n",
       "      <td>21718</td>\n",
       "      <td>21744</td>\n",
       "    </tr>\n",
       "  </tbody>\n",
       "</table>\n",
       "</div>"
      ],
      "text/plain": [
       "                GEO.id    GEO.id2  \\\n",
       "0  0610000US0900104720  900104720   \n",
       "1  0610000US0900108070  900108070   \n",
       "2  0610000US0900108980  900108980   \n",
       "3  0610000US0900118500  900118500   \n",
       "4  0610000US0900118850  900118850   \n",
       "\n",
       "                                GEO.display-label  rescen42010  resbase42010  \\\n",
       "0      Bethel town, Fairfield County, Connecticut      18584.0         18584   \n",
       "1  Bridgeport town, Fairfield County, Connecticut     144229.0        144236   \n",
       "2  Brookfield town, Fairfield County, Connecticut      16452.0         16452   \n",
       "3     Danbury town, Fairfield County, Connecticut      80893.0         80903   \n",
       "4      Darien town, Fairfield County, Connecticut      20732.0         20732   \n",
       "\n",
       "   respop72010  respop72011  respop72012  respop72013  respop72014  \\\n",
       "0        18642        18942        19150        19267        19316   \n",
       "1       144912       146226       146962       147666       147560   \n",
       "2        16483        16635        16785        16859        17016   \n",
       "3        81356        82182        82788        83678        83687   \n",
       "4        20777        20975        21127        21342        21641   \n",
       "\n",
       "   respop72015  respop72016  \n",
       "0        19463        19627  \n",
       "1       147090       145936  \n",
       "2        17087        17098  \n",
       "3        84236        84992  \n",
       "4        21718        21744  "
      ]
     },
     "execution_count": 22,
     "metadata": {},
     "output_type": "execute_result"
    }
   ],
   "source": [
    "census = pd.read_csv('./data/PEP_2016_PEPANNRES.csv', skiprows=[1])\n",
    "\n",
    "census.head()"
   ]
  },
  {
   "cell_type": "code",
   "execution_count": 23,
   "metadata": {},
   "outputs": [],
   "source": [
    "# construct city & state fields\n",
    "census['city'] = census['GEO.display-label'].apply(lambda x: x.split(', ')[0])\n",
    "census['state'] = census['GEO.display-label'].apply(lambda x: x.split(', ')[2])"
   ]
  },
  {
   "cell_type": "code",
   "execution_count": 24,
   "metadata": {},
   "outputs": [
    {
     "name": "stdout",
     "output_type": "stream",
     "text": [
      "['Connecticut' 'Illinois' 'Indiana' 'Kansas' 'Maine' 'Massachusetts'\n",
      " 'Michigan' 'Minnesota' 'Missouri' 'Nebraska' 'New Hampshire' 'New Jersey'\n",
      " 'New York' 'North Dakota' 'Ohio' 'Pennsylvania' 'Rhode Island'\n",
      " 'South Dakota' 'Vermont' 'Wisconsin']\n"
     ]
    }
   ],
   "source": [
    "# convert state names to abbreviations\n",
    "\n",
    "print(census['state'].unique())"
   ]
  },
  {
   "cell_type": "code",
   "execution_count": 25,
   "metadata": {},
   "outputs": [],
   "source": [
    "state_abbr = dict(zip(census['state'].unique(), ['CT', 'IL', 'IN', 'KS', 'ME', 'MA', 'MI', 'MN', 'MO', 'NE', 'NH', 'NJ', 'NY', 'ND', 'OH', 'PA', 'RI', 'SD', 'VT', 'WI']))"
   ]
  },
  {
   "cell_type": "code",
   "execution_count": 26,
   "metadata": {},
   "outputs": [],
   "source": [
    "census['state'] = census['state'].replace(state_abbr)"
   ]
  },
  {
   "cell_type": "code",
   "execution_count": 27,
   "metadata": {},
   "outputs": [],
   "source": [
    "# remove last word (e.g. 'city', 'town', township', 'borough', 'village') from city names\n",
    "\n",
    "census['city'] = census['city'].apply(lambda x: ' '.join(x.split(' ')[:-1]))"
   ]
  },
  {
   "cell_type": "code",
   "execution_count": 28,
   "metadata": {},
   "outputs": [
    {
     "data": {
      "text/html": [
       "<div>\n",
       "<style scoped>\n",
       "    .dataframe tbody tr th:only-of-type {\n",
       "        vertical-align: middle;\n",
       "    }\n",
       "\n",
       "    .dataframe tbody tr th {\n",
       "        vertical-align: top;\n",
       "    }\n",
       "\n",
       "    .dataframe thead th {\n",
       "        text-align: right;\n",
       "    }\n",
       "</style>\n",
       "<table border=\"1\" class=\"dataframe\">\n",
       "  <thead>\n",
       "    <tr style=\"text-align: right;\">\n",
       "      <th></th>\n",
       "      <th>business_id</th>\n",
       "      <th>full_address</th>\n",
       "      <th>hours</th>\n",
       "      <th>open</th>\n",
       "      <th>categories</th>\n",
       "      <th>city</th>\n",
       "      <th>review_count</th>\n",
       "      <th>name</th>\n",
       "      <th>neighborhoods</th>\n",
       "      <th>longitude</th>\n",
       "      <th>...</th>\n",
       "      <th>GEO.display-label</th>\n",
       "      <th>rescen42010</th>\n",
       "      <th>resbase42010</th>\n",
       "      <th>respop72010</th>\n",
       "      <th>respop72011</th>\n",
       "      <th>respop72012</th>\n",
       "      <th>respop72013</th>\n",
       "      <th>respop72014</th>\n",
       "      <th>respop72015</th>\n",
       "      <th>respop72016</th>\n",
       "    </tr>\n",
       "  </thead>\n",
       "  <tbody>\n",
       "    <tr>\n",
       "      <th>0</th>\n",
       "      <td>HxPpZSY6Q1eARuiahhra6A</td>\n",
       "      <td>6401 University Ave\\nMiddleton, WI 53562</td>\n",
       "      <td>{}</td>\n",
       "      <td>False</td>\n",
       "      <td>[Event Planning &amp; Services, Party &amp; Event Plan...</td>\n",
       "      <td>Middleton</td>\n",
       "      <td>5</td>\n",
       "      <td>Crandalls Carryout &amp; Catering</td>\n",
       "      <td>[]</td>\n",
       "      <td>-89.491800</td>\n",
       "      <td>...</td>\n",
       "      <td>Middleton city, Dane County, Wisconsin</td>\n",
       "      <td>17442.0</td>\n",
       "      <td>17558</td>\n",
       "      <td>17622</td>\n",
       "      <td>17903</td>\n",
       "      <td>18271</td>\n",
       "      <td>18522</td>\n",
       "      <td>18694</td>\n",
       "      <td>18955</td>\n",
       "      <td>19109</td>\n",
       "    </tr>\n",
       "    <tr>\n",
       "      <th>1</th>\n",
       "      <td>HxPpZSY6Q1eARuiahhra6A</td>\n",
       "      <td>6401 University Ave\\nMiddleton, WI 53562</td>\n",
       "      <td>{}</td>\n",
       "      <td>False</td>\n",
       "      <td>[Event Planning &amp; Services, Party &amp; Event Plan...</td>\n",
       "      <td>Middleton</td>\n",
       "      <td>5</td>\n",
       "      <td>Crandalls Carryout &amp; Catering</td>\n",
       "      <td>[]</td>\n",
       "      <td>-89.491800</td>\n",
       "      <td>...</td>\n",
       "      <td>Middleton town, Dane County, Wisconsin</td>\n",
       "      <td>5877.0</td>\n",
       "      <td>5831</td>\n",
       "      <td>5845</td>\n",
       "      <td>5943</td>\n",
       "      <td>6030</td>\n",
       "      <td>6086</td>\n",
       "      <td>6140</td>\n",
       "      <td>6179</td>\n",
       "      <td>6257</td>\n",
       "    </tr>\n",
       "    <tr>\n",
       "      <th>2</th>\n",
       "      <td>SKLw05kEIlZcpTD5pqma8Q</td>\n",
       "      <td>2039 Allen Blvd\\nMiddleton, WI 53562</td>\n",
       "      <td>{'Monday': {'close': '14:00', 'open': '11:00'}...</td>\n",
       "      <td>True</td>\n",
       "      <td>[Party &amp; Event Planning, Asian Fusion, Event P...</td>\n",
       "      <td>Middleton</td>\n",
       "      <td>41</td>\n",
       "      <td>Imperial Garden Chinese Restaurant</td>\n",
       "      <td>[]</td>\n",
       "      <td>-89.485169</td>\n",
       "      <td>...</td>\n",
       "      <td>Middleton city, Dane County, Wisconsin</td>\n",
       "      <td>17442.0</td>\n",
       "      <td>17558</td>\n",
       "      <td>17622</td>\n",
       "      <td>17903</td>\n",
       "      <td>18271</td>\n",
       "      <td>18522</td>\n",
       "      <td>18694</td>\n",
       "      <td>18955</td>\n",
       "      <td>19109</td>\n",
       "    </tr>\n",
       "    <tr>\n",
       "      <th>3</th>\n",
       "      <td>SKLw05kEIlZcpTD5pqma8Q</td>\n",
       "      <td>2039 Allen Blvd\\nMiddleton, WI 53562</td>\n",
       "      <td>{'Monday': {'close': '14:00', 'open': '11:00'}...</td>\n",
       "      <td>True</td>\n",
       "      <td>[Party &amp; Event Planning, Asian Fusion, Event P...</td>\n",
       "      <td>Middleton</td>\n",
       "      <td>41</td>\n",
       "      <td>Imperial Garden Chinese Restaurant</td>\n",
       "      <td>[]</td>\n",
       "      <td>-89.485169</td>\n",
       "      <td>...</td>\n",
       "      <td>Middleton town, Dane County, Wisconsin</td>\n",
       "      <td>5877.0</td>\n",
       "      <td>5831</td>\n",
       "      <td>5845</td>\n",
       "      <td>5943</td>\n",
       "      <td>6030</td>\n",
       "      <td>6086</td>\n",
       "      <td>6140</td>\n",
       "      <td>6179</td>\n",
       "      <td>6257</td>\n",
       "    </tr>\n",
       "    <tr>\n",
       "      <th>4</th>\n",
       "      <td>77ESrCo7hQ96VpCWWdvoxg</td>\n",
       "      <td>6230 University Ave\\nMiddleton, WI 53562</td>\n",
       "      <td>{'Monday': {'close': '21:00', 'open': '06:00'}...</td>\n",
       "      <td>False</td>\n",
       "      <td>[Mexican, Restaurants]</td>\n",
       "      <td>Middleton</td>\n",
       "      <td>17</td>\n",
       "      <td>Mi Cocina</td>\n",
       "      <td>[]</td>\n",
       "      <td>-89.487487</td>\n",
       "      <td>...</td>\n",
       "      <td>Middleton city, Dane County, Wisconsin</td>\n",
       "      <td>17442.0</td>\n",
       "      <td>17558</td>\n",
       "      <td>17622</td>\n",
       "      <td>17903</td>\n",
       "      <td>18271</td>\n",
       "      <td>18522</td>\n",
       "      <td>18694</td>\n",
       "      <td>18955</td>\n",
       "      <td>19109</td>\n",
       "    </tr>\n",
       "  </tbody>\n",
       "</table>\n",
       "<p>5 rows × 27 columns</p>\n",
       "</div>"
      ],
      "text/plain": [
       "              business_id                              full_address  \\\n",
       "0  HxPpZSY6Q1eARuiahhra6A  6401 University Ave\\nMiddleton, WI 53562   \n",
       "1  HxPpZSY6Q1eARuiahhra6A  6401 University Ave\\nMiddleton, WI 53562   \n",
       "2  SKLw05kEIlZcpTD5pqma8Q      2039 Allen Blvd\\nMiddleton, WI 53562   \n",
       "3  SKLw05kEIlZcpTD5pqma8Q      2039 Allen Blvd\\nMiddleton, WI 53562   \n",
       "4  77ESrCo7hQ96VpCWWdvoxg  6230 University Ave\\nMiddleton, WI 53562   \n",
       "\n",
       "                                               hours   open  \\\n",
       "0                                                 {}  False   \n",
       "1                                                 {}  False   \n",
       "2  {'Monday': {'close': '14:00', 'open': '11:00'}...   True   \n",
       "3  {'Monday': {'close': '14:00', 'open': '11:00'}...   True   \n",
       "4  {'Monday': {'close': '21:00', 'open': '06:00'}...  False   \n",
       "\n",
       "                                          categories       city  review_count  \\\n",
       "0  [Event Planning & Services, Party & Event Plan...  Middleton             5   \n",
       "1  [Event Planning & Services, Party & Event Plan...  Middleton             5   \n",
       "2  [Party & Event Planning, Asian Fusion, Event P...  Middleton            41   \n",
       "3  [Party & Event Planning, Asian Fusion, Event P...  Middleton            41   \n",
       "4                             [Mexican, Restaurants]  Middleton            17   \n",
       "\n",
       "                                 name neighborhoods  longitude  ...  \\\n",
       "0       Crandalls Carryout & Catering            [] -89.491800  ...   \n",
       "1       Crandalls Carryout & Catering            [] -89.491800  ...   \n",
       "2  Imperial Garden Chinese Restaurant            [] -89.485169  ...   \n",
       "3  Imperial Garden Chinese Restaurant            [] -89.485169  ...   \n",
       "4                           Mi Cocina            [] -89.487487  ...   \n",
       "\n",
       "                        GEO.display-label  rescen42010  resbase42010  \\\n",
       "0  Middleton city, Dane County, Wisconsin      17442.0         17558   \n",
       "1  Middleton town, Dane County, Wisconsin       5877.0          5831   \n",
       "2  Middleton city, Dane County, Wisconsin      17442.0         17558   \n",
       "3  Middleton town, Dane County, Wisconsin       5877.0          5831   \n",
       "4  Middleton city, Dane County, Wisconsin      17442.0         17558   \n",
       "\n",
       "  respop72010 respop72011 respop72012  respop72013 respop72014  respop72015  \\\n",
       "0       17622       17903       18271        18522       18694        18955   \n",
       "1        5845        5943        6030         6086        6140         6179   \n",
       "2       17622       17903       18271        18522       18694        18955   \n",
       "3        5845        5943        6030         6086        6140         6179   \n",
       "4       17622       17903       18271        18522       18694        18955   \n",
       "\n",
       "   respop72016  \n",
       "0        19109  \n",
       "1         6257  \n",
       "2        19109  \n",
       "3         6257  \n",
       "4        19109  \n",
       "\n",
       "[5 rows x 27 columns]"
      ]
     },
     "execution_count": 28,
     "metadata": {},
     "output_type": "execute_result"
    }
   ],
   "source": [
    "merged_df = yelp_df.merge(census, on=['state', 'city'])\n",
    "merged_df.head()"
   ]
  },
  {
   "attachments": {
    "image.png": {
     "image/png": "[encoded data removed]"
    }
   },
   "cell_type": "markdown",
   "metadata": {},
   "source": [
    "![image.png](attachment:image.png)"
   ]
  },
  {
   "cell_type": "markdown",
   "metadata": {},
   "source": [
    "The `merge` function looks through the `'state'` and `'city'` columns of `yelp_df` and `census` and tries to match up rows that share values. When a match is found, the rows are combined. What happens when a match is not found? We can imagine four scenarios:  \n",
    "\n",
    "1. We only keep rows from `yelp_df` and `census` if they match. Any rows from either table that have no match are discarded. This is called an _inner join_.  \n",
    "\n",
    "2. We keep all rows from `yelp_df` and `census`, even if they have no match. In this case, when a row in `yelp_df` has no match in `census`, all the columns from `census` are merged in with null values. When a row in `census` has no match in `yelp_df`, all the columns from `yelp_df` are merged in with null values. This is called an _outer join_.\n",
    "\n",
    "3. We privilege the `yelp_df` data. If a row in `yelp_df` has no match in `census`, we keep it and fill in the missing `census` columns as null values. If a row in `census` has no match in `yelp_df`, we discard it. This is called a _left join_.\n",
    "\n",
    "4. We privilege the `census` data. This is called a _right join_.\n",
    "\n",
    "The default behavior for Pandas is case #1, the _inner join_. This means if there are cities in `yelp_df` that we don't have matching `census` data for, they are dropped. Therefore, `merged_df` might be smaller than `yelp_df`."
   ]
  },
  {
   "cell_type": "code",
   "execution_count": 29,
   "metadata": {},
   "outputs": [
    {
     "name": "stdout",
     "output_type": "stream",
     "text": [
      "(37938, 15)\n",
      "(3598, 27)\n"
     ]
    }
   ],
   "source": [
    "print(yelp_df.shape)\n",
    "print(merged_df.shape)"
   ]
  },
  {
   "cell_type": "markdown",
   "metadata": {},
   "source": [
    "There are a lot of cities in `yelp_df` that aren't in `census`! We might want to keep these rows, but we don't need any census data where there are no businesses. Then we should use a _left join_."
   ]
  },
  {
   "cell_type": "code",
   "execution_count": 30,
   "metadata": {},
   "outputs": [
    {
     "name": "stdout",
     "output_type": "stream",
     "text": [
      "(37938, 15)\n",
      "(39648, 27)\n"
     ]
    }
   ],
   "source": [
    "merged_df = yelp_df.merge(census, on=['state', 'city'], how='left')\n",
    "print(yelp_df.shape)\n",
    "print(merged_df.shape)"
   ]
  },
  {
   "cell_type": "markdown",
   "metadata": {},
   "source": [
    "Sometimes we don't need to merge together the columns of separate data sets, but just need to add more rows. For example, the New York City subway system [releases data about how many customers enter and exit the station each week](http://web.mta.info/developers/turnstile.html). Each weekly data set has the same columns, so if we want multiple weeks of data, we just have to append one week to another."
   ]
  },
  {
   "cell_type": "code",
   "execution_count": 31,
   "metadata": {},
   "outputs": [],
   "source": [
    "nov18 = pd.read_csv('http://web.mta.info/developers/data/nyct/turnstile/turnstile_171118.txt')\n",
    "nov11 = pd.read_csv('http://web.mta.info/developers/data/nyct/turnstile/turnstile_171111.txt')"
   ]
  },
  {
   "cell_type": "code",
   "execution_count": 32,
   "metadata": {},
   "outputs": [
    {
     "data": {
      "text/html": [
       "<div>\n",
       "<style scoped>\n",
       "    .dataframe tbody tr th:only-of-type {\n",
       "        vertical-align: middle;\n",
       "    }\n",
       "\n",
       "    .dataframe tbody tr th {\n",
       "        vertical-align: top;\n",
       "    }\n",
       "\n",
       "    .dataframe thead th {\n",
       "        text-align: right;\n",
       "    }\n",
       "</style>\n",
       "<table border=\"1\" class=\"dataframe\">\n",
       "  <thead>\n",
       "    <tr style=\"text-align: right;\">\n",
       "      <th></th>\n",
       "      <th>C/A</th>\n",
       "      <th>UNIT</th>\n",
       "      <th>SCP</th>\n",
       "      <th>STATION</th>\n",
       "      <th>LINENAME</th>\n",
       "      <th>DIVISION</th>\n",
       "      <th>DATE</th>\n",
       "      <th>TIME</th>\n",
       "      <th>DESC</th>\n",
       "      <th>ENTRIES</th>\n",
       "      <th>EXITS</th>\n",
       "    </tr>\n",
       "  </thead>\n",
       "  <tbody>\n",
       "    <tr>\n",
       "      <th>0</th>\n",
       "      <td>A002</td>\n",
       "      <td>R051</td>\n",
       "      <td>02-00-00</td>\n",
       "      <td>59 ST</td>\n",
       "      <td>NQR456W</td>\n",
       "      <td>BMT</td>\n",
       "      <td>11/11/2017</td>\n",
       "      <td>03:00:00</td>\n",
       "      <td>REGULAR</td>\n",
       "      <td>6402636</td>\n",
       "      <td>2166100</td>\n",
       "    </tr>\n",
       "    <tr>\n",
       "      <th>1</th>\n",
       "      <td>A002</td>\n",
       "      <td>R051</td>\n",
       "      <td>02-00-00</td>\n",
       "      <td>59 ST</td>\n",
       "      <td>NQR456W</td>\n",
       "      <td>BMT</td>\n",
       "      <td>11/11/2017</td>\n",
       "      <td>07:00:00</td>\n",
       "      <td>REGULAR</td>\n",
       "      <td>6402645</td>\n",
       "      <td>2166112</td>\n",
       "    </tr>\n",
       "    <tr>\n",
       "      <th>2</th>\n",
       "      <td>A002</td>\n",
       "      <td>R051</td>\n",
       "      <td>02-00-00</td>\n",
       "      <td>59 ST</td>\n",
       "      <td>NQR456W</td>\n",
       "      <td>BMT</td>\n",
       "      <td>11/11/2017</td>\n",
       "      <td>11:00:00</td>\n",
       "      <td>REGULAR</td>\n",
       "      <td>6402717</td>\n",
       "      <td>2166175</td>\n",
       "    </tr>\n",
       "    <tr>\n",
       "      <th>3</th>\n",
       "      <td>A002</td>\n",
       "      <td>R051</td>\n",
       "      <td>02-00-00</td>\n",
       "      <td>59 ST</td>\n",
       "      <td>NQR456W</td>\n",
       "      <td>BMT</td>\n",
       "      <td>11/11/2017</td>\n",
       "      <td>15:00:00</td>\n",
       "      <td>REGULAR</td>\n",
       "      <td>6402857</td>\n",
       "      <td>2166230</td>\n",
       "    </tr>\n",
       "    <tr>\n",
       "      <th>4</th>\n",
       "      <td>A002</td>\n",
       "      <td>R051</td>\n",
       "      <td>02-00-00</td>\n",
       "      <td>59 ST</td>\n",
       "      <td>NQR456W</td>\n",
       "      <td>BMT</td>\n",
       "      <td>11/11/2017</td>\n",
       "      <td>19:00:00</td>\n",
       "      <td>REGULAR</td>\n",
       "      <td>6403178</td>\n",
       "      <td>2166292</td>\n",
       "    </tr>\n",
       "  </tbody>\n",
       "</table>\n",
       "</div>"
      ],
      "text/plain": [
       "    C/A  UNIT       SCP STATION LINENAME DIVISION        DATE      TIME  \\\n",
       "0  A002  R051  02-00-00   59 ST  NQR456W      BMT  11/11/2017  03:00:00   \n",
       "1  A002  R051  02-00-00   59 ST  NQR456W      BMT  11/11/2017  07:00:00   \n",
       "2  A002  R051  02-00-00   59 ST  NQR456W      BMT  11/11/2017  11:00:00   \n",
       "3  A002  R051  02-00-00   59 ST  NQR456W      BMT  11/11/2017  15:00:00   \n",
       "4  A002  R051  02-00-00   59 ST  NQR456W      BMT  11/11/2017  19:00:00   \n",
       "\n",
       "      DESC  ENTRIES  \\\n",
       "0  REGULAR  6402636   \n",
       "1  REGULAR  6402645   \n",
       "2  REGULAR  6402717   \n",
       "3  REGULAR  6402857   \n",
       "4  REGULAR  6403178   \n",
       "\n",
       "   EXITS                                                                 \n",
       "0                                            2166100                     \n",
       "1                                            2166112                     \n",
       "2                                            2166175                     \n",
       "3                                            2166230                     \n",
       "4                                            2166292                     "
      ]
     },
     "execution_count": 32,
     "metadata": {},
     "output_type": "execute_result"
    }
   ],
   "source": [
    "nov18.head()"
   ]
  },
  {
   "cell_type": "code",
   "execution_count": 33,
   "metadata": {},
   "outputs": [
    {
     "data": {
      "text/html": [
       "<div>\n",
       "<style scoped>\n",
       "    .dataframe tbody tr th:only-of-type {\n",
       "        vertical-align: middle;\n",
       "    }\n",
       "\n",
       "    .dataframe tbody tr th {\n",
       "        vertical-align: top;\n",
       "    }\n",
       "\n",
       "    .dataframe thead th {\n",
       "        text-align: right;\n",
       "    }\n",
       "</style>\n",
       "<table border=\"1\" class=\"dataframe\">\n",
       "  <thead>\n",
       "    <tr style=\"text-align: right;\">\n",
       "      <th></th>\n",
       "      <th>C/A</th>\n",
       "      <th>UNIT</th>\n",
       "      <th>SCP</th>\n",
       "      <th>STATION</th>\n",
       "      <th>LINENAME</th>\n",
       "      <th>DIVISION</th>\n",
       "      <th>DATE</th>\n",
       "      <th>TIME</th>\n",
       "      <th>DESC</th>\n",
       "      <th>ENTRIES</th>\n",
       "      <th>EXITS</th>\n",
       "    </tr>\n",
       "  </thead>\n",
       "  <tbody>\n",
       "    <tr>\n",
       "      <th>0</th>\n",
       "      <td>A002</td>\n",
       "      <td>R051</td>\n",
       "      <td>02-00-00</td>\n",
       "      <td>59 ST</td>\n",
       "      <td>NQR456W</td>\n",
       "      <td>BMT</td>\n",
       "      <td>11/04/2017</td>\n",
       "      <td>00:00:00</td>\n",
       "      <td>REGULAR</td>\n",
       "      <td>6393563</td>\n",
       "      <td>2162811</td>\n",
       "    </tr>\n",
       "    <tr>\n",
       "      <th>1</th>\n",
       "      <td>A002</td>\n",
       "      <td>R051</td>\n",
       "      <td>02-00-00</td>\n",
       "      <td>59 ST</td>\n",
       "      <td>NQR456W</td>\n",
       "      <td>BMT</td>\n",
       "      <td>11/04/2017</td>\n",
       "      <td>04:00:00</td>\n",
       "      <td>REGULAR</td>\n",
       "      <td>6393595</td>\n",
       "      <td>2162822</td>\n",
       "    </tr>\n",
       "    <tr>\n",
       "      <th>2</th>\n",
       "      <td>A002</td>\n",
       "      <td>R051</td>\n",
       "      <td>02-00-00</td>\n",
       "      <td>59 ST</td>\n",
       "      <td>NQR456W</td>\n",
       "      <td>BMT</td>\n",
       "      <td>11/04/2017</td>\n",
       "      <td>08:00:00</td>\n",
       "      <td>REGULAR</td>\n",
       "      <td>6393616</td>\n",
       "      <td>2162855</td>\n",
       "    </tr>\n",
       "    <tr>\n",
       "      <th>3</th>\n",
       "      <td>A002</td>\n",
       "      <td>R051</td>\n",
       "      <td>02-00-00</td>\n",
       "      <td>59 ST</td>\n",
       "      <td>NQR456W</td>\n",
       "      <td>BMT</td>\n",
       "      <td>11/04/2017</td>\n",
       "      <td>12:00:00</td>\n",
       "      <td>REGULAR</td>\n",
       "      <td>6393742</td>\n",
       "      <td>2162933</td>\n",
       "    </tr>\n",
       "    <tr>\n",
       "      <th>4</th>\n",
       "      <td>A002</td>\n",
       "      <td>R051</td>\n",
       "      <td>02-00-00</td>\n",
       "      <td>59 ST</td>\n",
       "      <td>NQR456W</td>\n",
       "      <td>BMT</td>\n",
       "      <td>11/04/2017</td>\n",
       "      <td>16:00:00</td>\n",
       "      <td>REGULAR</td>\n",
       "      <td>6394021</td>\n",
       "      <td>2162992</td>\n",
       "    </tr>\n",
       "  </tbody>\n",
       "</table>\n",
       "</div>"
      ],
      "text/plain": [
       "    C/A  UNIT       SCP STATION LINENAME DIVISION        DATE      TIME  \\\n",
       "0  A002  R051  02-00-00   59 ST  NQR456W      BMT  11/04/2017  00:00:00   \n",
       "1  A002  R051  02-00-00   59 ST  NQR456W      BMT  11/04/2017  04:00:00   \n",
       "2  A002  R051  02-00-00   59 ST  NQR456W      BMT  11/04/2017  08:00:00   \n",
       "3  A002  R051  02-00-00   59 ST  NQR456W      BMT  11/04/2017  12:00:00   \n",
       "4  A002  R051  02-00-00   59 ST  NQR456W      BMT  11/04/2017  16:00:00   \n",
       "\n",
       "      DESC  ENTRIES  \\\n",
       "0  REGULAR  6393563   \n",
       "1  REGULAR  6393595   \n",
       "2  REGULAR  6393616   \n",
       "3  REGULAR  6393742   \n",
       "4  REGULAR  6394021   \n",
       "\n",
       "   EXITS                                                                 \n",
       "0                                            2162811                     \n",
       "1                                            2162822                     \n",
       "2                                            2162855                     \n",
       "3                                            2162933                     \n",
       "4                                            2162992                     "
      ]
     },
     "execution_count": 33,
     "metadata": {},
     "output_type": "execute_result"
    }
   ],
   "source": [
    "nov11.head()"
   ]
  },
  {
   "cell_type": "code",
   "execution_count": 34,
   "metadata": {},
   "outputs": [
    {
     "data": {
      "text/plain": [
       "array(['11/11/2017', '11/12/2017', '11/13/2017', '11/14/2017',\n",
       "       '11/15/2017', '11/16/2017', '11/17/2017', '11/04/2017',\n",
       "       '11/05/2017', '11/06/2017', '11/07/2017', '11/08/2017',\n",
       "       '11/09/2017', '11/10/2017'], dtype=object)"
      ]
     },
     "execution_count": 34,
     "metadata": {},
     "output_type": "execute_result"
    }
   ],
   "source": [
    "nov = pd.concat([nov18, nov11])\n",
    "nov['DATE'].unique()"
   ]
  },
  {
   "cell_type": "markdown",
   "metadata": {},
   "source": [
    "We can also use `concat` to perform inner and outer joins based on index. For example, we can perform some data aggregation and then join the results onto the original DataFrame."
   ]
  },
  {
   "cell_type": "code",
   "execution_count": 35,
   "metadata": {},
   "outputs": [
    {
     "data": {
      "text/plain": [
       "city\n",
       "Ahwatukee           8\n",
       "Anthem             55\n",
       "Apache Junction    80\n",
       "Arcadia             1\n",
       "Atlanta             1\n",
       "Name: city_counts, dtype: int64"
      ]
     },
     "execution_count": 35,
     "metadata": {},
     "output_type": "execute_result"
    }
   ],
   "source": [
    "city_counts = yelp_df.groupby('city')['business_id'].count().rename('city_counts')\n",
    "city_counts.head()"
   ]
  },
  {
   "cell_type": "code",
   "execution_count": 36,
   "metadata": {},
   "outputs": [
    {
     "data": {
      "text/html": [
       "<div>\n",
       "<style scoped>\n",
       "    .dataframe tbody tr th:only-of-type {\n",
       "        vertical-align: middle;\n",
       "    }\n",
       "\n",
       "    .dataframe tbody tr th {\n",
       "        vertical-align: top;\n",
       "    }\n",
       "\n",
       "    .dataframe thead th {\n",
       "        text-align: right;\n",
       "    }\n",
       "</style>\n",
       "<table border=\"1\" class=\"dataframe\">\n",
       "  <thead>\n",
       "    <tr style=\"text-align: right;\">\n",
       "      <th></th>\n",
       "      <th>city</th>\n",
       "      <th>business_id</th>\n",
       "      <th>full_address</th>\n",
       "      <th>hours</th>\n",
       "      <th>open</th>\n",
       "      <th>categories</th>\n",
       "      <th>review_count</th>\n",
       "      <th>name</th>\n",
       "      <th>neighborhoods</th>\n",
       "      <th>longitude</th>\n",
       "      <th>state</th>\n",
       "      <th>stars</th>\n",
       "      <th>latitude</th>\n",
       "      <th>attributes</th>\n",
       "      <th>type</th>\n",
       "      <th>city_counts</th>\n",
       "    </tr>\n",
       "  </thead>\n",
       "  <tbody>\n",
       "    <tr>\n",
       "      <th>0</th>\n",
       "      <td>Phoenix</td>\n",
       "      <td>vcNAWiLM4dR7D2nwwJ7nCA</td>\n",
       "      <td>4840 E Indian School Rd\\nSte 101\\nPhoenix, AZ ...</td>\n",
       "      <td>{'Tuesday': {'close': '17:00', 'open': '08:00'...</td>\n",
       "      <td>True</td>\n",
       "      <td>[Doctors, Health &amp; Medical]</td>\n",
       "      <td>7</td>\n",
       "      <td>Eric Goldberg, MD</td>\n",
       "      <td>[]</td>\n",
       "      <td>-111.983758</td>\n",
       "      <td>AZ</td>\n",
       "      <td>3.5</td>\n",
       "      <td>33.499313</td>\n",
       "      <td>{'By Appointment Only': True}</td>\n",
       "      <td>business</td>\n",
       "      <td>6715</td>\n",
       "    </tr>\n",
       "    <tr>\n",
       "      <th>1</th>\n",
       "      <td>De Forest</td>\n",
       "      <td>JwUE5GmEO-sH1FuwJgKBlQ</td>\n",
       "      <td>6162 US Highway 51\\nDe Forest, WI 53532</td>\n",
       "      <td>{}</td>\n",
       "      <td>True</td>\n",
       "      <td>[Restaurants]</td>\n",
       "      <td>26</td>\n",
       "      <td>Pine Cone Restaurant</td>\n",
       "      <td>[]</td>\n",
       "      <td>-89.335844</td>\n",
       "      <td>WI</td>\n",
       "      <td>4.0</td>\n",
       "      <td>43.238893</td>\n",
       "      <td>{'Take-out': True, 'Good For': {'dessert': Fal...</td>\n",
       "      <td>business</td>\n",
       "      <td>6</td>\n",
       "    </tr>\n",
       "    <tr>\n",
       "      <th>2</th>\n",
       "      <td>De Forest</td>\n",
       "      <td>uGykseHzyS5xAMWoN6YUqA</td>\n",
       "      <td>505 W North St\\nDe Forest, WI 53532</td>\n",
       "      <td>{'Monday': {'close': '22:00', 'open': '06:00'}...</td>\n",
       "      <td>True</td>\n",
       "      <td>[American (Traditional), Restaurants]</td>\n",
       "      <td>16</td>\n",
       "      <td>Deforest Family Restaurant</td>\n",
       "      <td>[]</td>\n",
       "      <td>-89.353437</td>\n",
       "      <td>WI</td>\n",
       "      <td>4.0</td>\n",
       "      <td>43.252267</td>\n",
       "      <td>{'Take-out': True, 'Good For': {'dessert': Fal...</td>\n",
       "      <td>business</td>\n",
       "      <td>6</td>\n",
       "    </tr>\n",
       "    <tr>\n",
       "      <th>3</th>\n",
       "      <td>De Forest</td>\n",
       "      <td>LRKJF43s9-3jG9Lgx4zODg</td>\n",
       "      <td>4910 County Rd V\\nDe Forest, WI 53532</td>\n",
       "      <td>{'Monday': {'close': '22:00', 'open': '10:30'}...</td>\n",
       "      <td>True</td>\n",
       "      <td>[Food, Ice Cream &amp; Frozen Yogurt, Fast Food, R...</td>\n",
       "      <td>7</td>\n",
       "      <td>Culver's</td>\n",
       "      <td>[]</td>\n",
       "      <td>-89.374983</td>\n",
       "      <td>WI</td>\n",
       "      <td>4.5</td>\n",
       "      <td>43.251045</td>\n",
       "      <td>{'Take-out': True, 'Wi-Fi': 'free', 'Takes Res...</td>\n",
       "      <td>business</td>\n",
       "      <td>6</td>\n",
       "    </tr>\n",
       "    <tr>\n",
       "      <th>4</th>\n",
       "      <td>De Forest</td>\n",
       "      <td>RgDg-k9S5YD_BaxMckifkg</td>\n",
       "      <td>631 S Main St\\nDe Forest, WI 53532</td>\n",
       "      <td>{'Monday': {'close': '22:00', 'open': '11:00'}...</td>\n",
       "      <td>True</td>\n",
       "      <td>[Chinese, Restaurants]</td>\n",
       "      <td>3</td>\n",
       "      <td>Chang Jiang Chinese Kitchen</td>\n",
       "      <td>[]</td>\n",
       "      <td>-89.343722</td>\n",
       "      <td>WI</td>\n",
       "      <td>4.0</td>\n",
       "      <td>43.240875</td>\n",
       "      <td>{'Take-out': True, 'Has TV': False, 'Outdoor S...</td>\n",
       "      <td>business</td>\n",
       "      <td>6</td>\n",
       "    </tr>\n",
       "  </tbody>\n",
       "</table>\n",
       "</div>"
      ],
      "text/plain": [
       "        city             business_id  \\\n",
       "0    Phoenix  vcNAWiLM4dR7D2nwwJ7nCA   \n",
       "1  De Forest  JwUE5GmEO-sH1FuwJgKBlQ   \n",
       "2  De Forest  uGykseHzyS5xAMWoN6YUqA   \n",
       "3  De Forest  LRKJF43s9-3jG9Lgx4zODg   \n",
       "4  De Forest  RgDg-k9S5YD_BaxMckifkg   \n",
       "\n",
       "                                        full_address  \\\n",
       "0  4840 E Indian School Rd\\nSte 101\\nPhoenix, AZ ...   \n",
       "1            6162 US Highway 51\\nDe Forest, WI 53532   \n",
       "2                505 W North St\\nDe Forest, WI 53532   \n",
       "3              4910 County Rd V\\nDe Forest, WI 53532   \n",
       "4                 631 S Main St\\nDe Forest, WI 53532   \n",
       "\n",
       "                                               hours  open  \\\n",
       "0  {'Tuesday': {'close': '17:00', 'open': '08:00'...  True   \n",
       "1                                                 {}  True   \n",
       "2  {'Monday': {'close': '22:00', 'open': '06:00'}...  True   \n",
       "3  {'Monday': {'close': '22:00', 'open': '10:30'}...  True   \n",
       "4  {'Monday': {'close': '22:00', 'open': '11:00'}...  True   \n",
       "\n",
       "                                          categories  review_count  \\\n",
       "0                        [Doctors, Health & Medical]             7   \n",
       "1                                      [Restaurants]            26   \n",
       "2              [American (Traditional), Restaurants]            16   \n",
       "3  [Food, Ice Cream & Frozen Yogurt, Fast Food, R...             7   \n",
       "4                             [Chinese, Restaurants]             3   \n",
       "\n",
       "                          name neighborhoods   longitude state  stars  \\\n",
       "0            Eric Goldberg, MD            [] -111.983758    AZ    3.5   \n",
       "1         Pine Cone Restaurant            []  -89.335844    WI    4.0   \n",
       "2   Deforest Family Restaurant            []  -89.353437    WI    4.0   \n",
       "3                     Culver's            []  -89.374983    WI    4.5   \n",
       "4  Chang Jiang Chinese Kitchen            []  -89.343722    WI    4.0   \n",
       "\n",
       "    latitude                                         attributes      type  \\\n",
       "0  33.499313                      {'By Appointment Only': True}  business   \n",
       "1  43.238893  {'Take-out': True, 'Good For': {'dessert': Fal...  business   \n",
       "2  43.252267  {'Take-out': True, 'Good For': {'dessert': Fal...  business   \n",
       "3  43.251045  {'Take-out': True, 'Wi-Fi': 'free', 'Takes Res...  business   \n",
       "4  43.240875  {'Take-out': True, 'Has TV': False, 'Outdoor S...  business   \n",
       "\n",
       "   city_counts  \n",
       "0         6715  \n",
       "1            6  \n",
       "2            6  \n",
       "3            6  \n",
       "4            6  "
      ]
     },
     "execution_count": 36,
     "metadata": {},
     "output_type": "execute_result"
    }
   ],
   "source": [
    "pd.concat([yelp_df.set_index('city'), city_counts], axis=1, join='inner').reset_index().head()"
   ]
  },
  {
   "cell_type": "markdown",
   "metadata": {},
   "source": [
    "Pandas provides [extensive documentation](https://pandas.pydata.org/pandas-docs/stable/merging.html) with diagrammed examples on different methods and approaches for joining data."
   ]
  },
  {
   "cell_type": "markdown",
   "metadata": {},
   "source": [
    "## Working with time series\n",
    "Pandas has a well-designed backend for inferring dates and times from strings and doing meaningful computations with them. "
   ]
  },
  {
   "cell_type": "code",
   "execution_count": 37,
   "metadata": {},
   "outputs": [
    {
     "data": {
      "text/html": [
       "<div>\n",
       "<style scoped>\n",
       "    .dataframe tbody tr th:only-of-type {\n",
       "        vertical-align: middle;\n",
       "    }\n",
       "\n",
       "    .dataframe tbody tr th {\n",
       "        vertical-align: top;\n",
       "    }\n",
       "\n",
       "    .dataframe thead th {\n",
       "        text-align: right;\n",
       "    }\n",
       "</style>\n",
       "<table border=\"1\" class=\"dataframe\">\n",
       "  <thead>\n",
       "    <tr style=\"text-align: right;\">\n",
       "      <th></th>\n",
       "      <th>Year</th>\n",
       "      <th>Population</th>\n",
       "      <th>Annual Growth Rate (%)</th>\n",
       "      <th>Annual Population Change</th>\n",
       "    </tr>\n",
       "  </thead>\n",
       "  <tbody>\n",
       "    <tr>\n",
       "      <th>0</th>\n",
       "      <td>1950-01-01</td>\n",
       "      <td>2.557629e+09</td>\n",
       "      <td>1.459</td>\n",
       "      <td>37311223.0</td>\n",
       "    </tr>\n",
       "    <tr>\n",
       "      <th>1</th>\n",
       "      <td>1951-01-01</td>\n",
       "      <td>2.594940e+09</td>\n",
       "      <td>1.612</td>\n",
       "      <td>41832429.0</td>\n",
       "    </tr>\n",
       "    <tr>\n",
       "      <th>2</th>\n",
       "      <td>1952-01-01</td>\n",
       "      <td>2.636772e+09</td>\n",
       "      <td>1.717</td>\n",
       "      <td>45281083.0</td>\n",
       "    </tr>\n",
       "    <tr>\n",
       "      <th>3</th>\n",
       "      <td>1953-01-01</td>\n",
       "      <td>2.682053e+09</td>\n",
       "      <td>1.796</td>\n",
       "      <td>48174715.0</td>\n",
       "    </tr>\n",
       "    <tr>\n",
       "      <th>4</th>\n",
       "      <td>1954-01-01</td>\n",
       "      <td>2.730228e+09</td>\n",
       "      <td>1.900</td>\n",
       "      <td>51870839.0</td>\n",
       "    </tr>\n",
       "  </tbody>\n",
       "</table>\n",
       "</div>"
      ],
      "text/plain": [
       "        Year    Population  Annual Growth Rate (%)  Annual Population Change\n",
       "0 1950-01-01  2.557629e+09                   1.459                37311223.0\n",
       "1 1951-01-01  2.594940e+09                   1.612                41832429.0\n",
       "2 1952-01-01  2.636772e+09                   1.717                45281083.0\n",
       "3 1953-01-01  2.682053e+09                   1.796                48174715.0\n",
       "4 1954-01-01  2.730228e+09                   1.900                51870839.0"
      ]
     },
     "execution_count": 37,
     "metadata": {},
     "output_type": "execute_result"
    }
   ],
   "source": [
    "pop_growth = pd.read_html('https://web.archive.org/web/20170127165708/https://www.census.gov/population/international/data/worldpop/table_population.php', attrs={'class': 'query_table'}, parse_dates=[0])[0]\n",
    "pop_growth.dropna(inplace=True)\n",
    "pop_growth.head()"
   ]
  },
  {
   "cell_type": "markdown",
   "metadata": {},
   "source": [
    "By setting the `'Year'` column to the index, we can easily aggregate data by date using the `resample` method. The `resample` method allows us to decrease or increase the sampling frequency of our data. For instance, maybe instead of yearly data, we want to see average quantities for each decade."
   ]
  },
  {
   "cell_type": "code",
   "execution_count": 38,
   "metadata": {},
   "outputs": [],
   "source": [
    "pop_growth.set_index('Year', inplace=True)"
   ]
  },
  {
   "cell_type": "code",
   "execution_count": 39,
   "metadata": {},
   "outputs": [
    {
     "data": {
      "text/html": [
       "<div>\n",
       "<style scoped>\n",
       "    .dataframe tbody tr th:only-of-type {\n",
       "        vertical-align: middle;\n",
       "    }\n",
       "\n",
       "    .dataframe tbody tr th {\n",
       "        vertical-align: top;\n",
       "    }\n",
       "\n",
       "    .dataframe thead th {\n",
       "        text-align: right;\n",
       "    }\n",
       "</style>\n",
       "<table border=\"1\" class=\"dataframe\">\n",
       "  <thead>\n",
       "    <tr style=\"text-align: right;\">\n",
       "      <th></th>\n",
       "      <th>Population</th>\n",
       "      <th>Annual Growth Rate (%)</th>\n",
       "      <th>Annual Population Change</th>\n",
       "    </tr>\n",
       "    <tr>\n",
       "      <th>Year</th>\n",
       "      <th></th>\n",
       "      <th></th>\n",
       "      <th></th>\n",
       "    </tr>\n",
       "  </thead>\n",
       "  <tbody>\n",
       "    <tr>\n",
       "      <th>1950-01-01</th>\n",
       "      <td>2.765922e+09</td>\n",
       "      <td>1.7529</td>\n",
       "      <td>48537285.4</td>\n",
       "    </tr>\n",
       "    <tr>\n",
       "      <th>1960-01-01</th>\n",
       "      <td>3.321900e+09</td>\n",
       "      <td>2.0094</td>\n",
       "      <td>66969623.4</td>\n",
       "    </tr>\n",
       "    <tr>\n",
       "      <th>1970-01-01</th>\n",
       "      <td>4.047646e+09</td>\n",
       "      <td>1.8154</td>\n",
       "      <td>73179902.2</td>\n",
       "    </tr>\n",
       "    <tr>\n",
       "      <th>1980-01-01</th>\n",
       "      <td>4.813578e+09</td>\n",
       "      <td>1.7438</td>\n",
       "      <td>83875618.4</td>\n",
       "    </tr>\n",
       "    <tr>\n",
       "      <th>1990-01-01</th>\n",
       "      <td>5.651506e+09</td>\n",
       "      <td>1.4220</td>\n",
       "      <td>80123197.0</td>\n",
       "    </tr>\n",
       "    <tr>\n",
       "      <th>2000-01-01</th>\n",
       "      <td>6.429734e+09</td>\n",
       "      <td>1.2017</td>\n",
       "      <td>77213097.9</td>\n",
       "    </tr>\n",
       "    <tr>\n",
       "      <th>2010-01-01</th>\n",
       "      <td>7.206287e+09</td>\n",
       "      <td>1.0742</td>\n",
       "      <td>77318221.4</td>\n",
       "    </tr>\n",
       "    <tr>\n",
       "      <th>2020-01-01</th>\n",
       "      <td>7.949758e+09</td>\n",
       "      <td>0.8687</td>\n",
       "      <td>68934817.8</td>\n",
       "    </tr>\n",
       "    <tr>\n",
       "      <th>2030-01-01</th>\n",
       "      <td>8.587652e+09</td>\n",
       "      <td>0.6741</td>\n",
       "      <td>57810604.6</td>\n",
       "    </tr>\n",
       "    <tr>\n",
       "      <th>2040-01-01</th>\n",
       "      <td>9.120663e+09</td>\n",
       "      <td>0.5238</td>\n",
       "      <td>47723189.0</td>\n",
       "    </tr>\n",
       "  </tbody>\n",
       "</table>\n",
       "</div>"
      ],
      "text/plain": [
       "              Population  Annual Growth Rate (%)  Annual Population Change\n",
       "Year                                                                      \n",
       "1950-01-01  2.765922e+09                  1.7529                48537285.4\n",
       "1960-01-01  3.321900e+09                  2.0094                66969623.4\n",
       "1970-01-01  4.047646e+09                  1.8154                73179902.2\n",
       "1980-01-01  4.813578e+09                  1.7438                83875618.4\n",
       "1990-01-01  5.651506e+09                  1.4220                80123197.0\n",
       "2000-01-01  6.429734e+09                  1.2017                77213097.9\n",
       "2010-01-01  7.206287e+09                  1.0742                77318221.4\n",
       "2020-01-01  7.949758e+09                  0.8687                68934817.8\n",
       "2030-01-01  8.587652e+09                  0.6741                57810604.6\n",
       "2040-01-01  9.120663e+09                  0.5238                47723189.0"
      ]
     },
     "execution_count": 39,
     "metadata": {},
     "output_type": "execute_result"
    }
   ],
   "source": [
    "pop_growth.resample('10AS').mean()"
   ]
  },
  {
   "cell_type": "markdown",
   "metadata": {},
   "source": [
    "This kind of resampling is called _downsampling_, because we are decreasing the sampling frequency of the data. We can choose how to aggregate the data from each decade (e.g. `mean`). Options for aggregation include `mean`, `median`, `sum`, `last`, and `first`.\n",
    "\n",
    "We can also _upsample_ data. In this case, we don't have data for each quarter, so we have to tell Pandas has to fill in the missing data."
   ]
  },
  {
   "cell_type": "code",
   "execution_count": 40,
   "metadata": {},
   "outputs": [
    {
     "data": {
      "text/html": [
       "<div>\n",
       "<style scoped>\n",
       "    .dataframe tbody tr th:only-of-type {\n",
       "        vertical-align: middle;\n",
       "    }\n",
       "\n",
       "    .dataframe tbody tr th {\n",
       "        vertical-align: top;\n",
       "    }\n",
       "\n",
       "    .dataframe thead th {\n",
       "        text-align: right;\n",
       "    }\n",
       "</style>\n",
       "<table border=\"1\" class=\"dataframe\">\n",
       "  <thead>\n",
       "    <tr style=\"text-align: right;\">\n",
       "      <th></th>\n",
       "      <th>Population</th>\n",
       "      <th>Annual Growth Rate (%)</th>\n",
       "      <th>Annual Population Change</th>\n",
       "    </tr>\n",
       "    <tr>\n",
       "      <th>Year</th>\n",
       "      <th></th>\n",
       "      <th></th>\n",
       "      <th></th>\n",
       "    </tr>\n",
       "  </thead>\n",
       "  <tbody>\n",
       "    <tr>\n",
       "      <th>1950-03-31</th>\n",
       "      <td>2.594940e+09</td>\n",
       "      <td>1.612</td>\n",
       "      <td>41832429.0</td>\n",
       "    </tr>\n",
       "    <tr>\n",
       "      <th>1950-06-30</th>\n",
       "      <td>2.594940e+09</td>\n",
       "      <td>1.612</td>\n",
       "      <td>41832429.0</td>\n",
       "    </tr>\n",
       "    <tr>\n",
       "      <th>1950-09-30</th>\n",
       "      <td>2.594940e+09</td>\n",
       "      <td>1.612</td>\n",
       "      <td>41832429.0</td>\n",
       "    </tr>\n",
       "    <tr>\n",
       "      <th>1950-12-31</th>\n",
       "      <td>2.594940e+09</td>\n",
       "      <td>1.612</td>\n",
       "      <td>41832429.0</td>\n",
       "    </tr>\n",
       "    <tr>\n",
       "      <th>1951-03-31</th>\n",
       "      <td>2.636772e+09</td>\n",
       "      <td>1.717</td>\n",
       "      <td>45281083.0</td>\n",
       "    </tr>\n",
       "  </tbody>\n",
       "</table>\n",
       "</div>"
      ],
      "text/plain": [
       "              Population  Annual Growth Rate (%)  Annual Population Change\n",
       "Year                                                                      \n",
       "1950-03-31  2.594940e+09                   1.612                41832429.0\n",
       "1950-06-30  2.594940e+09                   1.612                41832429.0\n",
       "1950-09-30  2.594940e+09                   1.612                41832429.0\n",
       "1950-12-31  2.594940e+09                   1.612                41832429.0\n",
       "1951-03-31  2.636772e+09                   1.717                45281083.0"
      ]
     },
     "execution_count": 40,
     "metadata": {},
     "output_type": "execute_result"
    }
   ],
   "source": [
    "pop_growth.resample('1Q').bfill().head()"
   ]
  },
  {
   "cell_type": "code",
   "execution_count": 41,
   "metadata": {},
   "outputs": [
    {
     "data": {
      "text/html": [
       "<div>\n",
       "<style scoped>\n",
       "    .dataframe tbody tr th:only-of-type {\n",
       "        vertical-align: middle;\n",
       "    }\n",
       "\n",
       "    .dataframe tbody tr th {\n",
       "        vertical-align: top;\n",
       "    }\n",
       "\n",
       "    .dataframe thead th {\n",
       "        text-align: right;\n",
       "    }\n",
       "</style>\n",
       "<table border=\"1\" class=\"dataframe\">\n",
       "  <thead>\n",
       "    <tr style=\"text-align: right;\">\n",
       "      <th></th>\n",
       "      <th>Population</th>\n",
       "      <th>Annual Growth Rate (%)</th>\n",
       "      <th>Annual Population Change</th>\n",
       "    </tr>\n",
       "    <tr>\n",
       "      <th>Year</th>\n",
       "      <th></th>\n",
       "      <th></th>\n",
       "      <th></th>\n",
       "    </tr>\n",
       "  </thead>\n",
       "  <tbody>\n",
       "    <tr>\n",
       "      <th>1950-03-31</th>\n",
       "      <td>2.557629e+09</td>\n",
       "      <td>1.459</td>\n",
       "      <td>37311223.0</td>\n",
       "    </tr>\n",
       "    <tr>\n",
       "      <th>1950-06-30</th>\n",
       "      <td>2.557629e+09</td>\n",
       "      <td>1.459</td>\n",
       "      <td>37311223.0</td>\n",
       "    </tr>\n",
       "    <tr>\n",
       "      <th>1950-09-30</th>\n",
       "      <td>2.557629e+09</td>\n",
       "      <td>1.459</td>\n",
       "      <td>37311223.0</td>\n",
       "    </tr>\n",
       "    <tr>\n",
       "      <th>1950-12-31</th>\n",
       "      <td>2.557629e+09</td>\n",
       "      <td>1.459</td>\n",
       "      <td>37311223.0</td>\n",
       "    </tr>\n",
       "    <tr>\n",
       "      <th>1951-03-31</th>\n",
       "      <td>2.594940e+09</td>\n",
       "      <td>1.612</td>\n",
       "      <td>41832429.0</td>\n",
       "    </tr>\n",
       "  </tbody>\n",
       "</table>\n",
       "</div>"
      ],
      "text/plain": [
       "              Population  Annual Growth Rate (%)  Annual Population Change\n",
       "Year                                                                      \n",
       "1950-03-31  2.557629e+09                   1.459                37311223.0\n",
       "1950-06-30  2.557629e+09                   1.459                37311223.0\n",
       "1950-09-30  2.557629e+09                   1.459                37311223.0\n",
       "1950-12-31  2.557629e+09                   1.459                37311223.0\n",
       "1951-03-31  2.594940e+09                   1.612                41832429.0"
      ]
     },
     "execution_count": 41,
     "metadata": {},
     "output_type": "execute_result"
    }
   ],
   "source": [
    "pop_growth.resample('1Q').ffill().head()"
   ]
  },
  {
   "cell_type": "markdown",
   "metadata": {},
   "source": [
    "Pandas' time series capabilities are built on the Pandas `Timestamp` class."
   ]
  },
  {
   "cell_type": "code",
   "execution_count": 42,
   "metadata": {},
   "outputs": [
    {
     "name": "stdout",
     "output_type": "stream",
     "text": [
      "2017-01-08 00:00:00\n",
      "2017-01-08 20:13:00\n",
      "2017-01-08 18:26:40\n"
     ]
    }
   ],
   "source": [
    "print(pd.Timestamp('January 8, 2017'))\n",
    "print(pd.Timestamp('01/08/17 20:13'))\n",
    "print(pd.Timestamp(1.4839*10**18))"
   ]
  },
  {
   "cell_type": "code",
   "execution_count": 43,
   "metadata": {},
   "outputs": [
    {
     "name": "stdout",
     "output_type": "stream",
     "text": [
      "191 days 09:16:00\n"
     ]
    }
   ],
   "source": [
    "print(pd.Timestamp('Feb. 11 2016 2:30 am') - pd.Timestamp('2015-08-03 5:14 pm'))"
   ]
  },
  {
   "cell_type": "code",
   "execution_count": 44,
   "metadata": {},
   "outputs": [
    {
     "name": "stdout",
     "output_type": "stream",
     "text": [
      "2017-01-05 00:00:00\n",
      "2017-01-03 00:00:00\n",
      "2017-04-28 00:00:00\n"
     ]
    }
   ],
   "source": [
    "from pandas.tseries.offsets import BDay, Day, BMonthEnd\n",
    "\n",
    "print(pd.Timestamp('January 9, 2017') - Day(4))\n",
    "print(pd.Timestamp('January 9, 2017') - BDay(4))\n",
    "print(pd.Timestamp('January 9, 2017') + BMonthEnd(4))"
   ]
  },
  {
   "cell_type": "markdown",
   "metadata": {},
   "source": [
    "If we're entering time series data into a DataFrame it will often be useful to create a range of dates."
   ]
  },
  {
   "cell_type": "code",
   "execution_count": 45,
   "metadata": {},
   "outputs": [
    {
     "data": {
      "text/plain": [
       "DatetimeIndex(['2017-01-09', '2017-01-10', '2017-01-11', '2017-01-12',\n",
       "               '2017-01-13', '2017-01-16', '2017-01-17', '2017-01-18',\n",
       "               '2017-01-19', '2017-01-20', '2017-01-23', '2017-01-24',\n",
       "               '2017-01-25', '2017-01-26', '2017-01-27', '2017-01-30',\n",
       "               '2017-01-31', '2017-02-01', '2017-02-02', '2017-02-03',\n",
       "               '2017-02-06', '2017-02-07', '2017-02-08', '2017-02-09',\n",
       "               '2017-02-10', '2017-02-13', '2017-02-14', '2017-02-15',\n",
       "               '2017-02-16', '2017-02-17', '2017-02-20', '2017-02-21',\n",
       "               '2017-02-22', '2017-02-23', '2017-02-24', '2017-02-27',\n",
       "               '2017-02-28', '2017-03-01', '2017-03-02'],\n",
       "              dtype='datetime64[ns]', freq='B')"
      ]
     },
     "execution_count": 45,
     "metadata": {},
     "output_type": "execute_result"
    }
   ],
   "source": [
    "pd.date_range(start='1/8/2017', end='3/2/2017', freq='B')"
   ]
  },
  {
   "cell_type": "markdown",
   "metadata": {},
   "source": [
    "The `Timestamp` class is compatible with Python's `datetime` module."
   ]
  },
  {
   "cell_type": "code",
   "execution_count": 46,
   "metadata": {},
   "outputs": [
    {
     "data": {
      "text/plain": [
       "Timedelta('113 days 00:00:00')"
      ]
     },
     "execution_count": 46,
     "metadata": {},
     "output_type": "execute_result"
    }
   ],
   "source": [
    "import datetime\n",
    "\n",
    "pd.Timestamp('May 1, 2017') - datetime.datetime(2017, 1, 8)"
   ]
  },
  {
   "cell_type": "markdown",
   "metadata": {},
   "source": [
    "## Visualizing data with Pandas\n",
    "\n",
    "Visualizing a data set is an important first step in drawing insights. We can easily pass data from Pandas to Matplotlib for visualizations, but Pandas also plugs into Matplotlib directly through methods like `plot` and `hist`."
   ]
  },
  {
   "cell_type": "code",
   "execution_count": 14,
   "metadata": {},
   "outputs": [
    {
     "data": {
      "image/png": "[encoded data removed]",
      "text/plain": [
       "<Figure size 432x288 with 1 Axes>"
      ]
     },
     "metadata": {},
     "output_type": "display_data"
    }
   ],
   "source": [
    "import numpy as np\n",
    "yelp_df['review_count'].apply(np.log).hist(bins=30);"
   ]
  },
  {
   "cell_type": "code",
   "execution_count": 48,
   "metadata": {},
   "outputs": [
    {
     "data": {
      "image/png": "[encoded data removed]",
      "text/plain": [
       "<Figure size 432x288 with 1 Axes>"
      ]
     },
     "metadata": {},
     "output_type": "display_data"
    }
   ],
   "source": [
    "pop_growth['Annual Growth Rate (%)'].plot();"
   ]
  },
  {
   "cell_type": "markdown",
   "metadata": {},
   "source": [
    "The [plotting functions take many parameters](https://pandas.pydata.org/pandas-docs/stable/generated/pandas.DataFrame.plot.html) for customizing the appearance of the output. Since they are essentially a wrapper around the Matplotlib functions, they also accept many of the Matplotlib parameters, not all of which are listed in the Pandas documentation. Pandas provides [a guide](https://pandas.pydata.org/pandas-docs/stable/visualization.html) to making various plots from DataFrames."
   ]
  },
  {
   "cell_type": "markdown",
   "metadata": {},
   "source": [
    "*Copyright &copy; 2021 WorldQuant University. This content is licensed solely for personal use. Redistribution or publication of this material is strictly prohibited.*"
   ]
  }
 ],
 "metadata": {
  "kernelspec": {
   "display_name": "Python 3",
   "language": "python",
   "name": "python3"
  },
  "language_info": {
   "codemirror_mode": {
    "name": "ipython",
    "version": 3
   },
   "file_extension": ".py",
   "mimetype": "text/x-python",
   "name": "python",
   "nbconvert_exporter": "python",
   "pygments_lexer": "ipython3",
   "version": "3.8.8"
  },
  "nbclean": true
 },
 "nbformat": 4,
 "nbformat_minor": 1
}
