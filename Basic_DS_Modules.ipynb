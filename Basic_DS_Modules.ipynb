{
 "cells": [
  {
   "cell_type": "code",
   "execution_count": 1,
   "metadata": {
    "init_cell": true
   },
   "outputs": [],
   "source": [
    "%logstop\n",
    "%logstart -rtq ~/.logs/DS_Basic_DS_Modules.py append\n",
    "import seaborn as sns\n",
    "sns.set()"
   ]
  },
  {
   "cell_type": "code",
   "execution_count": 2,
   "metadata": {},
   "outputs": [],
   "source": [
    "import expectexception"
   ]
  },
  {
   "cell_type": "markdown",
   "metadata": {},
   "source": [
    "# Basic data tools: NumPy, Matplotlib, Pandas\n",
    "\n",
    "Python is a powerful and flexible programming language, but it doesn't have built-in tools for mathematical analysis or data visualization. For most data analysis we will rely on some helpful libraries. We'll explore three libraries that are very common for data analysis and visualization."
   ]
  },
  {
   "cell_type": "markdown",
   "metadata": {},
   "source": [
    "## NumPy\n",
    "\n",
    "First among these is NumPy. The main NumPy features are three-fold: its mathematical functions (e.g. `sin`, `log`, `floor`), its `random` submodule (useful for random sampling), and the NumPy `ndarray` object.\n",
    "\n",
    "A NumPy array is similar to a mathematical n-dimensional matrix. For example, \n",
    "\n",
    "$$\\begin{bmatrix}\n",
    "    x_{11} & x_{12} & x_{13} & \\dots  & x_{1n} \\\\\n",
    "    x_{21} & x_{22} & x_{23} & \\dots  & x_{2n} \\\\\n",
    "    \\vdots & \\vdots & \\vdots & \\ddots & \\vdots \\\\\n",
    "    x_{d1} & x_{d2} & x_{d3} & \\dots  & x_{dn}\n",
    "\\end{bmatrix}$$\n",
    "\n",
    "A NumPy array could be 1-dimensional (e.g. [1, 5, 20, 34, ...]), 2-dimensional (as above), or many dimensions. It's important to note that all the rows and columns of the 2-dimensional array are the same length. That will be true for all dimensions of arrays.\n",
    "\n",
    "Let's contrast this with lists."
   ]
  },
  {
   "cell_type": "code",
   "execution_count": 3,
   "metadata": {},
   "outputs": [],
   "source": [
    "# to access NumPy, we have to import it\n",
    "import numpy as np"
   ]
  },
  {
   "cell_type": "code",
   "execution_count": 4,
   "metadata": {},
   "outputs": [
    {
     "name": "stdout",
     "output_type": "stream",
     "text": [
      "[[1, 2, 3], [4, 5, 6], [7, 8, 9]]\n"
     ]
    }
   ],
   "source": [
    "list_of_lists = [[1, 2, 3], [4, 5, 6], [7, 8, 9]]\n",
    "print(list_of_lists)"
   ]
  },
  {
   "cell_type": "code",
   "execution_count": 5,
   "metadata": {},
   "outputs": [
    {
     "name": "stdout",
     "output_type": "stream",
     "text": [
      "[[1 2 3]\n",
      " [4 5 6]\n",
      " [7 8 9]]\n"
     ]
    }
   ],
   "source": [
    "an_array = np.array(list_of_lists)\n",
    "print(an_array)"
   ]
  },
  {
   "cell_type": "code",
   "execution_count": 6,
   "metadata": {},
   "outputs": [
    {
     "name": "stdout",
     "output_type": "stream",
     "text": [
      "[[1, 2], [3, 4, 5], [6, 7, 8, 9]]\n"
     ]
    }
   ],
   "source": [
    "non_rectangular = [[1, 2], [3, 4, 5], [6, 7, 8, 9]]\n",
    "print(non_rectangular)"
   ]
  },
  {
   "cell_type": "code",
   "execution_count": 7,
   "metadata": {},
   "outputs": [
    {
     "name": "stdout",
     "output_type": "stream",
     "text": [
      "[list([1, 2]) list([3, 4, 5]) list([6, 7, 8, 9])]\n"
     ]
    },
    {
     "name": "stderr",
     "output_type": "stream",
     "text": [
      "<ipython-input-7-4acebf048af6>:1: VisibleDeprecationWarning: Creating an ndarray from ragged nested sequences (which is a list-or-tuple of lists-or-tuples-or ndarrays with different lengths or shapes) is deprecated. If you meant to do this, you must specify 'dtype=object' when creating the ndarray\n",
      "  non_rectangular_array = np.array(non_rectangular)\n"
     ]
    }
   ],
   "source": [
    "non_rectangular_array = np.array(non_rectangular)\n",
    "print(non_rectangular_array)"
   ]
  },
  {
   "cell_type": "markdown",
   "metadata": {},
   "source": [
    "Why did these print differently? Let's investigate their _shape_ and _data type_ (`dtype`)."
   ]
  },
  {
   "cell_type": "code",
   "execution_count": 8,
   "metadata": {},
   "outputs": [
    {
     "name": "stdout",
     "output_type": "stream",
     "text": [
      "(3, 3) int64\n",
      "(3,) object\n"
     ]
    }
   ],
   "source": [
    "print(an_array.shape, an_array.dtype)\n",
    "print(non_rectangular_array.shape, non_rectangular_array.dtype)"
   ]
  },
  {
   "cell_type": "code",
   "execution_count": 9,
   "metadata": {},
   "outputs": [
    {
     "data": {
      "text/plain": [
       "array([[ 1,  2,  3,  4,  5,  6,  7,  8,  9, 10],\n",
       "       [ 2,  4,  5,  2,  3,  7,  8,  9,  1,  3],\n",
       "       [ 9,  8, 10,  4,  2,  1,  5,  6,  3,  7],\n",
       "       [10,  9,  8,  7,  6,  5,  4,  3,  2,  1],\n",
       "       [ 5,  5,  6,  4,  3,  7,  8,  2,  1, 10],\n",
       "       [ 9,  6,  4,  3,  1,  6,  3, 10,  6,  6],\n",
       "       [ 1,  3,  5,  7,  9, 10,  2,  4,  6,  8],\n",
       "       [ 3,  4,  2,  6,  5,  2,  3,  7,  7,  9],\n",
       "       [ 6,  4,  7,  3,  1,  1,  9, 10,  8,  7],\n",
       "       [ 7,  8,  3,  1,  6,  6,  4,  5,  3,  3]])"
      ]
     },
     "execution_count": 9,
     "metadata": {},
     "output_type": "execute_result"
    }
   ],
   "source": [
    "list_ = [[1,2,3,4,5,6,7,8,9,10], [2,4,5,2,3,7,8,9,1,3], [9,8,10,4,2,1,5,6,3,7], [10,9,8,7,6,5,4,3,2,1], [5,5,6,4,3,7,8,2,1,10], [9,6,4,3,1,6,3,10,6,6], [1,3,5,7,9,10,2,4,6,8], [3,4,2,6,5,2,3,7,7,9], [6,4,7,3,1,1,9,10,8,7], [7,8,3,1,6,6,4,5,3,3]]\n",
    "rectangular_array = np.array(list_)\n",
    "rectangular_array"
   ]
  },
  {
   "cell_type": "markdown",
   "metadata": {},
   "source": [
    "The first case, `an_array`, is a 2-dimensional 3x3 array (of integers). In contrast, `non_rectangular_array` is a 1-dimensional length 3 array (of _objects_, namely `list` objects).\n",
    "\n",
    "We can also create a variety of arrays with NumPy's convenience functions."
   ]
  },
  {
   "cell_type": "code",
   "execution_count": 10,
   "metadata": {},
   "outputs": [
    {
     "data": {
      "text/plain": [
       "array([ 1.        ,  2.28571429,  3.57142857,  4.85714286,  6.14285714,\n",
       "        7.42857143,  8.71428571, 10.        ])"
      ]
     },
     "execution_count": 10,
     "metadata": {},
     "output_type": "execute_result"
    }
   ],
   "source": [
    "np.linspace(1, 10, 8)"
   ]
  },
  {
   "cell_type": "code",
   "execution_count": 11,
   "metadata": {},
   "outputs": [
    {
     "data": {
      "text/plain": [
       "array([1, 2, 3, 4, 5, 6, 7, 8, 9])"
      ]
     },
     "execution_count": 11,
     "metadata": {},
     "output_type": "execute_result"
    }
   ],
   "source": [
    "np.arange(1, 10, 1)"
   ]
  },
  {
   "cell_type": "code",
   "execution_count": 12,
   "metadata": {},
   "outputs": [
    {
     "data": {
      "text/plain": [
       "array([1, 2, 3, 4, 5, 6, 7, 8, 9])"
      ]
     },
     "execution_count": 12,
     "metadata": {},
     "output_type": "execute_result"
    }
   ],
   "source": [
    "np.array(range(1, 10))"
   ]
  },
  {
   "cell_type": "code",
   "execution_count": 13,
   "metadata": {},
   "outputs": [
    {
     "data": {
      "text/plain": [
       "array([1.60000000e+01, 2.56000000e+02, 4.09600000e+03, 6.55360000e+04,\n",
       "       1.04857600e+06, 1.67772160e+07, 2.68435456e+08, 4.29496730e+09,\n",
       "       6.87194767e+10, 1.09951163e+12])"
      ]
     },
     "execution_count": 13,
     "metadata": {},
     "output_type": "execute_result"
    }
   ],
   "source": [
    "log_ = np.logspace(1, 10, 10, base=16)\n",
    "log_"
   ]
  },
  {
   "cell_type": "code",
   "execution_count": 14,
   "metadata": {},
   "outputs": [
    {
     "name": "stdout",
     "output_type": "stream",
     "text": [
      "float64\n",
      "[           16           256          4096         65536       1048576\n",
      "      16777216     268435456    4294967296   68719476736 1099511627776]\n"
     ]
    }
   ],
   "source": [
    "print(log_.dtype)\n",
    "print(log_.astype(int))"
   ]
  },
  {
   "cell_type": "code",
   "execution_count": 15,
   "metadata": {
    "scrolled": true
   },
   "outputs": [
    {
     "data": {
      "text/plain": [
       "array([0., 0., 0., 0., 0., 0., 0., 0., 0., 0.])"
      ]
     },
     "execution_count": 15,
     "metadata": {},
     "output_type": "execute_result"
    }
   ],
   "source": [
    "np.zeros(10)"
   ]
  },
  {
   "cell_type": "code",
   "execution_count": 16,
   "metadata": {},
   "outputs": [
    {
     "data": {
      "text/plain": [
       "array([[0., 0., 0., 0., 0.],\n",
       "       [0., 0., 0., 0., 0.],\n",
       "       [0., 0., 0., 0., 0.],\n",
       "       [0., 0., 0., 0., 0.],\n",
       "       [0., 0., 0., 0., 0.],\n",
       "       [0., 0., 0., 0., 0.],\n",
       "       [0., 0., 0., 0., 0.],\n",
       "       [0., 0., 0., 0., 0.],\n",
       "       [0., 0., 0., 0., 0.],\n",
       "       [0., 0., 0., 0., 0.]])"
      ]
     },
     "execution_count": 16,
     "metadata": {},
     "output_type": "execute_result"
    }
   ],
   "source": [
    "np.zeros((10,5))"
   ]
  },
  {
   "cell_type": "code",
   "execution_count": 17,
   "metadata": {},
   "outputs": [
    {
     "data": {
      "text/plain": [
       "array([[[0., 0., 0., 0., 0.],\n",
       "        [0., 0., 0., 0., 0.],\n",
       "        [0., 0., 0., 0., 0.],\n",
       "        [0., 0., 0., 0., 0.],\n",
       "        [0., 0., 0., 0., 0.],\n",
       "        [0., 0., 0., 0., 0.],\n",
       "        [0., 0., 0., 0., 0.],\n",
       "        [0., 0., 0., 0., 0.],\n",
       "        [0., 0., 0., 0., 0.],\n",
       "        [0., 0., 0., 0., 0.]],\n",
       "\n",
       "       [[0., 0., 0., 0., 0.],\n",
       "        [0., 0., 0., 0., 0.],\n",
       "        [0., 0., 0., 0., 0.],\n",
       "        [0., 0., 0., 0., 0.],\n",
       "        [0., 0., 0., 0., 0.],\n",
       "        [0., 0., 0., 0., 0.],\n",
       "        [0., 0., 0., 0., 0.],\n",
       "        [0., 0., 0., 0., 0.],\n",
       "        [0., 0., 0., 0., 0.],\n",
       "        [0., 0., 0., 0., 0.]]])"
      ]
     },
     "execution_count": 17,
     "metadata": {},
     "output_type": "execute_result"
    }
   ],
   "source": [
    "np.zeros((2,10,5))"
   ]
  },
  {
   "cell_type": "code",
   "execution_count": 18,
   "metadata": {},
   "outputs": [
    {
     "data": {
      "text/plain": [
       "array([1., 1., 1., 1., 1., 1., 1., 1., 1., 1., 1., 1., 1., 1., 1., 1., 1.,\n",
       "       1., 1., 1., 1., 1., 1., 1., 1., 1., 1., 1., 1., 1., 1., 1., 1., 1.,\n",
       "       1., 1., 1., 1., 1., 1., 1., 1., 1., 1., 1., 1., 1., 1., 1., 1., 1.,\n",
       "       1., 1., 1., 1., 1., 1., 1., 1., 1., 1., 1., 1., 1., 1., 1., 1., 1.,\n",
       "       1., 1., 1., 1., 1., 1., 1., 1., 1., 1., 1., 1., 1., 1., 1., 1., 1.,\n",
       "       1., 1., 1., 1., 1., 1., 1., 1., 1., 1., 1., 1., 1., 1., 1.])"
      ]
     },
     "execution_count": 18,
     "metadata": {},
     "output_type": "execute_result"
    }
   ],
   "source": [
    "np.ones(100)"
   ]
  },
  {
   "cell_type": "code",
   "execution_count": 19,
   "metadata": {},
   "outputs": [
    {
     "data": {
      "text/plain": [
       "array([[1, 0, 0, 0],\n",
       "       [0, 2, 0, 0],\n",
       "       [0, 0, 3, 0],\n",
       "       [0, 0, 0, 4]])"
      ]
     },
     "execution_count": 19,
     "metadata": {},
     "output_type": "execute_result"
    }
   ],
   "source": [
    "np.diag([1,2,3,4])"
   ]
  },
  {
   "cell_type": "code",
   "execution_count": 20,
   "metadata": {},
   "outputs": [
    {
     "data": {
      "text/plain": [
       "array([[1., 0., 0., 0., 0., 0., 0., 0., 0., 0.],\n",
       "       [0., 1., 0., 0., 0., 0., 0., 0., 0., 0.],\n",
       "       [0., 0., 1., 0., 0., 0., 0., 0., 0., 0.],\n",
       "       [0., 0., 0., 1., 0., 0., 0., 0., 0., 0.],\n",
       "       [0., 0., 0., 0., 1., 0., 0., 0., 0., 0.],\n",
       "       [0., 0., 0., 0., 0., 1., 0., 0., 0., 0.],\n",
       "       [0., 0., 0., 0., 0., 0., 1., 0., 0., 0.],\n",
       "       [0., 0., 0., 0., 0., 0., 0., 1., 0., 0.],\n",
       "       [0., 0., 0., 0., 0., 0., 0., 0., 1., 0.],\n",
       "       [0., 0., 0., 0., 0., 0., 0., 0., 0., 1.]])"
      ]
     },
     "execution_count": 20,
     "metadata": {},
     "output_type": "execute_result"
    }
   ],
   "source": [
    "np.eye(10)"
   ]
  },
  {
   "cell_type": "markdown",
   "metadata": {},
   "source": [
    "We can also convert the `dtype` of an array after creation."
   ]
  },
  {
   "cell_type": "code",
   "execution_count": 21,
   "metadata": {},
   "outputs": [],
   "source": [
    "print(np.logspace(1, 10, 10).dtype)\n",
    "print(np.logspace(1, 10, 10).astype(int))"
   ]
  },
  {
   "cell_type": "code",
   "execution_count": 22,
   "metadata": {},
   "outputs": [],
   "source": [
    "print(np.array([False, True]).astype(int))"
   ]
  },
  {
   "cell_type": "markdown",
   "metadata": {},
   "source": [
    "Why does any of this matter?\n",
    "\n",
    "Arrays are often more efficient in terms of code as well as computational resources for certain calculations. Computationally this efficiency comes from the fact that we pre-allocate a contiguous block of memory for the results of our computation.\n",
    "\n",
    "To explore the advantages in code, let's try to do some math on these numbers.\n",
    "\n",
    "First let's simply calculate the sum of all the numbers and look at the differences in the necessary code for `list_of_lists`, `an_array`, and `non_rectangular_array`."
   ]
  },
  {
   "cell_type": "code",
   "execution_count": 23,
   "metadata": {},
   "outputs": [],
   "source": [
    "sum([4, 9.8, True])"
   ]
  },
  {
   "cell_type": "code",
   "execution_count": 24,
   "metadata": {},
   "outputs": [],
   "source": [
    "print(sum([sum(inner_list) for inner_list in list_of_lists]))\n",
    "print(an_array.sum())"
   ]
  },
  {
   "cell_type": "code",
   "execution_count": 25,
   "metadata": {},
   "outputs": [],
   "source": [
    "print([sum(inner_list) for inner_list in list_of_lists]) #add up all the rows\n",
    "print([sum(row[index] for row in list_of_lists) for index in range(len(list_of_lists[0]))]) #add up all the columns"
   ]
  },
  {
   "cell_type": "code",
   "execution_count": 26,
   "metadata": {},
   "outputs": [],
   "source": [
    "print(an_array.sum(axis=1)) #add up all the rows\n",
    "print(an_array.sum(axis=0)) #add up all the columns"
   ]
  },
  {
   "cell_type": "markdown",
   "metadata": {},
   "source": [
    "Summing the numbers in an array is much easier than for a list of lists. We don't have to dig into a hierarchy of lists, we just use the `sum` method of the `ndarray`. Does this still work for `non_rectangular_array`?"
   ]
  },
  {
   "cell_type": "code",
   "execution_count": 27,
   "metadata": {},
   "outputs": [],
   "source": [
    "non_rectangular_array"
   ]
  },
  {
   "cell_type": "code",
   "execution_count": 28,
   "metadata": {},
   "outputs": [],
   "source": [
    "# what happens here?\n",
    "print(non_rectangular_array.sum())"
   ]
  },
  {
   "cell_type": "markdown",
   "metadata": {},
   "source": [
    "Remember `non_rectangular_array` is a 1-dimensional array of `list` objects. The `sum` method tries to add them together: first list + second list + third list. Addition of lists results in _concatenation_."
   ]
  },
  {
   "cell_type": "code",
   "execution_count": 29,
   "metadata": {},
   "outputs": [],
   "source": [
    "# concatenate three lists\n",
    "print([1, 2] + [3, 4, 5] + [6, 7, 8, 9])"
   ]
  },
  {
   "cell_type": "markdown",
   "metadata": {},
   "source": [
    "The contrast becomes even more clear when we try to sum rows or columns individually."
   ]
  },
  {
   "cell_type": "code",
   "execution_count": 30,
   "metadata": {},
   "outputs": [],
   "source": [
    "print('Array row sums: ', an_array.sum(axis=1))\n",
    "print('Array column sums: ', an_array.sum(axis=0))"
   ]
  },
  {
   "cell_type": "code",
   "execution_count": 31,
   "metadata": {},
   "outputs": [],
   "source": [
    "print('List of list row sums: ', [sum(inner_list) for inner_list in list_of_lists])\n",
    "\n",
    "def column_sum(list_of_lists):\n",
    "    running_sums = [0] * len(list_of_lists[0])\n",
    "    for inner_list in list_of_lists:\n",
    "        for i, number in enumerate(inner_list):\n",
    "            running_sums[i] += number\n",
    "            \n",
    "    return running_sums\n",
    "\n",
    "print('List of list column sums: ', column_sum(list_of_lists))"
   ]
  },
  {
   "cell_type": "markdown",
   "metadata": {},
   "source": [
    "Generally it is much more natural to do mathematical operations with arrays than lists."
   ]
  },
  {
   "cell_type": "code",
   "execution_count": 32,
   "metadata": {},
   "outputs": [],
   "source": [
    "a = np.array([1, 2, 3, 4, 5])\n",
    "print(a + 5) # add a scalar\n",
    "print(a * 5) # multiply by a scalar\n",
    "print(a / 5) # divide by a scalar (note the float!)"
   ]
  },
  {
   "cell_type": "code",
   "execution_count": 33,
   "metadata": {},
   "outputs": [],
   "source": [
    "b = a + 1\n",
    "print(a + b) # add together two arrays\n",
    "print(a * b) # multiply two arrays (element-wise)\n",
    "print(a / b.astype(float)) # divide two arrays (element-wise)"
   ]
  },
  {
   "cell_type": "code",
   "execution_count": 98,
   "metadata": {},
   "outputs": [
    {
     "name": "stdout",
     "output_type": "stream",
     "text": [
      "[1 2 3 4 5] and [2 3 4 5 6]\n"
     ]
    }
   ],
   "source": [
    "#remember that now we have two lists\n",
    "print(a, 'and', b)"
   ]
  },
  {
   "cell_type": "markdown",
   "metadata": {},
   "source": [
    "Arrays can also be used for linear algebra, acting as vectors, matrices, tensors, etc."
   ]
  },
  {
   "cell_type": "code",
   "execution_count": 99,
   "metadata": {},
   "outputs": [
    {
     "name": "stdout",
     "output_type": "stream",
     "text": [
      "70\n",
      "\n",
      "[[ 2  3  4  5  6]\n",
      " [ 4  6  8 10 12]\n",
      " [ 6  9 12 15 18]\n",
      " [ 8 12 16 20 24]\n",
      " [10 15 20 25 30]]\n"
     ]
    }
   ],
   "source": [
    "print(np.dot(a, b)) # inner product of two arrays\n",
    "print('')\n",
    "print(np.outer(a, b)) # outer product of two arrays"
   ]
  },
  {
   "cell_type": "markdown",
   "metadata": {},
   "source": [
    "Arrays have a lot to offer us in terms of representing and analyzing data, since we can easily apply mathematical functions to data sets or sections of data sets. Most of the time we won't run into any trouble using arrays, but it's good to be mindful of the restrictions around shape and datatype.\n",
    "\n",
    "These restrictions around `shape` and `dtype` allow the `ndarray` objects to be much more performant compared to a general Python `list`.  There are few reasons for this, but the main two result from the typed nature of the `ndarray`, as this allows contiguous memory storage and consistent function lookup.  When a Python `list` is summed, Python needs to figure out at runtime the correct way in which to add each element of the list together.  When an `ndarray` is summed, `NumPy` already knows the type of the each element (and they are consistent), thus it can sum them without checking the correct add function for each element.\n",
    "\n",
    "Lets see this in action by doing some basic profiling.  First we will create a list of 100000 random elements and then time the sum function."
   ]
  },
  {
   "cell_type": "code",
   "execution_count": 100,
   "metadata": {},
   "outputs": [],
   "source": [
    "time_list = [np.random.random() for _ in range(100000)]\n",
    "time_arr = np.array(time_list)"
   ]
  },
  {
   "cell_type": "code",
   "execution_count": 101,
   "metadata": {},
   "outputs": [
    {
     "data": {
      "text/plain": [
       "[0.2855876797940563,\n",
       " 0.6535622219580249,\n",
       " 0.6555659009569733,\n",
       " 0.5924431854090763,\n",
       " 0.09966082484951289]"
      ]
     },
     "execution_count": 101,
     "metadata": {},
     "output_type": "execute_result"
    }
   ],
   "source": [
    "time_list[:5]"
   ]
  },
  {
   "cell_type": "code",
   "execution_count": 102,
   "metadata": {},
   "outputs": [
    {
     "name": "stdout",
     "output_type": "stream",
     "text": [
      "float64\n"
     ]
    }
   ],
   "source": [
    "print(time_arr.dtype)"
   ]
  },
  {
   "cell_type": "code",
   "execution_count": 104,
   "metadata": {},
   "outputs": [
    {
     "name": "stdout",
     "output_type": "stream",
     "text": [
      "948 µs ± 128 µs per loop (mean ± std. dev. of 7 runs, 1000 loops each)\n"
     ]
    }
   ],
   "source": [
    "%%timeit \n",
    "sum(time_list)"
   ]
  },
  {
   "cell_type": "code",
   "execution_count": 105,
   "metadata": {},
   "outputs": [
    {
     "name": "stdout",
     "output_type": "stream",
     "text": [
      "86 µs ± 16.3 µs per loop (mean ± std. dev. of 7 runs, 10000 loops each)\n"
     ]
    }
   ],
   "source": [
    "%%timeit\n",
    "np.sum(time_arr)"
   ]
  },
  {
   "cell_type": "markdown",
   "metadata": {},
   "source": [
    "### Universal functions\n",
    "\n",
    "`NumPy` defines a `ufunc` which allows it to efficiently run functions over arrays.  Many of these functions are built in, such as `np.cos`, and implemented in highly performance compiled `C` code.  These functions can perform `broadcasting` which allows them to automatically handle operations between arrays of different shapes, for example two arrays with the same shape, or an array and a scalar."
   ]
  },
  {
   "cell_type": "markdown",
   "metadata": {},
   "source": [
    "### Changing Shape\n",
    "\n",
    "Often we will want to take arrays that are one shape and transform them to a different shape more amenable to a specific operation."
   ]
  },
  {
   "cell_type": "code",
   "execution_count": 106,
   "metadata": {},
   "outputs": [
    {
     "name": "stdout",
     "output_type": "stream",
     "text": [
      "[ 1  2  3  4  5  6  7  8 11]\n"
     ]
    },
    {
     "ename": "IndexError",
     "evalue": "too many indices for array: array is 1-dimensional, but 2 were indexed",
     "output_type": "error",
     "traceback": [
      "\u001b[0;31m---------------------------------------------------------------------------\u001b[0m",
      "\u001b[0;31mIndexError\u001b[0m                                Traceback (most recent call last)",
      "\u001b[0;32m<ipython-input-106-3cb9dbe64c6a>\u001b[0m in \u001b[0;36m<module>\u001b[0;34m\u001b[0m\n\u001b[1;32m      1\u001b[0m \u001b[0mprint\u001b[0m\u001b[0;34m(\u001b[0m\u001b[0man_array\u001b[0m\u001b[0;34m)\u001b[0m\u001b[0;34m\u001b[0m\u001b[0;34m\u001b[0m\u001b[0m\n\u001b[0;32m----> 2\u001b[0;31m \u001b[0man_array\u001b[0m\u001b[0;34m[\u001b[0m\u001b[0;36m2\u001b[0m\u001b[0;34m,\u001b[0m \u001b[0;36m2\u001b[0m\u001b[0;34m]\u001b[0m \u001b[0;34m=\u001b[0m \u001b[0;36m11\u001b[0m\u001b[0;34m\u001b[0m\u001b[0;34m\u001b[0m\u001b[0m\n\u001b[0m\u001b[1;32m      3\u001b[0m \u001b[0mprint\u001b[0m\u001b[0;34m(\u001b[0m\u001b[0;34m''\u001b[0m\u001b[0;34m)\u001b[0m\u001b[0;34m\u001b[0m\u001b[0;34m\u001b[0m\u001b[0m\n\u001b[1;32m      4\u001b[0m \u001b[0mprint\u001b[0m\u001b[0;34m(\u001b[0m\u001b[0man_array\u001b[0m\u001b[0;34m)\u001b[0m\u001b[0;34m\u001b[0m\u001b[0;34m\u001b[0m\u001b[0m\n",
      "\u001b[0;31mIndexError\u001b[0m: too many indices for array: array is 1-dimensional, but 2 were indexed"
     ]
    }
   ],
   "source": [
    "print(an_array)\n",
    "an_array[2, 2] = 11\n",
    "print('')\n",
    "print(an_array)"
   ]
  },
  {
   "cell_type": "code",
   "execution_count": 107,
   "metadata": {},
   "outputs": [
    {
     "data": {
      "text/plain": [
       "array([[ 1],\n",
       "       [ 2],\n",
       "       [ 3],\n",
       "       [ 4],\n",
       "       [ 5],\n",
       "       [ 6],\n",
       "       [ 7],\n",
       "       [ 8],\n",
       "       [11]])"
      ]
     },
     "execution_count": 107,
     "metadata": {},
     "output_type": "execute_result"
    }
   ],
   "source": [
    "an_array.shape = (9, 1)\n",
    "an_array"
   ]
  },
  {
   "cell_type": "code",
   "execution_count": 108,
   "metadata": {},
   "outputs": [
    {
     "data": {
      "text/plain": [
       "array([[ 1,  2,  3,  4,  5,  6,  7,  8, 11]])"
      ]
     },
     "execution_count": 108,
     "metadata": {},
     "output_type": "execute_result"
    }
   ],
   "source": [
    "an_array.shape = (1, 9)\n",
    "an_array"
   ]
  },
  {
   "cell_type": "code",
   "execution_count": 109,
   "metadata": {},
   "outputs": [
    {
     "data": {
      "text/plain": [
       "array([ 1,  2,  3,  4,  5,  6,  7,  8, 11])"
      ]
     },
     "execution_count": 109,
     "metadata": {},
     "output_type": "execute_result"
    }
   ],
   "source": [
    "an_array.shape = (9,)\n",
    "an_array"
   ]
  },
  {
   "cell_type": "code",
   "execution_count": 110,
   "metadata": {},
   "outputs": [
    {
     "data": {
      "text/plain": [
       "array([[0.37545438, 0.40342636, 0.1706661 , 0.04569854, 0.06507419,\n",
       "        0.61561545, 0.96839031, 0.08438775, 0.63946789, 0.12028245],\n",
       "       [0.57687037, 0.44301648, 0.03483068, 0.35704228, 0.78574077,\n",
       "        0.19597432, 0.51801124, 0.25570742, 0.92539417, 0.92724312],\n",
       "       [0.72656093, 0.69057806, 0.55193886, 0.78490329, 0.98346066,\n",
       "        0.96170262, 0.80873239, 0.1361643 , 0.86141129, 0.59206785],\n",
       "       [0.53335071, 0.54495861, 0.25425594, 0.2067614 , 0.4484689 ,\n",
       "        0.63305487, 0.65110734, 0.52314294, 0.82108265, 0.92247412],\n",
       "       [0.21505063, 0.73747147, 0.23252676, 0.84513773, 0.50741615,\n",
       "        0.3721004 , 0.76480919, 0.07341299, 0.56922551, 0.54586349]])"
      ]
     },
     "execution_count": 110,
     "metadata": {},
     "output_type": "execute_result"
    }
   ],
   "source": [
    "mat = np.random.rand(20, 10)\n",
    "mat[:5]"
   ]
  },
  {
   "cell_type": "code",
   "execution_count": 111,
   "metadata": {},
   "outputs": [
    {
     "data": {
      "text/plain": [
       "(40, 5)"
      ]
     },
     "execution_count": 111,
     "metadata": {},
     "output_type": "execute_result"
    }
   ],
   "source": [
    "mat.reshape(40, 5).shape"
   ]
  },
  {
   "cell_type": "code",
   "execution_count": 112,
   "metadata": {},
   "outputs": [
    {
     "name": "stdout",
     "output_type": "stream",
     "text": [
      "\u001b[0;31m---------------------------------------------------------------------------\u001b[0m\n",
      "\u001b[0;31mValueError\u001b[0m                                Traceback (most recent call last)\n",
      "\u001b[0;32m<ipython-input-112-61df77923c88>\u001b[0m in \u001b[0;36m<module>\u001b[0;34m\u001b[0m\n",
      "\u001b[0;32m----> 1\u001b[0;31m \u001b[0mmat\u001b[0m\u001b[0;34m.\u001b[0m\u001b[0mreshape\u001b[0m\u001b[0;34m(\u001b[0m\u001b[0;36m30\u001b[0m\u001b[0;34m,\u001b[0m \u001b[0;36m5\u001b[0m\u001b[0;34m)\u001b[0m\u001b[0;34m\u001b[0m\u001b[0;34m\u001b[0m\u001b[0m\n",
      "\u001b[0m\n",
      "\u001b[0;31mValueError\u001b[0m: cannot reshape array of size 200 into shape (30,5)\n"
     ]
    }
   ],
   "source": [
    "%%expect_exception ValueError\n",
    "\n",
    "mat.reshape(30, 5)"
   ]
  },
  {
   "cell_type": "code",
   "execution_count": 113,
   "metadata": {},
   "outputs": [
    {
     "data": {
      "text/plain": [
       "(200,)"
      ]
     },
     "execution_count": 113,
     "metadata": {},
     "output_type": "execute_result"
    }
   ],
   "source": [
    "mat.ravel().shape #ravel() makes it 1-dimensional array"
   ]
  },
  {
   "cell_type": "code",
   "execution_count": 114,
   "metadata": {},
   "outputs": [
    {
     "name": "stdout",
     "output_type": "stream",
     "text": [
      "[[0.37545438 0.40342636 0.1706661  0.04569854 0.06507419 0.61561545\n",
      "  0.96839031 0.08438775 0.63946789 0.12028245]\n",
      " [0.57687037 0.44301648 0.03483068 0.35704228 0.78574077 0.19597432\n",
      "  0.51801124 0.25570742 0.92539417 0.92724312]\n",
      " [0.72656093 0.69057806 0.55193886 0.78490329 0.98346066 0.96170262\n",
      "  0.80873239 0.1361643  0.86141129 0.59206785]\n",
      " [0.53335071 0.54495861 0.25425594 0.2067614  0.4484689  0.63305487\n",
      "  0.65110734 0.52314294 0.82108265 0.92247412]\n",
      " [0.21505063 0.73747147 0.23252676 0.84513773 0.50741615 0.3721004\n",
      "  0.76480919 0.07341299 0.56922551 0.54586349]\n",
      " [0.86772196 0.31815747 0.30408875 0.09412452 0.54325551 0.02401929\n",
      "  0.93709485 0.23698649 0.44466735 0.1548605 ]\n",
      " [0.33595706 0.91267569 0.98002218 0.28504933 0.81685583 0.16226408\n",
      "  0.13768993 0.13716392 0.94244573 0.70007997]\n",
      " [0.57862272 0.19008913 0.5298808  0.9941068  0.82584197 0.98663148\n",
      "  0.01215406 0.5558139  0.2913726  0.33129403]\n",
      " [0.05698614 0.67309869 0.85395172 0.24494922 0.52266457 0.05211859\n",
      "  0.28061353 0.22240898 0.9757406  0.50081572]\n",
      " [0.21640632 0.13225262 0.77617269 0.04526723 0.13748766 0.05121004\n",
      "  0.36684896 0.9435826  0.23537148 0.3750144 ]\n",
      " [0.73396105 0.20387316 0.28660021 0.38693246 0.95432219 0.54431985\n",
      "  0.43777349 0.4015111  0.38941408 0.90921509]\n",
      " [0.77751974 0.18763065 0.31896023 0.84790509 0.75030535 0.10368542\n",
      "  0.40800177 0.49070268 0.85740507 0.85282527]\n",
      " [0.15101341 0.585648   0.9431457  0.07677332 0.35854784 0.33735745\n",
      "  0.17148788 0.97875424 0.70794796 0.68403582]\n",
      " [0.04898646 0.38417279 0.62181629 0.48645776 0.72490158 0.82742594\n",
      "  0.76143425 0.94373305 0.55358568 0.85314865]\n",
      " [0.98338077 0.5107395  0.01457476 0.32648972 0.53762055 0.6804579\n",
      "  0.59212922 0.64792259 0.72260616 0.49658589]\n",
      " [0.82804517 0.66569542 0.77585453 0.66100513 0.10802642 0.15503286\n",
      "  0.16981118 0.04881349 0.21872931 0.56003414]\n",
      " [0.05988311 0.28354139 0.62312709 0.19990476 0.19757276 0.82705707\n",
      "  0.54924936 0.31359137 0.54879765 0.42811058]\n",
      " [0.95091594 0.20137034 0.66431838 0.91307146 0.72160038 0.38731474\n",
      "  0.74637996 0.23232397 0.71698683 0.78650109]\n",
      " [0.3759186  0.55500146 0.56447123 0.55605076 0.2003346  0.63139692\n",
      "  0.40628759 0.13343698 0.05551755 0.82348203]\n",
      " [0.75912216 0.93140155 0.47796291 0.61364793 0.06346797 0.30101395\n",
      "  0.75126502 0.27607107 0.11224594 0.0620863 ]]\n",
      "\n",
      "[[0.37545438 0.57687037 0.72656093 0.53335071 0.21505063 0.86772196\n",
      "  0.33595706 0.57862272 0.05698614 0.21640632 0.73396105 0.77751974\n",
      "  0.15101341 0.04898646 0.98338077 0.82804517 0.05988311 0.95091594\n",
      "  0.3759186  0.75912216]\n",
      " [0.40342636 0.44301648 0.69057806 0.54495861 0.73747147 0.31815747\n",
      "  0.91267569 0.19008913 0.67309869 0.13225262 0.20387316 0.18763065\n",
      "  0.585648   0.38417279 0.5107395  0.66569542 0.28354139 0.20137034\n",
      "  0.55500146 0.93140155]\n",
      " [0.1706661  0.03483068 0.55193886 0.25425594 0.23252676 0.30408875\n",
      "  0.98002218 0.5298808  0.85395172 0.77617269 0.28660021 0.31896023\n",
      "  0.9431457  0.62181629 0.01457476 0.77585453 0.62312709 0.66431838\n",
      "  0.56447123 0.47796291]\n",
      " [0.04569854 0.35704228 0.78490329 0.2067614  0.84513773 0.09412452\n",
      "  0.28504933 0.9941068  0.24494922 0.04526723 0.38693246 0.84790509\n",
      "  0.07677332 0.48645776 0.32648972 0.66100513 0.19990476 0.91307146\n",
      "  0.55605076 0.61364793]\n",
      " [0.06507419 0.78574077 0.98346066 0.4484689  0.50741615 0.54325551\n",
      "  0.81685583 0.82584197 0.52266457 0.13748766 0.95432219 0.75030535\n",
      "  0.35854784 0.72490158 0.53762055 0.10802642 0.19757276 0.72160038\n",
      "  0.2003346  0.06346797]\n",
      " [0.61561545 0.19597432 0.96170262 0.63305487 0.3721004  0.02401929\n",
      "  0.16226408 0.98663148 0.05211859 0.05121004 0.54431985 0.10368542\n",
      "  0.33735745 0.82742594 0.6804579  0.15503286 0.82705707 0.38731474\n",
      "  0.63139692 0.30101395]\n",
      " [0.96839031 0.51801124 0.80873239 0.65110734 0.76480919 0.93709485\n",
      "  0.13768993 0.01215406 0.28061353 0.36684896 0.43777349 0.40800177\n",
      "  0.17148788 0.76143425 0.59212922 0.16981118 0.54924936 0.74637996\n",
      "  0.40628759 0.75126502]\n",
      " [0.08438775 0.25570742 0.1361643  0.52314294 0.07341299 0.23698649\n",
      "  0.13716392 0.5558139  0.22240898 0.9435826  0.4015111  0.49070268\n",
      "  0.97875424 0.94373305 0.64792259 0.04881349 0.31359137 0.23232397\n",
      "  0.13343698 0.27607107]\n",
      " [0.63946789 0.92539417 0.86141129 0.82108265 0.56922551 0.44466735\n",
      "  0.94244573 0.2913726  0.9757406  0.23537148 0.38941408 0.85740507\n",
      "  0.70794796 0.55358568 0.72260616 0.21872931 0.54879765 0.71698683\n",
      "  0.05551755 0.11224594]\n",
      " [0.12028245 0.92724312 0.59206785 0.92247412 0.54586349 0.1548605\n",
      "  0.70007997 0.33129403 0.50081572 0.3750144  0.90921509 0.85282527\n",
      "  0.68403582 0.85314865 0.49658589 0.56003414 0.42811058 0.78650109\n",
      "  0.82348203 0.0620863 ]]\n",
      "\n",
      "(10, 20)\n"
     ]
    }
   ],
   "source": [
    "print(mat)\n",
    "print('')\n",
    "print(mat.transpose()) #transpose() exchanges row and column means every rows replaced by columns and vice versa\n",
    "print('')\n",
    "print(mat.transpose().shape)"
   ]
  },
  {
   "cell_type": "markdown",
   "metadata": {},
   "source": [
    "### Combining arrays"
   ]
  },
  {
   "cell_type": "code",
   "execution_count": 115,
   "metadata": {},
   "outputs": [
    {
     "name": "stdout",
     "output_type": "stream",
     "text": [
      "[1 2 3 4 5]\n",
      "[2 3 4 5 6]\n"
     ]
    }
   ],
   "source": [
    "print(a)\n",
    "print(b)"
   ]
  },
  {
   "cell_type": "code",
   "execution_count": 116,
   "metadata": {},
   "outputs": [
    {
     "data": {
      "text/plain": [
       "array([1, 2, 3, 4, 5, 2, 3, 4, 5, 6])"
      ]
     },
     "execution_count": 116,
     "metadata": {},
     "output_type": "execute_result"
    }
   ],
   "source": [
    "np.hstack((a, b))"
   ]
  },
  {
   "cell_type": "code",
   "execution_count": 117,
   "metadata": {},
   "outputs": [
    {
     "data": {
      "text/plain": [
       "array([[1, 2, 3, 4, 5],\n",
       "       [2, 3, 4, 5, 6]])"
      ]
     },
     "execution_count": 117,
     "metadata": {},
     "output_type": "execute_result"
    }
   ],
   "source": [
    "np.vstack((a, b))"
   ]
  },
  {
   "cell_type": "code",
   "execution_count": 118,
   "metadata": {},
   "outputs": [
    {
     "data": {
      "text/plain": [
       "array([[[1, 2],\n",
       "        [2, 3],\n",
       "        [3, 4],\n",
       "        [4, 5],\n",
       "        [5, 6]]])"
      ]
     },
     "execution_count": 118,
     "metadata": {},
     "output_type": "execute_result"
    }
   ],
   "source": [
    "np.dstack((a, b))"
   ]
  },
  {
   "cell_type": "code",
   "execution_count": 119,
   "metadata": {},
   "outputs": [
    {
     "data": {
      "text/plain": [
       "array([[[ 1.,  1.],\n",
       "        [ 2.,  0.],\n",
       "        [ 3.,  0.],\n",
       "        [ 4.,  0.],\n",
       "        [ 5.,  0.],\n",
       "        [ 6.,  0.],\n",
       "        [ 7.,  0.],\n",
       "        [ 8.,  0.],\n",
       "        [ 9.,  0.],\n",
       "        [10.,  0.]],\n",
       "\n",
       "       [[ 2.,  0.],\n",
       "        [ 4.,  1.],\n",
       "        [ 5.,  0.],\n",
       "        [ 2.,  0.],\n",
       "        [ 3.,  0.],\n",
       "        [ 7.,  0.],\n",
       "        [ 8.,  0.],\n",
       "        [ 9.,  0.],\n",
       "        [ 1.,  0.],\n",
       "        [ 3.,  0.]],\n",
       "\n",
       "       [[ 9.,  0.],\n",
       "        [ 8.,  0.],\n",
       "        [10.,  1.],\n",
       "        [ 4.,  0.],\n",
       "        [ 2.,  0.],\n",
       "        [ 1.,  0.],\n",
       "        [ 5.,  0.],\n",
       "        [ 6.,  0.],\n",
       "        [ 3.,  0.],\n",
       "        [ 7.,  0.]],\n",
       "\n",
       "       [[10.,  0.],\n",
       "        [ 9.,  0.],\n",
       "        [ 8.,  0.],\n",
       "        [ 7.,  1.],\n",
       "        [ 6.,  0.],\n",
       "        [ 5.,  0.],\n",
       "        [ 4.,  0.],\n",
       "        [ 3.,  0.],\n",
       "        [ 2.,  0.],\n",
       "        [ 1.,  0.]],\n",
       "\n",
       "       [[ 5.,  0.],\n",
       "        [ 5.,  0.],\n",
       "        [ 6.,  0.],\n",
       "        [ 4.,  0.],\n",
       "        [ 3.,  1.],\n",
       "        [ 7.,  0.],\n",
       "        [ 8.,  0.],\n",
       "        [ 2.,  0.],\n",
       "        [ 1.,  0.],\n",
       "        [10.,  0.]],\n",
       "\n",
       "       [[ 9.,  0.],\n",
       "        [ 6.,  0.],\n",
       "        [ 4.,  0.],\n",
       "        [ 3.,  0.],\n",
       "        [ 1.,  0.],\n",
       "        [ 6.,  1.],\n",
       "        [ 3.,  0.],\n",
       "        [10.,  0.],\n",
       "        [ 6.,  0.],\n",
       "        [ 6.,  0.]],\n",
       "\n",
       "       [[ 1.,  0.],\n",
       "        [ 3.,  0.],\n",
       "        [ 5.,  0.],\n",
       "        [ 7.,  0.],\n",
       "        [ 9.,  0.],\n",
       "        [10.,  0.],\n",
       "        [ 2.,  1.],\n",
       "        [ 4.,  0.],\n",
       "        [ 6.,  0.],\n",
       "        [ 8.,  0.]],\n",
       "\n",
       "       [[ 3.,  0.],\n",
       "        [ 4.,  0.],\n",
       "        [ 2.,  0.],\n",
       "        [ 6.,  0.],\n",
       "        [ 5.,  0.],\n",
       "        [ 2.,  0.],\n",
       "        [ 3.,  0.],\n",
       "        [ 7.,  1.],\n",
       "        [ 7.,  0.],\n",
       "        [ 9.,  0.]],\n",
       "\n",
       "       [[ 6.,  0.],\n",
       "        [ 4.,  0.],\n",
       "        [ 7.,  0.],\n",
       "        [ 3.,  0.],\n",
       "        [ 1.,  0.],\n",
       "        [ 1.,  0.],\n",
       "        [ 9.,  0.],\n",
       "        [10.,  0.],\n",
       "        [ 8.,  1.],\n",
       "        [ 7.,  0.]],\n",
       "\n",
       "       [[ 7.,  0.],\n",
       "        [ 8.,  0.],\n",
       "        [ 3.,  0.],\n",
       "        [ 1.,  0.],\n",
       "        [ 6.,  0.],\n",
       "        [ 6.,  0.],\n",
       "        [ 4.,  0.],\n",
       "        [ 5.,  0.],\n",
       "        [ 3.,  0.],\n",
       "        [ 3.,  1.]]])"
      ]
     },
     "execution_count": 119,
     "metadata": {},
     "output_type": "execute_result"
    }
   ],
   "source": [
    "c = list_\n",
    "d = np.eye(10)\n",
    "np.dstack((c,d))"
   ]
  },
  {
   "cell_type": "markdown",
   "metadata": {},
   "source": [
    "### Basic data aggregation\n",
    "\n",
    "Let's explore some more examples of using arrays, this time using NumPy's `random` submodule to create some \"fake data\". Simulating data is useful for testing and prototyping new techniques or code, and some algorithms even require random input."
   ]
  },
  {
   "cell_type": "code",
   "execution_count": 120,
   "metadata": {},
   "outputs": [
    {
     "name": "stdout",
     "output_type": "stream",
     "text": [
      "[[127 117  39 131  96  45 127]\n",
      " [146  99 112 141 124 128 176]\n",
      " [155 174  77  26 112 182  62]\n",
      " [154  45 185  82  46 113  73]]\n"
     ]
    }
   ],
   "source": [
    "np.random.seed(42)\n",
    "jan_coffee_sales = np.random.randint(25, 200, size=(4, 7))\n",
    "print(jan_coffee_sales)"
   ]
  },
  {
   "cell_type": "code",
   "execution_count": 121,
   "metadata": {},
   "outputs": [
    {
     "name": "stdout",
     "output_type": "stream",
     "text": [
      "[[127 117  39 131  96  45 127]\n",
      " [146  99 112 141 124 128 176]\n",
      " [155 174  77  26 112 182  62]\n",
      " [154  45 185  82  46 113  73]]\n"
     ]
    }
   ],
   "source": [
    "np.random.seed(42)\n",
    "print(np.random.randint(25, 200, size=(4, 7)))"
   ]
  },
  {
   "cell_type": "code",
   "execution_count": 122,
   "metadata": {},
   "outputs": [
    {
     "name": "stdout",
     "output_type": "stream",
     "text": [
      "Mean coffees sold per day in January: 110\n"
     ]
    }
   ],
   "source": [
    "# mean sales\n",
    "print('Mean coffees sold per day in January: %d' % jan_coffee_sales.mean())"
   ]
  },
  {
   "cell_type": "code",
   "execution_count": 123,
   "metadata": {},
   "outputs": [
    {
     "name": "stdout",
     "output_type": "stream",
     "text": [
      "The average of first week's sales: 97\n"
     ]
    }
   ],
   "source": [
    "print(\"The average of first week's sales: %d\" % jan_coffee_sales[0, :].mean())"
   ]
  },
  {
   "cell_type": "code",
   "execution_count": 124,
   "metadata": {},
   "outputs": [
    {
     "data": {
      "text/plain": [
       "array([127, 117,  39, 131,  96,  45, 127])"
      ]
     },
     "execution_count": 124,
     "metadata": {},
     "output_type": "execute_result"
    }
   ],
   "source": [
    "jan_coffee_sales[0,:]"
   ]
  },
  {
   "cell_type": "code",
   "execution_count": 125,
   "metadata": {},
   "outputs": [
    {
     "data": {
      "text/plain": [
       "array([127, 146, 155, 154])"
      ]
     },
     "execution_count": 125,
     "metadata": {},
     "output_type": "execute_result"
    }
   ],
   "source": [
    "jan_coffee_sales[:,0]"
   ]
  },
  {
   "cell_type": "code",
   "execution_count": 126,
   "metadata": {},
   "outputs": [
    {
     "data": {
      "text/plain": [
       "array([117,  99, 174,  45])"
      ]
     },
     "execution_count": 126,
     "metadata": {},
     "output_type": "execute_result"
    }
   ],
   "source": [
    "jan_coffee_sales[:,1] #in conclusion, it cannot be reversed"
   ]
  },
  {
   "cell_type": "code",
   "execution_count": 127,
   "metadata": {},
   "outputs": [
    {
     "data": {
      "text/plain": [
       "array([ 99, 112, 141, 124, 128])"
      ]
     },
     "execution_count": 127,
     "metadata": {},
     "output_type": "execute_result"
    }
   ],
   "source": [
    "jan_coffee_sales[1,1:-1]"
   ]
  },
  {
   "cell_type": "code",
   "execution_count": 128,
   "metadata": {},
   "outputs": [
    {
     "name": "stdout",
     "output_type": "stream",
     "text": [
      "Mean coffees sold on Monday in January: 108\n"
     ]
    }
   ],
   "source": [
    "# mean sales for Monday\n",
    "print('Mean coffees sold on Monday in January: %d' % jan_coffee_sales[:, 1].mean())"
   ]
  },
  {
   "cell_type": "code",
   "execution_count": 129,
   "metadata": {},
   "outputs": [
    {
     "data": {
      "text/plain": [
       "185"
      ]
     },
     "execution_count": 129,
     "metadata": {},
     "output_type": "execute_result"
    }
   ],
   "source": [
    "jan_coffee_sales.max()"
   ]
  },
  {
   "cell_type": "code",
   "execution_count": 130,
   "metadata": {},
   "outputs": [
    {
     "data": {
      "text/plain": [
       "23"
      ]
     },
     "execution_count": 130,
     "metadata": {},
     "output_type": "execute_result"
    }
   ],
   "source": [
    "jan_coffee_sales.argmax()"
   ]
  },
  {
   "cell_type": "code",
   "execution_count": 131,
   "metadata": {},
   "outputs": [
    {
     "name": "stdout",
     "output_type": "stream",
     "text": [
      "Day with highest sales was January 24\n"
     ]
    }
   ],
   "source": [
    "# day with most sales\n",
    "# remember we count dates from 1, not 0!\n",
    "print('Day with highest sales was January %d' % (jan_coffee_sales.argmax() + 1))"
   ]
  },
  {
   "cell_type": "code",
   "execution_count": 132,
   "metadata": {},
   "outputs": [
    {
     "data": {
      "text/plain": [
       "23"
      ]
     },
     "execution_count": 132,
     "metadata": {},
     "output_type": "execute_result"
    }
   ],
   "source": [
    "jan_coffee_sales_list = jan_coffee_sales.ravel().tolist()\n",
    "jan_coffee_sales_list.index(max(jan_coffee_sales_list))"
   ]
  },
  {
   "cell_type": "code",
   "execution_count": 133,
   "metadata": {},
   "outputs": [
    {
     "name": "stdout",
     "output_type": "stream",
     "text": [
      "26\n"
     ]
    }
   ],
   "source": [
    "print(min(jan_coffee_sales_list))"
   ]
  },
  {
   "cell_type": "code",
   "execution_count": 134,
   "metadata": {},
   "outputs": [
    {
     "name": "stdout",
     "output_type": "stream",
     "text": [
      "Day with lowest sales was January: 17\n"
     ]
    }
   ],
   "source": [
    "print('Day with lowest sales was January: %d' % jan_coffee_sales_list.index(min(jan_coffee_sales_list)))"
   ]
  },
  {
   "cell_type": "code",
   "execution_count": 135,
   "metadata": {},
   "outputs": [
    {
     "data": {
      "text/plain": [
       "[(Fraction(0, 1), 4.930380657631324e-32),\n",
       " (Fraction(1, 28), 11.81850804066758),\n",
       " (Fraction(1, 14), 3.0624177128282795),\n",
       " (Fraction(3, 28), 3.6145035763808577),\n",
       " (Fraction(1, 7), 8.992489334676053),\n",
       " (Fraction(5, 28), 3.689054592513946),\n",
       " (Fraction(3, 14), 8.363267066546037),\n",
       " (Fraction(1, 4), 16.615944819859244),\n",
       " (Fraction(2, 7), 0.6736105397207648),\n",
       " (Fraction(9, 28), 6.846412421396466),\n",
       " (Fraction(5, 14), 14.279717692527935),\n",
       " (Fraction(11, 28), 17.951272090034657),\n",
       " (Fraction(3, 7), 4.608890497088778),\n",
       " (Fraction(13, 28), 6.579601542582696)]"
      ]
     },
     "execution_count": 135,
     "metadata": {},
     "output_type": "execute_result"
    }
   ],
   "source": [
    "# is there a weekly periodicity?\n",
    "from fractions import Fraction\n",
    "\n",
    "normalized_sales = (jan_coffee_sales - jan_coffee_sales.mean()) / abs(jan_coffee_sales - jan_coffee_sales.mean()).max()\n",
    "frequencies = [Fraction.from_float(f).limit_denominator() for f in np.fft.fftfreq(normalized_sales.size)]\n",
    "power = np.abs(np.fft.fft(normalized_sales.ravel()))**2\n",
    "list(zip(frequencies, power))[:len(power) // 2]"
   ]
  },
  {
   "cell_type": "code",
   "execution_count": 136,
   "metadata": {},
   "outputs": [
    {
     "data": {
      "text/plain": [
       "array([4, 2, 4, 2, 2, 4, 8, 4, 2, 8, 4, 2, 6, 6, 4, 6, 2, 2, 4, 8, 8, 2,\n",
       "       8, 8, 8, 8, 8, 8, 2, 8, 8, 6, 4, 4, 4, 6, 2, 6])"
      ]
     },
     "execution_count": 136,
     "metadata": {},
     "output_type": "execute_result"
    }
   ],
   "source": [
    "np.array([n for n in np.random.randint(1, 10, 100) if n % 2 == 0])"
   ]
  },
  {
   "cell_type": "code",
   "execution_count": 137,
   "metadata": {},
   "outputs": [
    {
     "data": {
      "text/plain": [
       "array([4, 4, 6, 8, 8, 6, 8, 4, 4, 2, 8, 2, 2, 6, 2, 6, 4, 8, 6, 8, 4, 2,\n",
       "       6, 6, 6, 4, 4, 4, 4, 8, 2, 8, 2, 4, 2, 4, 8, 6, 8])"
      ]
     },
     "execution_count": 137,
     "metadata": {},
     "output_type": "execute_result"
    }
   ],
   "source": [
    "random_array = np.random.randint(1, 10, 100)\n",
    "random_array[random_array % 2 == 0]"
   ]
  },
  {
   "cell_type": "code",
   "execution_count": 138,
   "metadata": {},
   "outputs": [
    {
     "data": {
      "text/plain": [
       "array([ True, False, False, False, False, False, False, False,  True,\n",
       "       False, False, False,  True,  True, False, False, False, False,\n",
       "        True,  True,  True, False,  True, False, False,  True, False,\n",
       "        True, False, False, False, False,  True, False, False,  True,\n",
       "        True,  True, False, False, False, False, False,  True, False,\n",
       "        True, False,  True, False,  True, False,  True,  True, False,\n",
       "        True,  True,  True,  True, False, False,  True, False,  True,\n",
       "        True, False, False, False,  True, False,  True, False, False,\n",
       "        True, False,  True,  True, False, False, False,  True, False,\n",
       "       False, False, False,  True, False,  True, False, False, False,\n",
       "       False, False, False, False, False, False,  True,  True,  True,\n",
       "        True])"
      ]
     },
     "execution_count": 138,
     "metadata": {},
     "output_type": "execute_result"
    }
   ],
   "source": [
    "random_array % 2 == 0"
   ]
  },
  {
   "cell_type": "markdown",
   "metadata": {},
   "source": [
    "Some of the functions we used above do not exist in standard Python and are provided to us by NumPy. Additionally we see that we can use the shape of an array to help us compute statistics on a subset of our data (e.g. mean number of coffees sold on Mondays). But one of the most powerful things we can do to explore data is to simply visualize it."
   ]
  },
  {
   "cell_type": "markdown",
   "metadata": {},
   "source": [
    "## Matplotlib\n",
    "\n",
    "Matplotlib is the most popular Python plotting library. It allows us to visualize data quickly by providing a variety of types of graphs (e.g. bar, scatter, line, etc.). It also provides useful tools for arranging multiple images or image components within a figure, enabling us to build up more complex visualizations as we need to.\n",
    "\n",
    "Let's visualize some data! In the next cells, we'll generate some data. For now we'll be focusing on how the graphs are produced rather than how the data is made."
   ]
  },
  {
   "cell_type": "code",
   "execution_count": 139,
   "metadata": {},
   "outputs": [],
   "source": [
    "import matplotlib.pyplot as plt\n",
    "import numpy as np"
   ]
  },
  {
   "cell_type": "code",
   "execution_count": 140,
   "metadata": {},
   "outputs": [],
   "source": [
    "def gen_stock_price(days, initial_price):\n",
    "    # stock price grows or shrinks linearly\n",
    "    # not exceeding 10% per year (heuristic)\n",
    "    trend = initial_price * (1 + np.arange(days) * .1 / 365 * np.random.rand() * np.random.choice([1, -1]))\n",
    "    # noise will be about 2%\n",
    "    noise = .02 * np.random.randn(len(trend)) * trend\n",
    "    return trend + noise\n",
    "\n",
    "days = 365\n",
    "initial_prices = [80, 70, 65]"
   ]
  },
  {
   "cell_type": "code",
   "execution_count": 141,
   "metadata": {},
   "outputs": [
    {
     "data": {
      "text/plain": [
       "array([80.36206123, 81.33605454, 80.24068079, 77.9960789 , 81.59949047,\n",
       "       82.0203008 , 81.05673883, 78.33919872, 78.64478775, 78.02015259,\n",
       "       81.03438759, 81.80995585, 80.44369998, 81.24714503, 78.34408972,\n",
       "       79.94065789, 77.50540829, 78.43947111, 81.04947914, 79.24871884,\n",
       "       81.53643881, 80.44772214, 83.92358923, 79.70165201, 77.29589576,\n",
       "       79.45863912, 77.96301159, 81.02785515, 79.52188738, 79.21763302,\n",
       "       79.21909815, 80.57241666, 78.65903979, 80.59118743, 80.99750833,\n",
       "       78.77620431, 77.83081199, 78.46669656, 80.3862706 , 79.38770161,\n",
       "       80.21999293, 81.99479437, 79.54851615, 77.88254469, 80.81762044,\n",
       "       79.20566907, 80.48523064, 80.77189156, 77.5495182 , 81.23141341,\n",
       "       80.45768456, 78.05338206, 79.46914298, 79.3749543 , 78.98705735,\n",
       "       80.30621152, 81.17879933, 78.90242356, 80.97080793, 80.41041413,\n",
       "       79.19877135, 79.0907707 , 76.97730994, 76.40971257, 79.014616  ,\n",
       "       77.38739641, 78.65337387, 77.85479593, 75.86259201, 79.21949266,\n",
       "       77.98598321, 78.74458582, 77.19505815, 78.05337195, 81.01178257,\n",
       "       78.74258148, 79.38426173, 76.50642308, 82.23221765, 81.35560883,\n",
       "       80.58241129, 79.72380531, 78.42819208, 79.07802743, 80.00810258,\n",
       "       77.36115273, 77.63029254, 75.69305603, 77.07921944, 80.86878351,\n",
       "       77.72569371, 77.73202532, 78.70691666, 75.66919412, 79.64897808,\n",
       "       80.13092411, 78.72161292, 80.69240205, 76.02078987, 80.95257332,\n",
       "       76.91345377, 76.03718036, 77.64488254, 80.91600128, 77.94605007,\n",
       "       76.50287332, 75.91896427, 77.75418423, 74.7904469 , 75.85392428,\n",
       "       80.26247608, 79.90022626, 77.62084435, 77.07666284, 77.87280942,\n",
       "       81.41404728, 78.37255413, 79.13757614, 77.38932395, 77.77911545,\n",
       "       78.6702814 , 77.84139919, 74.68040654, 79.59423917, 76.632681  ,\n",
       "       80.84315647, 78.6135738 , 77.63888538, 78.19041871, 77.3217714 ,\n",
       "       76.71677985, 77.77257919, 78.80207096, 76.69288499, 76.42949995,\n",
       "       76.82306772, 78.82654734, 79.58089535, 77.87458014, 78.193999  ,\n",
       "       76.30266973, 78.61112416, 78.08925745, 76.12082336, 74.43795633,\n",
       "       75.29455598, 76.1264336 , 78.93230711, 79.51535748, 76.4230185 ,\n",
       "       76.45245084, 77.46506892, 77.06110376, 78.45699527, 76.19772589,\n",
       "       78.44539065, 76.59631933, 78.25928132, 76.50864077, 75.96316659,\n",
       "       79.82736081, 78.50488793, 74.09351333, 76.14185268, 78.65986803,\n",
       "       74.95161656, 77.95327533, 77.77445625, 75.65813508, 76.69807487,\n",
       "       73.48638543, 79.38756112, 76.17936957, 77.86575486, 77.55489304,\n",
       "       78.67498804, 75.91178884, 76.86801527, 77.3923255 , 77.85230821,\n",
       "       78.26367045, 75.74792155, 75.44292994, 78.51850686, 73.30627668,\n",
       "       78.79929262, 75.91898124, 76.35439024, 75.30007412, 76.24887483,\n",
       "       78.24281761, 77.45960994, 77.01555436, 76.38013263, 74.02131607,\n",
       "       74.91913412, 75.66329273, 76.8639738 , 76.25339827, 77.62530464,\n",
       "       76.82934555, 76.17165664, 79.53180908, 76.66790216, 75.37375688,\n",
       "       78.8386785 , 77.81608246, 78.73164289, 75.78422956, 77.41597042,\n",
       "       73.7079981 , 77.08440073, 75.63556353, 73.79968072, 77.40215895,\n",
       "       73.07177771, 72.89752617, 76.32697154, 76.62384624, 77.20882784,\n",
       "       76.84286315, 77.93544246, 76.74022195, 75.4606738 , 75.53005267,\n",
       "       75.19511331, 76.04927448, 73.924225  , 76.0788078 , 75.41356313,\n",
       "       75.94101087, 75.92610864, 71.78352921, 74.10594583, 75.28292013,\n",
       "       75.34367423, 75.79911811, 75.84433142, 77.65454185, 75.82041611,\n",
       "       74.858484  , 72.90200822, 73.23031508, 76.07785984, 76.84827442,\n",
       "       77.55202918, 73.96796616, 74.73690531, 75.53876815, 78.23240814,\n",
       "       75.3081098 , 77.44654304, 75.35187807, 76.80877921, 76.59872833,\n",
       "       75.28747558, 73.48780077, 74.59566259, 77.21280996, 76.27642678,\n",
       "       74.29096341, 74.40854327, 72.3090931 , 77.04566815, 76.18976387,\n",
       "       74.63844863, 75.12367658, 71.5569005 , 74.05728133, 76.76122283,\n",
       "       76.21368843, 75.22113331, 74.6854396 , 75.87761103, 74.24830275,\n",
       "       72.1637014 , 74.62034618, 75.21167679, 76.26550892, 72.42179037,\n",
       "       74.36850196, 74.42005798, 72.87170273, 75.21996188, 75.58712393,\n",
       "       74.02161031, 77.49443637, 73.94025416, 73.73147307, 73.66906851,\n",
       "       73.14442297, 73.50659563, 72.18669125, 74.01420016, 74.36473806,\n",
       "       70.86948387, 74.08906394, 74.28352615, 74.96518926, 75.9693119 ,\n",
       "       75.42538061, 73.22323519, 73.03197985, 74.96310824, 73.27387359,\n",
       "       72.24619347, 77.56176705, 73.56636576, 73.07960097, 70.74368197,\n",
       "       75.2275585 , 72.48744099, 73.97142972, 75.34146594, 72.45337365,\n",
       "       73.9881665 , 76.10195299, 70.20409977, 72.61585697, 72.45793056,\n",
       "       73.49767537, 73.68349474, 72.16949805, 72.75033056, 72.55595036,\n",
       "       73.15926212, 73.97817155, 74.97827087, 75.17160687, 74.56045405,\n",
       "       72.29274779, 73.55456143, 77.0321138 , 75.01227331, 72.8534856 ,\n",
       "       75.80659171, 72.89195277, 72.4608781 , 75.47278676, 71.48108326,\n",
       "       70.57546445, 74.74597428, 73.38599266, 73.51269846, 72.77656413,\n",
       "       72.93742944, 72.59624901, 72.33102712, 72.66928957, 72.60379839,\n",
       "       71.97683273, 72.37244752, 69.48921601, 74.13271087, 73.68251991,\n",
       "       72.96829512, 73.41980089, 73.45321876, 71.97650944, 72.23686444,\n",
       "       73.76641987, 73.27852523, 75.93767164, 75.29934026, 74.27795166])"
      ]
     },
     "execution_count": 141,
     "metadata": {},
     "output_type": "execute_result"
    }
   ],
   "source": [
    "gen_stock_price(days, 80)"
   ]
  },
  {
   "cell_type": "code",
   "execution_count": 142,
   "metadata": {},
   "outputs": [
    {
     "data": {
      "text/plain": [
       "<matplotlib.legend.Legend at 0x7fc2477fa6a0>"
      ]
     },
     "execution_count": 142,
     "metadata": {},
     "output_type": "execute_result"
    },
    {
     "data": {
      "image/png": "[encoded data removed]",
      "text/plain": [
       "<Figure size 432x288 with 1 Axes>"
      ]
     },
     "metadata": {},
     "output_type": "display_data"
    }
   ],
   "source": [
    "for price in initial_prices:\n",
    "    plt.plot(np.arange(-days, 0), gen_stock_price(days, price))\n",
    "plt.title('Stock price history for last %d days' % days)\n",
    "plt.xlabel('Time (days)')\n",
    "plt.ylabel('Price (USD)')\n",
    "plt.legend(['Company A', 'Company B', 'Company C'])"
   ]
  },
  {
   "cell_type": "code",
   "execution_count": 143,
   "metadata": {},
   "outputs": [],
   "source": [
    "for price in initial_prices:\n",
    "    np.arange(-days, 0), gen_stock_price(days, price)"
   ]
  },
  {
   "cell_type": "code",
   "execution_count": 145,
   "metadata": {},
   "outputs": [
    {
     "data": {
      "text/plain": [
       "65"
      ]
     },
     "execution_count": 145,
     "metadata": {},
     "output_type": "execute_result"
    }
   ],
   "source": [
    "price"
   ]
  },
  {
   "cell_type": "code",
   "execution_count": 148,
   "metadata": {},
   "outputs": [
    {
     "data": {
      "image/png": "[encoded data removed]",
      "text/plain": [
       "<Figure size 864x432 with 3 Axes>"
      ]
     },
     "metadata": {},
     "output_type": "display_data"
    }
   ],
   "source": [
    "from scipy.stats import linregress\n",
    "\n",
    "def gen_football_team(n_players, mean_shoe, mean_jersey):\n",
    "    shoe_sizes = np.random.normal(size=n_players, loc=mean_shoe, scale=.15 * mean_shoe)\n",
    "    jersey_sizes = mean_jersey / mean_shoe * shoe_sizes + np.random.normal(size=n_players, scale=.05 * mean_jersey)\n",
    "\n",
    "    return shoe_sizes, jersey_sizes\n",
    "\n",
    "shoes, jerseys = gen_football_team(16, 11, 100)\n",
    "\n",
    "fig = plt.figure(figsize=(12, 6))\n",
    "fig.suptitle('Football team equipment profile')\n",
    "\n",
    "ax1 = plt.subplot(221)\n",
    "ax1.hist(shoes)\n",
    "ax1.set_xlabel('Shoe size')\n",
    "ax1.set_ylabel('Counts')\n",
    "\n",
    "ax2 = plt.subplot(223)\n",
    "ax2.hist(jerseys)\n",
    "ax2.set_xlabel('Chest size (cm)')\n",
    "ax2.set_ylabel('Counts')\n",
    "\n",
    "ax3 = plt.subplot(122)\n",
    "ax3.scatter(shoes, jerseys, label='Data')\n",
    "ax3.set_xlabel('Shoe size')\n",
    "ax3.set_ylabel('Chest size (cm)')\n",
    "\n",
    "fit_line = linregress(shoes, jerseys)\n",
    "ax3.plot(shoes, fit_line[1] + fit_line[0] * shoes, 'r', label='Line of best fit')\n",
    "\n",
    "handles, labels = ax3.get_legend_handles_labels()\n",
    "ax3.legend(handles[::-1], labels[::-1]);"
   ]
  },
  {
   "cell_type": "code",
   "execution_count": 147,
   "metadata": {},
   "outputs": [
    {
     "data": {
      "text/plain": [
       "<matplotlib.legend.Legend at 0x7fc2477fa4f0>"
      ]
     },
     "execution_count": 147,
     "metadata": {},
     "output_type": "execute_result"
    },
    {
     "data": {
      "image/png": "[encoded data removed]",
      "text/plain": [
       "<Figure size 864x432 with 3 Axes>"
      ]
     },
     "metadata": {},
     "output_type": "display_data"
    }
   ],
   "source": [
    "from scipy.stats import linregress\n",
    "\n",
    "def gen_football_team(n_players, mean_shoe, mean_jersey):\n",
    "    shoe_sizes = np.random.normal(size=n_players, loc=mean_shoe, scale=.15*mean_shoe)\n",
    "    jersey_sizes = mean_jersey/mean_shoe*shoe_sizes+np.random.normal(size=n_players, scale=.05*mean_jersey)\n",
    "    \n",
    "    return shoe_sizes, jersey_sizes\n",
    "\n",
    "shoes, jerseys = gen_football_team(16,11,100)\n",
    "\n",
    "fig = plt.figure(figsize=(12, 6))\n",
    "fig.suptitle('Footbal team equipment profile')\n",
    "\n",
    "#create the plot\n",
    "ax1 = plt.subplot(221)\n",
    "ax2 = plt.subplot(223)\n",
    "ax3 = plt.subplot(122)\n",
    "\n",
    "#plot the data\n",
    "ax1.hist(shoes)\n",
    "ax2.hist(jerseys)\n",
    "ax3.scatter(shoes, jerseys, label='Data')\n",
    "\n",
    "fit_line = linregress(shoes, jerseys)\n",
    "ax3.plot(shoes, fit_line[1]+fit_line[0]*shoes, 'r', label='Line of Best Fit')\n",
    "\n",
    "#label the axes\n",
    "ax1.set_xlabel('Shoe Size')\n",
    "ax1.set_ylabel('Count')\n",
    "\n",
    "ax2.set_xlabel('Chest Size (cm)')\n",
    "ax2.set_ylabel('Count')\n",
    "\n",
    "ax3.set_xlabel('Shoe Size')\n",
    "ax3.set_ylabel('Chest Size (cm)')\n",
    "\n",
    "handles, labels = ax3.get_legend_handles_labels()\n",
    "ax3.legend(handles[::-1], labels[::-1])"
   ]
  },
  {
   "cell_type": "code",
   "execution_count": 149,
   "metadata": {},
   "outputs": [
    {
     "data": {
      "image/png": "[encoded data removed]",
      "text/plain": [
       "<Figure size 432x288 with 1 Axes>"
      ]
     },
     "metadata": {},
     "output_type": "display_data"
    }
   ],
   "source": [
    "def gen_hourly_temps(days):\n",
    "    ndays = len(days)\n",
    "    seasonality = (-15 * np.cos((np.array(days) - 30) * 2.0 * np.pi / 365)).repeat(24) + 10\n",
    "    solar = -3 * np.cos(np.arange(24 * ndays) * 2.0 * np.pi / 24)\n",
    "    weather = np.interp(range(len(days) * 24), range(0, 24 * len(days), 24 * 2), 3 * np.random.randn(np.ceil(float(len(days)) / 2).astype(int)))\n",
    "    noise = .5 * np.random.randn(24 * len(days))\n",
    "\n",
    "    return seasonality + solar + weather + noise\n",
    "\n",
    "days = np.arange(365)\n",
    "hours = np.arange(days[0] * 24, (days[-1] + 1) * 24)\n",
    "plt.plot(hours, gen_hourly_temps(days))\n",
    "plt.title('Hourly temperatures')\n",
    "plt.xlabel('Time (hours since Jan. 1)')\n",
    "plt.ylabel('Temperature (C)');"
   ]
  },
  {
   "cell_type": "markdown",
   "metadata": {},
   "source": [
    "In the examples above we've made use of the ubiquitous `plot` command, `subplot` for arranging multiple plots in one image, and `hist` for creating histograms. We've also used both the \"state machine\" (i.e. using a sequence of `plt.method` commands) and \"object-oriented\" (i.e. creating figure objects and mutating them) plotting paradigms. The Matplotlib package is very flexible and the possibilities for visualizing data are mostly limited by imagination. A great way to explore Matplotlib and other data visualization packages is by consulting their [gallery pages](https://matplotlib.org/gallery.html)."
   ]
  },
  {
   "cell_type": "markdown",
   "metadata": {},
   "source": [
    "# Pandas\n",
    "\n",
    "NumPy is useful for handling data as it lets us efficiently apply functions to whole data sets or select pieces of them. However, it can be difficult to keep track of related data that might be stored in different arrays, or the meaning of data stored in different rows or columns of the same array.\n",
    "\n",
    "For example, in the previous section we had a 1-dimensional array for shoe sizes, and another 1-dimensional array for jersey sizes. If we wanted to look up the shoe and jersey size for a particular player, we'd have to remember his position in each array.\n",
    "\n",
    "Alternatively, we could combine the two 1-dimensional arrays to make a 2-dimensional array with `n_players` rows and two columns (one for shoe size, one for jersey size). But once we combine the data, we now have to remember which column is shoe size and which column is jersey size.\n",
    "\n",
    "The Pandas package introduces a very powerful tool for working with data in Python: the DataFrame. A DataFrame is a table. Each column represents a different type of data (sometimes called a **field**). The columns are named, so I could have a column called `'shoe_size'` and a column called `'jersey_size'`. I don't have to remember which column is which, because I can refer to them by name. Each row represents a different **record** or **entity** (e.g. player). I can also name the rows, so instead of remembering which row in my array corresponds with Ronaldinho, I can name the row 'Ronaldinho' and look up his shoe size and jersey size by name."
   ]
  },
  {
   "cell_type": "code",
   "execution_count": 172,
   "metadata": {},
   "outputs": [
    {
     "data": {
      "text/html": [
       "<div>\n",
       "<style scoped>\n",
       "    .dataframe tbody tr th:only-of-type {\n",
       "        vertical-align: middle;\n",
       "    }\n",
       "\n",
       "    .dataframe tbody tr th {\n",
       "        vertical-align: top;\n",
       "    }\n",
       "\n",
       "    .dataframe thead th {\n",
       "        text-align: right;\n",
       "    }\n",
       "</style>\n",
       "<table border=\"1\" class=\"dataframe\">\n",
       "  <thead>\n",
       "    <tr style=\"text-align: right;\">\n",
       "      <th></th>\n",
       "      <th>shoe_size</th>\n",
       "      <th>jersey_size</th>\n",
       "    </tr>\n",
       "  </thead>\n",
       "  <tbody>\n",
       "    <tr>\n",
       "      <th>Ronaldinho</th>\n",
       "      <td>10.258843</td>\n",
       "      <td>101.715017</td>\n",
       "    </tr>\n",
       "    <tr>\n",
       "      <th>Pele</th>\n",
       "      <td>14.268816</td>\n",
       "      <td>153.478020</td>\n",
       "    </tr>\n",
       "    <tr>\n",
       "      <th>Lionel Messi</th>\n",
       "      <td>11.649825</td>\n",
       "      <td>123.592587</td>\n",
       "    </tr>\n",
       "    <tr>\n",
       "      <th>Zinedine Zidane</th>\n",
       "      <td>9.858738</td>\n",
       "      <td>92.065935</td>\n",
       "    </tr>\n",
       "    <tr>\n",
       "      <th>Didier Drogba</th>\n",
       "      <td>10.059398</td>\n",
       "      <td>101.551263</td>\n",
       "    </tr>\n",
       "    <tr>\n",
       "      <th>Ronaldo</th>\n",
       "      <td>11.798270</td>\n",
       "      <td>121.658479</td>\n",
       "    </tr>\n",
       "    <tr>\n",
       "      <th>Yaya Toure</th>\n",
       "      <td>8.635937</td>\n",
       "      <td>84.068575</td>\n",
       "    </tr>\n",
       "    <tr>\n",
       "      <th>Frank Rijkaard</th>\n",
       "      <td>10.917614</td>\n",
       "      <td>115.238523</td>\n",
       "    </tr>\n",
       "    <tr>\n",
       "      <th>Diego Maradona</th>\n",
       "      <td>8.323817</td>\n",
       "      <td>88.711429</td>\n",
       "    </tr>\n",
       "    <tr>\n",
       "      <th>Mohamed Aboutrika</th>\n",
       "      <td>11.387372</td>\n",
       "      <td>113.455907</td>\n",
       "    </tr>\n",
       "    <tr>\n",
       "      <th>Samuel Eto'o</th>\n",
       "      <td>9.559068</td>\n",
       "      <td>100.496764</td>\n",
       "    </tr>\n",
       "    <tr>\n",
       "      <th>George Best</th>\n",
       "      <td>10.301041</td>\n",
       "      <td>90.957098</td>\n",
       "    </tr>\n",
       "    <tr>\n",
       "      <th>George Weah</th>\n",
       "      <td>9.461686</td>\n",
       "      <td>101.404800</td>\n",
       "    </tr>\n",
       "    <tr>\n",
       "      <th>Roberto Donadoni</th>\n",
       "      <td>11.048030</td>\n",
       "      <td>114.912845</td>\n",
       "    </tr>\n",
       "  </tbody>\n",
       "</table>\n",
       "</div>"
      ],
      "text/plain": [
       "                   shoe_size  jersey_size\n",
       "Ronaldinho         10.258843   101.715017\n",
       "Pele               14.268816   153.478020\n",
       "Lionel Messi       11.649825   123.592587\n",
       "Zinedine Zidane     9.858738    92.065935\n",
       "Didier Drogba      10.059398   101.551263\n",
       "Ronaldo            11.798270   121.658479\n",
       "Yaya Toure          8.635937    84.068575\n",
       "Frank Rijkaard     10.917614   115.238523\n",
       "Diego Maradona      8.323817    88.711429\n",
       "Mohamed Aboutrika  11.387372   113.455907\n",
       "Samuel Eto'o        9.559068   100.496764\n",
       "George Best        10.301041    90.957098\n",
       "George Weah         9.461686   101.404800\n",
       "Roberto Donadoni   11.048030   114.912845"
      ]
     },
     "execution_count": 172,
     "metadata": {},
     "output_type": "execute_result"
    }
   ],
   "source": [
    "import pandas as pd\n",
    "\n",
    "players = ['Ronaldinho', 'Pele', 'Lionel Messi', 'Zinedine Zidane', 'Didier Drogba', 'Ronaldo', 'Yaya Toure', \n",
    "           'Frank Rijkaard', 'Diego Maradona', 'Mohamed Aboutrika', \"Samuel Eto'o\", 'George Best', 'George Weah', \n",
    "           'Roberto Donadoni']\n",
    "shoes, jerseys = gen_football_team(len(players), 10, 100)\n",
    "\n",
    "df = pd.DataFrame({'shoe_size': shoes, 'jersey_size': jerseys}, index = players)\n",
    "\n",
    "df"
   ]
  },
  {
   "cell_type": "code",
   "execution_count": 171,
   "metadata": {},
   "outputs": [
    {
     "data": {
      "text/plain": [
       "14"
      ]
     },
     "execution_count": 171,
     "metadata": {},
     "output_type": "execute_result"
    }
   ],
   "source": [
    "len(players)"
   ]
  },
  {
   "cell_type": "code",
   "execution_count": 151,
   "metadata": {},
   "outputs": [
    {
     "data": {
      "text/html": [
       "<div>\n",
       "<style scoped>\n",
       "    .dataframe tbody tr th:only-of-type {\n",
       "        vertical-align: middle;\n",
       "    }\n",
       "\n",
       "    .dataframe tbody tr th {\n",
       "        vertical-align: top;\n",
       "    }\n",
       "\n",
       "    .dataframe thead th {\n",
       "        text-align: right;\n",
       "    }\n",
       "</style>\n",
       "<table border=\"1\" class=\"dataframe\">\n",
       "  <thead>\n",
       "    <tr style=\"text-align: right;\">\n",
       "      <th></th>\n",
       "      <th>shoe_size</th>\n",
       "      <th>jersey_size</th>\n",
       "    </tr>\n",
       "  </thead>\n",
       "  <tbody>\n",
       "    <tr>\n",
       "      <th>Ronaldinho</th>\n",
       "      <td>9.837075</td>\n",
       "      <td>98.845890</td>\n",
       "    </tr>\n",
       "    <tr>\n",
       "      <th>Pele</th>\n",
       "      <td>9.825894</td>\n",
       "      <td>106.900585</td>\n",
       "    </tr>\n",
       "    <tr>\n",
       "      <th>Lionel Messi</th>\n",
       "      <td>11.309599</td>\n",
       "      <td>115.164762</td>\n",
       "    </tr>\n",
       "    <tr>\n",
       "      <th>Zinedine Zidane</th>\n",
       "      <td>10.913477</td>\n",
       "      <td>110.347018</td>\n",
       "    </tr>\n",
       "    <tr>\n",
       "      <th>Didier Drogba</th>\n",
       "      <td>10.628367</td>\n",
       "      <td>106.624708</td>\n",
       "    </tr>\n",
       "    <tr>\n",
       "      <th>Ronaldo</th>\n",
       "      <td>5.449016</td>\n",
       "      <td>58.580120</td>\n",
       "    </tr>\n",
       "    <tr>\n",
       "      <th>Yaya Toure</th>\n",
       "      <td>10.449692</td>\n",
       "      <td>95.808492</td>\n",
       "    </tr>\n",
       "    <tr>\n",
       "      <th>Frank Rijkaard</th>\n",
       "      <td>7.516541</td>\n",
       "      <td>75.592129</td>\n",
       "    </tr>\n",
       "    <tr>\n",
       "      <th>Diego Maradona</th>\n",
       "      <td>10.969480</td>\n",
       "      <td>109.344570</td>\n",
       "    </tr>\n",
       "    <tr>\n",
       "      <th>Mohamed Aboutrika</th>\n",
       "      <td>12.211746</td>\n",
       "      <td>125.744555</td>\n",
       "    </tr>\n",
       "    <tr>\n",
       "      <th>Samuel Eto'o</th>\n",
       "      <td>8.610641</td>\n",
       "      <td>85.167905</td>\n",
       "    </tr>\n",
       "    <tr>\n",
       "      <th>George Best</th>\n",
       "      <td>9.607329</td>\n",
       "      <td>90.879617</td>\n",
       "    </tr>\n",
       "    <tr>\n",
       "      <th>George Weah</th>\n",
       "      <td>9.100966</td>\n",
       "      <td>91.046418</td>\n",
       "    </tr>\n",
       "    <tr>\n",
       "      <th>Roberto Donadoni</th>\n",
       "      <td>11.853148</td>\n",
       "      <td>113.117274</td>\n",
       "    </tr>\n",
       "  </tbody>\n",
       "</table>\n",
       "</div>"
      ],
      "text/plain": [
       "                   shoe_size  jersey_size\n",
       "Ronaldinho          9.837075    98.845890\n",
       "Pele                9.825894   106.900585\n",
       "Lionel Messi       11.309599   115.164762\n",
       "Zinedine Zidane    10.913477   110.347018\n",
       "Didier Drogba      10.628367   106.624708\n",
       "Ronaldo             5.449016    58.580120\n",
       "Yaya Toure         10.449692    95.808492\n",
       "Frank Rijkaard      7.516541    75.592129\n",
       "Diego Maradona     10.969480   109.344570\n",
       "Mohamed Aboutrika  12.211746   125.744555\n",
       "Samuel Eto'o        8.610641    85.167905\n",
       "George Best         9.607329    90.879617\n",
       "George Weah         9.100966    91.046418\n",
       "Roberto Donadoni   11.853148   113.117274"
      ]
     },
     "execution_count": 151,
     "metadata": {},
     "output_type": "execute_result"
    }
   ],
   "source": [
    "# we can also make a dataframe using zip\n",
    "\n",
    "df = pd.DataFrame(list(zip(shoes, jerseys)), columns = ['shoe_size', 'jersey_size'], index = players)\n",
    "\n",
    "df"
   ]
  },
  {
   "cell_type": "markdown",
   "metadata": {},
   "source": [
    "The DataFrame has similarities to both a `dict` and a NumPy `ndarray`. For example, we can retrieve a column from the DataFrame by using its name, just like we would retrieve an item from a `dict` using its key."
   ]
  },
  {
   "cell_type": "code",
   "execution_count": 152,
   "metadata": {},
   "outputs": [
    {
     "name": "stdout",
     "output_type": "stream",
     "text": [
      "Ronaldinho            9.837075\n",
      "Pele                  9.825894\n",
      "Lionel Messi         11.309599\n",
      "Zinedine Zidane      10.913477\n",
      "Didier Drogba        10.628367\n",
      "Ronaldo               5.449016\n",
      "Yaya Toure           10.449692\n",
      "Frank Rijkaard        7.516541\n",
      "Diego Maradona       10.969480\n",
      "Mohamed Aboutrika    12.211746\n",
      "Samuel Eto'o          8.610641\n",
      "George Best           9.607329\n",
      "George Weah           9.100966\n",
      "Roberto Donadoni     11.853148\n",
      "Name: shoe_size, dtype: float64\n"
     ]
    }
   ],
   "source": [
    "print(df['shoe_size'])"
   ]
  },
  {
   "cell_type": "markdown",
   "metadata": {},
   "source": [
    "And we can easily apply functions to the DataFrame, just like we would with a NumPy array."
   ]
  },
  {
   "cell_type": "code",
   "execution_count": 153,
   "metadata": {},
   "outputs": [
    {
     "name": "stdout",
     "output_type": "stream",
     "text": [
      "                   shoe_size  jersey_size\n",
      "Ronaldinho          2.286158     4.593562\n",
      "Pele                2.285021     4.671899\n",
      "Lionel Messi        2.425652     4.746364\n",
      "Zinedine Zidane     2.389998     4.703630\n",
      "Didier Drogba       2.363527     4.669315\n",
      "Ronaldo             1.695435     4.070395\n",
      "Yaya Toure          2.346573     4.562351\n",
      "Frank Rijkaard      2.017106     4.325352\n",
      "Diego Maradona      2.395117     4.694504\n",
      "Mohamed Aboutrika   2.502398     4.834253\n",
      "Samuel Eto'o        2.152999     4.444625\n",
      "George Best         2.262526     4.509536\n",
      "George Weah         2.208381     4.511369\n",
      "Roberto Donadoni    2.472593     4.728425\n"
     ]
    }
   ],
   "source": [
    "print(np.log(df))"
   ]
  },
  {
   "cell_type": "code",
   "execution_count": 154,
   "metadata": {},
   "outputs": [
    {
     "data": {
      "text/plain": [
       "shoe_size       9.877355\n",
       "jersey_size    98.797432\n",
       "dtype: float64"
      ]
     },
     "execution_count": 154,
     "metadata": {},
     "output_type": "execute_result"
    }
   ],
   "source": [
    "df.mean()"
   ]
  },
  {
   "cell_type": "markdown",
   "metadata": {},
   "source": [
    "We'll explore applying functions and analyzing data in a DataFrame in more depth later on. First we need to know how to retrieve, add, and remove data from a DataFrame.\n",
    "\n",
    "We've already seen how to retrieve a column, what about retrieving a row? The most flexible syntax is to use the DataFrame's `loc` method."
   ]
  },
  {
   "cell_type": "code",
   "execution_count": 155,
   "metadata": {},
   "outputs": [
    {
     "name": "stdout",
     "output_type": "stream",
     "text": [
      "shoe_size       5.449016\n",
      "jersey_size    58.580120\n",
      "Name: Ronaldo, dtype: float64\n"
     ]
    }
   ],
   "source": [
    "print(df.loc['Ronaldo'])"
   ]
  },
  {
   "cell_type": "code",
   "execution_count": 156,
   "metadata": {},
   "outputs": [
    {
     "name": "stdout",
     "output_type": "stream",
     "text": [
      "Ronaldo        5.449016\n",
      "George Best    9.607329\n",
      "Name: shoe_size, dtype: float64\n"
     ]
    }
   ],
   "source": [
    "print(df.loc[['Ronaldo', 'George Best'], 'shoe_size'])"
   ]
  },
  {
   "cell_type": "code",
   "execution_count": 157,
   "metadata": {},
   "outputs": [
    {
     "name": "stdout",
     "output_type": "stream",
     "text": [
      "Ronaldo               5.449016\n",
      "Yaya Toure           10.449692\n",
      "Frank Rijkaard        7.516541\n",
      "Diego Maradona       10.969480\n",
      "Mohamed Aboutrika    12.211746\n",
      "Samuel Eto'o          8.610641\n",
      "George Best           9.607329\n",
      "Name: shoe_size, dtype: float64\n"
     ]
    }
   ],
   "source": [
    "# can also select position-based slices of data\n",
    "print(df.loc['Ronaldo':'George Best', 'shoe_size'])"
   ]
  },
  {
   "cell_type": "code",
   "execution_count": 158,
   "metadata": {},
   "outputs": [
    {
     "name": "stdout",
     "output_type": "stream",
     "text": [
      "                 shoe_size  jersey_size\n",
      "Ronaldinho        9.837075    98.845890\n",
      "Pele              9.825894   106.900585\n",
      "Lionel Messi     11.309599   115.164762\n",
      "Zinedine Zidane  10.913477   110.347018\n",
      "Didier Drogba    10.628367   106.624708\n"
     ]
    }
   ],
   "source": [
    "# for position-based indexing, we will typically use iloc\n",
    "print(df.iloc[:5])"
   ]
  },
  {
   "cell_type": "code",
   "execution_count": 159,
   "metadata": {},
   "outputs": [
    {
     "name": "stdout",
     "output_type": "stream",
     "text": [
      "Lionel Messi       11.309599\n",
      "Zinedine Zidane    10.913477\n",
      "Name: shoe_size, dtype: float64\n"
     ]
    }
   ],
   "source": [
    "print(df.iloc[2:4, 0])"
   ]
  },
  {
   "cell_type": "code",
   "execution_count": 160,
   "metadata": {},
   "outputs": [
    {
     "data": {
      "text/html": [
       "<div>\n",
       "<style scoped>\n",
       "    .dataframe tbody tr th:only-of-type {\n",
       "        vertical-align: middle;\n",
       "    }\n",
       "\n",
       "    .dataframe tbody tr th {\n",
       "        vertical-align: top;\n",
       "    }\n",
       "\n",
       "    .dataframe thead th {\n",
       "        text-align: right;\n",
       "    }\n",
       "</style>\n",
       "<table border=\"1\" class=\"dataframe\">\n",
       "  <thead>\n",
       "    <tr style=\"text-align: right;\">\n",
       "      <th></th>\n",
       "      <th>shoe_size</th>\n",
       "      <th>jersey_size</th>\n",
       "    </tr>\n",
       "  </thead>\n",
       "  <tbody>\n",
       "    <tr>\n",
       "      <th>Ronaldinho</th>\n",
       "      <td>9.837075</td>\n",
       "      <td>98.845890</td>\n",
       "    </tr>\n",
       "    <tr>\n",
       "      <th>Pele</th>\n",
       "      <td>9.825894</td>\n",
       "      <td>106.900585</td>\n",
       "    </tr>\n",
       "    <tr>\n",
       "      <th>Lionel Messi</th>\n",
       "      <td>11.309599</td>\n",
       "      <td>115.164762</td>\n",
       "    </tr>\n",
       "    <tr>\n",
       "      <th>Zinedine Zidane</th>\n",
       "      <td>10.913477</td>\n",
       "      <td>110.347018</td>\n",
       "    </tr>\n",
       "    <tr>\n",
       "      <th>Didier Drogba</th>\n",
       "      <td>10.628367</td>\n",
       "      <td>106.624708</td>\n",
       "    </tr>\n",
       "  </tbody>\n",
       "</table>\n",
       "</div>"
      ],
      "text/plain": [
       "                 shoe_size  jersey_size\n",
       "Ronaldinho        9.837075    98.845890\n",
       "Pele              9.825894   106.900585\n",
       "Lionel Messi     11.309599   115.164762\n",
       "Zinedine Zidane  10.913477   110.347018\n",
       "Didier Drogba    10.628367   106.624708"
      ]
     },
     "execution_count": 160,
     "metadata": {},
     "output_type": "execute_result"
    }
   ],
   "source": [
    "# to see just the top of the DataFrame, use head\n",
    "df.head()"
   ]
  },
  {
   "cell_type": "code",
   "execution_count": 161,
   "metadata": {},
   "outputs": [
    {
     "data": {
      "text/html": [
       "<div>\n",
       "<style scoped>\n",
       "    .dataframe tbody tr th:only-of-type {\n",
       "        vertical-align: middle;\n",
       "    }\n",
       "\n",
       "    .dataframe tbody tr th {\n",
       "        vertical-align: top;\n",
       "    }\n",
       "\n",
       "    .dataframe thead th {\n",
       "        text-align: right;\n",
       "    }\n",
       "</style>\n",
       "<table border=\"1\" class=\"dataframe\">\n",
       "  <thead>\n",
       "    <tr style=\"text-align: right;\">\n",
       "      <th></th>\n",
       "      <th>shoe_size</th>\n",
       "      <th>jersey_size</th>\n",
       "    </tr>\n",
       "  </thead>\n",
       "  <tbody>\n",
       "    <tr>\n",
       "      <th>Mohamed Aboutrika</th>\n",
       "      <td>12.211746</td>\n",
       "      <td>125.744555</td>\n",
       "    </tr>\n",
       "    <tr>\n",
       "      <th>Samuel Eto'o</th>\n",
       "      <td>8.610641</td>\n",
       "      <td>85.167905</td>\n",
       "    </tr>\n",
       "    <tr>\n",
       "      <th>George Best</th>\n",
       "      <td>9.607329</td>\n",
       "      <td>90.879617</td>\n",
       "    </tr>\n",
       "    <tr>\n",
       "      <th>George Weah</th>\n",
       "      <td>9.100966</td>\n",
       "      <td>91.046418</td>\n",
       "    </tr>\n",
       "    <tr>\n",
       "      <th>Roberto Donadoni</th>\n",
       "      <td>11.853148</td>\n",
       "      <td>113.117274</td>\n",
       "    </tr>\n",
       "  </tbody>\n",
       "</table>\n",
       "</div>"
      ],
      "text/plain": [
       "                   shoe_size  jersey_size\n",
       "Mohamed Aboutrika  12.211746   125.744555\n",
       "Samuel Eto'o        8.610641    85.167905\n",
       "George Best         9.607329    90.879617\n",
       "George Weah         9.100966    91.046418\n",
       "Roberto Donadoni   11.853148   113.117274"
      ]
     },
     "execution_count": 161,
     "metadata": {},
     "output_type": "execute_result"
    }
   ],
   "source": [
    "# of for the bottom use tail\n",
    "df.tail()"
   ]
  },
  {
   "cell_type": "markdown",
   "metadata": {},
   "source": [
    "Just as with a `dict`, we can add data to our DataFrame by simply using the same syntax as we would use to retrieve data, but matching it with an assignment."
   ]
  },
  {
   "cell_type": "code",
   "execution_count": 162,
   "metadata": {},
   "outputs": [
    {
     "data": {
      "text/html": [
       "<div>\n",
       "<style scoped>\n",
       "    .dataframe tbody tr th:only-of-type {\n",
       "        vertical-align: middle;\n",
       "    }\n",
       "\n",
       "    .dataframe tbody tr th {\n",
       "        vertical-align: top;\n",
       "    }\n",
       "\n",
       "    .dataframe thead th {\n",
       "        text-align: right;\n",
       "    }\n",
       "</style>\n",
       "<table border=\"1\" class=\"dataframe\">\n",
       "  <thead>\n",
       "    <tr style=\"text-align: right;\">\n",
       "      <th></th>\n",
       "      <th>shoe_size</th>\n",
       "      <th>jersey_size</th>\n",
       "      <th>position</th>\n",
       "    </tr>\n",
       "  </thead>\n",
       "  <tbody>\n",
       "    <tr>\n",
       "      <th>Ronaldinho</th>\n",
       "      <td>9.837075</td>\n",
       "      <td>98.845890</td>\n",
       "      <td>defense</td>\n",
       "    </tr>\n",
       "    <tr>\n",
       "      <th>Pele</th>\n",
       "      <td>9.825894</td>\n",
       "      <td>106.900585</td>\n",
       "      <td>defense</td>\n",
       "    </tr>\n",
       "    <tr>\n",
       "      <th>Lionel Messi</th>\n",
       "      <td>11.309599</td>\n",
       "      <td>115.164762</td>\n",
       "      <td>defense</td>\n",
       "    </tr>\n",
       "    <tr>\n",
       "      <th>Zinedine Zidane</th>\n",
       "      <td>10.913477</td>\n",
       "      <td>110.347018</td>\n",
       "      <td>defense</td>\n",
       "    </tr>\n",
       "    <tr>\n",
       "      <th>Didier Drogba</th>\n",
       "      <td>10.628367</td>\n",
       "      <td>106.624708</td>\n",
       "      <td>goaltender</td>\n",
       "    </tr>\n",
       "  </tbody>\n",
       "</table>\n",
       "</div>"
      ],
      "text/plain": [
       "                 shoe_size  jersey_size    position\n",
       "Ronaldinho        9.837075    98.845890     defense\n",
       "Pele              9.825894   106.900585     defense\n",
       "Lionel Messi     11.309599   115.164762     defense\n",
       "Zinedine Zidane  10.913477   110.347018     defense\n",
       "Didier Drogba    10.628367   106.624708  goaltender"
      ]
     },
     "execution_count": 162,
     "metadata": {},
     "output_type": "execute_result"
    }
   ],
   "source": [
    "# adding a new column\n",
    "df['position'] = np.random.choice(['goaltender', 'defense', 'midfield', 'attack'], size=len(df))\n",
    "df.head()"
   ]
  },
  {
   "cell_type": "code",
   "execution_count": 163,
   "metadata": {},
   "outputs": [
    {
     "data": {
      "text/plain": [
       "shoe_size             9\n",
       "jersey_size          91\n",
       "position       midfield\n",
       "Name: Dylan, dtype: object"
      ]
     },
     "execution_count": 163,
     "metadata": {},
     "output_type": "execute_result"
    }
   ],
   "source": [
    "# adding a new row\n",
    "df.loc['Dylan'] = {'jersey_size': 91, 'shoe_size': 9, 'position': 'midfield'}\n",
    "df.loc['Dylan']"
   ]
  },
  {
   "cell_type": "markdown",
   "metadata": {},
   "source": [
    "To delete data, we can use the DataFrame's `drop` method."
   ]
  },
  {
   "cell_type": "code",
   "execution_count": 164,
   "metadata": {},
   "outputs": [
    {
     "data": {
      "text/html": [
       "<div>\n",
       "<style scoped>\n",
       "    .dataframe tbody tr th:only-of-type {\n",
       "        vertical-align: middle;\n",
       "    }\n",
       "\n",
       "    .dataframe tbody tr th {\n",
       "        vertical-align: top;\n",
       "    }\n",
       "\n",
       "    .dataframe thead th {\n",
       "        text-align: right;\n",
       "    }\n",
       "</style>\n",
       "<table border=\"1\" class=\"dataframe\">\n",
       "  <thead>\n",
       "    <tr style=\"text-align: right;\">\n",
       "      <th></th>\n",
       "      <th>shoe_size</th>\n",
       "      <th>jersey_size</th>\n",
       "      <th>position</th>\n",
       "    </tr>\n",
       "  </thead>\n",
       "  <tbody>\n",
       "    <tr>\n",
       "      <th>Ronaldinho</th>\n",
       "      <td>9.837075</td>\n",
       "      <td>98.845890</td>\n",
       "      <td>defense</td>\n",
       "    </tr>\n",
       "    <tr>\n",
       "      <th>Pele</th>\n",
       "      <td>9.825894</td>\n",
       "      <td>106.900585</td>\n",
       "      <td>defense</td>\n",
       "    </tr>\n",
       "    <tr>\n",
       "      <th>Lionel Messi</th>\n",
       "      <td>11.309599</td>\n",
       "      <td>115.164762</td>\n",
       "      <td>defense</td>\n",
       "    </tr>\n",
       "    <tr>\n",
       "      <th>Zinedine Zidane</th>\n",
       "      <td>10.913477</td>\n",
       "      <td>110.347018</td>\n",
       "      <td>defense</td>\n",
       "    </tr>\n",
       "    <tr>\n",
       "      <th>Didier Drogba</th>\n",
       "      <td>10.628367</td>\n",
       "      <td>106.624708</td>\n",
       "      <td>goaltender</td>\n",
       "    </tr>\n",
       "    <tr>\n",
       "      <th>Ronaldo</th>\n",
       "      <td>5.449016</td>\n",
       "      <td>58.580120</td>\n",
       "      <td>midfield</td>\n",
       "    </tr>\n",
       "    <tr>\n",
       "      <th>Yaya Toure</th>\n",
       "      <td>10.449692</td>\n",
       "      <td>95.808492</td>\n",
       "      <td>defense</td>\n",
       "    </tr>\n",
       "    <tr>\n",
       "      <th>Frank Rijkaard</th>\n",
       "      <td>7.516541</td>\n",
       "      <td>75.592129</td>\n",
       "      <td>defense</td>\n",
       "    </tr>\n",
       "    <tr>\n",
       "      <th>Diego Maradona</th>\n",
       "      <td>10.969480</td>\n",
       "      <td>109.344570</td>\n",
       "      <td>defense</td>\n",
       "    </tr>\n",
       "    <tr>\n",
       "      <th>Mohamed Aboutrika</th>\n",
       "      <td>12.211746</td>\n",
       "      <td>125.744555</td>\n",
       "      <td>attack</td>\n",
       "    </tr>\n",
       "    <tr>\n",
       "      <th>Samuel Eto'o</th>\n",
       "      <td>8.610641</td>\n",
       "      <td>85.167905</td>\n",
       "      <td>goaltender</td>\n",
       "    </tr>\n",
       "    <tr>\n",
       "      <th>George Best</th>\n",
       "      <td>9.607329</td>\n",
       "      <td>90.879617</td>\n",
       "      <td>goaltender</td>\n",
       "    </tr>\n",
       "    <tr>\n",
       "      <th>George Weah</th>\n",
       "      <td>9.100966</td>\n",
       "      <td>91.046418</td>\n",
       "      <td>midfield</td>\n",
       "    </tr>\n",
       "    <tr>\n",
       "      <th>Roberto Donadoni</th>\n",
       "      <td>11.853148</td>\n",
       "      <td>113.117274</td>\n",
       "      <td>attack</td>\n",
       "    </tr>\n",
       "  </tbody>\n",
       "</table>\n",
       "</div>"
      ],
      "text/plain": [
       "                   shoe_size  jersey_size    position\n",
       "Ronaldinho          9.837075    98.845890     defense\n",
       "Pele                9.825894   106.900585     defense\n",
       "Lionel Messi       11.309599   115.164762     defense\n",
       "Zinedine Zidane    10.913477   110.347018     defense\n",
       "Didier Drogba      10.628367   106.624708  goaltender\n",
       "Ronaldo             5.449016    58.580120    midfield\n",
       "Yaya Toure         10.449692    95.808492     defense\n",
       "Frank Rijkaard      7.516541    75.592129     defense\n",
       "Diego Maradona     10.969480   109.344570     defense\n",
       "Mohamed Aboutrika  12.211746   125.744555      attack\n",
       "Samuel Eto'o        8.610641    85.167905  goaltender\n",
       "George Best         9.607329    90.879617  goaltender\n",
       "George Weah         9.100966    91.046418    midfield\n",
       "Roberto Donadoni   11.853148   113.117274      attack"
      ]
     },
     "execution_count": 164,
     "metadata": {},
     "output_type": "execute_result"
    }
   ],
   "source": [
    "df.drop('Dylan')"
   ]
  },
  {
   "cell_type": "code",
   "execution_count": 165,
   "metadata": {},
   "outputs": [
    {
     "data": {
      "text/html": [
       "<div>\n",
       "<style scoped>\n",
       "    .dataframe tbody tr th:only-of-type {\n",
       "        vertical-align: middle;\n",
       "    }\n",
       "\n",
       "    .dataframe tbody tr th {\n",
       "        vertical-align: top;\n",
       "    }\n",
       "\n",
       "    .dataframe thead th {\n",
       "        text-align: right;\n",
       "    }\n",
       "</style>\n",
       "<table border=\"1\" class=\"dataframe\">\n",
       "  <thead>\n",
       "    <tr style=\"text-align: right;\">\n",
       "      <th></th>\n",
       "      <th>shoe_size</th>\n",
       "      <th>jersey_size</th>\n",
       "    </tr>\n",
       "  </thead>\n",
       "  <tbody>\n",
       "    <tr>\n",
       "      <th>Ronaldinho</th>\n",
       "      <td>9.837075</td>\n",
       "      <td>98.845890</td>\n",
       "    </tr>\n",
       "    <tr>\n",
       "      <th>Pele</th>\n",
       "      <td>9.825894</td>\n",
       "      <td>106.900585</td>\n",
       "    </tr>\n",
       "    <tr>\n",
       "      <th>Lionel Messi</th>\n",
       "      <td>11.309599</td>\n",
       "      <td>115.164762</td>\n",
       "    </tr>\n",
       "    <tr>\n",
       "      <th>Zinedine Zidane</th>\n",
       "      <td>10.913477</td>\n",
       "      <td>110.347018</td>\n",
       "    </tr>\n",
       "    <tr>\n",
       "      <th>Didier Drogba</th>\n",
       "      <td>10.628367</td>\n",
       "      <td>106.624708</td>\n",
       "    </tr>\n",
       "    <tr>\n",
       "      <th>Ronaldo</th>\n",
       "      <td>5.449016</td>\n",
       "      <td>58.580120</td>\n",
       "    </tr>\n",
       "    <tr>\n",
       "      <th>Yaya Toure</th>\n",
       "      <td>10.449692</td>\n",
       "      <td>95.808492</td>\n",
       "    </tr>\n",
       "    <tr>\n",
       "      <th>Frank Rijkaard</th>\n",
       "      <td>7.516541</td>\n",
       "      <td>75.592129</td>\n",
       "    </tr>\n",
       "    <tr>\n",
       "      <th>Diego Maradona</th>\n",
       "      <td>10.969480</td>\n",
       "      <td>109.344570</td>\n",
       "    </tr>\n",
       "    <tr>\n",
       "      <th>Mohamed Aboutrika</th>\n",
       "      <td>12.211746</td>\n",
       "      <td>125.744555</td>\n",
       "    </tr>\n",
       "    <tr>\n",
       "      <th>Samuel Eto'o</th>\n",
       "      <td>8.610641</td>\n",
       "      <td>85.167905</td>\n",
       "    </tr>\n",
       "    <tr>\n",
       "      <th>George Best</th>\n",
       "      <td>9.607329</td>\n",
       "      <td>90.879617</td>\n",
       "    </tr>\n",
       "    <tr>\n",
       "      <th>George Weah</th>\n",
       "      <td>9.100966</td>\n",
       "      <td>91.046418</td>\n",
       "    </tr>\n",
       "    <tr>\n",
       "      <th>Roberto Donadoni</th>\n",
       "      <td>11.853148</td>\n",
       "      <td>113.117274</td>\n",
       "    </tr>\n",
       "    <tr>\n",
       "      <th>Dylan</th>\n",
       "      <td>9.000000</td>\n",
       "      <td>91.000000</td>\n",
       "    </tr>\n",
       "  </tbody>\n",
       "</table>\n",
       "</div>"
      ],
      "text/plain": [
       "                   shoe_size  jersey_size\n",
       "Ronaldinho          9.837075    98.845890\n",
       "Pele                9.825894   106.900585\n",
       "Lionel Messi       11.309599   115.164762\n",
       "Zinedine Zidane    10.913477   110.347018\n",
       "Didier Drogba      10.628367   106.624708\n",
       "Ronaldo             5.449016    58.580120\n",
       "Yaya Toure         10.449692    95.808492\n",
       "Frank Rijkaard      7.516541    75.592129\n",
       "Diego Maradona     10.969480   109.344570\n",
       "Mohamed Aboutrika  12.211746   125.744555\n",
       "Samuel Eto'o        8.610641    85.167905\n",
       "George Best         9.607329    90.879617\n",
       "George Weah         9.100966    91.046418\n",
       "Roberto Donadoni   11.853148   113.117274\n",
       "Dylan               9.000000    91.000000"
      ]
     },
     "execution_count": 165,
     "metadata": {},
     "output_type": "execute_result"
    }
   ],
   "source": [
    "df.drop('position', axis=1)"
   ]
  },
  {
   "cell_type": "markdown",
   "metadata": {},
   "source": [
    "Notice when we executed `df.drop('position', axis=1)`, there was an entry for `Dylan` even though we had just executed `df.drop('Dylan')`. We have to be careful when using `drop`; many DataFrame functions return a _copy_ of the DataFrame. In order to make the change permanent, we either need to reassign `df` to the copy returned by `df.drop()` or we have to use the keyword `inplace`."
   ]
  },
  {
   "cell_type": "code",
   "execution_count": 166,
   "metadata": {},
   "outputs": [
    {
     "name": "stdout",
     "output_type": "stream",
     "text": [
      "                   shoe_size  jersey_size    position\n",
      "Ronaldinho          9.837075    98.845890     defense\n",
      "Pele                9.825894   106.900585     defense\n",
      "Lionel Messi       11.309599   115.164762     defense\n",
      "Zinedine Zidane    10.913477   110.347018     defense\n",
      "Didier Drogba      10.628367   106.624708  goaltender\n",
      "Ronaldo             5.449016    58.580120    midfield\n",
      "Yaya Toure         10.449692    95.808492     defense\n",
      "Frank Rijkaard      7.516541    75.592129     defense\n",
      "Diego Maradona     10.969480   109.344570     defense\n",
      "Mohamed Aboutrika  12.211746   125.744555      attack\n",
      "Samuel Eto'o        8.610641    85.167905  goaltender\n",
      "George Best         9.607329    90.879617  goaltender\n",
      "George Weah         9.100966    91.046418    midfield\n",
      "Roberto Donadoni   11.853148   113.117274      attack\n"
     ]
    }
   ],
   "source": [
    "df = df.drop('Dylan')\n",
    "print(df)"
   ]
  },
  {
   "cell_type": "code",
   "execution_count": 167,
   "metadata": {},
   "outputs": [
    {
     "name": "stdout",
     "output_type": "stream",
     "text": [
      "                   shoe_size  jersey_size\n",
      "Ronaldinho          9.837075    98.845890\n",
      "Pele                9.825894   106.900585\n",
      "Lionel Messi       11.309599   115.164762\n",
      "Zinedine Zidane    10.913477   110.347018\n",
      "Didier Drogba      10.628367   106.624708\n",
      "Ronaldo             5.449016    58.580120\n",
      "Yaya Toure         10.449692    95.808492\n",
      "Frank Rijkaard      7.516541    75.592129\n",
      "Diego Maradona     10.969480   109.344570\n",
      "Mohamed Aboutrika  12.211746   125.744555\n",
      "Samuel Eto'o        8.610641    85.167905\n",
      "George Best         9.607329    90.879617\n",
      "George Weah         9.100966    91.046418\n",
      "Roberto Donadoni   11.853148   113.117274\n"
     ]
    }
   ],
   "source": [
    "df.drop('position', axis=1, inplace=True)\n",
    "print(df)"
   ]
  },
  {
   "cell_type": "markdown",
   "metadata": {},
   "source": [
    "We'll explore Pandas in much more detail later in the course, since it has many powerful tools for data analysis. However, even with these tools you can already start to discover patterns in data and draw interesting conclusions."
   ]
  },
  {
   "cell_type": "markdown",
   "metadata": {},
   "source": [
    "*Copyright &copy; 2021 WorldQuant University. This content is licensed solely for personal use. Redistribution or publication of this material is strictly prohibited.*"
   ]
  }
 ],
 "metadata": {
  "kernelspec": {
   "display_name": "Python 3",
   "language": "python",
   "name": "python3"
  },
  "language_info": {
   "codemirror_mode": {
    "name": "ipython",
    "version": 3
   },
   "file_extension": ".py",
   "mimetype": "text/x-python",
   "name": "python",
   "nbconvert_exporter": "python",
   "pygments_lexer": "ipython3",
   "version": "3.8.8"
  },
  "nbclean": true
 },
 "nbformat": 4,
 "nbformat_minor": 1
}
