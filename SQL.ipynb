{
 "cells": [
  {
   "cell_type": "code",
   "execution_count": 1,
   "metadata": {
    "init_cell": true
   },
   "outputs": [],
   "source": [
    "%logstop\n",
    "%logstart -rtq ~/.logs/DS_SQL.py append\n",
    "import seaborn as sns\n",
    "sns.set()"
   ]
  },
  {
   "cell_type": "markdown",
   "metadata": {},
   "source": [
    "# Structured Query Language (SQL)\n",
    "<!-- requirement: data/customers.csv -->\n",
    "<!-- requirement: data/products.csv -->\n",
    "<!-- requirement: data/orders.csv -->"
   ]
  },
  {
   "cell_type": "markdown",
   "metadata": {},
   "source": [
    "SQL is one of the most common computer languages in use for working with data today. It is a standardized language for accessing and manipulating relational databases. While it is relatively limited compared to a general programming language such as Python, it is highly optimized for efficient retrieval and aggregation of data from database tables. Its broad support and use virtually guarantees that any professional data scientist or analyst will encounter SQL eventually. Furthermore, SQL is often the paradigm used to discuss the relational data model, which has implications that apply beyond SQL compliant databases.\n",
    "\n",
    "We will explore SQL from within Python, which will allow us to work with SQL in a familiar setting and also see opportunities for compatibility between the world of relational databases and data science tools within Python."
   ]
  },
  {
   "cell_type": "markdown",
   "metadata": {},
   "source": [
    "## Relational data model\n",
    "\n",
    "The relational data model for the most part corresponds with our intuitive notion of a table. Each row is a **relation**, usually representing some object, event, or idea. Each column corresponds with an **attribute** which characterizes the relation. In order to reduce redundancy in a database, when creating at able we typically include the minimum amount of attributes required to fully define a relation. This (admittedly vague) guideline is formalized in the idea of [database normalization](https://en.wikipedia.org/wiki/Database_normalization).\n",
    "\n",
    "For example, considering the following table representing orders from an online retailer.\n",
    "\n",
    "\n",
    "Customer | ID | Order ID | Product ID | Price | Delivery Address | Billing Address\n",
    ":-------:|:--:|:--------:|:----------:|:-----:|:----------------:|:---------------:\n",
    "   Omar  | 435|   62353  |    103     |  6.95 |  ***** Munich, Germany | ***** Berlin, Germany |\n",
    "   Omar  | 435|   62353  |    4028    |  35.50|  ***** Tunis, Tunisia  | ***** Berlin, Germany |\n",
    "  Stuart |5692|   64598  |    103     |  6.95 |  ***** Dover, UK | ***** Dover, UK |\n",
    "  Vidhya |6127|   64921  |    3158    | 101.99|  ***** Mumbai, India | ***** Mumbai, India |\n",
    "  Vidhya |6127|   64989  |    2561    | 21.35 |  ***** Mumbai, India | ***** Mumbai, India |\n",
    "  Vidhya |6127|   64989  |     89     | 16.95 |  ***** Mumbai, India | ***** Mumbai, India |\n",
    "  Stuart |5692|   65271  |    103     |  6.95 |  ***** Dover, UK | ***** Dover, UK |  \n",
    "\n",
    "In the above table we've reproduced many values several times such as customer names and IDs, addresses, prices, etc. We could break up this table into several smaller tables in which relations contain the minimal amount of attributes needed to define the relation. For instance, we may have a table for customers, a table for products, and a table for orders.\n",
    "\n",
    "  Customer | ID | Billing Address\n",
    " :--------:|:--:|:---------------:\n",
    "    Omar   | 435| ***** Berlin, Germany\n",
    "   Stuart  |5692| ***** Dover, UK\n",
    "   Vidhya  |6127| ***** Mumbai, India\n",
    "\n",
    " Product ID | Price\n",
    ":----------:|:-----:\n",
    "    103     |  6.95\n",
    "   4028     | 35.50\n",
    "   3158     | 101.99\n",
    "   2561     | 21.35\n",
    "    89      | 16.95\n",
    "\n",
    " Order ID | Customer ID | Product ID | Delivery Address\n",
    ":--------:|:-----------:|:----------:|:----------------:\n",
    "   62353  |     435     |    103     | ***** Munich, Germany\n",
    "   62353  |     435     |    4028    | ***** Tunis, Tunisia\n",
    "   64598  |    5692     |    103     | ***** Dover, UK\n",
    "   64921  |    6127     |    3158    | ***** Mumbai, India\n",
    "   64989  |    6127     |    2561    | ***** Mumbai, India\n",
    "   64989  |    6127     |     89     | ***** Mumbai, India\n",
    "   65271  |    5692     |    103     | ***** Dover, UK\n",
    "\n",
    "Before we were storing 7 rows x 7 columns = 49 cells; now we're storing only 7 x 4 + 5 x 2 + 3 x 3 = 47 cells. This may not seem like a huge improvement, but realistically an online retailer may have millions of orders of a particular product. Reproducing the price in every order rather than storing it once per product could be quite costly when scaled up.\n",
    "\n",
    "Let's explore how this would be implemented in SQL. We'll use `sqlite`, a basic SQL database manager that is useful for small data analysis and instructional purposes.   "
   ]
  },
  {
   "cell_type": "markdown",
   "metadata": {},
   "source": [
    "## Loading data in SQL"
   ]
  },
  {
   "cell_type": "code",
   "execution_count": 5,
   "metadata": {},
   "outputs": [],
   "source": [
    "%load_ext sql\n",
    "%sql sqlite:///testdb.sqlite"
   ]
  },
  {
   "cell_type": "code",
   "execution_count": 12,
   "metadata": {},
   "outputs": [
    {
     "name": "stdout",
     "output_type": "stream",
     "text": [
      " * sqlite:///testdb.sqlite\n",
      "Done.\n",
      "Done.\n",
      "Done.\n",
      "Done.\n",
      "Done.\n",
      "Done.\n"
     ]
    },
    {
     "data": {
      "text/plain": [
       "[]"
      ]
     },
     "execution_count": 12,
     "metadata": {},
     "output_type": "execute_result"
    }
   ],
   "source": [
    "%%sql\n",
    "--# The %%sql magic tells Jupyter to interpret this cell as SQL\n",
    "--# In SQL comments begin with '--' (we add # to take advantage of Jupyter's synttax highlighting)\n",
    "\n",
    "--# Since we're starting a new example, let's delete any existing tables\n",
    "DROP TABLE IF EXISTS customers;\n",
    "DROP TABLE IF EXISTS products;\n",
    "DROP TABLE IF EXISTS orders;\n",
    "\n",
    "--# Now le's make our table\n",
    "CREATE TABLE customers (\n",
    "    id                 INTEGER PRIMARY KEY NOT NULL,\n",
    "    name               TEXT NOT NULL,\n",
    "    billing_address    TEXT NOT NULL\n",
    ");\n",
    "\n",
    "CREATE TABLE products (\n",
    "    id                INTEGER PRIMARY KEY NOT NULL,\n",
    "    price             NUMBER NOT NULL\n",
    ");\n",
    "\n",
    "CREATE TABLE orders (\n",
    "    id                INTEGER NOT NULL,\n",
    "    customer_id       NUMBER NOT NULL,\n",
    "    product_id        NUMBER NOT NULL,\n",
    "    delivery_address  TEXT NOT NULL,\n",
    "    FOREIGN KEY(customer_id)  REFERENCES customer(id),\n",
    "    FOREIGN KEY(product_id)   REFERENCES products(id)\n",
    ");"
   ]
  },
  {
   "cell_type": "markdown",
   "metadata": {},
   "source": [
    "Our tables are initially empty, but we have defined the **schema** or structure of the tables. We've specified certain options in our schema, such as the fact that we do not accept null values in any field and that certain fields are unique primary keys. Many more options are possible, including setting default values for fields that could otherwise be null or instructing SQL to automatically assign incrementing values. If you haven't gotten the sense already, database architecture is an extensive subject!\n",
    "\n",
    "We can inspect the table by using `SELECT`."
   ]
  },
  {
   "cell_type": "code",
   "execution_count": 13,
   "metadata": {},
   "outputs": [
    {
     "name": "stdout",
     "output_type": "stream",
     "text": [
      " * sqlite:///testdb.sqlite\n",
      "Done.\n"
     ]
    },
    {
     "data": {
      "text/html": [
       "<table>\n",
       "    <tr>\n",
       "        <th>id</th>\n",
       "        <th>name</th>\n",
       "        <th>billing_address</th>\n",
       "    </tr>\n",
       "</table>"
      ],
      "text/plain": [
       "[]"
      ]
     },
     "execution_count": 13,
     "metadata": {},
     "output_type": "execute_result"
    }
   ],
   "source": [
    "%%sql\n",
    "\n",
    "SELECT * FROM customers;"
   ]
  },
  {
   "cell_type": "markdown",
   "metadata": {},
   "source": [
    "Let's `INSERT` data into our tables.\n",
    "\n",
    "We have to be careful to do this in a certain order; when we defined the `orders` table, we defined a relationship between the `customer_id` and `product_id` attributes and the `id` attributes in the `customer` and `product` tables respectively. We can only `INSERT`  data into the orders table once the appropriate customers and products exist in their tables."
   ]
  },
  {
   "cell_type": "code",
   "execution_count": 14,
   "metadata": {},
   "outputs": [
    {
     "name": "stdout",
     "output_type": "stream",
     "text": [
      " * sqlite:///testdb.sqlite\n",
      "Done.\n",
      "5 rows affected.\n",
      "2 rows affected.\n",
      "2 rows affected.\n",
      "3 rows affected.\n"
     ]
    },
    {
     "data": {
      "text/plain": [
       "[]"
      ]
     },
     "execution_count": 14,
     "metadata": {},
     "output_type": "execute_result"
    }
   ],
   "source": [
    "%%sql\n",
    "\n",
    "--# Starting with customers\n",
    "\n",
    "INSERT INTO customers (id, name, billing_address)\n",
    "    VALUES (435, 'Omar', 'Berlin, Germany'), (5692, 'Stuart', 'Dover, UK'), (6127, 'Vidhya', 'Mumbai, India');\n",
    "\n",
    "INSERT INTO products (id, price)\n",
    "    VALUES (103, 6.95), (4028, 35.5), (3158, 101.99), (2561, 21.35), (89, 16.95);\n",
    "\n",
    "INSERT INTO orders (id, customer_id, product_id, delivery_address)\n",
    "    VALUES (62353, 435, 103, 'Munich, Germany'), (62353, 435, 4028, 'Tunis, Tunisia');\n",
    "\n",
    "INSERT INTO orders (id, customer_id, product_id, delivery_address)\n",
    "    VALUES (64598, 5692, 103, 'Dover, UK'), (65271, 5692, 103, 'Dover, UK');\n",
    "\n",
    "INSERT INTO orders (id, customer_id, product_id, delivery_address)\n",
    "    VALUES (64921, 6127, 3158, 'Mumbai, India'), (64989, 6127, 2561, 'Mumbai, India'), (64989, 6127, 89, 'Mumbai, India');"
   ]
  },
  {
   "cell_type": "markdown",
   "metadata": {},
   "source": [
    "Let's confirm that our tables have been updated with the data from our example."
   ]
  },
  {
   "cell_type": "code",
   "execution_count": 15,
   "metadata": {},
   "outputs": [
    {
     "name": "stdout",
     "output_type": "stream",
     "text": [
      " * sqlite:///testdb.sqlite\n",
      "Done.\n"
     ]
    },
    {
     "data": {
      "text/html": [
       "<table>\n",
       "    <tr>\n",
       "        <th>id</th>\n",
       "        <th>name</th>\n",
       "        <th>billing_address</th>\n",
       "    </tr>\n",
       "    <tr>\n",
       "        <td>435</td>\n",
       "        <td>Omar</td>\n",
       "        <td>Berlin, Germany</td>\n",
       "    </tr>\n",
       "    <tr>\n",
       "        <td>5692</td>\n",
       "        <td>Stuart</td>\n",
       "        <td>Dover, UK</td>\n",
       "    </tr>\n",
       "    <tr>\n",
       "        <td>6127</td>\n",
       "        <td>Vidhya</td>\n",
       "        <td>Mumbai, India</td>\n",
       "    </tr>\n",
       "</table>"
      ],
      "text/plain": [
       "[(435, 'Omar', 'Berlin, Germany'),\n",
       " (5692, 'Stuart', 'Dover, UK'),\n",
       " (6127, 'Vidhya', 'Mumbai, India')]"
      ]
     },
     "execution_count": 15,
     "metadata": {},
     "output_type": "execute_result"
    }
   ],
   "source": [
    "%%sql\n",
    "\n",
    "SELECT * FROM customers;"
   ]
  },
  {
   "cell_type": "code",
   "execution_count": 16,
   "metadata": {},
   "outputs": [
    {
     "name": "stdout",
     "output_type": "stream",
     "text": [
      " * sqlite:///testdb.sqlite\n",
      "Done.\n"
     ]
    },
    {
     "data": {
      "text/html": [
       "<table>\n",
       "    <tr>\n",
       "        <th>id</th>\n",
       "        <th>price</th>\n",
       "    </tr>\n",
       "    <tr>\n",
       "        <td>89</td>\n",
       "        <td>16.95</td>\n",
       "    </tr>\n",
       "    <tr>\n",
       "        <td>103</td>\n",
       "        <td>6.95</td>\n",
       "    </tr>\n",
       "    <tr>\n",
       "        <td>2561</td>\n",
       "        <td>21.35</td>\n",
       "    </tr>\n",
       "    <tr>\n",
       "        <td>3158</td>\n",
       "        <td>101.99</td>\n",
       "    </tr>\n",
       "    <tr>\n",
       "        <td>4028</td>\n",
       "        <td>35.5</td>\n",
       "    </tr>\n",
       "</table>"
      ],
      "text/plain": [
       "[(89, 16.95), (103, 6.95), (2561, 21.35), (3158, 101.99), (4028, 35.5)]"
      ]
     },
     "execution_count": 16,
     "metadata": {},
     "output_type": "execute_result"
    }
   ],
   "source": [
    "%%sql\n",
    "\n",
    "SELECT * FROM products;"
   ]
  },
  {
   "cell_type": "code",
   "execution_count": 17,
   "metadata": {},
   "outputs": [
    {
     "name": "stdout",
     "output_type": "stream",
     "text": [
      " * sqlite:///testdb.sqlite\n",
      "Done.\n"
     ]
    },
    {
     "data": {
      "text/html": [
       "<table>\n",
       "    <tr>\n",
       "        <th>id</th>\n",
       "        <th>customer_id</th>\n",
       "        <th>product_id</th>\n",
       "        <th>delivery_address</th>\n",
       "    </tr>\n",
       "    <tr>\n",
       "        <td>62353</td>\n",
       "        <td>435</td>\n",
       "        <td>103</td>\n",
       "        <td>Munich, Germany</td>\n",
       "    </tr>\n",
       "    <tr>\n",
       "        <td>62353</td>\n",
       "        <td>435</td>\n",
       "        <td>4028</td>\n",
       "        <td>Tunis, Tunisia</td>\n",
       "    </tr>\n",
       "    <tr>\n",
       "        <td>64598</td>\n",
       "        <td>5692</td>\n",
       "        <td>103</td>\n",
       "        <td>Dover, UK</td>\n",
       "    </tr>\n",
       "    <tr>\n",
       "        <td>65271</td>\n",
       "        <td>5692</td>\n",
       "        <td>103</td>\n",
       "        <td>Dover, UK</td>\n",
       "    </tr>\n",
       "    <tr>\n",
       "        <td>64921</td>\n",
       "        <td>6127</td>\n",
       "        <td>3158</td>\n",
       "        <td>Mumbai, India</td>\n",
       "    </tr>\n",
       "</table>"
      ],
      "text/plain": [
       "[(62353, 435, 103, 'Munich, Germany'),\n",
       " (62353, 435, 4028, 'Tunis, Tunisia'),\n",
       " (64598, 5692, 103, 'Dover, UK'),\n",
       " (65271, 5692, 103, 'Dover, UK'),\n",
       " (64921, 6127, 3158, 'Mumbai, India')]"
      ]
     },
     "execution_count": 17,
     "metadata": {},
     "output_type": "execute_result"
    }
   ],
   "source": [
    "%%sql\n",
    "\n",
    "SELECT * FROM orders\n",
    "    LIMIT 5;"
   ]
  },
  {
   "cell_type": "markdown",
   "metadata": {},
   "source": [
    "Databases are commonly used for persistent data storage, and therefore it is common to add or remove rows as new data is created (e.g. someone places an order) or destroyed (e.g. a product is discontinued). This may be performed automatically via an application's **database connection**; we will use database connections later in this notebook. However, in the mean time we will load in a larger version of the above data set from file for analysis."
   ]
  },
  {
   "cell_type": "code",
   "execution_count": 20,
   "metadata": {},
   "outputs": [],
   "source": [
    "import pandas as pd\n",
    "import sqlite3"
   ]
  },
  {
   "cell_type": "code",
   "execution_count": 21,
   "metadata": {},
   "outputs": [],
   "source": [
    "conn = sqlite3.connect('testdb.sqlite')\n",
    "customers = pd.read_csv('data/customers.csv')\n",
    "products = pd.read_csv('data/products.csv')\n",
    "orders = pd.read_csv('data/orders.csv')"
   ]
  },
  {
   "cell_type": "code",
   "execution_count": 27,
   "metadata": {},
   "outputs": [
    {
     "data": {
      "text/html": [
       "<div>\n",
       "<style scoped>\n",
       "    .dataframe tbody tr th:only-of-type {\n",
       "        vertical-align: middle;\n",
       "    }\n",
       "\n",
       "    .dataframe tbody tr th {\n",
       "        vertical-align: top;\n",
       "    }\n",
       "\n",
       "    .dataframe thead th {\n",
       "        text-align: right;\n",
       "    }\n",
       "</style>\n",
       "<table border=\"1\" class=\"dataframe\">\n",
       "  <thead>\n",
       "    <tr style=\"text-align: right;\">\n",
       "      <th></th>\n",
       "      <th>id</th>\n",
       "      <th>name</th>\n",
       "      <th>billing_country</th>\n",
       "    </tr>\n",
       "  </thead>\n",
       "  <tbody>\n",
       "    <tr>\n",
       "      <th>0</th>\n",
       "      <td>1</td>\n",
       "      <td>Serenity Ladner</td>\n",
       "      <td>Canada</td>\n",
       "    </tr>\n",
       "    <tr>\n",
       "      <th>1</th>\n",
       "      <td>2</td>\n",
       "      <td>Lucy Baldwin</td>\n",
       "      <td>Canada</td>\n",
       "    </tr>\n",
       "    <tr>\n",
       "      <th>2</th>\n",
       "      <td>5</td>\n",
       "      <td>Skylar Coffman</td>\n",
       "      <td>USA</td>\n",
       "    </tr>\n",
       "    <tr>\n",
       "      <th>3</th>\n",
       "      <td>6</td>\n",
       "      <td>Riley Kinsey</td>\n",
       "      <td>USA</td>\n",
       "    </tr>\n",
       "    <tr>\n",
       "      <th>4</th>\n",
       "      <td>7</td>\n",
       "      <td>Heidi Spurlock</td>\n",
       "      <td>Canada</td>\n",
       "    </tr>\n",
       "  </tbody>\n",
       "</table>\n",
       "</div>"
      ],
      "text/plain": [
       "   id             name billing_country\n",
       "0   1  Serenity Ladner          Canada\n",
       "1   2     Lucy Baldwin          Canada\n",
       "2   5   Skylar Coffman             USA\n",
       "3   6     Riley Kinsey             USA\n",
       "4   7   Heidi Spurlock          Canada"
      ]
     },
     "execution_count": 27,
     "metadata": {},
     "output_type": "execute_result"
    }
   ],
   "source": [
    "customers.head()"
   ]
  },
  {
   "cell_type": "code",
   "execution_count": 29,
   "metadata": {},
   "outputs": [],
   "source": [
    "customers.to_sql('customers', conn, index=False, if_exists='replace')\n",
    "products.to_sql('products', conn, index=False, if_exists='replace')\n",
    "orders.to_sql('orders', conn, index=False, if_exists='replace')"
   ]
  },
  {
   "cell_type": "code",
   "execution_count": 33,
   "metadata": {},
   "outputs": [
    {
     "name": "stdout",
     "output_type": "stream",
     "text": [
      " * sqlite:///testdb.sqlite\n",
      "Done.\n"
     ]
    },
    {
     "data": {
      "text/html": [
       "<table>\n",
       "    <tr>\n",
       "        <th>id</th>\n",
       "        <th>name</th>\n",
       "        <th>billing_country</th>\n",
       "    </tr>\n",
       "    <tr>\n",
       "        <td>1</td>\n",
       "        <td>Serenity Ladner</td>\n",
       "        <td>Canada</td>\n",
       "    </tr>\n",
       "    <tr>\n",
       "        <td>2</td>\n",
       "        <td>Lucy Baldwin</td>\n",
       "        <td>Canada</td>\n",
       "    </tr>\n",
       "    <tr>\n",
       "        <td>5</td>\n",
       "        <td>Skylar Coffman</td>\n",
       "        <td>USA</td>\n",
       "    </tr>\n",
       "    <tr>\n",
       "        <td>6</td>\n",
       "        <td>Riley Kinsey</td>\n",
       "        <td>USA</td>\n",
       "    </tr>\n",
       "    <tr>\n",
       "        <td>7</td>\n",
       "        <td>Heidi Spurlock</td>\n",
       "        <td>Canada</td>\n",
       "    </tr>\n",
       "    <tr>\n",
       "        <td>10</td>\n",
       "        <td>Makenna Rojas</td>\n",
       "        <td>Canada</td>\n",
       "    </tr>\n",
       "    <tr>\n",
       "        <td>15</td>\n",
       "        <td>Lillian Strange</td>\n",
       "        <td>Canada</td>\n",
       "    </tr>\n",
       "    <tr>\n",
       "        <td>17</td>\n",
       "        <td>Erin Gorman</td>\n",
       "        <td>Canada</td>\n",
       "    </tr>\n",
       "    <tr>\n",
       "        <td>18</td>\n",
       "        <td>Abigail Le</td>\n",
       "        <td>USA</td>\n",
       "    </tr>\n",
       "    <tr>\n",
       "        <td>22</td>\n",
       "        <td>Alana Herzog</td>\n",
       "        <td>USA</td>\n",
       "    </tr>\n",
       "</table>"
      ],
      "text/plain": [
       "[(1, 'Serenity Ladner', 'Canada'),\n",
       " (2, 'Lucy Baldwin', 'Canada'),\n",
       " (5, 'Skylar Coffman', 'USA'),\n",
       " (6, 'Riley Kinsey', 'USA'),\n",
       " (7, 'Heidi Spurlock', 'Canada'),\n",
       " (10, 'Makenna Rojas', 'Canada'),\n",
       " (15, 'Lillian Strange', 'Canada'),\n",
       " (17, 'Erin Gorman', 'Canada'),\n",
       " (18, 'Abigail Le', 'USA'),\n",
       " (22, 'Alana Herzog', 'USA')]"
      ]
     },
     "execution_count": 33,
     "metadata": {},
     "output_type": "execute_result"
    }
   ],
   "source": [
    "%%sql\n",
    "\n",
    "SELECT * FROM customers\n",
    "    LIMIT 10;"
   ]
  },
  {
   "cell_type": "markdown",
   "metadata": {},
   "source": [
    "## Filtering and sorting data\n",
    "\n",
    "Filtering is principally accomplished using the `WHERE` command."
   ]
  },
  {
   "cell_type": "code",
   "execution_count": 35,
   "metadata": {},
   "outputs": [
    {
     "name": "stdout",
     "output_type": "stream",
     "text": [
      " * sqlite:///testdb.sqlite\n",
      "Done.\n"
     ]
    },
    {
     "data": {
      "text/html": [
       "<table>\n",
       "    <tr>\n",
       "        <th>id</th>\n",
       "        <th>delivery_country</th>\n",
       "    </tr>\n",
       "    <tr>\n",
       "        <td>0</td>\n",
       "        <td>India</td>\n",
       "    </tr>\n",
       "    <tr>\n",
       "        <td>60</td>\n",
       "        <td>India</td>\n",
       "    </tr>\n",
       "    <tr>\n",
       "        <td>60</td>\n",
       "        <td>India</td>\n",
       "    </tr>\n",
       "    <tr>\n",
       "        <td>60</td>\n",
       "        <td>India</td>\n",
       "    </tr>\n",
       "    <tr>\n",
       "        <td>64</td>\n",
       "        <td>India</td>\n",
       "    </tr>\n",
       "    <tr>\n",
       "        <td>66</td>\n",
       "        <td>India</td>\n",
       "    </tr>\n",
       "    <tr>\n",
       "        <td>66</td>\n",
       "        <td>India</td>\n",
       "    </tr>\n",
       "    <tr>\n",
       "        <td>68</td>\n",
       "        <td>India</td>\n",
       "    </tr>\n",
       "    <tr>\n",
       "        <td>103</td>\n",
       "        <td>India</td>\n",
       "    </tr>\n",
       "    <tr>\n",
       "        <td>103</td>\n",
       "        <td>India</td>\n",
       "    </tr>\n",
       "</table>"
      ],
      "text/plain": [
       "[(0, 'India'),\n",
       " (60, 'India'),\n",
       " (60, 'India'),\n",
       " (60, 'India'),\n",
       " (64, 'India'),\n",
       " (66, 'India'),\n",
       " (66, 'India'),\n",
       " (68, 'India'),\n",
       " (103, 'India'),\n",
       " (103, 'India')]"
      ]
     },
     "execution_count": 35,
     "metadata": {},
     "output_type": "execute_result"
    }
   ],
   "source": [
    "%%sql\n",
    "\n",
    "SELECT id, delivery_country FROM orders\n",
    "WHERE delivery_country = 'India'\n",
    "LIMIT 10;"
   ]
  },
  {
   "cell_type": "code",
   "execution_count": 36,
   "metadata": {},
   "outputs": [
    {
     "name": "stdout",
     "output_type": "stream",
     "text": [
      " * sqlite:///testdb.sqlite\n",
      "Done.\n"
     ]
    },
    {
     "data": {
      "text/html": [
       "<table>\n",
       "    <tr>\n",
       "        <th>id</th>\n",
       "        <th>price</th>\n",
       "    </tr>\n",
       "    <tr>\n",
       "        <td>0</td>\n",
       "        <td>21.78</td>\n",
       "    </tr>\n",
       "    <tr>\n",
       "        <td>2</td>\n",
       "        <td>24.17</td>\n",
       "    </tr>\n",
       "    <tr>\n",
       "        <td>3</td>\n",
       "        <td>29.71</td>\n",
       "    </tr>\n",
       "    <tr>\n",
       "        <td>4</td>\n",
       "        <td>20.12</td>\n",
       "    </tr>\n",
       "    <tr>\n",
       "        <td>5</td>\n",
       "        <td>27.55</td>\n",
       "    </tr>\n",
       "    <tr>\n",
       "        <td>7</td>\n",
       "        <td>26.75</td>\n",
       "    </tr>\n",
       "    <tr>\n",
       "        <td>8</td>\n",
       "        <td>21.49</td>\n",
       "    </tr>\n",
       "    <tr>\n",
       "        <td>9</td>\n",
       "        <td>26.35</td>\n",
       "    </tr>\n",
       "    <tr>\n",
       "        <td>10</td>\n",
       "        <td>31.74</td>\n",
       "    </tr>\n",
       "    <tr>\n",
       "        <td>11</td>\n",
       "        <td>22.28</td>\n",
       "    </tr>\n",
       "</table>"
      ],
      "text/plain": [
       "[(0, 21.78),\n",
       " (2, 24.17),\n",
       " (3, 29.71),\n",
       " (4, 20.12),\n",
       " (5, 27.55),\n",
       " (7, 26.75),\n",
       " (8, 21.49),\n",
       " (9, 26.35),\n",
       " (10, 31.74),\n",
       " (11, 22.28)]"
      ]
     },
     "execution_count": 36,
     "metadata": {},
     "output_type": "execute_result"
    }
   ],
   "source": [
    "%%sql\n",
    "\n",
    "SELECT * FROM products\n",
    "WHERE price > 20\n",
    "LIMIT 10;"
   ]
  },
  {
   "cell_type": "markdown",
   "metadata": {},
   "source": [
    "We can additionally combine `WHERE` with `LIKE` for pattern matching an `IN` for membership."
   ]
  },
  {
   "cell_type": "code",
   "execution_count": 45,
   "metadata": {},
   "outputs": [
    {
     "name": "stdout",
     "output_type": "stream",
     "text": [
      " * sqlite:///testdb.sqlite\n",
      "Done.\n"
     ]
    },
    {
     "data": {
      "text/html": [
       "<table>\n",
       "    <tr>\n",
       "        <th>id</th>\n",
       "        <th>delivery_country</th>\n",
       "    </tr>\n",
       "    <tr>\n",
       "        <td>2</td>\n",
       "        <td>Spain</td>\n",
       "    </tr>\n",
       "    <tr>\n",
       "        <td>11</td>\n",
       "        <td>Senegal</td>\n",
       "    </tr>\n",
       "    <tr>\n",
       "        <td>16</td>\n",
       "        <td>Sweden</td>\n",
       "    </tr>\n",
       "    <tr>\n",
       "        <td>16</td>\n",
       "        <td>Sweden</td>\n",
       "    </tr>\n",
       "    <tr>\n",
       "        <td>16</td>\n",
       "        <td>Sweden</td>\n",
       "    </tr>\n",
       "    <tr>\n",
       "        <td>21</td>\n",
       "        <td>Spain</td>\n",
       "    </tr>\n",
       "    <tr>\n",
       "        <td>21</td>\n",
       "        <td>Slovakia</td>\n",
       "    </tr>\n",
       "    <tr>\n",
       "        <td>30</td>\n",
       "        <td>Spain</td>\n",
       "    </tr>\n",
       "    <tr>\n",
       "        <td>38</td>\n",
       "        <td>South Korea</td>\n",
       "    </tr>\n",
       "    <tr>\n",
       "        <td>45</td>\n",
       "        <td>Sweden</td>\n",
       "    </tr>\n",
       "</table>"
      ],
      "text/plain": [
       "[(2, 'Spain'),\n",
       " (11, 'Senegal'),\n",
       " (16, 'Sweden'),\n",
       " (16, 'Sweden'),\n",
       " (16, 'Sweden'),\n",
       " (21, 'Spain'),\n",
       " (21, 'Slovakia'),\n",
       " (30, 'Spain'),\n",
       " (38, 'South Korea'),\n",
       " (45, 'Sweden')]"
      ]
     },
     "execution_count": 45,
     "metadata": {},
     "output_type": "execute_result"
    }
   ],
   "source": [
    "%%sql\n",
    "\n",
    "SELECT id, delivery_country FROM orders\n",
    "WHERE delivery_country LIKE 'S%'\n",
    "LIMIT 10;"
   ]
  },
  {
   "cell_type": "code",
   "execution_count": 50,
   "metadata": {},
   "outputs": [
    {
     "name": "stdout",
     "output_type": "stream",
     "text": [
      " * sqlite:///testdb.sqlite\n",
      "Done.\n"
     ]
    },
    {
     "data": {
      "text/html": [
       "<table>\n",
       "    <tr>\n",
       "        <th>id</th>\n",
       "        <th>delivery_country</th>\n",
       "    </tr>\n",
       "    <tr>\n",
       "        <td>1</td>\n",
       "        <td>China</td>\n",
       "    </tr>\n",
       "    <tr>\n",
       "        <td>1</td>\n",
       "        <td>China</td>\n",
       "    </tr>\n",
       "    <tr>\n",
       "        <td>1</td>\n",
       "        <td>China</td>\n",
       "    </tr>\n",
       "    <tr>\n",
       "        <td>65</td>\n",
       "        <td>China</td>\n",
       "    </tr>\n",
       "    <tr>\n",
       "        <td>70</td>\n",
       "        <td>China</td>\n",
       "    </tr>\n",
       "    <tr>\n",
       "        <td>70</td>\n",
       "        <td>China</td>\n",
       "    </tr>\n",
       "    <tr>\n",
       "        <td>70</td>\n",
       "        <td>China</td>\n",
       "    </tr>\n",
       "    <tr>\n",
       "        <td>70</td>\n",
       "        <td>China</td>\n",
       "    </tr>\n",
       "    <tr>\n",
       "        <td>74</td>\n",
       "        <td>China</td>\n",
       "    </tr>\n",
       "    <tr>\n",
       "        <td>74</td>\n",
       "        <td>China</td>\n",
       "    </tr>\n",
       "</table>"
      ],
      "text/plain": [
       "[(1, 'China'),\n",
       " (1, 'China'),\n",
       " (1, 'China'),\n",
       " (65, 'China'),\n",
       " (70, 'China'),\n",
       " (70, 'China'),\n",
       " (70, 'China'),\n",
       " (70, 'China'),\n",
       " (74, 'China'),\n",
       " (74, 'China')]"
      ]
     },
     "execution_count": 50,
     "metadata": {},
     "output_type": "execute_result"
    }
   ],
   "source": [
    "%%sql\n",
    "\n",
    "SELECT id, delivery_country FROM orders\n",
    "WHERE delivery_country LIKE 'C____'\n",
    "LIMIT 10;"
   ]
  },
  {
   "cell_type": "code",
   "execution_count": 42,
   "metadata": {},
   "outputs": [
    {
     "name": "stdout",
     "output_type": "stream",
     "text": [
      " * sqlite:///testdb.sqlite\n",
      "Done.\n"
     ]
    },
    {
     "data": {
      "text/html": [
       "<table>\n",
       "    <tr>\n",
       "        <th>id</th>\n",
       "        <th>customer_id</th>\n",
       "        <th>product_id</th>\n",
       "        <th>delivery_country</th>\n",
       "    </tr>\n",
       "    <tr>\n",
       "        <td>211</td>\n",
       "        <td>200</td>\n",
       "        <td>858</td>\n",
       "        <td>Madagascar</td>\n",
       "    </tr>\n",
       "    <tr>\n",
       "        <td>211</td>\n",
       "        <td>200</td>\n",
       "        <td>434</td>\n",
       "        <td>Mexico</td>\n",
       "    </tr>\n",
       "    <tr>\n",
       "        <td>542</td>\n",
       "        <td>400</td>\n",
       "        <td>80</td>\n",
       "        <td>Sweden</td>\n",
       "    </tr>\n",
       "    <tr>\n",
       "        <td>542</td>\n",
       "        <td>400</td>\n",
       "        <td>405</td>\n",
       "        <td>Sweden</td>\n",
       "    </tr>\n",
       "    <tr>\n",
       "        <td>818</td>\n",
       "        <td>10</td>\n",
       "        <td>778</td>\n",
       "        <td>Canada</td>\n",
       "    </tr>\n",
       "    <tr>\n",
       "        <td>818</td>\n",
       "        <td>10</td>\n",
       "        <td>60</td>\n",
       "        <td>Canada</td>\n",
       "    </tr>\n",
       "</table>"
      ],
      "text/plain": [
       "[(211, 200, 858, 'Madagascar'),\n",
       " (211, 200, 434, 'Mexico'),\n",
       " (542, 400, 80, 'Sweden'),\n",
       " (542, 400, 405, 'Sweden'),\n",
       " (818, 10, 778, 'Canada'),\n",
       " (818, 10, 60, 'Canada')]"
      ]
     },
     "execution_count": 42,
     "metadata": {},
     "output_type": "execute_result"
    }
   ],
   "source": [
    "%%sql\n",
    "\n",
    "SELECT * FROM orders\n",
    "WHERE customer_id IN (10, 200, 400);"
   ]
  },
  {
   "cell_type": "markdown",
   "metadata": {},
   "source": [
    "We can also combine them with the usual logical operators: `AND`, `OR`, and `NOT`."
   ]
  },
  {
   "cell_type": "code",
   "execution_count": 53,
   "metadata": {},
   "outputs": [
    {
     "name": "stdout",
     "output_type": "stream",
     "text": [
      " * sqlite:///testdb.sqlite\n",
      "Done.\n"
     ]
    },
    {
     "data": {
      "text/html": [
       "<table>\n",
       "    <tr>\n",
       "        <th>id</th>\n",
       "        <th>customer_id</th>\n",
       "        <th>product_id</th>\n",
       "        <th>delivery_country</th>\n",
       "    </tr>\n",
       "    <tr>\n",
       "        <td>211</td>\n",
       "        <td>200</td>\n",
       "        <td>434</td>\n",
       "        <td>Mexico</td>\n",
       "    </tr>\n",
       "    <tr>\n",
       "        <td>542</td>\n",
       "        <td>400</td>\n",
       "        <td>80</td>\n",
       "        <td>Sweden</td>\n",
       "    </tr>\n",
       "    <tr>\n",
       "        <td>542</td>\n",
       "        <td>400</td>\n",
       "        <td>405</td>\n",
       "        <td>Sweden</td>\n",
       "    </tr>\n",
       "</table>"
      ],
      "text/plain": [
       "[(211, 200, 434, 'Mexico'),\n",
       " (542, 400, 80, 'Sweden'),\n",
       " (542, 400, 405, 'Sweden')]"
      ]
     },
     "execution_count": 53,
     "metadata": {},
     "output_type": "execute_result"
    }
   ],
   "source": [
    "%%sql\n",
    "\n",
    "SELECT * FROM orders\n",
    "WHERE customer_id IN (10, 200, 400)\n",
    "AND delivery_country NOT IN ('Madagascar', 'Canada');"
   ]
  },
  {
   "cell_type": "code",
   "execution_count": 54,
   "metadata": {},
   "outputs": [
    {
     "name": "stdout",
     "output_type": "stream",
     "text": [
      " * sqlite:///testdb.sqlite\n",
      "Done.\n"
     ]
    },
    {
     "data": {
      "text/html": [
       "<table>\n",
       "    <tr>\n",
       "        <th>id</th>\n",
       "        <th>price</th>\n",
       "    </tr>\n",
       "    <tr>\n",
       "        <td>10</td>\n",
       "        <td>31.74</td>\n",
       "    </tr>\n",
       "    <tr>\n",
       "        <td>17</td>\n",
       "        <td>7.27</td>\n",
       "    </tr>\n",
       "    <tr>\n",
       "        <td>22</td>\n",
       "        <td>33.03</td>\n",
       "    </tr>\n",
       "    <tr>\n",
       "        <td>41</td>\n",
       "        <td>8.98</td>\n",
       "    </tr>\n",
       "    <tr>\n",
       "        <td>44</td>\n",
       "        <td>5.8</td>\n",
       "    </tr>\n",
       "    <tr>\n",
       "        <td>54</td>\n",
       "        <td>35.6</td>\n",
       "    </tr>\n",
       "    <tr>\n",
       "        <td>57</td>\n",
       "        <td>6.67</td>\n",
       "    </tr>\n",
       "    <tr>\n",
       "        <td>72</td>\n",
       "        <td>33.26</td>\n",
       "    </tr>\n",
       "    <tr>\n",
       "        <td>78</td>\n",
       "        <td>9.01</td>\n",
       "    </tr>\n",
       "    <tr>\n",
       "        <td>104</td>\n",
       "        <td>33.24</td>\n",
       "    </tr>\n",
       "</table>"
      ],
      "text/plain": [
       "[(10, 31.74),\n",
       " (17, 7.27),\n",
       " (22, 33.03),\n",
       " (41, 8.98),\n",
       " (44, 5.8),\n",
       " (54, 35.6),\n",
       " (57, 6.67),\n",
       " (72, 33.26),\n",
       " (78, 9.01),\n",
       " (104, 33.24)]"
      ]
     },
     "execution_count": 54,
     "metadata": {},
     "output_type": "execute_result"
    }
   ],
   "source": [
    "%%sql\n",
    "\n",
    "SELECT * FROM products\n",
    "WHERE price < 10 OR price > 30\n",
    "LIMIT 10;"
   ]
  },
  {
   "cell_type": "markdown",
   "metadata": {},
   "source": [
    "To sort our results, we can `ORDER BY` one or more columns. We can also choose whether we sort in ascending (`ASC`) or descending (`DESC`) order. SQL sorts in ascending order by default."
   ]
  },
  {
   "cell_type": "code",
   "execution_count": 56,
   "metadata": {},
   "outputs": [
    {
     "name": "stdout",
     "output_type": "stream",
     "text": [
      " * sqlite:///testdb.sqlite\n",
      "Done.\n"
     ]
    },
    {
     "data": {
      "text/html": [
       "<table>\n",
       "    <tr>\n",
       "        <th>id</th>\n",
       "        <th>customer_id</th>\n",
       "        <th>product_id</th>\n",
       "        <th>delivery_country</th>\n",
       "    </tr>\n",
       "    <tr>\n",
       "        <td>189</td>\n",
       "        <td>1</td>\n",
       "        <td>307</td>\n",
       "        <td>Canada</td>\n",
       "    </tr>\n",
       "    <tr>\n",
       "        <td>189</td>\n",
       "        <td>1</td>\n",
       "        <td>508</td>\n",
       "        <td>Poland</td>\n",
       "    </tr>\n",
       "    <tr>\n",
       "        <td>949</td>\n",
       "        <td>1</td>\n",
       "        <td>431</td>\n",
       "        <td>Canada</td>\n",
       "    </tr>\n",
       "    <tr>\n",
       "        <td>949</td>\n",
       "        <td>1</td>\n",
       "        <td>592</td>\n",
       "        <td>Canada</td>\n",
       "    </tr>\n",
       "    <tr>\n",
       "        <td>146</td>\n",
       "        <td>5</td>\n",
       "        <td>263</td>\n",
       "        <td>USA</td>\n",
       "    </tr>\n",
       "    <tr>\n",
       "        <td>146</td>\n",
       "        <td>5</td>\n",
       "        <td>688</td>\n",
       "        <td>USA</td>\n",
       "    </tr>\n",
       "    <tr>\n",
       "        <td>146</td>\n",
       "        <td>5</td>\n",
       "        <td>293</td>\n",
       "        <td>USA</td>\n",
       "    </tr>\n",
       "    <tr>\n",
       "        <td>146</td>\n",
       "        <td>5</td>\n",
       "        <td>864</td>\n",
       "        <td>USA</td>\n",
       "    </tr>\n",
       "    <tr>\n",
       "        <td>391</td>\n",
       "        <td>5</td>\n",
       "        <td>635</td>\n",
       "        <td>Czech Republic</td>\n",
       "    </tr>\n",
       "    <tr>\n",
       "        <td>391</td>\n",
       "        <td>5</td>\n",
       "        <td>380</td>\n",
       "        <td>USA</td>\n",
       "    </tr>\n",
       "</table>"
      ],
      "text/plain": [
       "[(189, 1, 307, 'Canada'),\n",
       " (189, 1, 508, 'Poland'),\n",
       " (949, 1, 431, 'Canada'),\n",
       " (949, 1, 592, 'Canada'),\n",
       " (146, 5, 263, 'USA'),\n",
       " (146, 5, 688, 'USA'),\n",
       " (146, 5, 293, 'USA'),\n",
       " (146, 5, 864, 'USA'),\n",
       " (391, 5, 635, 'Czech Republic'),\n",
       " (391, 5, 380, 'USA')]"
      ]
     },
     "execution_count": 56,
     "metadata": {},
     "output_type": "execute_result"
    }
   ],
   "source": [
    "%%sql\n",
    "\n",
    "SELECT * FROM orders\n",
    "ORDER BY customer_id\n",
    "LIMIT 10;"
   ]
  },
  {
   "cell_type": "code",
   "execution_count": 57,
   "metadata": {},
   "outputs": [
    {
     "name": "stdout",
     "output_type": "stream",
     "text": [
      " * sqlite:///testdb.sqlite\n",
      "Done.\n"
     ]
    },
    {
     "data": {
      "text/html": [
       "<table>\n",
       "    <tr>\n",
       "        <th>id</th>\n",
       "        <th>customer_id</th>\n",
       "        <th>product_id</th>\n",
       "        <th>delivery_country</th>\n",
       "    </tr>\n",
       "    <tr>\n",
       "        <td>949</td>\n",
       "        <td>1</td>\n",
       "        <td>592</td>\n",
       "        <td>Canada</td>\n",
       "    </tr>\n",
       "    <tr>\n",
       "        <td>189</td>\n",
       "        <td>1</td>\n",
       "        <td>508</td>\n",
       "        <td>Poland</td>\n",
       "    </tr>\n",
       "    <tr>\n",
       "        <td>949</td>\n",
       "        <td>1</td>\n",
       "        <td>431</td>\n",
       "        <td>Canada</td>\n",
       "    </tr>\n",
       "    <tr>\n",
       "        <td>189</td>\n",
       "        <td>1</td>\n",
       "        <td>307</td>\n",
       "        <td>Canada</td>\n",
       "    </tr>\n",
       "    <tr>\n",
       "        <td>146</td>\n",
       "        <td>5</td>\n",
       "        <td>864</td>\n",
       "        <td>USA</td>\n",
       "    </tr>\n",
       "    <tr>\n",
       "        <td>146</td>\n",
       "        <td>5</td>\n",
       "        <td>688</td>\n",
       "        <td>USA</td>\n",
       "    </tr>\n",
       "    <tr>\n",
       "        <td>391</td>\n",
       "        <td>5</td>\n",
       "        <td>635</td>\n",
       "        <td>Czech Republic</td>\n",
       "    </tr>\n",
       "    <tr>\n",
       "        <td>977</td>\n",
       "        <td>5</td>\n",
       "        <td>523</td>\n",
       "        <td>USA</td>\n",
       "    </tr>\n",
       "    <tr>\n",
       "        <td>391</td>\n",
       "        <td>5</td>\n",
       "        <td>497</td>\n",
       "        <td>Slovenia</td>\n",
       "    </tr>\n",
       "    <tr>\n",
       "        <td>391</td>\n",
       "        <td>5</td>\n",
       "        <td>380</td>\n",
       "        <td>USA</td>\n",
       "    </tr>\n",
       "</table>"
      ],
      "text/plain": [
       "[(949, 1, 592, 'Canada'),\n",
       " (189, 1, 508, 'Poland'),\n",
       " (949, 1, 431, 'Canada'),\n",
       " (189, 1, 307, 'Canada'),\n",
       " (146, 5, 864, 'USA'),\n",
       " (146, 5, 688, 'USA'),\n",
       " (391, 5, 635, 'Czech Republic'),\n",
       " (977, 5, 523, 'USA'),\n",
       " (391, 5, 497, 'Slovenia'),\n",
       " (391, 5, 380, 'USA')]"
      ]
     },
     "execution_count": 57,
     "metadata": {},
     "output_type": "execute_result"
    }
   ],
   "source": [
    "%%sql\n",
    "\n",
    "SELECT * FROM orders\n",
    "ORDER BY customer_id ASC, product_id DESC\n",
    "LIMIT 10;"
   ]
  },
  {
   "cell_type": "markdown",
   "metadata": {},
   "source": [
    "## Data aggregation\n",
    "\n",
    "Most of the standard data aggregation functions are available in SQL (`COUNT`, `SUM`, `DISTINCT`, `MAX`, etc.) although exactly what is available and what it is called varies by dialect."
   ]
  },
  {
   "cell_type": "code",
   "execution_count": null,
   "metadata": {},
   "outputs": [],
   "source": [
    "%%sql\n",
    "\n",
    "SELECT AVG(price), MAX(price) FROM products;"
   ]
  },
  {
   "cell_type": "code",
   "execution_count": 59,
   "metadata": {},
   "outputs": [
    {
     "name": "stdout",
     "output_type": "stream",
     "text": [
      " * sqlite:///testdb.sqlite\n",
      "Done.\n"
     ]
    },
    {
     "data": {
      "text/html": [
       "<table>\n",
       "    <tr>\n",
       "        <th>AVG(price)</th>\n",
       "        <th>MAX(price)</th>\n",
       "    </tr>\n",
       "    <tr>\n",
       "        <td>19.98996999999997</td>\n",
       "        <td>39.91</td>\n",
       "    </tr>\n",
       "</table>"
      ],
      "text/plain": [
       "[(19.98996999999997, 39.91)]"
      ]
     },
     "execution_count": 59,
     "metadata": {},
     "output_type": "execute_result"
    }
   ],
   "source": [
    "%%sql\n",
    "\n",
    "SELECT AVG(price), MAX(price) FROM products;"
   ]
  },
  {
   "cell_type": "code",
   "execution_count": 61,
   "metadata": {},
   "outputs": [
    {
     "data": {
      "text/plain": [
       "mean    19.98997\n",
       "max     39.91000\n",
       "Name: price, dtype: float64"
      ]
     },
     "execution_count": 61,
     "metadata": {},
     "output_type": "execute_result"
    }
   ],
   "source": [
    "products['price'].agg({'mean', 'max'})"
   ]
  },
  {
   "cell_type": "markdown",
   "metadata": {},
   "source": [
    "As usual, we are often interested in aggregating our data within certain groups. As in Pandas, we will use `GROUP BY` to accomplish this. Remember -- if we are performing a `groupby`, any other attributes we select must be aggregated by some aggregation function."
   ]
  },
  {
   "cell_type": "code",
   "execution_count": 62,
   "metadata": {},
   "outputs": [
    {
     "name": "stdout",
     "output_type": "stream",
     "text": [
      " * sqlite:///testdb.sqlite\n",
      "Done.\n"
     ]
    },
    {
     "data": {
      "text/html": [
       "<table>\n",
       "    <tr>\n",
       "        <th>delivery_country</th>\n",
       "        <th>COUNT(DISTINCT(id))</th>\n",
       "    </tr>\n",
       "    <tr>\n",
       "        <td>Albania</td>\n",
       "        <td>9</td>\n",
       "    </tr>\n",
       "    <tr>\n",
       "        <td>Algeria</td>\n",
       "        <td>17</td>\n",
       "    </tr>\n",
       "    <tr>\n",
       "        <td>Angola</td>\n",
       "        <td>7</td>\n",
       "    </tr>\n",
       "    <tr>\n",
       "        <td>Armenia</td>\n",
       "        <td>2</td>\n",
       "    </tr>\n",
       "    <tr>\n",
       "        <td>Austria</td>\n",
       "        <td>9</td>\n",
       "    </tr>\n",
       "    <tr>\n",
       "        <td>Azerbaijan</td>\n",
       "        <td>4</td>\n",
       "    </tr>\n",
       "    <tr>\n",
       "        <td>Bahrain</td>\n",
       "        <td>5</td>\n",
       "    </tr>\n",
       "    <tr>\n",
       "        <td>Belarus</td>\n",
       "        <td>17</td>\n",
       "    </tr>\n",
       "    <tr>\n",
       "        <td>Benin</td>\n",
       "        <td>8</td>\n",
       "    </tr>\n",
       "    <tr>\n",
       "        <td>Bosnia</td>\n",
       "        <td>3</td>\n",
       "    </tr>\n",
       "</table>"
      ],
      "text/plain": [
       "[('Albania', 9),\n",
       " ('Algeria', 17),\n",
       " ('Angola', 7),\n",
       " ('Armenia', 2),\n",
       " ('Austria', 9),\n",
       " ('Azerbaijan', 4),\n",
       " ('Bahrain', 5),\n",
       " ('Belarus', 17),\n",
       " ('Benin', 8),\n",
       " ('Bosnia', 3)]"
      ]
     },
     "execution_count": 62,
     "metadata": {},
     "output_type": "execute_result"
    }
   ],
   "source": [
    "%%sql\n",
    "\n",
    "SELECT delivery_country, COUNT(DISTINCT(id)) FROM orders\n",
    "GROUP BY delivery_country\n",
    "LIMIT 10;"
   ]
  },
  {
   "cell_type": "code",
   "execution_count": 66,
   "metadata": {},
   "outputs": [
    {
     "name": "stdout",
     "output_type": "stream",
     "text": [
      " * sqlite:///testdb.sqlite\n",
      "Done.\n"
     ]
    },
    {
     "data": {
      "text/html": [
       "<table>\n",
       "    <tr>\n",
       "        <th>delivery_country</th>\n",
       "        <th>count</th>\n",
       "    </tr>\n",
       "    <tr>\n",
       "        <td>India</td>\n",
       "        <td>60</td>\n",
       "    </tr>\n",
       "    <tr>\n",
       "        <td>China</td>\n",
       "        <td>60</td>\n",
       "    </tr>\n",
       "    <tr>\n",
       "        <td>Germany</td>\n",
       "        <td>59</td>\n",
       "    </tr>\n",
       "    <tr>\n",
       "        <td>Russia</td>\n",
       "        <td>42</td>\n",
       "    </tr>\n",
       "    <tr>\n",
       "        <td>South Korea</td>\n",
       "        <td>37</td>\n",
       "    </tr>\n",
       "    <tr>\n",
       "        <td>Japan</td>\n",
       "        <td>37</td>\n",
       "    </tr>\n",
       "    <tr>\n",
       "        <td>USA</td>\n",
       "        <td>36</td>\n",
       "    </tr>\n",
       "    <tr>\n",
       "        <td>Spain</td>\n",
       "        <td>36</td>\n",
       "    </tr>\n",
       "    <tr>\n",
       "        <td>Canada</td>\n",
       "        <td>35</td>\n",
       "    </tr>\n",
       "    <tr>\n",
       "        <td>France</td>\n",
       "        <td>31</td>\n",
       "    </tr>\n",
       "</table>"
      ],
      "text/plain": [
       "[('India', 60),\n",
       " ('China', 60),\n",
       " ('Germany', 59),\n",
       " ('Russia', 42),\n",
       " ('South Korea', 37),\n",
       " ('Japan', 37),\n",
       " ('USA', 36),\n",
       " ('Spain', 36),\n",
       " ('Canada', 35),\n",
       " ('France', 31)]"
      ]
     },
     "execution_count": 66,
     "metadata": {},
     "output_type": "execute_result"
    }
   ],
   "source": [
    "%%sql\n",
    "\n",
    "SELECT delivery_country, COUNT(DISTINCT(id)) AS count FROM orders\n",
    "GROUP BY delivery_country\n",
    "ORDER BY count DESC\n",
    "LIMIT 10;"
   ]
  },
  {
   "cell_type": "markdown",
   "metadata": {},
   "source": [
    "## Joining tables together\n",
    "\n",
    "Since we have split up our data among several tables to reduce redundancy, we will have to join tables together to compute certain values we might be interested in. For instance, how might we calculate the total revenue from all orders? We could take a sum of the price associated with each item in each order, but in order to do so, we must `JOIN` the `products` table to the `orders` table `ON` the shared attribute: `product_id` (from the `orders` table) and `id` (from the `products` table).\n",
    "\n",
    "Since joins involve fields from multiple tables, we'll frequently alias a table `AS` some abbreviation to save ourselves some typing."
   ]
  },
  {
   "cell_type": "code",
   "execution_count": 70,
   "metadata": {},
   "outputs": [
    {
     "name": "stdout",
     "output_type": "stream",
     "text": [
      " * sqlite:///testdb.sqlite\n",
      "Done.\n"
     ]
    },
    {
     "data": {
      "text/html": [
       "<table>\n",
       "    <tr>\n",
       "        <th>SUM(p.price)</th>\n",
       "    </tr>\n",
       "    <tr>\n",
       "        <td>39988.80999999999</td>\n",
       "    </tr>\n",
       "</table>"
      ],
      "text/plain": [
       "[(39988.80999999999,)]"
      ]
     },
     "execution_count": 70,
     "metadata": {},
     "output_type": "execute_result"
    }
   ],
   "source": [
    "%%sql\n",
    "\n",
    "SELECT SUM(p.price) FROM orders AS o\n",
    "JOIN products AS p ON o.product_id = p.id; "
   ]
  },
  {
   "cell_type": "markdown",
   "metadata": {},
   "source": [
    "There are often several ways to perform a join. We can usually rely on our database management software to work out the details of the most efficient way to perform the join, although there are exceptions."
   ]
  },
  {
   "cell_type": "code",
   "execution_count": 73,
   "metadata": {},
   "outputs": [
    {
     "name": "stdout",
     "output_type": "stream",
     "text": [
      " * sqlite:///testdb.sqlite\n",
      "Done.\n"
     ]
    },
    {
     "data": {
      "text/html": [
       "<table>\n",
       "    <tr>\n",
       "        <th>SUM(p.price)</th>\n",
       "    </tr>\n",
       "    <tr>\n",
       "        <td>39988.80999999999</td>\n",
       "    </tr>\n",
       "</table>"
      ],
      "text/plain": [
       "[(39988.80999999999,)]"
      ]
     },
     "execution_count": 73,
     "metadata": {},
     "output_type": "execute_result"
    }
   ],
   "source": [
    "%%sql\n",
    "\n",
    "SELECT SUM(p.price)\n",
    "FROM orders o, products p\n",
    "WHERE p.id = o.product_id;"
   ]
  },
  {
   "cell_type": "code",
   "execution_count": 75,
   "metadata": {},
   "outputs": [
    {
     "name": "stdout",
     "output_type": "stream",
     "text": [
      " * sqlite:///testdb.sqlite\n",
      "Done.\n"
     ]
    },
    {
     "data": {
      "text/html": [
       "<table>\n",
       "    <tr>\n",
       "        <th>name</th>\n",
       "        <th>total</th>\n",
       "    </tr>\n",
       "    <tr>\n",
       "        <td>Sevil Caker</td>\n",
       "        <td>315.09</td>\n",
       "    </tr>\n",
       "    <tr>\n",
       "        <td>Pons Baluze</td>\n",
       "        <td>306.84999999999997</td>\n",
       "    </tr>\n",
       "    <tr>\n",
       "        <td>Boikai Owiti</td>\n",
       "        <td>297.10999999999996</td>\n",
       "    </tr>\n",
       "    <tr>\n",
       "        <td>Ahmed Onyango</td>\n",
       "        <td>291.38000000000005</td>\n",
       "    </tr>\n",
       "    <tr>\n",
       "        <td>Bui Tuan</td>\n",
       "        <td>274.92</td>\n",
       "    </tr>\n",
       "    <tr>\n",
       "        <td>Seth Bowden</td>\n",
       "        <td>270.44</td>\n",
       "    </tr>\n",
       "    <tr>\n",
       "        <td>Sandra Lakatos</td>\n",
       "        <td>267.04</td>\n",
       "    </tr>\n",
       "    <tr>\n",
       "        <td>Jonas Papp</td>\n",
       "        <td>265.48</td>\n",
       "    </tr>\n",
       "    <tr>\n",
       "        <td>Kristina Hovath</td>\n",
       "        <td>263.03999999999996</td>\n",
       "    </tr>\n",
       "    <tr>\n",
       "        <td>Vasha Nwosu</td>\n",
       "        <td>260.15000000000003</td>\n",
       "    </tr>\n",
       "</table>"
      ],
      "text/plain": [
       "[('Sevil Caker', 315.09),\n",
       " ('Pons Baluze', 306.84999999999997),\n",
       " ('Boikai Owiti', 297.10999999999996),\n",
       " ('Ahmed Onyango', 291.38000000000005),\n",
       " ('Bui Tuan', 274.92),\n",
       " ('Seth Bowden', 270.44),\n",
       " ('Sandra Lakatos', 267.04),\n",
       " ('Jonas Papp', 265.48),\n",
       " ('Kristina Hovath', 263.03999999999996),\n",
       " ('Vasha Nwosu', 260.15000000000003)]"
      ]
     },
     "execution_count": 75,
     "metadata": {},
     "output_type": "execute_result"
    }
   ],
   "source": [
    "%%sql\n",
    "\n",
    "SELECT c.name, SUM(p.price) total\n",
    "FROM orders o, products p, customers c\n",
    "WHERE p.id = o.product_id AND c.id = o.customer_id\n",
    "GROUP BY c.id\n",
    "ORDER BY total DESC\n",
    "LIMIT 10;"
   ]
  },
  {
   "cell_type": "markdown",
   "metadata": {},
   "source": [
    "Let's try something more complex. Let's find the total amount of money spent on orders that are shipped internationally for each `billing_country`."
   ]
  },
  {
   "cell_type": "code",
   "execution_count": null,
   "metadata": {},
   "outputs": [],
   "source": [
    "%%sql\n",
    "\n",
    "SELECT shp.bill, SUM(shp.rev) spent\n",
    "FROM (SELECT c.billing_country bill, o.delivery_country deliver, SUM(p.price) rev\n",
    "      FROM orders o, customers c, products p\n",
    "      WHERE o.customer_id = c.id AND o.product_id = p.id\n",
    "      GROUP BY bill, deliver\n",
    "      HAVING bill != deliver) shp\n",
    "GROUP BY shp.bill\n",
    "ORDER BY spent DESC\n",
    "LIMIT 10;"
   ]
  },
  {
   "cell_type": "code",
   "execution_count": null,
   "metadata": {},
   "outputs": [],
   "source": [
    "%%sql\n",
    "\n",
    "SELECT c.billing_country bill, o.delivery_country deliver, SUM(p.price) rev\n",
    "FROM customers c, products p, orders o\n",
    "WHERE o.customer_id = c.id AND o.product_id = p.id\n",
    "GROUP BY bill, deliver\n",
    "HAVING bill != deliver\n",
    "LIMIT 10;"
   ]
  },
  {
   "cell_type": "code",
   "execution_count": null,
   "metadata": {},
   "outputs": [],
   "source": [
    "%%sql\n",
    "\n",
    "SELECT c.billing_country bill, o.delivery_country deliver, SUM(p.price) rev\n",
    "FROM orders o, customers c, products p\n",
    "WHERE o.customer_id = c.id AND o.product_id = p.id\n",
    "GROUP BY bill, deliver\n",
    "HAVING bill != deliver\n",
    "LIMIT 10;"
   ]
  },
  {
   "cell_type": "code",
   "execution_count": null,
   "metadata": {},
   "outputs": [],
   "source": [
    "orders.head()"
   ]
  },
  {
   "cell_type": "markdown",
   "metadata": {},
   "source": [
    "The above example makes use of a subquery. Subqueries are often used for constructing intermediate tables that we may use in the computation of a larger query, and are frequently used as part of joins or to perform joins."
   ]
  },
  {
   "cell_type": "markdown",
   "metadata": {},
   "source": [
    "## Connecting to a database from Python\n",
    "\n",
    "In order to load our example data into our database, we created a **database connection**. We then read in our data files with Pandas, and pushed them through the connection to the database. We could have read this data directly into SQL, but database connections allow us to pass data between Python and SQL, allowing web applications or machine learning models operating in Python easy access to persistent databases.\n",
    "\n",
    "In our case, we used the `sqlite3` module because we are creating a connection to SQLite. There are other connectors for other dialects such a `psycopg2` for PostgreSQL and `mysql` for MySQL. Other packages such as `SQLAlchemy` provide connectors as well as object-relation mapping (ORM), which we will discuss later.\n",
    "\n",
    "Database connections will typically resemble the example set above\n",
    "\n",
    "```python\n",
    "conn = sqlite3.connect(\"testdb.sqlite\")\n",
    "```\n",
    "\n",
    "possibly using a URL for connecting to a remotely hosted database and extra parameters for authentication. We can combine the connection with Pandas methods for [reading from](https://pandas.pydata.org/pandas-docs/stable/generated/pandas.read_sql.html) and [writing to](https://pandas.pydata.org/pandas-docs/stable/generated/pandas.DataFrame.to_sql.html) SQL."
   ]
  },
  {
   "cell_type": "markdown",
   "metadata": {},
   "source": [
    "*Copyright &copy; 2021 WorldQuant University. This content is licensed solely for personal use. Redistribution or publication of this material is strictly prohibited.*"
   ]
  }
 ],
 "metadata": {
  "kernelspec": {
   "display_name": "Python 3",
   "language": "python",
   "name": "python3"
  },
  "language_info": {
   "codemirror_mode": {
    "name": "ipython",
    "version": 3
   },
   "file_extension": ".py",
   "mimetype": "text/x-python",
   "name": "python",
   "nbconvert_exporter": "python",
   "pygments_lexer": "ipython3",
   "version": "3.8.8"
  },
  "nbclean": true
 },
 "nbformat": 4,
 "nbformat_minor": 1
}
